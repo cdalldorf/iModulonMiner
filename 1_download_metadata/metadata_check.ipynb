{
 "cells": [
  {
   "cell_type": "code",
   "execution_count": 49,
   "id": "69ec5f0f-90b9-4241-9408-f74f7044e87a",
   "metadata": {
    "tags": []
   },
   "outputs": [],
   "source": [
    "# imports and loading\n",
    "import pandas as pd\n",
    "\n",
    "GLBRC_df = pd.read_excel('../Zymomonas_mobilis/GLBRC_supplied_Zymomonas_Transcriptomics_SRA_Data.xlsx')\n",
    "GLBRC_df = GLBRC_df.set_index('Experiment Accession')\n",
    "GLBRC_df['Library Strategy'] = GLBRC_df['Library Strategy'].fillna('Unknown')\n",
    "GLBRC_df['Library Strategy'] = GLBRC_df['Library Strategy'].astype(str)\n",
    "iM_use_df = pd.read_csv('../Zymomonas_mobilis/metadata_file_for_iMs.csv', index_col = 0, encoding='latin1')"
   ]
  },
  {
   "cell_type": "code",
   "execution_count": 70,
   "id": "d1a71411-da8f-4ac9-800a-3d0e8d6befc2",
   "metadata": {
    "tags": []
   },
   "outputs": [
    {
     "data": {
      "text/plain": [
       "Experiment\n",
       "SRX2036088                      NaN\n",
       "SRX2036089                      NaN\n",
       "SRX2036090                      NaN\n",
       "SRX2036091                      NaN\n",
       "SRX2116174                      NaN\n",
       "                       ...         \n",
       "SRX19817113    Changzhou University\n",
       "SRX19817114    Changzhou University\n",
       "SRX19817115    Changzhou University\n",
       "SRX19817116    Changzhou University\n",
       "SRX19817117    Changzhou University\n",
       "Name: lab, Length: 391, dtype: object"
      ]
     },
     "execution_count": 70,
     "metadata": {},
     "output_type": "execute_result"
    }
   ],
   "source": [
    "iM_use_df['lab']"
   ]
  },
  {
   "cell_type": "code",
   "execution_count": 50,
   "id": "37fd5ba0-367e-4c29-9f3f-53972276cbbd",
   "metadata": {
    "tags": []
   },
   "outputs": [
    {
     "data": {
      "text/plain": [
       "OTHER        87\n",
       "ncRNA-Seq     2\n",
       "Name: Library Strategy, dtype: int64"
      ]
     },
     "execution_count": 50,
     "metadata": {},
     "output_type": "execute_result"
    }
   ],
   "source": [
    "# missing from iMs_data\n",
    "not_in_iMs = list(set(GLBRC_df.index) - set(iM_use_df.index))\n",
    "not_in_iMs.sort()\n",
    "GLBRC_df.loc[not_in_iMs]['Library Strategy'].value_counts()"
   ]
  },
  {
   "cell_type": "code",
   "execution_count": 51,
   "id": "7137efc4-83c7-43fa-a623-5cf527a99818",
   "metadata": {
    "tags": []
   },
   "outputs": [
    {
     "data": {
      "text/plain": [
       "RNA-Seq    391\n",
       "Name: Library Strategy, dtype: int64"
      ]
     },
     "execution_count": 51,
     "metadata": {},
     "output_type": "execute_result"
    }
   ],
   "source": [
    "# found in iMs_data\n",
    "not_in_iMs = list(set(GLBRC_df.index).intersection(set(iM_use_df.index)))\n",
    "not_in_iMs.sort()\n",
    "GLBRC_df.loc[not_in_iMs]['Library Strategy'].value_counts()"
   ]
  },
  {
   "cell_type": "code",
   "execution_count": 63,
   "id": "dd3b8770-e87b-46f1-83ce-555503bffae7",
   "metadata": {
    "tags": []
   },
   "outputs": [
    {
     "data": {
      "text/plain": [
       "Index(['SRX5329178', 'SRX5329182', 'SRX5329191', 'SRX5329194', 'SRX5329180',\n",
       "       'SRX5329183', 'SRX5329170', 'SRX5329184', 'SRX5329173', 'SRX5329176',\n",
       "       'SRX5329179', 'SRX5329193', 'SRX5329190', 'SRX5329185', 'SRX5329177',\n",
       "       'SRX5329172', 'SRX5329186', 'SRX5329171', 'SRX5329187', 'SRX5329188',\n",
       "       'SRX5329192', 'SRX5329189', 'SRX5329169', 'SRX5329174', 'SRX5329181',\n",
       "       'SRX5329175'],\n",
       "      dtype='object', name='Experiment Accession')"
      ]
     },
     "execution_count": 63,
     "metadata": {},
     "output_type": "execute_result"
    }
   ],
   "source": [
    "# unpublished included\n",
    "not_published = GLBRC_df[GLBRC_df['GLBRC_Data'] == 'Yes - Zhang unpublished'].index\n",
    "used_in_iMs = iM_use_df[iM_use_df['skip'] != True].index\n",
    "not_published_in_iMs = set(not_published).intersection(set(used_in_iMs))\n",
    "GLBRC_df.loc[not_published_in_iMs].index"
   ]
  },
  {
   "cell_type": "code",
   "execution_count": 65,
   "id": "3154661f-8477-4e34-9b59-dfe607bdbfa2",
   "metadata": {
    "tags": []
   },
   "outputs": [],
   "source": [
    "iM_use_df.loc[not_published_in_iMs].to_csv('./not_published_included_in_iMs.csv')"
   ]
  },
  {
   "cell_type": "code",
   "execution_count": null,
   "id": "41b397d2-7aa3-4d5d-8be0-c88f70e41a2b",
   "metadata": {},
   "outputs": [],
   "source": []
  }
 ],
 "metadata": {
  "kernelspec": {
   "display_name": "Python 3 (ipykernel)",
   "language": "python",
   "name": "python3"
  },
  "language_info": {
   "codemirror_mode": {
    "name": "ipython",
    "version": 3
   },
   "file_extension": ".py",
   "mimetype": "text/x-python",
   "name": "python",
   "nbconvert_exporter": "python",
   "pygments_lexer": "ipython3",
   "version": "3.7.12"
  }
 },
 "nbformat": 4,
 "nbformat_minor": 5
}
