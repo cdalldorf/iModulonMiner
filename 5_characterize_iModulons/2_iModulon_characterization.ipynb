{
 "cells": [
  {
   "cell_type": "markdown",
   "metadata": {},
   "source": [
    "# Setup\n",
    "This IPython notebook will walk through the steps of characterizing iModulons through the semi-automated tools in PyModulon. You will need:\n",
    "\n",
    "* M and A matrices\n",
    "* Expression data (e.g. `log_tpm_norm.csv`)\n",
    "* Gene table and KEGG/GO annotations (Generated in `1_create_the_gene_table.ipynb`)\n",
    "* Sample table, with a column for `project` and `condition`\n",
    "* TRN file\n",
    "\n",
    "Optional:\n",
    "* iModulon table (if you already have some characterized iModulons)"
   ]
  },
  {
   "cell_type": "code",
   "execution_count": 1,
   "metadata": {
    "tags": []
   },
   "outputs": [],
   "source": [
    "from pymodulon.core import IcaData\n",
    "from pymodulon.plotting import *\n",
    "from os import path\n",
    "import pandas as pd\n",
    "import re\n",
    "from Bio.KEGG import REST\n",
    "from tqdm.notebook import tqdm"
   ]
  },
  {
   "cell_type": "code",
   "execution_count": 2,
   "metadata": {
    "tags": []
   },
   "outputs": [],
   "source": [
    "# Enter the location of your data here\n",
    "data_dir = path.join('..','data','processed_data')\n",
    "\n",
    "# GO and KEGG annotations are in the 'external' folder\n",
    "external_data = path.join('..','data','external')"
   ]
  },
  {
   "cell_type": "markdown",
   "metadata": {},
   "source": [
    "## Check your sample table (i.e. metadata file)\n",
    "Your metadata file will probably have a lot of columns, most of which you may not care about. Feel free to save a secondary copy of your metadata file with only columns that seem relevant to you. The two most important columns are:\n",
    "1. `project`\n",
    "2. `condition`\n",
    "\n",
    "Make sure that these columns exist in your metadata file"
   ]
  },
  {
   "cell_type": "code",
   "execution_count": 3,
   "metadata": {
    "tags": []
   },
   "outputs": [
    {
     "data": {
      "text/html": [
       "<div>\n",
       "<style scoped>\n",
       "    .dataframe tbody tr th:only-of-type {\n",
       "        vertical-align: middle;\n",
       "    }\n",
       "\n",
       "    .dataframe tbody tr th {\n",
       "        vertical-align: top;\n",
       "    }\n",
       "\n",
       "    .dataframe thead th {\n",
       "        text-align: right;\n",
       "    }\n",
       "</style>\n",
       "<table border=\"1\" class=\"dataframe\">\n",
       "  <thead>\n",
       "    <tr style=\"text-align: right;\">\n",
       "      <th></th>\n",
       "      <th>project</th>\n",
       "      <th>condition</th>\n",
       "    </tr>\n",
       "  </thead>\n",
       "  <tbody>\n",
       "    <tr>\n",
       "      <th>SRX14953908</th>\n",
       "      <td>multistage_ferment_AFEX</td>\n",
       "      <td>6perACSH_Glucose</td>\n",
       "    </tr>\n",
       "    <tr>\n",
       "      <th>SRX14953909</th>\n",
       "      <td>multistage_ferment_AFEX</td>\n",
       "      <td>6perACSH_Glucose</td>\n",
       "    </tr>\n",
       "    <tr>\n",
       "      <th>SRX14953910</th>\n",
       "      <td>multistage_ferment_AFEX</td>\n",
       "      <td>6perACSH_Glucose</td>\n",
       "    </tr>\n",
       "    <tr>\n",
       "      <th>SRX14953911</th>\n",
       "      <td>multistage_ferment_AFEX</td>\n",
       "      <td>6perACSH_Glucose</td>\n",
       "    </tr>\n",
       "    <tr>\n",
       "      <th>SRX14953912</th>\n",
       "      <td>multistage_ferment_AFEX</td>\n",
       "      <td>6perACSH_Glucose</td>\n",
       "    </tr>\n",
       "  </tbody>\n",
       "</table>\n",
       "</div>"
      ],
      "text/plain": [
       "                             project         condition\n",
       "SRX14953908  multistage_ferment_AFEX  6perACSH_Glucose\n",
       "SRX14953909  multistage_ferment_AFEX  6perACSH_Glucose\n",
       "SRX14953910  multistage_ferment_AFEX  6perACSH_Glucose\n",
       "SRX14953911  multistage_ferment_AFEX  6perACSH_Glucose\n",
       "SRX14953912  multistage_ferment_AFEX  6perACSH_Glucose"
      ]
     },
     "execution_count": 3,
     "metadata": {},
     "output_type": "execute_result"
    }
   ],
   "source": [
    "df_metadata = pd.read_csv(path.join(data_dir,'metadata.tsv'),index_col=0,sep='\\t')\n",
    "df_metadata[['project','condition']].head()"
   ]
  },
  {
   "cell_type": "code",
   "execution_count": 4,
   "metadata": {
    "tags": []
   },
   "outputs": [
    {
     "name": "stdout",
     "output_type": "stream",
     "text": [
      "True\n",
      "True\n"
     ]
    }
   ],
   "source": [
    "print(df_metadata.project.notnull().all())\n",
    "print(df_metadata.condition.notnull().all())"
   ]
  },
  {
   "cell_type": "markdown",
   "metadata": {},
   "source": [
    "## Check your TRN"
   ]
  },
  {
   "cell_type": "markdown",
   "metadata": {},
   "source": [
    "Each row of the TRN file represents a regulatory interaction.  \n",
    "**Your TRN file must have the following columns:**\n",
    "1. `regulator` - Name of regulator (`/` or `+` characters will be converted to `;`)\n",
    "1. `gene_id` - Locus tag of gene being regulated\n",
    "\n",
    "The following columns are optional, but are helpful to have:\n",
    "1. `regulator_id` - Locus tag of regulator\n",
    "1. `gene_name` - Name of gene (can automatically update this using `name2num`)\n",
    "1. `direction` - Direction of regulation ('+' for activation, '-' for repression, '?' or NaN for unknown)\n",
    "1. `evidence` - Evidence of regulation (e.g. ChIP-exo, qRT-PCR, SELEX, Motif search)\n",
    "1. `PMID` - Reference for regulation\n",
    "\n",
    "You may add any other columns that could help you. TRNs may be saved as either CSV or TSV files. See below for an example:"
   ]
  },
  {
   "cell_type": "code",
   "execution_count": 5,
   "metadata": {
    "tags": []
   },
   "outputs": [
    {
     "data": {
      "text/html": [
       "<div>\n",
       "<style scoped>\n",
       "    .dataframe tbody tr th:only-of-type {\n",
       "        vertical-align: middle;\n",
       "    }\n",
       "\n",
       "    .dataframe tbody tr th {\n",
       "        vertical-align: top;\n",
       "    }\n",
       "\n",
       "    .dataframe thead th {\n",
       "        text-align: right;\n",
       "    }\n",
       "</style>\n",
       "<table border=\"1\" class=\"dataframe\">\n",
       "  <thead>\n",
       "    <tr style=\"text-align: right;\">\n",
       "      <th></th>\n",
       "      <th>regulator</th>\n",
       "      <th>gene_id</th>\n",
       "    </tr>\n",
       "  </thead>\n",
       "  <tbody>\n",
       "    <tr>\n",
       "      <th>0</th>\n",
       "      <td>ZCP4_0128</td>\n",
       "      <td>ZCP4_1194</td>\n",
       "    </tr>\n",
       "    <tr>\n",
       "      <th>1</th>\n",
       "      <td>ZCP4_0900</td>\n",
       "      <td>ZCP4_1194</td>\n",
       "    </tr>\n",
       "    <tr>\n",
       "      <th>2</th>\n",
       "      <td>ZCP4_1194</td>\n",
       "      <td>ZCP4_1194</td>\n",
       "    </tr>\n",
       "    <tr>\n",
       "      <th>3</th>\n",
       "      <td>ZCP4_1194</td>\n",
       "      <td>ZCP4_1190</td>\n",
       "    </tr>\n",
       "    <tr>\n",
       "      <th>4</th>\n",
       "      <td>ZCP4_0018</td>\n",
       "      <td>ZCP4_1187</td>\n",
       "    </tr>\n",
       "  </tbody>\n",
       "</table>\n",
       "</div>"
      ],
      "text/plain": [
       "   regulator    gene_id\n",
       "0  ZCP4_0128  ZCP4_1194\n",
       "1  ZCP4_0900  ZCP4_1194\n",
       "2  ZCP4_1194  ZCP4_1194\n",
       "3  ZCP4_1194  ZCP4_1190\n",
       "4  ZCP4_0018  ZCP4_1187"
      ]
     },
     "execution_count": 5,
     "metadata": {},
     "output_type": "execute_result"
    }
   ],
   "source": [
    "df_trn = pd.read_csv(path.join(external_data,'TRN.csv'))\n",
    "df_trn.head()"
   ]
  },
  {
   "cell_type": "markdown",
   "metadata": {},
   "source": [
    "The `regulator` and `gene_id` must be filled in for each row"
   ]
  },
  {
   "cell_type": "code",
   "execution_count": 6,
   "metadata": {
    "tags": []
   },
   "outputs": [
    {
     "name": "stdout",
     "output_type": "stream",
     "text": [
      "True\n",
      "True\n"
     ]
    }
   ],
   "source": [
    "print(df_trn.regulator.notnull().all())\n",
    "print(df_trn.gene_id.notnull().all())"
   ]
  },
  {
   "cell_type": "markdown",
   "metadata": {},
   "source": [
    "## Load the data\n",
    "You're now ready to load your IcaData object!"
   ]
  },
  {
   "cell_type": "code",
   "execution_count": 7,
   "metadata": {
    "tags": []
   },
   "outputs": [
    {
     "name": "stderr",
     "output_type": "stream",
     "text": [
      "WARNING:root:Using Kmeans threshold method. D'agostino optimization will not be performed.\n"
     ]
    }
   ],
   "source": [
    "drop_genes = ['ZCP4_0001', 'ZCP4_0002', 'ZCP4_0003', 'ZCP4_0004']\n",
    "A = pd.read_csv(path.join(data_dir,'A.csv'), index_col = 0)\n",
    "X = pd.read_csv(path.join(data_dir,'log_tpm_norm.csv'), index_col = 0).drop(index = drop_genes)\n",
    "M = pd.read_csv(path.join(data_dir,'M.csv'), index_col = 0).drop(index = drop_genes)\n",
    "iM_table = pd.read_csv(path.join(data_dir, 'imodulon_table.csv'), index_col = 0)\n",
    "index_to_iM = {str(index) : row['name'] for index, row in iM_table.iterrows()}\n",
    "M = M.rename(columns = index_to_iM)\n",
    "index_to_iM = {int(index) : row['name'] for index, row in iM_table.iterrows()}\n",
    "A = A.rename(index = index_to_iM)\n",
    "iM_table = iM_table.set_index('name')\n",
    "\n",
    "ica_data = IcaData(M = M,\n",
    "                   A = A,\n",
    "                   X = X,\n",
    "                   imodulon_table = iM_table,\n",
    "                   gene_table = path.join(data_dir,'gene_info.csv'),\n",
    "                   sample_table = path.join(data_dir,'metadata.tsv'),\n",
    "                   trn = path.join(external_data,'TRN.csv'),\n",
    "                   threshold_method = 'kmeans',\n",
    "                   optimize_cutoff=True)\n",
    "\n",
    "# hard setting some different cutoffs\n",
    "ica_data._thresholds['plasmid'] = 0.075"
   ]
  },
  {
   "cell_type": "markdown",
   "metadata": {},
   "source": [
    "If you don't have a TRN (or have a very minimal TRN), use `threshold_method = 'kmeans'`"
   ]
  },
  {
   "cell_type": "code",
   "execution_count": 8,
   "metadata": {},
   "outputs": [],
   "source": [
    "# ica_data = IcaData(M = path.join(data_dir,'M.csv'),\n",
    "#                    A = path.join(data_dir,'A.csv'),\n",
    "#                    X = path.join(data_dir,'log_tpm_norm.csv'),\n",
    "#                    gene_table = path.join(data_dir,'gene_info.csv'),\n",
    "#                    sample_table = path.join(data_dir,'metadata.tsv'),\n",
    "#                    trn = path.join(data_dir,'TRN.csv'),\n",
    "#                    threshold_method = 'kmeans')"
   ]
  },
  {
   "cell_type": "markdown",
   "metadata": {},
   "source": [
    "# Regulatory iModulons\n",
    "Use `compute_trn_enrichment` to automatically check for Regulatory iModulons. The more complete your TRN, the more regulatory iModulons you'll find."
   ]
  },
  {
   "cell_type": "code",
   "execution_count": 9,
   "metadata": {},
   "outputs": [],
   "source": [
    "temp = ica_data.compute_trn_enrichment(fdr = 1)\n",
    "temp.to_csv('../data/processed_data/DAP_seq_iModulon_overlap.csv')"
   ]
  },
  {
   "cell_type": "code",
   "execution_count": 10,
   "metadata": {
    "tags": []
   },
   "outputs": [
    {
     "data": {
      "text/html": [
       "<div>\n",
       "<style scoped>\n",
       "    .dataframe tbody tr th:only-of-type {\n",
       "        vertical-align: middle;\n",
       "    }\n",
       "\n",
       "    .dataframe tbody tr th {\n",
       "        vertical-align: top;\n",
       "    }\n",
       "\n",
       "    .dataframe thead th {\n",
       "        text-align: right;\n",
       "    }\n",
       "</style>\n",
       "<table border=\"1\" class=\"dataframe\">\n",
       "  <thead>\n",
       "    <tr style=\"text-align: right;\">\n",
       "      <th></th>\n",
       "      <th>imodulon</th>\n",
       "      <th>regulator</th>\n",
       "      <th>pvalue</th>\n",
       "      <th>qvalue</th>\n",
       "      <th>precision</th>\n",
       "      <th>recall</th>\n",
       "      <th>f1score</th>\n",
       "      <th>TP</th>\n",
       "      <th>regulon_size</th>\n",
       "      <th>imodulon_size</th>\n",
       "      <th>n_regs</th>\n",
       "    </tr>\n",
       "  </thead>\n",
       "  <tbody>\n",
       "    <tr>\n",
       "      <th>0</th>\n",
       "      <td>transport_1</td>\n",
       "      <td>ZCP4_1382</td>\n",
       "      <td>0.000049</td>\n",
       "      <td>0.000737</td>\n",
       "      <td>0.461538</td>\n",
       "      <td>0.054545</td>\n",
       "      <td>0.097561</td>\n",
       "      <td>6.0</td>\n",
       "      <td>110.0</td>\n",
       "      <td>13.0</td>\n",
       "      <td>1.0</td>\n",
       "    </tr>\n",
       "    <tr>\n",
       "      <th>1</th>\n",
       "      <td>transport_1</td>\n",
       "      <td>ZCP4_1718</td>\n",
       "      <td>0.001239</td>\n",
       "      <td>0.006193</td>\n",
       "      <td>0.461538</td>\n",
       "      <td>0.030612</td>\n",
       "      <td>0.057416</td>\n",
       "      <td>6.0</td>\n",
       "      <td>196.0</td>\n",
       "      <td>13.0</td>\n",
       "      <td>1.0</td>\n",
       "    </tr>\n",
       "    <tr>\n",
       "      <th>2</th>\n",
       "      <td>transport_1</td>\n",
       "      <td>ZCP4_0265</td>\n",
       "      <td>0.001009</td>\n",
       "      <td>0.006193</td>\n",
       "      <td>0.230769</td>\n",
       "      <td>0.100000</td>\n",
       "      <td>0.139535</td>\n",
       "      <td>3.0</td>\n",
       "      <td>30.0</td>\n",
       "      <td>13.0</td>\n",
       "      <td>1.0</td>\n",
       "    </tr>\n",
       "    <tr>\n",
       "      <th>3</th>\n",
       "      <td>tetR_family_KO_2</td>\n",
       "      <td>ZCP4_0973</td>\n",
       "      <td>0.002179</td>\n",
       "      <td>0.008715</td>\n",
       "      <td>0.250000</td>\n",
       "      <td>1.000000</td>\n",
       "      <td>0.400000</td>\n",
       "      <td>1.0</td>\n",
       "      <td>1.0</td>\n",
       "      <td>4.0</td>\n",
       "      <td>1.0</td>\n",
       "    </tr>\n",
       "    <tr>\n",
       "      <th>4</th>\n",
       "      <td>membrane_cobalmin</td>\n",
       "      <td>ZCP4_0523</td>\n",
       "      <td>0.000006</td>\n",
       "      <td>0.000070</td>\n",
       "      <td>0.192308</td>\n",
       "      <td>0.158730</td>\n",
       "      <td>0.173913</td>\n",
       "      <td>10.0</td>\n",
       "      <td>63.0</td>\n",
       "      <td>52.0</td>\n",
       "      <td>1.0</td>\n",
       "    </tr>\n",
       "    <tr>\n",
       "      <th>5</th>\n",
       "      <td>membrane_cobalmin</td>\n",
       "      <td>ZCP4_0530</td>\n",
       "      <td>0.000004</td>\n",
       "      <td>0.000070</td>\n",
       "      <td>0.192308</td>\n",
       "      <td>0.163934</td>\n",
       "      <td>0.176991</td>\n",
       "      <td>10.0</td>\n",
       "      <td>61.0</td>\n",
       "      <td>52.0</td>\n",
       "      <td>1.0</td>\n",
       "    </tr>\n",
       "    <tr>\n",
       "      <th>6</th>\n",
       "      <td>membrane_cobalmin</td>\n",
       "      <td>ZCP4_1718</td>\n",
       "      <td>0.000195</td>\n",
       "      <td>0.001288</td>\n",
       "      <td>0.288462</td>\n",
       "      <td>0.076531</td>\n",
       "      <td>0.120968</td>\n",
       "      <td>15.0</td>\n",
       "      <td>196.0</td>\n",
       "      <td>52.0</td>\n",
       "      <td>1.0</td>\n",
       "    </tr>\n",
       "    <tr>\n",
       "      <th>7</th>\n",
       "      <td>membrane_cobalmin</td>\n",
       "      <td>ZCP4_0812</td>\n",
       "      <td>0.000206</td>\n",
       "      <td>0.001288</td>\n",
       "      <td>0.057692</td>\n",
       "      <td>0.600000</td>\n",
       "      <td>0.105263</td>\n",
       "      <td>3.0</td>\n",
       "      <td>5.0</td>\n",
       "      <td>52.0</td>\n",
       "      <td>1.0</td>\n",
       "    </tr>\n",
       "    <tr>\n",
       "      <th>8</th>\n",
       "      <td>membrane_cobalmin</td>\n",
       "      <td>ZCP4_0018</td>\n",
       "      <td>0.001619</td>\n",
       "      <td>0.006747</td>\n",
       "      <td>0.211538</td>\n",
       "      <td>0.076923</td>\n",
       "      <td>0.112821</td>\n",
       "      <td>11.0</td>\n",
       "      <td>143.0</td>\n",
       "      <td>52.0</td>\n",
       "      <td>1.0</td>\n",
       "    </tr>\n",
       "    <tr>\n",
       "      <th>9</th>\n",
       "      <td>membrane_cobalmin</td>\n",
       "      <td>ZCP4_1046</td>\n",
       "      <td>0.001477</td>\n",
       "      <td>0.006747</td>\n",
       "      <td>0.192308</td>\n",
       "      <td>0.083333</td>\n",
       "      <td>0.116279</td>\n",
       "      <td>10.0</td>\n",
       "      <td>120.0</td>\n",
       "      <td>52.0</td>\n",
       "      <td>1.0</td>\n",
       "    </tr>\n",
       "    <tr>\n",
       "      <th>10</th>\n",
       "      <td>membrane_cobalmin</td>\n",
       "      <td>ZCP4_0210</td>\n",
       "      <td>0.002886</td>\n",
       "      <td>0.009335</td>\n",
       "      <td>0.115385</td>\n",
       "      <td>0.115385</td>\n",
       "      <td>0.115385</td>\n",
       "      <td>6.0</td>\n",
       "      <td>52.0</td>\n",
       "      <td>52.0</td>\n",
       "      <td>1.0</td>\n",
       "    </tr>\n",
       "    <tr>\n",
       "      <th>11</th>\n",
       "      <td>membrane_cobalmin</td>\n",
       "      <td>ZCP4_1382</td>\n",
       "      <td>0.002987</td>\n",
       "      <td>0.009335</td>\n",
       "      <td>0.173077</td>\n",
       "      <td>0.081818</td>\n",
       "      <td>0.111111</td>\n",
       "      <td>9.0</td>\n",
       "      <td>110.0</td>\n",
       "      <td>52.0</td>\n",
       "      <td>1.0</td>\n",
       "    </tr>\n",
       "    <tr>\n",
       "      <th>12</th>\n",
       "      <td>cell_cycle</td>\n",
       "      <td>ZCP4_0900</td>\n",
       "      <td>0.000049</td>\n",
       "      <td>0.000830</td>\n",
       "      <td>0.342105</td>\n",
       "      <td>0.069149</td>\n",
       "      <td>0.115044</td>\n",
       "      <td>13.0</td>\n",
       "      <td>188.0</td>\n",
       "      <td>38.0</td>\n",
       "      <td>1.0</td>\n",
       "    </tr>\n",
       "    <tr>\n",
       "      <th>13</th>\n",
       "      <td>cell_cycle</td>\n",
       "      <td>ZCP4_0375</td>\n",
       "      <td>0.001107</td>\n",
       "      <td>0.009410</td>\n",
       "      <td>0.263158</td>\n",
       "      <td>0.062112</td>\n",
       "      <td>0.100503</td>\n",
       "      <td>10.0</td>\n",
       "      <td>161.0</td>\n",
       "      <td>38.0</td>\n",
       "      <td>1.0</td>\n",
       "    </tr>\n",
       "    <tr>\n",
       "      <th>14</th>\n",
       "      <td>alternative_carbon_maybe</td>\n",
       "      <td>ZCP4_1585</td>\n",
       "      <td>0.000794</td>\n",
       "      <td>0.008736</td>\n",
       "      <td>0.400000</td>\n",
       "      <td>0.117647</td>\n",
       "      <td>0.181818</td>\n",
       "      <td>2.0</td>\n",
       "      <td>17.0</td>\n",
       "      <td>5.0</td>\n",
       "      <td>1.0</td>\n",
       "    </tr>\n",
       "  </tbody>\n",
       "</table>\n",
       "</div>"
      ],
      "text/plain": [
       "                    imodulon  regulator    pvalue    qvalue  precision  \\\n",
       "0                transport_1  ZCP4_1382  0.000049  0.000737   0.461538   \n",
       "1                transport_1  ZCP4_1718  0.001239  0.006193   0.461538   \n",
       "2                transport_1  ZCP4_0265  0.001009  0.006193   0.230769   \n",
       "3           tetR_family_KO_2  ZCP4_0973  0.002179  0.008715   0.250000   \n",
       "4          membrane_cobalmin  ZCP4_0523  0.000006  0.000070   0.192308   \n",
       "5          membrane_cobalmin  ZCP4_0530  0.000004  0.000070   0.192308   \n",
       "6          membrane_cobalmin  ZCP4_1718  0.000195  0.001288   0.288462   \n",
       "7          membrane_cobalmin  ZCP4_0812  0.000206  0.001288   0.057692   \n",
       "8          membrane_cobalmin  ZCP4_0018  0.001619  0.006747   0.211538   \n",
       "9          membrane_cobalmin  ZCP4_1046  0.001477  0.006747   0.192308   \n",
       "10         membrane_cobalmin  ZCP4_0210  0.002886  0.009335   0.115385   \n",
       "11         membrane_cobalmin  ZCP4_1382  0.002987  0.009335   0.173077   \n",
       "12                cell_cycle  ZCP4_0900  0.000049  0.000830   0.342105   \n",
       "13                cell_cycle  ZCP4_0375  0.001107  0.009410   0.263158   \n",
       "14  alternative_carbon_maybe  ZCP4_1585  0.000794  0.008736   0.400000   \n",
       "\n",
       "      recall   f1score    TP  regulon_size  imodulon_size  n_regs  \n",
       "0   0.054545  0.097561   6.0         110.0           13.0     1.0  \n",
       "1   0.030612  0.057416   6.0         196.0           13.0     1.0  \n",
       "2   0.100000  0.139535   3.0          30.0           13.0     1.0  \n",
       "3   1.000000  0.400000   1.0           1.0            4.0     1.0  \n",
       "4   0.158730  0.173913  10.0          63.0           52.0     1.0  \n",
       "5   0.163934  0.176991  10.0          61.0           52.0     1.0  \n",
       "6   0.076531  0.120968  15.0         196.0           52.0     1.0  \n",
       "7   0.600000  0.105263   3.0           5.0           52.0     1.0  \n",
       "8   0.076923  0.112821  11.0         143.0           52.0     1.0  \n",
       "9   0.083333  0.116279  10.0         120.0           52.0     1.0  \n",
       "10  0.115385  0.115385   6.0          52.0           52.0     1.0  \n",
       "11  0.081818  0.111111   9.0         110.0           52.0     1.0  \n",
       "12  0.069149  0.115044  13.0         188.0           38.0     1.0  \n",
       "13  0.062112  0.100503  10.0         161.0           38.0     1.0  \n",
       "14  0.117647  0.181818   2.0          17.0            5.0     1.0  "
      ]
     },
     "execution_count": 10,
     "metadata": {},
     "output_type": "execute_result"
    }
   ],
   "source": [
    "ica_data.compute_trn_enrichment(fdr = .01)"
   ]
  },
  {
   "cell_type": "markdown",
   "metadata": {},
   "source": [
    "You can also search for AND/OR combinations of regulators using the `max_regs` argument.\n",
    "\n",
    "Regulator enrichments can be directly saved to the `imodulon_table` using the `save` argument. This saves the enrichment with the lowest q-value to the table."
   ]
  },
  {
   "cell_type": "code",
   "execution_count": 11,
   "metadata": {},
   "outputs": [
    {
     "data": {
      "text/html": [
       "<div>\n",
       "<style scoped>\n",
       "    .dataframe tbody tr th:only-of-type {\n",
       "        vertical-align: middle;\n",
       "    }\n",
       "\n",
       "    .dataframe tbody tr th {\n",
       "        vertical-align: top;\n",
       "    }\n",
       "\n",
       "    .dataframe thead th {\n",
       "        text-align: right;\n",
       "    }\n",
       "</style>\n",
       "<table border=\"1\" class=\"dataframe\">\n",
       "  <thead>\n",
       "    <tr style=\"text-align: right;\">\n",
       "      <th></th>\n",
       "      <th>imodulon</th>\n",
       "      <th>regulator</th>\n",
       "      <th>pvalue</th>\n",
       "      <th>qvalue</th>\n",
       "      <th>precision</th>\n",
       "      <th>recall</th>\n",
       "      <th>f1score</th>\n",
       "      <th>TP</th>\n",
       "      <th>regulon_size</th>\n",
       "      <th>imodulon_size</th>\n",
       "      <th>n_regs</th>\n",
       "    </tr>\n",
       "  </thead>\n",
       "  <tbody>\n",
       "  </tbody>\n",
       "</table>\n",
       "</div>"
      ],
      "text/plain": [
       "Empty DataFrame\n",
       "Columns: [imodulon, regulator, pvalue, qvalue, precision, recall, f1score, TP, regulon_size, imodulon_size, n_regs]\n",
       "Index: []"
      ]
     },
     "execution_count": 11,
     "metadata": {},
     "output_type": "execute_result"
    }
   ],
   "source": [
    "# First search for regulator enrichments with 2 regulators\n",
    "ica_data.compute_trn_enrichment(max_regs=2,save=True)\n",
    "\n",
    "# Next, search for regulator enrichments with just one regulator. This will supercede the 2 regulator enrichments.\n",
    "ica_data.compute_trn_enrichment(max_regs=1,save=True)"
   ]
  },
  {
   "cell_type": "markdown",
   "metadata": {},
   "source": [
    "The list of regulatory iModulons are shown below"
   ]
  },
  {
   "cell_type": "code",
   "execution_count": 12,
   "metadata": {},
   "outputs": [
    {
     "name": "stdout",
     "output_type": "stream",
     "text": [
      "54 Total iModulons\n",
      "2 Regulatory iModulons\n"
     ]
    },
    {
     "data": {
      "text/html": [
       "<div>\n",
       "<style scoped>\n",
       "    .dataframe tbody tr th:only-of-type {\n",
       "        vertical-align: middle;\n",
       "    }\n",
       "\n",
       "    .dataframe tbody tr th {\n",
       "        vertical-align: top;\n",
       "    }\n",
       "\n",
       "    .dataframe thead th {\n",
       "        text-align: right;\n",
       "    }\n",
       "</style>\n",
       "<table border=\"1\" class=\"dataframe\">\n",
       "  <thead>\n",
       "    <tr style=\"text-align: right;\">\n",
       "      <th></th>\n",
       "      <th>regulator</th>\n",
       "      <th>pvalue</th>\n",
       "      <th>qvalue</th>\n",
       "      <th>precision</th>\n",
       "      <th>recall</th>\n",
       "      <th>f1score</th>\n",
       "      <th>TP</th>\n",
       "      <th>regulon_size</th>\n",
       "      <th>imodulon_size</th>\n",
       "      <th>n_regs</th>\n",
       "      <th>should_be_flipped?</th>\n",
       "      <th>single_gene</th>\n",
       "      <th>explained_variance</th>\n",
       "      <th>category</th>\n",
       "      <th>old_name</th>\n",
       "      <th>additional_info</th>\n",
       "      <th>flipped?</th>\n",
       "    </tr>\n",
       "  </thead>\n",
       "  <tbody>\n",
       "    <tr>\n",
       "      <th>SG_14</th>\n",
       "      <td>ZCP4_0095+ZCP4_0128</td>\n",
       "      <td>0.000000e+00</td>\n",
       "      <td>0.000000</td>\n",
       "      <td>1.000000</td>\n",
       "      <td>1.000000</td>\n",
       "      <td>1.000000</td>\n",
       "      <td>1.0</td>\n",
       "      <td>1.0</td>\n",
       "      <td>1.0</td>\n",
       "      <td>2.0</td>\n",
       "      <td>NaN</td>\n",
       "      <td>True</td>\n",
       "      <td>0.006527</td>\n",
       "      <td>single_gene</td>\n",
       "      <td>SG_14</td>\n",
       "      <td>NaN</td>\n",
       "      <td>NaN</td>\n",
       "    </tr>\n",
       "    <tr>\n",
       "      <th>cell_cycle</th>\n",
       "      <td>ZCP4_0900/ZCP4_0375</td>\n",
       "      <td>9.686758e-10</td>\n",
       "      <td>0.000001</td>\n",
       "      <td>0.605263</td>\n",
       "      <td>0.074675</td>\n",
       "      <td>0.132948</td>\n",
       "      <td>23.0</td>\n",
       "      <td>308.0</td>\n",
       "      <td>38.0</td>\n",
       "      <td>2.0</td>\n",
       "      <td>NaN</td>\n",
       "      <td>NaN</td>\n",
       "      <td>0.005830</td>\n",
       "      <td>cell_cycle</td>\n",
       "      <td>noise_3</td>\n",
       "      <td>NaN</td>\n",
       "      <td>NaN</td>\n",
       "    </tr>\n",
       "  </tbody>\n",
       "</table>\n",
       "</div>"
      ],
      "text/plain": [
       "                      regulator        pvalue    qvalue  precision    recall  \\\n",
       "SG_14       ZCP4_0095+ZCP4_0128  0.000000e+00  0.000000   1.000000  1.000000   \n",
       "cell_cycle  ZCP4_0900/ZCP4_0375  9.686758e-10  0.000001   0.605263  0.074675   \n",
       "\n",
       "             f1score    TP  regulon_size  imodulon_size  n_regs  \\\n",
       "SG_14       1.000000   1.0           1.0            1.0     2.0   \n",
       "cell_cycle  0.132948  23.0         308.0           38.0     2.0   \n",
       "\n",
       "           should_be_flipped? single_gene  explained_variance     category  \\\n",
       "SG_14                     NaN        True            0.006527  single_gene   \n",
       "cell_cycle                NaN         NaN            0.005830   cell_cycle   \n",
       "\n",
       "           old_name additional_info  flipped?  \n",
       "SG_14         SG_14             NaN       NaN  \n",
       "cell_cycle  noise_3             NaN       NaN  "
      ]
     },
     "execution_count": 12,
     "metadata": {},
     "output_type": "execute_result"
    }
   ],
   "source": [
    "regulatory_imodulons = ica_data.imodulon_table[ica_data.imodulon_table.regulator.notnull()]\n",
    "print(len(ica_data.imodulon_table),'Total iModulons')\n",
    "print(len(regulatory_imodulons),'Regulatory iModulons')\n",
    "regulatory_imodulons"
   ]
  },
  {
   "cell_type": "markdown",
   "metadata": {},
   "source": [
    "You can rename iModulons in this jupyter notebook, or you can save the iModulon table as a CSV and edit it in Excel.\n",
    "\n",
    "If two iModulons have the same regulator (e.g. 'Reg'), they will be named 'Reg-1' and 'Reg-2'"
   ]
  },
  {
   "cell_type": "code",
   "execution_count": 13,
   "metadata": {},
   "outputs": [],
   "source": [
    "#ica_data.rename_imodulons(regulatory_imodulons.regulator.to_dict())\n",
    "#ica_data.imodulon_table.head()"
   ]
  },
  {
   "cell_type": "code",
   "execution_count": 14,
   "metadata": {},
   "outputs": [],
   "source": [
    "#regulatory_imodulons = ica_data.imodulon_table[ica_data.imodulon_table.regulator.notnull()]"
   ]
  },
  {
   "cell_type": "markdown",
   "metadata": {},
   "source": [
    "# Functional iModulons"
   ]
  },
  {
   "cell_type": "markdown",
   "metadata": {},
   "source": [
    "GO annotations and KEGG pathways/modules were generated in the 1_create_the_gene_table.ipynb notebook. Enrichments will be calculated in this notebook, and further curated in the 3_manual_iModulon_curation notebook."
   ]
  },
  {
   "cell_type": "markdown",
   "metadata": {},
   "source": [
    "## GO Enrichments"
   ]
  },
  {
   "cell_type": "markdown",
   "metadata": {},
   "source": [
    "First load the Gene Ontology annotations"
   ]
  },
  {
   "cell_type": "code",
   "execution_count": 15,
   "metadata": {
    "tags": []
   },
   "outputs": [
    {
     "data": {
      "text/html": [
       "<div>\n",
       "<style scoped>\n",
       "    .dataframe tbody tr th:only-of-type {\n",
       "        vertical-align: middle;\n",
       "    }\n",
       "\n",
       "    .dataframe tbody tr th {\n",
       "        vertical-align: top;\n",
       "    }\n",
       "\n",
       "    .dataframe thead th {\n",
       "        text-align: right;\n",
       "    }\n",
       "</style>\n",
       "<table border=\"1\" class=\"dataframe\">\n",
       "  <thead>\n",
       "    <tr style=\"text-align: right;\">\n",
       "      <th></th>\n",
       "      <th>gene_id</th>\n",
       "      <th>gene_name</th>\n",
       "      <th>gene_ontology</th>\n",
       "    </tr>\n",
       "  </thead>\n",
       "  <tbody>\n",
       "    <tr>\n",
       "      <th>45</th>\n",
       "      <td>ZCP4_0936</td>\n",
       "      <td>efp</td>\n",
       "      <td>cytoplasm</td>\n",
       "    </tr>\n",
       "    <tr>\n",
       "      <th>46</th>\n",
       "      <td>ZCP4_0936</td>\n",
       "      <td>efp</td>\n",
       "      <td>translation elongation factor activity</td>\n",
       "    </tr>\n",
       "    <tr>\n",
       "      <th>65</th>\n",
       "      <td>ZCP4_1645</td>\n",
       "      <td>hisH</td>\n",
       "      <td>imidazoleglycerol-phosphate synthase activity</td>\n",
       "    </tr>\n",
       "    <tr>\n",
       "      <th>73</th>\n",
       "      <td>ZCP4_1199</td>\n",
       "      <td>rpe</td>\n",
       "      <td>metal ion binding</td>\n",
       "    </tr>\n",
       "    <tr>\n",
       "      <th>74</th>\n",
       "      <td>ZCP4_1199</td>\n",
       "      <td>rpe</td>\n",
       "      <td>pentose-phosphate shunt, non-oxidative branch</td>\n",
       "    </tr>\n",
       "  </tbody>\n",
       "</table>\n",
       "</div>"
      ],
      "text/plain": [
       "      gene_id gene_name                                  gene_ontology\n",
       "45  ZCP4_0936       efp                                      cytoplasm\n",
       "46  ZCP4_0936       efp         translation elongation factor activity\n",
       "65  ZCP4_1645      hisH  imidazoleglycerol-phosphate synthase activity\n",
       "73  ZCP4_1199       rpe                              metal ion binding\n",
       "74  ZCP4_1199       rpe  pentose-phosphate shunt, non-oxidative branch"
      ]
     },
     "execution_count": 15,
     "metadata": {},
     "output_type": "execute_result"
    }
   ],
   "source": [
    "DF_GO = pd.read_csv(path.join(external_data,'GO_annotations_curated.csv'),index_col=0)\n",
    "DF_GO.head()"
   ]
  },
  {
   "cell_type": "code",
   "execution_count": 16,
   "metadata": {
    "tags": []
   },
   "outputs": [],
   "source": [
    "#DF_GO_enrich = ica_data.compute_annotation_enrichment(DF_GO,'gene_ontology')"
   ]
  },
  {
   "cell_type": "code",
   "execution_count": 17,
   "metadata": {},
   "outputs": [],
   "source": [
    "#DF_GO_enrich.head()"
   ]
  },
  {
   "cell_type": "markdown",
   "metadata": {},
   "source": [
    "## KEGG Enrichments"
   ]
  },
  {
   "cell_type": "markdown",
   "metadata": {},
   "source": [
    "### Load KEGG mapping\n",
    "The `kegg_mapping.csv` file contains KEGG orthologies, pathways, modules, and reactions. Only pathways and modules are relevant to iModulon characterization."
   ]
  },
  {
   "cell_type": "code",
   "execution_count": 18,
   "metadata": {
    "tags": []
   },
   "outputs": [
    {
     "name": "stdout",
     "output_type": "stream",
     "text": [
      "['KEGG_pathway' 'KEGG_module' 'KEGG_reaction']\n"
     ]
    },
    {
     "data": {
      "text/html": [
       "<div>\n",
       "<style scoped>\n",
       "    .dataframe tbody tr th:only-of-type {\n",
       "        vertical-align: middle;\n",
       "    }\n",
       "\n",
       "    .dataframe tbody tr th {\n",
       "        vertical-align: top;\n",
       "    }\n",
       "\n",
       "    .dataframe thead th {\n",
       "        text-align: right;\n",
       "    }\n",
       "</style>\n",
       "<table border=\"1\" class=\"dataframe\">\n",
       "  <thead>\n",
       "    <tr style=\"text-align: right;\">\n",
       "      <th></th>\n",
       "      <th>gene_id</th>\n",
       "      <th>database</th>\n",
       "      <th>kegg_id</th>\n",
       "    </tr>\n",
       "  </thead>\n",
       "  <tbody>\n",
       "    <tr>\n",
       "      <th>0</th>\n",
       "      <td>ZCP4_0005</td>\n",
       "      <td>KEGG_pathway</td>\n",
       "      <td>-</td>\n",
       "    </tr>\n",
       "    <tr>\n",
       "      <th>8</th>\n",
       "      <td>ZCP4_0006</td>\n",
       "      <td>KEGG_pathway</td>\n",
       "      <td>map00361</td>\n",
       "    </tr>\n",
       "    <tr>\n",
       "      <th>9</th>\n",
       "      <td>ZCP4_0006</td>\n",
       "      <td>KEGG_pathway</td>\n",
       "      <td>map00364</td>\n",
       "    </tr>\n",
       "    <tr>\n",
       "      <th>10</th>\n",
       "      <td>ZCP4_0006</td>\n",
       "      <td>KEGG_pathway</td>\n",
       "      <td>map00623</td>\n",
       "    </tr>\n",
       "    <tr>\n",
       "      <th>11</th>\n",
       "      <td>ZCP4_0006</td>\n",
       "      <td>KEGG_pathway</td>\n",
       "      <td>map01100</td>\n",
       "    </tr>\n",
       "  </tbody>\n",
       "</table>\n",
       "</div>"
      ],
      "text/plain": [
       "      gene_id      database   kegg_id\n",
       "0   ZCP4_0005  KEGG_pathway         -\n",
       "8   ZCP4_0006  KEGG_pathway  map00361\n",
       "9   ZCP4_0006  KEGG_pathway  map00364\n",
       "10  ZCP4_0006  KEGG_pathway  map00623\n",
       "11  ZCP4_0006  KEGG_pathway  map01100"
      ]
     },
     "execution_count": 18,
     "metadata": {},
     "output_type": "execute_result"
    }
   ],
   "source": [
    "DF_KEGG = pd.read_csv(path.join(external_data,'kegg_mapping.csv'),index_col=0)\n",
    "print(DF_KEGG.database.unique())\n",
    "DF_KEGG.head()"
   ]
  },
  {
   "cell_type": "code",
   "execution_count": 19,
   "metadata": {
    "tags": []
   },
   "outputs": [],
   "source": [
    "kegg_pathways = DF_KEGG[DF_KEGG.database == 'KEGG_pathway']\n",
    "kegg_modules = DF_KEGG[DF_KEGG.database == 'KEGG_module']"
   ]
  },
  {
   "cell_type": "markdown",
   "metadata": {},
   "source": [
    "### Perform enrichment\n",
    "Uses the `compute_annotation_enrichment` function"
   ]
  },
  {
   "cell_type": "code",
   "execution_count": 20,
   "metadata": {
    "tags": []
   },
   "outputs": [],
   "source": [
    "DF_pathway_enrich = ica_data.compute_annotation_enrichment(kegg_pathways,'kegg_id')\n",
    "# let's add links to view highlighted KEGG maps\n",
    "links = []\n",
    "for index, row in DF_pathway_enrich.iterrows():\n",
    "    EC_nums = ica_data.view_imodulon(row['imodulon']).EC_number\n",
    "    EC_num_opts = set()\n",
    "    for val in EC_nums.values:\n",
    "        if val == '': continue\n",
    "        if str(val) == 'nan': continue\n",
    "        for val2 in val.split(','):\n",
    "            EC_num_opts.add(val2)\n",
    "    url = 'https://www.kegg.jp/kegg-bin/show_pathway?map='+row['kegg_id']+'&multi_query='+'%0A'.join(EC_num_opts)\n",
    "    links.append(url)\n",
    "DF_pathway_enrich['KEGG_highlight_link'] = links\n",
    "DF_module_enrich = ica_data.compute_annotation_enrichment(kegg_modules,'kegg_id')"
   ]
  },
  {
   "cell_type": "code",
   "execution_count": 21,
   "metadata": {
    "tags": []
   },
   "outputs": [
    {
     "data": {
      "text/html": [
       "<div>\n",
       "<style scoped>\n",
       "    .dataframe tbody tr th:only-of-type {\n",
       "        vertical-align: middle;\n",
       "    }\n",
       "\n",
       "    .dataframe tbody tr th {\n",
       "        vertical-align: top;\n",
       "    }\n",
       "\n",
       "    .dataframe thead th {\n",
       "        text-align: right;\n",
       "    }\n",
       "</style>\n",
       "<table border=\"1\" class=\"dataframe\">\n",
       "  <thead>\n",
       "    <tr style=\"text-align: right;\">\n",
       "      <th></th>\n",
       "      <th>imodulon</th>\n",
       "      <th>kegg_id</th>\n",
       "      <th>pvalue</th>\n",
       "      <th>qvalue</th>\n",
       "      <th>precision</th>\n",
       "      <th>recall</th>\n",
       "      <th>f1score</th>\n",
       "      <th>TP</th>\n",
       "      <th>target_set_size</th>\n",
       "      <th>imodulon_size</th>\n",
       "      <th>KEGG_highlight_link</th>\n",
       "    </tr>\n",
       "  </thead>\n",
       "  <tbody>\n",
       "    <tr>\n",
       "      <th>0</th>\n",
       "      <td>nitrogen_fixation</td>\n",
       "      <td>map00625</td>\n",
       "      <td>2.310556e-06</td>\n",
       "      <td>4.251423e-04</td>\n",
       "      <td>0.300000</td>\n",
       "      <td>0.500000</td>\n",
       "      <td>0.375000</td>\n",
       "      <td>3.0</td>\n",
       "      <td>6.0</td>\n",
       "      <td>10.0</td>\n",
       "      <td>https://www.kegg.jp/kegg-bin/show_pathway?map=map00625&amp;multi_query=1.3.7.7%0A1.18.6.1%0A2.8.1.7</td>\n",
       "    </tr>\n",
       "    <tr>\n",
       "      <th>1</th>\n",
       "      <td>nitrogen_fixation</td>\n",
       "      <td>map00910</td>\n",
       "      <td>9.621108e-06</td>\n",
       "      <td>8.851419e-04</td>\n",
       "      <td>0.300000</td>\n",
       "      <td>0.333333</td>\n",
       "      <td>0.315789</td>\n",
       "      <td>3.0</td>\n",
       "      <td>9.0</td>\n",
       "      <td>10.0</td>\n",
       "      <td>https://www.kegg.jp/kegg-bin/show_pathway?map=map00910&amp;multi_query=1.3.7.7%0A1.18.6.1%0A2.8.1.7</td>\n",
       "    </tr>\n",
       "    <tr>\n",
       "      <th>2</th>\n",
       "      <td>translation_2</td>\n",
       "      <td>map03010</td>\n",
       "      <td>8.003688e-30</td>\n",
       "      <td>1.472679e-27</td>\n",
       "      <td>1.000000</td>\n",
       "      <td>0.339623</td>\n",
       "      <td>0.507042</td>\n",
       "      <td>18.0</td>\n",
       "      <td>53.0</td>\n",
       "      <td>18.0</td>\n",
       "      <td>https://www.kegg.jp/kegg-bin/show_pathway?map=map03010&amp;multi_query=</td>\n",
       "    </tr>\n",
       "    <tr>\n",
       "      <th>3</th>\n",
       "      <td>glycolysis_and_ATP_synthase</td>\n",
       "      <td>map00195</td>\n",
       "      <td>4.877813e-18</td>\n",
       "      <td>8.975176e-16</td>\n",
       "      <td>0.346154</td>\n",
       "      <td>1.000000</td>\n",
       "      <td>0.514286</td>\n",
       "      <td>9.0</td>\n",
       "      <td>9.0</td>\n",
       "      <td>26.0</td>\n",
       "      <td>https://www.kegg.jp/kegg-bin/show_pathway?map=map00195&amp;multi_query=1.1.99.28%0A5.4.2.11%0A4.2.1.11%0A2.7.1.40%0A4.1.1.12%0A1.2.1.12%0A2.7.2.3%0A3.1.1.31%0A4.1.1.1%0A4.1.3.42%0A4.1.2.14%0A3.6.3.14%0A4.2.1.12%0A1.1.1.363%0A1.1.1.49%0A2.7.1.2</td>\n",
       "    </tr>\n",
       "    <tr>\n",
       "      <th>4</th>\n",
       "      <td>glycolysis_and_ATP_synthase</td>\n",
       "      <td>map00190</td>\n",
       "      <td>4.141932e-13</td>\n",
       "      <td>3.810578e-11</td>\n",
       "      <td>0.346154</td>\n",
       "      <td>0.473684</td>\n",
       "      <td>0.400000</td>\n",
       "      <td>9.0</td>\n",
       "      <td>19.0</td>\n",
       "      <td>26.0</td>\n",
       "      <td>https://www.kegg.jp/kegg-bin/show_pathway?map=map00190&amp;multi_query=1.1.99.28%0A5.4.2.11%0A4.2.1.11%0A2.7.1.40%0A4.1.1.12%0A1.2.1.12%0A2.7.2.3%0A3.1.1.31%0A4.1.1.1%0A4.1.3.42%0A4.1.2.14%0A3.6.3.14%0A4.2.1.12%0A1.1.1.363%0A1.1.1.49%0A2.7.1.2</td>\n",
       "    </tr>\n",
       "  </tbody>\n",
       "</table>\n",
       "</div>"
      ],
      "text/plain": [
       "                      imodulon   kegg_id        pvalue        qvalue  \\\n",
       "0            nitrogen_fixation  map00625  2.310556e-06  4.251423e-04   \n",
       "1            nitrogen_fixation  map00910  9.621108e-06  8.851419e-04   \n",
       "2                translation_2  map03010  8.003688e-30  1.472679e-27   \n",
       "3  glycolysis_and_ATP_synthase  map00195  4.877813e-18  8.975176e-16   \n",
       "4  glycolysis_and_ATP_synthase  map00190  4.141932e-13  3.810578e-11   \n",
       "\n",
       "   precision    recall   f1score    TP  target_set_size  imodulon_size  \\\n",
       "0   0.300000  0.500000  0.375000   3.0              6.0           10.0   \n",
       "1   0.300000  0.333333  0.315789   3.0              9.0           10.0   \n",
       "2   1.000000  0.339623  0.507042  18.0             53.0           18.0   \n",
       "3   0.346154  1.000000  0.514286   9.0              9.0           26.0   \n",
       "4   0.346154  0.473684  0.400000   9.0             19.0           26.0   \n",
       "\n",
       "                                                                                                                                                                                                                               KEGG_highlight_link  \n",
       "0                                                                                                                                                  https://www.kegg.jp/kegg-bin/show_pathway?map=map00625&multi_query=1.3.7.7%0A1.18.6.1%0A2.8.1.7  \n",
       "1                                                                                                                                                  https://www.kegg.jp/kegg-bin/show_pathway?map=map00910&multi_query=1.3.7.7%0A1.18.6.1%0A2.8.1.7  \n",
       "2                                                                                                                                                                              https://www.kegg.jp/kegg-bin/show_pathway?map=map03010&multi_query=  \n",
       "3  https://www.kegg.jp/kegg-bin/show_pathway?map=map00195&multi_query=1.1.99.28%0A5.4.2.11%0A4.2.1.11%0A2.7.1.40%0A4.1.1.12%0A1.2.1.12%0A2.7.2.3%0A3.1.1.31%0A4.1.1.1%0A4.1.3.42%0A4.1.2.14%0A3.6.3.14%0A4.2.1.12%0A1.1.1.363%0A1.1.1.49%0A2.7.1.2  \n",
       "4  https://www.kegg.jp/kegg-bin/show_pathway?map=map00190&multi_query=1.1.99.28%0A5.4.2.11%0A4.2.1.11%0A2.7.1.40%0A4.1.1.12%0A1.2.1.12%0A2.7.2.3%0A3.1.1.31%0A4.1.1.1%0A4.1.3.42%0A4.1.2.14%0A3.6.3.14%0A4.2.1.12%0A1.1.1.363%0A1.1.1.49%0A2.7.1.2  "
      ]
     },
     "execution_count": 21,
     "metadata": {},
     "output_type": "execute_result"
    }
   ],
   "source": [
    "pd.set_option('display.max_colwidth', None)\n",
    "DF_pathway_enrich.head()"
   ]
  },
  {
   "cell_type": "code",
   "execution_count": 23,
   "metadata": {},
   "outputs": [
    {
     "data": {
      "text/html": [
       "<div>\n",
       "<style scoped>\n",
       "    .dataframe tbody tr th:only-of-type {\n",
       "        vertical-align: middle;\n",
       "    }\n",
       "\n",
       "    .dataframe tbody tr th {\n",
       "        vertical-align: top;\n",
       "    }\n",
       "\n",
       "    .dataframe thead th {\n",
       "        text-align: right;\n",
       "    }\n",
       "</style>\n",
       "<table border=\"1\" class=\"dataframe\">\n",
       "  <thead>\n",
       "    <tr style=\"text-align: right;\">\n",
       "      <th></th>\n",
       "      <th>imodulon</th>\n",
       "      <th>kegg_id</th>\n",
       "      <th>pvalue</th>\n",
       "      <th>qvalue</th>\n",
       "      <th>precision</th>\n",
       "      <th>recall</th>\n",
       "      <th>f1score</th>\n",
       "      <th>TP</th>\n",
       "      <th>target_set_size</th>\n",
       "      <th>imodulon_size</th>\n",
       "      <th>KEGG_highlight_link</th>\n",
       "    </tr>\n",
       "  </thead>\n",
       "  <tbody>\n",
       "    <tr>\n",
       "      <th>10</th>\n",
       "      <td>glycolysis_and_ATP_synthase</td>\n",
       "      <td>map00030</td>\n",
       "      <td>0.000051</td>\n",
       "      <td>0.001181</td>\n",
       "      <td>0.153846</td>\n",
       "      <td>0.25</td>\n",
       "      <td>0.190476</td>\n",
       "      <td>4.0</td>\n",
       "      <td>16.0</td>\n",
       "      <td>26.0</td>\n",
       "      <td>https://www.kegg.jp/kegg-bin/show_pathway?map=map00030&amp;multi_query=1.1.99.28%0A5.4.2.11%0A4.2.1.11%0A2.7.1.40%0A4.1.1.12%0A1.2.1.12%0A2.7.2.3%0A3.1.1.31%0A4.1.1.1%0A4.1.3.42%0A4.1.2.14%0A3.6.3.14%0A4.2.1.12%0A1.1.1.363%0A1.1.1.49%0A2.7.1.2</td>\n",
       "    </tr>\n",
       "  </tbody>\n",
       "</table>\n",
       "</div>"
      ],
      "text/plain": [
       "                       imodulon   kegg_id    pvalue    qvalue  precision  \\\n",
       "10  glycolysis_and_ATP_synthase  map00030  0.000051  0.001181   0.153846   \n",
       "\n",
       "    recall   f1score   TP  target_set_size  imodulon_size  \\\n",
       "10    0.25  0.190476  4.0             16.0           26.0   \n",
       "\n",
       "                                                                                                                                                                                                                                KEGG_highlight_link  \n",
       "10  https://www.kegg.jp/kegg-bin/show_pathway?map=map00030&multi_query=1.1.99.28%0A5.4.2.11%0A4.2.1.11%0A2.7.1.40%0A4.1.1.12%0A1.2.1.12%0A2.7.2.3%0A3.1.1.31%0A4.1.1.1%0A4.1.3.42%0A4.1.2.14%0A3.6.3.14%0A4.2.1.12%0A1.1.1.363%0A1.1.1.49%0A2.7.1.2  "
      ]
     },
     "execution_count": 23,
     "metadata": {},
     "output_type": "execute_result"
    }
   ],
   "source": [
    "DF_pathway_enrich[DF_pathway_enrich['kegg_id'] == 'map00030']"
   ]
  },
  {
   "cell_type": "code",
   "execution_count": null,
   "metadata": {
    "tags": []
   },
   "outputs": [],
   "source": [
    "DF_pathway_enrich[DF_pathway_enrich['imodulon'] == 'ETC_and_MEP']"
   ]
  },
  {
   "cell_type": "code",
   "execution_count": null,
   "metadata": {
    "tags": []
   },
   "outputs": [],
   "source": [
    "DF_module_enrich.head()"
   ]
  },
  {
   "cell_type": "markdown",
   "metadata": {},
   "source": [
    "### Convert KEGG IDs to human-readable names"
   ]
  },
  {
   "cell_type": "code",
   "execution_count": null,
   "metadata": {
    "scrolled": true,
    "tags": []
   },
   "outputs": [],
   "source": [
    "for idx,key in tqdm(DF_pathway_enrich.kegg_id.items(),total=len(DF_pathway_enrich)):\n",
    "    if '-' not in key:\n",
    "        text = REST.kegg_find('pathway',key).read()\n",
    "    try:\n",
    "        name = re.search('\\t(.*)\\n',text).group(1)\n",
    "        DF_pathway_enrich.loc[idx,'pathway_name'] = name\n",
    "    except AttributeError:\n",
    "        DF_pathway_enrich.loc[idx,'pathway_name'] = None\n",
    "    \n",
    "for idx,key in tqdm(DF_module_enrich.kegg_id.items(),total=len(DF_module_enrich)):\n",
    "    if '-' not in key:\n",
    "        text = REST.kegg_find('module',key).read()\n",
    "    try:\n",
    "        name = re.search('\\t(.*)\\n',text).group(1)\n",
    "        DF_module_enrich.loc[idx,'module_name'] = name\n",
    "    except AttributeError:\n",
    "        DF_module_enrich.loc[idx,'module_name'] = None"
   ]
  },
  {
   "cell_type": "code",
   "execution_count": null,
   "metadata": {
    "tags": []
   },
   "outputs": [],
   "source": [
    "DF_pathway_enrich.head()"
   ]
  },
  {
   "cell_type": "code",
   "execution_count": null,
   "metadata": {},
   "outputs": [],
   "source": [
    "pd.set_option('display.max_colwidth', 1000)\n",
    "DF_pathway_enrich[DF_pathway_enrich['kegg_id'] == 'map00010']"
   ]
  },
  {
   "cell_type": "code",
   "execution_count": null,
   "metadata": {
    "tags": []
   },
   "outputs": [],
   "source": [
    "DF_module_enrich.head()"
   ]
  },
  {
   "cell_type": "markdown",
   "metadata": {},
   "source": [
    "## Save files"
   ]
  },
  {
   "cell_type": "code",
   "execution_count": null,
   "metadata": {
    "tags": []
   },
   "outputs": [],
   "source": [
    "#DF_GO_enrich['source'] = 'GO'\n",
    "# DF_pathway_enrich['source'] = 'KEGG pathways'\n",
    "# DF_module_enrich['source'] = 'KEGG modules'\n",
    "# DF_subti_enrich['source'] = 'SubtiWiki'\n",
    "\n",
    "#DF_GO_enrich.rename({'gene_ontology':'annotation'},axis=1, inplace=True)\n",
    "# DF_pathway_enrich.rename({'kegg_id':'annotation'},axis=1, inplace=True)\n",
    "# DF_module_enrich.rename({'kegg_id':'annotation'},axis=1, inplace=True)\n",
    "# DF_subti_enrich.rename({'value':'annotation'},axis=1, inplace=True)\n",
    "\n",
    "#DF_enrichments = pd.concat([DF_GO_enrich, DF_pathway_enrich, DF_module_enrich, DF_subti_enrich])\n",
    "#DF_enrichments.to_csv(path.join(data_dir,'functional_enrichments.csv'))"
   ]
  },
  {
   "cell_type": "markdown",
   "metadata": {},
   "source": [
    "# Check for single gene iModulons"
   ]
  },
  {
   "cell_type": "markdown",
   "metadata": {},
   "source": [
    "Some iModulons are dominated by a single, high-coefficient gene. These iModulons may result from:\n",
    "1. Overdecomposition of the dataset to identify noisy genes\n",
    "1. Artificial knock-out of single genes\n",
    "1. Regulons with only one target gene\n",
    "\n",
    "No matter what causes these iModulons, it is important to be aware of them. The find_single_gene_imodulons function identifies iModulons that are likely dominated by a single gene.\n",
    "\n",
    "The iModulons identified by ``find_single_gene_imodulons`` may contain more than one gene, since a threshold-agnostic method is used to identify these iModulons."
   ]
  },
  {
   "cell_type": "code",
   "execution_count": null,
   "metadata": {
    "tags": []
   },
   "outputs": [],
   "source": [
    "sg_imods = ica_data.find_single_gene_imodulons(save=True)\n",
    "len(sg_imods)"
   ]
  },
  {
   "cell_type": "code",
   "execution_count": null,
   "metadata": {
    "tags": []
   },
   "outputs": [],
   "source": [
    "for i,mod in enumerate(sg_imods):\n",
    "    ica_data.rename_imodulons({mod:'SG_'+str(i+1)})"
   ]
  },
  {
   "cell_type": "code",
   "execution_count": null,
   "metadata": {
    "tags": []
   },
   "outputs": [],
   "source": [
    "ica_data.imodulon_table[ica_data.imodulon_table.single_gene == True]"
   ]
  },
  {
   "cell_type": "code",
   "execution_count": null,
   "metadata": {
    "tags": []
   },
   "outputs": [],
   "source": [
    "ica_data.view_imodulon('SG_1')"
   ]
  },
  {
   "cell_type": "markdown",
   "metadata": {},
   "source": [
    "# add on chromosome/plasmid location"
   ]
  },
  {
   "cell_type": "code",
   "execution_count": null,
   "metadata": {
    "tags": []
   },
   "outputs": [],
   "source": [
    "f = open('../Zymomonas_mobilis/sequence_files/genome.gff3', 'r')\n",
    "lines = f.readlines()\n",
    "f.close()\n",
    "gene_to_reg = {}\n",
    "for line in lines:\n",
    "    if '##sequence-region' in line:\n",
    "        seq_region = line.split(' ')[1]\n",
    "    if 'ID=gene-' in line:\n",
    "        gene = line.split('ID=gene-')[1].split(';')[0]\n",
    "        gene_to_reg.update({gene : seq_region})\n",
    "        \n",
    "new_col = [gene_to_reg[index] for index in ica_data.gene_table.index]\n",
    "ica_data.gene_table['chromosome_id'] = new_col"
   ]
  },
  {
   "cell_type": "markdown",
   "metadata": {
    "tags": []
   },
   "source": [
    "# what iModulons are \"most essential\"?"
   ]
  },
  {
   "cell_type": "code",
   "execution_count": null,
   "metadata": {
    "tags": []
   },
   "outputs": [],
   "source": [
    "aero = []\n",
    "anaero = []\n",
    "for iM in ica_data.imodulon_table.index:\n",
    "    df = ica_data.view_imodulon(iM)\n",
    "    total = len(df)\n",
    "    if 0 not in df['aerobic_essential'].value_counts():\n",
    "        aerobic_ess = 1\n",
    "    else:\n",
    "        aerobic_ess = (total - df['aerobic_essential'].value_counts()[0]) / total\n",
    "    if 0 not in df['anaerobic_essential'].value_counts():\n",
    "        anaerobic_ess = 1\n",
    "    else:\n",
    "        anaerobic_ess = (total - df['anaerobic_essential'].value_counts()[0]) / total\n",
    "    aero.append(aerobic_ess)\n",
    "    anaero.append(anaerobic_ess)\n",
    "ica_data.imodulon_table['percent_anaero_essential'] = anaero\n",
    "ica_data.imodulon_table['percent_aero_essential'] = aero"
   ]
  },
  {
   "cell_type": "code",
   "execution_count": null,
   "metadata": {
    "tags": []
   },
   "outputs": [],
   "source": [
    "df = ica_data.imodulon_table\n",
    "df = df[df['imodulon_size'] > 5]\n",
    "df.sort_values(by = 'percent_anaero_essential', ascending = False)[['category', 'explained_variance', 'imodulon_size', 'percent_aero_essential', 'percent_anaero_essential']]\n"
   ]
  },
  {
   "cell_type": "markdown",
   "metadata": {},
   "source": [
    "# add iModulons to gene_info"
   ]
  },
  {
   "cell_type": "code",
   "execution_count": null,
   "metadata": {
    "tags": []
   },
   "outputs": [],
   "source": [
    "iMs = []\n",
    "gene_to_iMs = {}\n",
    "for iM in ica_data.imodulon_table.index:\n",
    "    df = ica_data.view_imodulon(iM)\n",
    "    for gene in df.index:\n",
    "        if gene not in gene_to_iMs:\n",
    "            gene_to_iMs.update({gene : []})\n",
    "        gene_to_iMs[gene].append(iM)\n",
    "for gene in ica_data.gene_table.index:\n",
    "    if gene not in gene_to_iMs:\n",
    "        iMs.append('')\n",
    "    else:\n",
    "        val = gene_to_iMs[gene]\n",
    "        val.sort()\n",
    "        iMs.append(str(val))\n",
    "ica_data.gene_table['iMs'] = iMs"
   ]
  },
  {
   "cell_type": "markdown",
   "metadata": {},
   "source": [
    "# Save iModulon object"
   ]
  },
  {
   "cell_type": "code",
   "execution_count": null,
   "metadata": {
    "tags": []
   },
   "outputs": [],
   "source": [
    "from pymodulon.util import explained_variance\n",
    "from pymodulon.io import *"
   ]
  },
  {
   "cell_type": "code",
   "execution_count": null,
   "metadata": {
    "tags": []
   },
   "outputs": [],
   "source": [
    "# Add iModulon sizes and explained variance\n",
    "for im in ica_data.imodulon_names:\n",
    "    ica_data.imodulon_table.loc[im,'imodulon_size'] = len(ica_data.view_imodulon(im))\n",
    "    ica_data.imodulon_table.loc[im,'explained_variance'] = explained_variance(ica_data,imodulons=im)"
   ]
  },
  {
   "cell_type": "markdown",
   "metadata": {},
   "source": [
    "This will save your iModulon table, your thresholds, and any other information stored in the ica_data object."
   ]
  },
  {
   "cell_type": "code",
   "execution_count": null,
   "metadata": {
    "tags": []
   },
   "outputs": [],
   "source": [
    "save_to_json(ica_data, path.join('..','data','interim','zmo_raw.json.gz'))"
   ]
  },
  {
   "cell_type": "markdown",
   "metadata": {},
   "source": [
    "If you prefer to view and edit your iModulon table in excel, save it as a CSV and reload the iModulon as before"
   ]
  },
  {
   "cell_type": "code",
   "execution_count": null,
   "metadata": {
    "tags": []
   },
   "outputs": [],
   "source": [
    "ica_data.imodulon_table.to_csv(path.join('..','data','processed_data','imodulon_table_raw.csv'))"
   ]
  },
  {
   "cell_type": "markdown",
   "metadata": {},
   "source": [
    "# what are iModulons not capturing?"
   ]
  },
  {
   "cell_type": "code",
   "execution_count": null,
   "metadata": {},
   "outputs": [],
   "source": [
    "M = ica_data.M\n",
    "A = ica_data.A\n",
    "rec_X = M.dot(A).T\n",
    "gene_to_corr = {}\n",
    "for gene in rec_X.columns:\n",
    "    gene_to_corr.update({gene : np.corrcoef(rec_X[gene], ica_data.X.T[gene])[0,1]})\n",
    "worst_genes = [k for k, _ in sorted(gene_to_corr.items(), key = lambda k : k[1])]\n",
    "gene_info = ica_data.gene_table.copy()\n",
    "corr_vals = []\n",
    "for index in gene_info.index:\n",
    "    corr_vals.append(gene_to_corr[index])\n",
    "gene_info['corr_rec'] = corr_vals\n",
    "gene_info['mean_exp'] = abs(ica_data.X.loc[gene_info.index]).mean(axis = 1)\n",
    "bad_genes = gene_info[gene_info['corr_rec'] < 0.5]\n",
    "good_genes = gene_info[gene_info['corr_rec'] >= 0.5]"
   ]
  },
  {
   "cell_type": "code",
   "execution_count": null,
   "metadata": {},
   "outputs": [],
   "source": [
    "a = bad_genes.sort_values(by = 'corr_rec').value_counts('COG', normalize = True)\n",
    "a"
   ]
  },
  {
   "cell_type": "code",
   "execution_count": null,
   "metadata": {},
   "outputs": [],
   "source": [
    "b = good_genes.value_counts('COG', normalize = True)\n",
    "b"
   ]
  },
  {
   "cell_type": "code",
   "execution_count": null,
   "metadata": {},
   "outputs": [],
   "source": [
    "plt.scatter(gene_info['corr_rec'], gene_info['mean_exp'])\n",
    "plt.xlabel('Correlation between X and M*A')\n",
    "plt.ylabel('Mean(abs(log tpm gene expression))')\n",
    "plt.show()"
   ]
  },
  {
   "cell_type": "code",
   "execution_count": null,
   "metadata": {},
   "outputs": [],
   "source": [
    "gene_info[gene_info['mean_exp'] < 0.1].value_counts('chromosome_id')"
   ]
  },
  {
   "cell_type": "code",
   "execution_count": null,
   "metadata": {},
   "outputs": [],
   "source": [
    "gene_info.value_counts('chromosome_id')"
   ]
  },
  {
   "cell_type": "code",
   "execution_count": null,
   "metadata": {},
   "outputs": [],
   "source": [
    "plt.figure()\n",
    "plt.hist(abs(ica_data.X.loc[good_genes.index]).mean(), bins = 30, label = 'recreated corr > 0.5')\n",
    "plt.hist(abs(ica_data.X.loc[bad_genes.index]).mean(), bins = 30, label = 'recreated corr < 0.5')\n",
    "plt.xlabel('Abs(log tpm expression)')\n",
    "plt.ylabel('Count')\n",
    "plt.legend()\n",
    "plt.show()"
   ]
  },
  {
   "cell_type": "markdown",
   "metadata": {},
   "source": [
    "# playground"
   ]
  },
  {
   "cell_type": "code",
   "execution_count": null,
   "metadata": {
    "tags": []
   },
   "outputs": [],
   "source": [
    "# create bar chart of predicted regulators\n",
    "import ast\n",
    "for iM in ica_data.imodulon_table.index:\n",
    "    df = ica_data.view_imodulon(iM)\n",
    "    regulators = set()\n",
    "    for regulator in df['FIMO_regulators']:\n",
    "        vals = ast.literal_eval(regulator)\n",
    "        for val in vals:\n",
    "            regulators.add(val)\n",
    "    regulators = list(regulators)\n",
    "    regulators.sort()\n",
    "\n",
    "    counts = []\n",
    "    for regulator in regulators:\n",
    "        ct = 0\n",
    "        for index, row in df.iterrows():\n",
    "            if regulator in row['FIMO_regulators']:\n",
    "                ct += 1\n",
    "        counts.append(ct)\n",
    "\n",
    "    # resort to print most overlap first\n",
    "    paired = list(zip(counts, regulators))\n",
    "    paired.sort(key=lambda x: x[0])  # Sort by the first element (integer)\n",
    "    counts, regulators = zip(*paired)\n",
    "    counts = list(counts)\n",
    "    regulators = list(regulators)\n",
    "    \n",
    "    # save off highest overlaps\n",
    "    fa = fo\n"
   ]
  },
  {
   "cell_type": "code",
   "execution_count": null,
   "metadata": {
    "tags": []
   },
   "outputs": [],
   "source": [
    "regulators"
   ]
  },
  {
   "cell_type": "code",
   "execution_count": null,
   "metadata": {
    "tags": []
   },
   "outputs": [],
   "source": [
    "counts / len(counts)"
   ]
  },
  {
   "cell_type": "code",
   "execution_count": null,
   "metadata": {},
   "outputs": [],
   "source": []
  }
 ],
 "metadata": {
  "kernelspec": {
   "display_name": "Python 3 (ipykernel)",
   "language": "python",
   "name": "python3"
  },
  "language_info": {
   "codemirror_mode": {
    "name": "ipython",
    "version": 3
   },
   "file_extension": ".py",
   "mimetype": "text/x-python",
   "name": "python",
   "nbconvert_exporter": "python",
   "pygments_lexer": "ipython3",
   "version": "3.7.16"
  },
  "toc": {
   "base_numbering": 1,
   "nav_menu": {},
   "number_sections": true,
   "sideBar": true,
   "skip_h1_title": false,
   "title_cell": "Table of Contents",
   "title_sidebar": "Contents",
   "toc_cell": true,
   "toc_position": {},
   "toc_section_display": true,
   "toc_window_display": false
  }
 },
 "nbformat": 4,
 "nbformat_minor": 4
}
