{
 "cells": [
  {
   "cell_type": "markdown",
   "metadata": {},
   "source": [
    "# Setup\n",
    "This IPython notebook will walk through the steps of characterizing iModulons through the semi-automated tools in PyModulon. You will need:\n",
    "\n",
    "* M and A matrices\n",
    "* Expression data (e.g. `log_tpm_norm.csv`)\n",
    "* Gene table and KEGG/GO annotations (Generated in `1_create_the_gene_table.ipynb`)\n",
    "* Sample table, with a column for `project` and `condition`\n",
    "* TRN file\n",
    "\n",
    "Optional:\n",
    "* iModulon table (if you already have some characterized iModulons)"
   ]
  },
  {
   "cell_type": "code",
   "execution_count": 1,
   "metadata": {
    "tags": []
   },
   "outputs": [],
   "source": [
    "from pymodulon.core import IcaData\n",
    "from pymodulon.plotting import *\n",
    "from os import path\n",
    "import pandas as pd\n",
    "import re\n",
    "from Bio.KEGG import REST\n",
    "from tqdm.notebook import tqdm"
   ]
  },
  {
   "cell_type": "code",
   "execution_count": 2,
   "metadata": {
    "tags": []
   },
   "outputs": [],
   "source": [
    "# Enter the location of your data here\n",
    "data_dir = path.join('..','data','processed_data')\n",
    "\n",
    "# GO and KEGG annotations are in the 'external' folder\n",
    "external_data = path.join('..','data','external')"
   ]
  },
  {
   "cell_type": "markdown",
   "metadata": {},
   "source": [
    "## Check your sample table (i.e. metadata file)\n",
    "Your metadata file will probably have a lot of columns, most of which you may not care about. Feel free to save a secondary copy of your metadata file with only columns that seem relevant to you. The two most important columns are:\n",
    "1. `project`\n",
    "2. `condition`\n",
    "\n",
    "Make sure that these columns exist in your metadata file"
   ]
  },
  {
   "cell_type": "code",
   "execution_count": 3,
   "metadata": {
    "tags": []
   },
   "outputs": [
    {
     "data": {
      "text/html": [
       "<div>\n",
       "<style scoped>\n",
       "    .dataframe tbody tr th:only-of-type {\n",
       "        vertical-align: middle;\n",
       "    }\n",
       "\n",
       "    .dataframe tbody tr th {\n",
       "        vertical-align: top;\n",
       "    }\n",
       "\n",
       "    .dataframe thead th {\n",
       "        text-align: right;\n",
       "    }\n",
       "</style>\n",
       "<table border=\"1\" class=\"dataframe\">\n",
       "  <thead>\n",
       "    <tr style=\"text-align: right;\">\n",
       "      <th></th>\n",
       "      <th>project</th>\n",
       "      <th>condition</th>\n",
       "    </tr>\n",
       "  </thead>\n",
       "  <tbody>\n",
       "    <tr>\n",
       "      <th>SRX14953908</th>\n",
       "      <td>multistage_ferment_AFEX</td>\n",
       "      <td>6perACSH_Glucose</td>\n",
       "    </tr>\n",
       "    <tr>\n",
       "      <th>SRX14953909</th>\n",
       "      <td>multistage_ferment_AFEX</td>\n",
       "      <td>6perACSH_Glucose</td>\n",
       "    </tr>\n",
       "    <tr>\n",
       "      <th>SRX14953910</th>\n",
       "      <td>multistage_ferment_AFEX</td>\n",
       "      <td>6perACSH_Glucose</td>\n",
       "    </tr>\n",
       "    <tr>\n",
       "      <th>SRX14953911</th>\n",
       "      <td>multistage_ferment_AFEX</td>\n",
       "      <td>6perACSH_Glucose</td>\n",
       "    </tr>\n",
       "    <tr>\n",
       "      <th>SRX14953912</th>\n",
       "      <td>multistage_ferment_AFEX</td>\n",
       "      <td>6perACSH_Glucose</td>\n",
       "    </tr>\n",
       "  </tbody>\n",
       "</table>\n",
       "</div>"
      ],
      "text/plain": [
       "                             project         condition\n",
       "SRX14953908  multistage_ferment_AFEX  6perACSH_Glucose\n",
       "SRX14953909  multistage_ferment_AFEX  6perACSH_Glucose\n",
       "SRX14953910  multistage_ferment_AFEX  6perACSH_Glucose\n",
       "SRX14953911  multistage_ferment_AFEX  6perACSH_Glucose\n",
       "SRX14953912  multistage_ferment_AFEX  6perACSH_Glucose"
      ]
     },
     "execution_count": 3,
     "metadata": {},
     "output_type": "execute_result"
    }
   ],
   "source": [
    "df_metadata = pd.read_csv(path.join(data_dir,'metadata.tsv'),index_col=0,sep='\\t')\n",
    "df_metadata[['project','condition']].head()"
   ]
  },
  {
   "cell_type": "code",
   "execution_count": 4,
   "metadata": {
    "tags": []
   },
   "outputs": [
    {
     "name": "stdout",
     "output_type": "stream",
     "text": [
      "True\n",
      "True\n"
     ]
    }
   ],
   "source": [
    "print(df_metadata.project.notnull().all())\n",
    "print(df_metadata.condition.notnull().all())"
   ]
  },
  {
   "cell_type": "markdown",
   "metadata": {},
   "source": [
    "## Check your TRN"
   ]
  },
  {
   "cell_type": "markdown",
   "metadata": {},
   "source": [
    "Each row of the TRN file represents a regulatory interaction.  \n",
    "**Your TRN file must have the following columns:**\n",
    "1. `regulator` - Name of regulator (`/` or `+` characters will be converted to `;`)\n",
    "1. `gene_id` - Locus tag of gene being regulated\n",
    "\n",
    "The following columns are optional, but are helpful to have:\n",
    "1. `regulator_id` - Locus tag of regulator\n",
    "1. `gene_name` - Name of gene (can automatically update this using `name2num`)\n",
    "1. `direction` - Direction of regulation ('+' for activation, '-' for repression, '?' or NaN for unknown)\n",
    "1. `evidence` - Evidence of regulation (e.g. ChIP-exo, qRT-PCR, SELEX, Motif search)\n",
    "1. `PMID` - Reference for regulation\n",
    "\n",
    "You may add any other columns that could help you. TRNs may be saved as either CSV or TSV files. See below for an example:"
   ]
  },
  {
   "cell_type": "code",
   "execution_count": 5,
   "metadata": {
    "tags": []
   },
   "outputs": [],
   "source": [
    "#df_trn = pd.read_csv(path.join(external_data,'TRN.csv'))\n",
    "#df_trn.head()"
   ]
  },
  {
   "cell_type": "markdown",
   "metadata": {},
   "source": [
    "The `regulator` and `gene_id` must be filled in for each row"
   ]
  },
  {
   "cell_type": "code",
   "execution_count": 6,
   "metadata": {
    "tags": []
   },
   "outputs": [],
   "source": [
    "#print(df_trn.regulator.notnull().all())\n",
    "#print(df_trn.gene_id.notnull().all())"
   ]
  },
  {
   "cell_type": "markdown",
   "metadata": {},
   "source": [
    "## Load the data\n",
    "You're now ready to load your IcaData object!"
   ]
  },
  {
   "cell_type": "code",
   "execution_count": 7,
   "metadata": {
    "tags": []
   },
   "outputs": [
    {
     "name": "stderr",
     "output_type": "stream",
     "text": [
      "WARNING:root:Some gene are missing from the gene table: ['ZCP4_0003', 'ZCP4_0002', 'ZCP4_0004', 'ZCP4_0001']\n",
      "WARNING:root:Using Kmeans threshold method. D'agostino optimization will not be performed.\n"
     ]
    }
   ],
   "source": [
    "A = pd.read_csv(path.join(data_dir,'A.csv'), index_col = 0)\n",
    "X = pd.read_csv(path.join(data_dir,'log_tpm_norm.csv'), index_col = 0)\n",
    "M = pd.read_csv(path.join(data_dir,'M.csv'), index_col = 0)\n",
    "iM_table = pd.read_csv(path.join(data_dir, 'imodulon_table.csv'), index_col = 0)\n",
    "index_to_iM = {str(index) : row['name'] for index, row in iM_table.iterrows()}\n",
    "M = M.rename(columns = index_to_iM)\n",
    "index_to_iM = {int(index) : row['name'] for index, row in iM_table.iterrows()}\n",
    "A = A.rename(index = index_to_iM)\n",
    "iM_table = iM_table.set_index('name')\n",
    "\n",
    "ica_data = IcaData(M = M,\n",
    "                   A = A,\n",
    "                   X = X,\n",
    "                   imodulon_table = iM_table,\n",
    "                   gene_table = path.join(data_dir,'gene_info.csv'),\n",
    "                   sample_table = path.join(data_dir,'metadata.tsv'),\n",
    "                   #trn = path.join(external_data,'TRN.csv'),\n",
    "                   optimize_cutoff=True)"
   ]
  },
  {
   "cell_type": "markdown",
   "metadata": {},
   "source": [
    "If you don't have a TRN (or have a very minimal TRN), use `threshold_method = 'kmeans'`"
   ]
  },
  {
   "cell_type": "code",
   "execution_count": 8,
   "metadata": {},
   "outputs": [],
   "source": [
    "# ica_data = IcaData(M = path.join(data_dir,'M.csv'),\n",
    "#                    A = path.join(data_dir,'A.csv'),\n",
    "#                    X = path.join(data_dir,'log_tpm_norm.csv'),\n",
    "#                    gene_table = path.join(data_dir,'gene_info.csv'),\n",
    "#                    sample_table = path.join(data_dir,'metadata.tsv'),\n",
    "#                    trn = path.join(data_dir,'TRN.csv'),\n",
    "#                    threshold_method = 'kmeans')"
   ]
  },
  {
   "cell_type": "markdown",
   "metadata": {},
   "source": [
    "# Regulatory iModulons\n",
    "Use `compute_trn_enrichment` to automatically check for Regulatory iModulons. The more complete your TRN, the more regulatory iModulons you'll find."
   ]
  },
  {
   "cell_type": "code",
   "execution_count": 9,
   "metadata": {
    "tags": []
   },
   "outputs": [],
   "source": [
    "#ica_data.compute_trn_enrichment()"
   ]
  },
  {
   "cell_type": "markdown",
   "metadata": {},
   "source": [
    "You can also search for AND/OR combinations of regulators using the `max_regs` argument.\n",
    "\n",
    "Regulator enrichments can be directly saved to the `imodulon_table` using the `save` argument. This saves the enrichment with the lowest q-value to the table."
   ]
  },
  {
   "cell_type": "code",
   "execution_count": 10,
   "metadata": {},
   "outputs": [],
   "source": [
    "# First search for regulator enrichments with 2 regulators\n",
    "#ica_data.compute_trn_enrichment(max_regs=2,save=True)\n",
    "\n",
    "# Next, search for regulator enrichments with just one regulator. This will supercede the 2 regulator enrichments.\n",
    "#ica_data.compute_trn_enrichment(max_regs=1,save=True)"
   ]
  },
  {
   "cell_type": "markdown",
   "metadata": {},
   "source": [
    "The list of regulatory iModulons are shown below"
   ]
  },
  {
   "cell_type": "code",
   "execution_count": 11,
   "metadata": {},
   "outputs": [],
   "source": [
    "#regulatory_imodulons = ica_data.imodulon_table[ica_data.imodulon_table.regulator.notnull()]\n",
    "#print(len(ica_data.imodulon_table),'Total iModulons')\n",
    "#print(len(regulatory_imodulons),'Regulatory iModulons')\n",
    "#regulatory_imodulons"
   ]
  },
  {
   "cell_type": "markdown",
   "metadata": {},
   "source": [
    "You can rename iModulons in this jupyter notebook, or you can save the iModulon table as a CSV and edit it in Excel.\n",
    "\n",
    "If two iModulons have the same regulator (e.g. 'Reg'), they will be named 'Reg-1' and 'Reg-2'"
   ]
  },
  {
   "cell_type": "code",
   "execution_count": 12,
   "metadata": {},
   "outputs": [],
   "source": [
    "#ica_data.rename_imodulons(regulatory_imodulons.regulator.to_dict())\n",
    "#ica_data.imodulon_table.head()"
   ]
  },
  {
   "cell_type": "code",
   "execution_count": 13,
   "metadata": {},
   "outputs": [],
   "source": [
    "#regulatory_imodulons = ica_data.imodulon_table[ica_data.imodulon_table.regulator.notnull()]"
   ]
  },
  {
   "cell_type": "markdown",
   "metadata": {},
   "source": [
    "# Functional iModulons"
   ]
  },
  {
   "cell_type": "markdown",
   "metadata": {},
   "source": [
    "GO annotations and KEGG pathways/modules were generated in the 1_create_the_gene_table.ipynb notebook. Enrichments will be calculated in this notebook, and further curated in the 3_manual_iModulon_curation notebook."
   ]
  },
  {
   "cell_type": "markdown",
   "metadata": {},
   "source": [
    "## GO Enrichments"
   ]
  },
  {
   "cell_type": "markdown",
   "metadata": {},
   "source": [
    "First load the Gene Ontology annotations"
   ]
  },
  {
   "cell_type": "code",
   "execution_count": 14,
   "metadata": {
    "tags": []
   },
   "outputs": [
    {
     "data": {
      "text/html": [
       "<div>\n",
       "<style scoped>\n",
       "    .dataframe tbody tr th:only-of-type {\n",
       "        vertical-align: middle;\n",
       "    }\n",
       "\n",
       "    .dataframe tbody tr th {\n",
       "        vertical-align: top;\n",
       "    }\n",
       "\n",
       "    .dataframe thead th {\n",
       "        text-align: right;\n",
       "    }\n",
       "</style>\n",
       "<table border=\"1\" class=\"dataframe\">\n",
       "  <thead>\n",
       "    <tr style=\"text-align: right;\">\n",
       "      <th></th>\n",
       "      <th>gene_id</th>\n",
       "      <th>gene_name</th>\n",
       "      <th>gene_ontology</th>\n",
       "    </tr>\n",
       "  </thead>\n",
       "  <tbody>\n",
       "    <tr>\n",
       "      <th>45</th>\n",
       "      <td>ZCP4_0936</td>\n",
       "      <td>efp</td>\n",
       "      <td>cytoplasm</td>\n",
       "    </tr>\n",
       "    <tr>\n",
       "      <th>46</th>\n",
       "      <td>ZCP4_0936</td>\n",
       "      <td>efp</td>\n",
       "      <td>translation elongation factor activity</td>\n",
       "    </tr>\n",
       "    <tr>\n",
       "      <th>65</th>\n",
       "      <td>ZCP4_1645</td>\n",
       "      <td>hisH</td>\n",
       "      <td>imidazoleglycerol-phosphate synthase activity</td>\n",
       "    </tr>\n",
       "    <tr>\n",
       "      <th>73</th>\n",
       "      <td>ZCP4_1199</td>\n",
       "      <td>rpe</td>\n",
       "      <td>metal ion binding</td>\n",
       "    </tr>\n",
       "    <tr>\n",
       "      <th>74</th>\n",
       "      <td>ZCP4_1199</td>\n",
       "      <td>rpe</td>\n",
       "      <td>pentose-phosphate shunt, non-oxidative branch</td>\n",
       "    </tr>\n",
       "  </tbody>\n",
       "</table>\n",
       "</div>"
      ],
      "text/plain": [
       "      gene_id gene_name                                  gene_ontology\n",
       "45  ZCP4_0936       efp                                      cytoplasm\n",
       "46  ZCP4_0936       efp         translation elongation factor activity\n",
       "65  ZCP4_1645      hisH  imidazoleglycerol-phosphate synthase activity\n",
       "73  ZCP4_1199       rpe                              metal ion binding\n",
       "74  ZCP4_1199       rpe  pentose-phosphate shunt, non-oxidative branch"
      ]
     },
     "execution_count": 14,
     "metadata": {},
     "output_type": "execute_result"
    }
   ],
   "source": [
    "DF_GO = pd.read_csv(path.join(external_data,'GO_annotations_curated.csv'),index_col=0)\n",
    "DF_GO.head()"
   ]
  },
  {
   "cell_type": "code",
   "execution_count": 15,
   "metadata": {
    "tags": []
   },
   "outputs": [],
   "source": [
    "#DF_GO_enrich = ica_data.compute_annotation_enrichment(DF_GO,'gene_ontology')"
   ]
  },
  {
   "cell_type": "code",
   "execution_count": 16,
   "metadata": {},
   "outputs": [],
   "source": [
    "#DF_GO_enrich.head()"
   ]
  },
  {
   "cell_type": "markdown",
   "metadata": {},
   "source": [
    "## KEGG Enrichments"
   ]
  },
  {
   "cell_type": "markdown",
   "metadata": {},
   "source": [
    "### Load KEGG mapping\n",
    "The `kegg_mapping.csv` file contains KEGG orthologies, pathways, modules, and reactions. Only pathways and modules are relevant to iModulon characterization."
   ]
  },
  {
   "cell_type": "code",
   "execution_count": 17,
   "metadata": {
    "tags": []
   },
   "outputs": [
    {
     "name": "stdout",
     "output_type": "stream",
     "text": [
      "['KEGG_pathway' 'KEGG_module' 'KEGG_reaction']\n"
     ]
    },
    {
     "data": {
      "text/html": [
       "<div>\n",
       "<style scoped>\n",
       "    .dataframe tbody tr th:only-of-type {\n",
       "        vertical-align: middle;\n",
       "    }\n",
       "\n",
       "    .dataframe tbody tr th {\n",
       "        vertical-align: top;\n",
       "    }\n",
       "\n",
       "    .dataframe thead th {\n",
       "        text-align: right;\n",
       "    }\n",
       "</style>\n",
       "<table border=\"1\" class=\"dataframe\">\n",
       "  <thead>\n",
       "    <tr style=\"text-align: right;\">\n",
       "      <th></th>\n",
       "      <th>gene_id</th>\n",
       "      <th>database</th>\n",
       "      <th>kegg_id</th>\n",
       "    </tr>\n",
       "  </thead>\n",
       "  <tbody>\n",
       "    <tr>\n",
       "      <th>0</th>\n",
       "      <td>ZCP4_0005</td>\n",
       "      <td>KEGG_pathway</td>\n",
       "      <td>-</td>\n",
       "    </tr>\n",
       "    <tr>\n",
       "      <th>8</th>\n",
       "      <td>ZCP4_0006</td>\n",
       "      <td>KEGG_pathway</td>\n",
       "      <td>map00361</td>\n",
       "    </tr>\n",
       "    <tr>\n",
       "      <th>9</th>\n",
       "      <td>ZCP4_0006</td>\n",
       "      <td>KEGG_pathway</td>\n",
       "      <td>map00364</td>\n",
       "    </tr>\n",
       "    <tr>\n",
       "      <th>10</th>\n",
       "      <td>ZCP4_0006</td>\n",
       "      <td>KEGG_pathway</td>\n",
       "      <td>map00623</td>\n",
       "    </tr>\n",
       "    <tr>\n",
       "      <th>11</th>\n",
       "      <td>ZCP4_0006</td>\n",
       "      <td>KEGG_pathway</td>\n",
       "      <td>map01100</td>\n",
       "    </tr>\n",
       "  </tbody>\n",
       "</table>\n",
       "</div>"
      ],
      "text/plain": [
       "      gene_id      database   kegg_id\n",
       "0   ZCP4_0005  KEGG_pathway         -\n",
       "8   ZCP4_0006  KEGG_pathway  map00361\n",
       "9   ZCP4_0006  KEGG_pathway  map00364\n",
       "10  ZCP4_0006  KEGG_pathway  map00623\n",
       "11  ZCP4_0006  KEGG_pathway  map01100"
      ]
     },
     "execution_count": 17,
     "metadata": {},
     "output_type": "execute_result"
    }
   ],
   "source": [
    "DF_KEGG = pd.read_csv(path.join(external_data,'kegg_mapping.csv'),index_col=0)\n",
    "print(DF_KEGG.database.unique())\n",
    "DF_KEGG.head()"
   ]
  },
  {
   "cell_type": "code",
   "execution_count": 18,
   "metadata": {
    "tags": []
   },
   "outputs": [],
   "source": [
    "kegg_pathways = DF_KEGG[DF_KEGG.database == 'KEGG_pathway']\n",
    "kegg_modules = DF_KEGG[DF_KEGG.database == 'KEGG_module']"
   ]
  },
  {
   "cell_type": "markdown",
   "metadata": {},
   "source": [
    "### Perform enrichment\n",
    "Uses the `compute_annotation_enrichment` function"
   ]
  },
  {
   "cell_type": "code",
   "execution_count": 21,
   "metadata": {
    "tags": []
   },
   "outputs": [],
   "source": [
    "DF_pathway_enrich = ica_data.compute_annotation_enrichment(kegg_pathways,'kegg_id')\n",
    "# let's add links to view highlighted KEGG maps\n",
    "links = []\n",
    "for index, row in DF_pathway_enrich.iterrows():\n",
    "    EC_nums = ica_data.view_imodulon(row['imodulon']).EC_number\n",
    "    EC_num_opts = set()\n",
    "    for val in EC_nums.values:\n",
    "        if val == '': continue\n",
    "        if str(val) == 'nan': continue\n",
    "        for val2 in val.split(','):\n",
    "            EC_num_opts.add(val2)\n",
    "    url = 'https://www.kegg.jp/kegg-bin/show_pathway?map='+row['kegg_id']+'&multi_query='+'%0A'.join(EC_num_opts)\n",
    "    links.append(url)\n",
    "DF_pathway_enrich['KEGG_highlight_link'] = links\n",
    "DF_module_enrich = ica_data.compute_annotation_enrichment(kegg_modules,'kegg_id')"
   ]
  },
  {
   "cell_type": "code",
   "execution_count": 22,
   "metadata": {
    "tags": []
   },
   "outputs": [
    {
     "data": {
      "text/html": [
       "<div>\n",
       "<style scoped>\n",
       "    .dataframe tbody tr th:only-of-type {\n",
       "        vertical-align: middle;\n",
       "    }\n",
       "\n",
       "    .dataframe tbody tr th {\n",
       "        vertical-align: top;\n",
       "    }\n",
       "\n",
       "    .dataframe thead th {\n",
       "        text-align: right;\n",
       "    }\n",
       "</style>\n",
       "<table border=\"1\" class=\"dataframe\">\n",
       "  <thead>\n",
       "    <tr style=\"text-align: right;\">\n",
       "      <th></th>\n",
       "      <th>imodulon</th>\n",
       "      <th>kegg_id</th>\n",
       "      <th>pvalue</th>\n",
       "      <th>qvalue</th>\n",
       "      <th>precision</th>\n",
       "      <th>recall</th>\n",
       "      <th>f1score</th>\n",
       "      <th>TP</th>\n",
       "      <th>target_set_size</th>\n",
       "      <th>imodulon_size</th>\n",
       "      <th>KEGG_highlight_link</th>\n",
       "    </tr>\n",
       "  </thead>\n",
       "  <tbody>\n",
       "    <tr>\n",
       "      <th>0</th>\n",
       "      <td>nitrogen_fixation</td>\n",
       "      <td>map00625</td>\n",
       "      <td>2.295555e-06</td>\n",
       "      <td>4.223821e-04</td>\n",
       "      <td>0.300000</td>\n",
       "      <td>0.500000</td>\n",
       "      <td>0.375000</td>\n",
       "      <td>3.0</td>\n",
       "      <td>6.0</td>\n",
       "      <td>10.0</td>\n",
       "      <td>https://www.kegg.jp/kegg-bin/show_pathway?map=...</td>\n",
       "    </tr>\n",
       "    <tr>\n",
       "      <th>1</th>\n",
       "      <td>nitrogen_fixation</td>\n",
       "      <td>map00910</td>\n",
       "      <td>9.558823e-06</td>\n",
       "      <td>8.794117e-04</td>\n",
       "      <td>0.300000</td>\n",
       "      <td>0.333333</td>\n",
       "      <td>0.315789</td>\n",
       "      <td>3.0</td>\n",
       "      <td>9.0</td>\n",
       "      <td>10.0</td>\n",
       "      <td>https://www.kegg.jp/kegg-bin/show_pathway?map=...</td>\n",
       "    </tr>\n",
       "    <tr>\n",
       "      <th>2</th>\n",
       "      <td>translation_2</td>\n",
       "      <td>map03010</td>\n",
       "      <td>7.694818e-30</td>\n",
       "      <td>1.415847e-27</td>\n",
       "      <td>1.000000</td>\n",
       "      <td>0.339623</td>\n",
       "      <td>0.507042</td>\n",
       "      <td>18.0</td>\n",
       "      <td>53.0</td>\n",
       "      <td>18.0</td>\n",
       "      <td>https://www.kegg.jp/kegg-bin/show_pathway?map=...</td>\n",
       "    </tr>\n",
       "    <tr>\n",
       "      <th>3</th>\n",
       "      <td>ATP_synthase_1</td>\n",
       "      <td>map00195</td>\n",
       "      <td>4.782999e-18</td>\n",
       "      <td>8.800718e-16</td>\n",
       "      <td>0.346154</td>\n",
       "      <td>1.000000</td>\n",
       "      <td>0.514286</td>\n",
       "      <td>9.0</td>\n",
       "      <td>9.0</td>\n",
       "      <td>26.0</td>\n",
       "      <td>https://www.kegg.jp/kegg-bin/show_pathway?map=...</td>\n",
       "    </tr>\n",
       "    <tr>\n",
       "      <th>4</th>\n",
       "      <td>ATP_synthase_1</td>\n",
       "      <td>map00190</td>\n",
       "      <td>4.062174e-13</td>\n",
       "      <td>3.737200e-11</td>\n",
       "      <td>0.346154</td>\n",
       "      <td>0.473684</td>\n",
       "      <td>0.400000</td>\n",
       "      <td>9.0</td>\n",
       "      <td>19.0</td>\n",
       "      <td>26.0</td>\n",
       "      <td>https://www.kegg.jp/kegg-bin/show_pathway?map=...</td>\n",
       "    </tr>\n",
       "  </tbody>\n",
       "</table>\n",
       "</div>"
      ],
      "text/plain": [
       "            imodulon   kegg_id        pvalue        qvalue  precision  \\\n",
       "0  nitrogen_fixation  map00625  2.295555e-06  4.223821e-04   0.300000   \n",
       "1  nitrogen_fixation  map00910  9.558823e-06  8.794117e-04   0.300000   \n",
       "2      translation_2  map03010  7.694818e-30  1.415847e-27   1.000000   \n",
       "3     ATP_synthase_1  map00195  4.782999e-18  8.800718e-16   0.346154   \n",
       "4     ATP_synthase_1  map00190  4.062174e-13  3.737200e-11   0.346154   \n",
       "\n",
       "     recall   f1score    TP  target_set_size  imodulon_size  \\\n",
       "0  0.500000  0.375000   3.0              6.0           10.0   \n",
       "1  0.333333  0.315789   3.0              9.0           10.0   \n",
       "2  0.339623  0.507042  18.0             53.0           18.0   \n",
       "3  1.000000  0.514286   9.0              9.0           26.0   \n",
       "4  0.473684  0.400000   9.0             19.0           26.0   \n",
       "\n",
       "                                 KEGG_highlight_link  \n",
       "0  https://www.kegg.jp/kegg-bin/show_pathway?map=...  \n",
       "1  https://www.kegg.jp/kegg-bin/show_pathway?map=...  \n",
       "2  https://www.kegg.jp/kegg-bin/show_pathway?map=...  \n",
       "3  https://www.kegg.jp/kegg-bin/show_pathway?map=...  \n",
       "4  https://www.kegg.jp/kegg-bin/show_pathway?map=...  "
      ]
     },
     "execution_count": 22,
     "metadata": {},
     "output_type": "execute_result"
    }
   ],
   "source": [
    "DF_pathway_enrich.head()"
   ]
  },
  {
   "cell_type": "code",
   "execution_count": 23,
   "metadata": {
    "tags": []
   },
   "outputs": [
    {
     "data": {
      "text/html": [
       "<div>\n",
       "<style scoped>\n",
       "    .dataframe tbody tr th:only-of-type {\n",
       "        vertical-align: middle;\n",
       "    }\n",
       "\n",
       "    .dataframe tbody tr th {\n",
       "        vertical-align: top;\n",
       "    }\n",
       "\n",
       "    .dataframe thead th {\n",
       "        text-align: right;\n",
       "    }\n",
       "</style>\n",
       "<table border=\"1\" class=\"dataframe\">\n",
       "  <thead>\n",
       "    <tr style=\"text-align: right;\">\n",
       "      <th></th>\n",
       "      <th>imodulon</th>\n",
       "      <th>kegg_id</th>\n",
       "      <th>pvalue</th>\n",
       "      <th>qvalue</th>\n",
       "      <th>precision</th>\n",
       "      <th>recall</th>\n",
       "      <th>f1score</th>\n",
       "      <th>TP</th>\n",
       "      <th>target_set_size</th>\n",
       "      <th>imodulon_size</th>\n",
       "    </tr>\n",
       "  </thead>\n",
       "  <tbody>\n",
       "    <tr>\n",
       "      <th>0</th>\n",
       "      <td>nitrogen_fixation</td>\n",
       "      <td>M00175</td>\n",
       "      <td>1.157677e-07</td>\n",
       "      <td>2.002781e-05</td>\n",
       "      <td>0.300000</td>\n",
       "      <td>1.000000</td>\n",
       "      <td>0.461538</td>\n",
       "      <td>3.0</td>\n",
       "      <td>3.0</td>\n",
       "      <td>10.0</td>\n",
       "    </tr>\n",
       "    <tr>\n",
       "      <th>1</th>\n",
       "      <td>translation_2</td>\n",
       "      <td>M00178</td>\n",
       "      <td>7.694818e-30</td>\n",
       "      <td>1.331204e-27</td>\n",
       "      <td>1.000000</td>\n",
       "      <td>0.339623</td>\n",
       "      <td>0.507042</td>\n",
       "      <td>18.0</td>\n",
       "      <td>53.0</td>\n",
       "      <td>18.0</td>\n",
       "    </tr>\n",
       "    <tr>\n",
       "      <th>2</th>\n",
       "      <td>translation_2</td>\n",
       "      <td>M00179</td>\n",
       "      <td>5.858429e-29</td>\n",
       "      <td>5.067541e-27</td>\n",
       "      <td>0.888889</td>\n",
       "      <td>0.516129</td>\n",
       "      <td>0.653061</td>\n",
       "      <td>16.0</td>\n",
       "      <td>31.0</td>\n",
       "      <td>18.0</td>\n",
       "    </tr>\n",
       "    <tr>\n",
       "      <th>3</th>\n",
       "      <td>ATP_synthase_1</td>\n",
       "      <td>M00157</td>\n",
       "      <td>4.782999e-18</td>\n",
       "      <td>8.274588e-16</td>\n",
       "      <td>0.346154</td>\n",
       "      <td>1.000000</td>\n",
       "      <td>0.514286</td>\n",
       "      <td>9.0</td>\n",
       "      <td>9.0</td>\n",
       "      <td>26.0</td>\n",
       "    </tr>\n",
       "    <tr>\n",
       "      <th>4</th>\n",
       "      <td>ATP_synthase_1</td>\n",
       "      <td>M00001</td>\n",
       "      <td>8.710231e-10</td>\n",
       "      <td>7.534350e-08</td>\n",
       "      <td>0.230769</td>\n",
       "      <td>0.600000</td>\n",
       "      <td>0.333333</td>\n",
       "      <td>6.0</td>\n",
       "      <td>10.0</td>\n",
       "      <td>26.0</td>\n",
       "    </tr>\n",
       "  </tbody>\n",
       "</table>\n",
       "</div>"
      ],
      "text/plain": [
       "            imodulon kegg_id        pvalue        qvalue  precision    recall  \\\n",
       "0  nitrogen_fixation  M00175  1.157677e-07  2.002781e-05   0.300000  1.000000   \n",
       "1      translation_2  M00178  7.694818e-30  1.331204e-27   1.000000  0.339623   \n",
       "2      translation_2  M00179  5.858429e-29  5.067541e-27   0.888889  0.516129   \n",
       "3     ATP_synthase_1  M00157  4.782999e-18  8.274588e-16   0.346154  1.000000   \n",
       "4     ATP_synthase_1  M00001  8.710231e-10  7.534350e-08   0.230769  0.600000   \n",
       "\n",
       "    f1score    TP  target_set_size  imodulon_size  \n",
       "0  0.461538   3.0              3.0           10.0  \n",
       "1  0.507042  18.0             53.0           18.0  \n",
       "2  0.653061  16.0             31.0           18.0  \n",
       "3  0.514286   9.0              9.0           26.0  \n",
       "4  0.333333   6.0             10.0           26.0  "
      ]
     },
     "execution_count": 23,
     "metadata": {},
     "output_type": "execute_result"
    }
   ],
   "source": [
    "DF_module_enrich.head()"
   ]
  },
  {
   "cell_type": "markdown",
   "metadata": {},
   "source": [
    "### Convert KEGG IDs to human-readable names"
   ]
  },
  {
   "cell_type": "code",
   "execution_count": 24,
   "metadata": {
    "scrolled": true,
    "tags": []
   },
   "outputs": [
    {
     "data": {
      "application/vnd.jupyter.widget-view+json": {
       "model_id": "20c60a65b0c14f7095965a49fe5013ab",
       "version_major": 2,
       "version_minor": 0
      },
      "text/plain": [
       "  0%|          | 0/44 [00:00<?, ?it/s]"
      ]
     },
     "metadata": {},
     "output_type": "display_data"
    },
    {
     "data": {
      "application/vnd.jupyter.widget-view+json": {
       "model_id": "3dd11036d1834365b1d09d7aefdd52ed",
       "version_major": 2,
       "version_minor": 0
      },
      "text/plain": [
       "  0%|          | 0/33 [00:00<?, ?it/s]"
      ]
     },
     "metadata": {},
     "output_type": "display_data"
    }
   ],
   "source": [
    "for idx,key in tqdm(DF_pathway_enrich.kegg_id.items(),total=len(DF_pathway_enrich)):\n",
    "    if '-' not in key:\n",
    "        text = REST.kegg_find('pathway',key).read()\n",
    "    try:\n",
    "        name = re.search('\\t(.*)\\n',text).group(1)\n",
    "        DF_pathway_enrich.loc[idx,'pathway_name'] = name\n",
    "    except AttributeError:\n",
    "        DF_pathway_enrich.loc[idx,'pathway_name'] = None\n",
    "    \n",
    "for idx,key in tqdm(DF_module_enrich.kegg_id.items(),total=len(DF_module_enrich)):\n",
    "    if '-' not in key:\n",
    "        text = REST.kegg_find('module',key).read()\n",
    "    try:\n",
    "        name = re.search('\\t(.*)\\n',text).group(1)\n",
    "        DF_module_enrich.loc[idx,'module_name'] = name\n",
    "    except AttributeError:\n",
    "        DF_module_enrich.loc[idx,'module_name'] = None"
   ]
  },
  {
   "cell_type": "code",
   "execution_count": 25,
   "metadata": {
    "tags": []
   },
   "outputs": [
    {
     "data": {
      "text/html": [
       "<div>\n",
       "<style scoped>\n",
       "    .dataframe tbody tr th:only-of-type {\n",
       "        vertical-align: middle;\n",
       "    }\n",
       "\n",
       "    .dataframe tbody tr th {\n",
       "        vertical-align: top;\n",
       "    }\n",
       "\n",
       "    .dataframe thead th {\n",
       "        text-align: right;\n",
       "    }\n",
       "</style>\n",
       "<table border=\"1\" class=\"dataframe\">\n",
       "  <thead>\n",
       "    <tr style=\"text-align: right;\">\n",
       "      <th></th>\n",
       "      <th>imodulon</th>\n",
       "      <th>kegg_id</th>\n",
       "      <th>pvalue</th>\n",
       "      <th>qvalue</th>\n",
       "      <th>precision</th>\n",
       "      <th>recall</th>\n",
       "      <th>f1score</th>\n",
       "      <th>TP</th>\n",
       "      <th>target_set_size</th>\n",
       "      <th>imodulon_size</th>\n",
       "      <th>KEGG_highlight_link</th>\n",
       "      <th>pathway_name</th>\n",
       "    </tr>\n",
       "  </thead>\n",
       "  <tbody>\n",
       "    <tr>\n",
       "      <th>0</th>\n",
       "      <td>nitrogen_fixation</td>\n",
       "      <td>map00625</td>\n",
       "      <td>2.295555e-06</td>\n",
       "      <td>4.223821e-04</td>\n",
       "      <td>0.300000</td>\n",
       "      <td>0.500000</td>\n",
       "      <td>0.375000</td>\n",
       "      <td>3.0</td>\n",
       "      <td>6.0</td>\n",
       "      <td>10.0</td>\n",
       "      <td>https://www.kegg.jp/kegg-bin/show_pathway?map=...</td>\n",
       "      <td>Chloroalkane and chloroalkene degradation</td>\n",
       "    </tr>\n",
       "    <tr>\n",
       "      <th>1</th>\n",
       "      <td>nitrogen_fixation</td>\n",
       "      <td>map00910</td>\n",
       "      <td>9.558823e-06</td>\n",
       "      <td>8.794117e-04</td>\n",
       "      <td>0.300000</td>\n",
       "      <td>0.333333</td>\n",
       "      <td>0.315789</td>\n",
       "      <td>3.0</td>\n",
       "      <td>9.0</td>\n",
       "      <td>10.0</td>\n",
       "      <td>https://www.kegg.jp/kegg-bin/show_pathway?map=...</td>\n",
       "      <td>Nitrogen metabolism</td>\n",
       "    </tr>\n",
       "    <tr>\n",
       "      <th>2</th>\n",
       "      <td>translation_2</td>\n",
       "      <td>map03010</td>\n",
       "      <td>7.694818e-30</td>\n",
       "      <td>1.415847e-27</td>\n",
       "      <td>1.000000</td>\n",
       "      <td>0.339623</td>\n",
       "      <td>0.507042</td>\n",
       "      <td>18.0</td>\n",
       "      <td>53.0</td>\n",
       "      <td>18.0</td>\n",
       "      <td>https://www.kegg.jp/kegg-bin/show_pathway?map=...</td>\n",
       "      <td>Ribosome</td>\n",
       "    </tr>\n",
       "    <tr>\n",
       "      <th>3</th>\n",
       "      <td>ATP_synthase_1</td>\n",
       "      <td>map00195</td>\n",
       "      <td>4.782999e-18</td>\n",
       "      <td>8.800718e-16</td>\n",
       "      <td>0.346154</td>\n",
       "      <td>1.000000</td>\n",
       "      <td>0.514286</td>\n",
       "      <td>9.0</td>\n",
       "      <td>9.0</td>\n",
       "      <td>26.0</td>\n",
       "      <td>https://www.kegg.jp/kegg-bin/show_pathway?map=...</td>\n",
       "      <td>Photosynthesis</td>\n",
       "    </tr>\n",
       "    <tr>\n",
       "      <th>4</th>\n",
       "      <td>ATP_synthase_1</td>\n",
       "      <td>map00190</td>\n",
       "      <td>4.062174e-13</td>\n",
       "      <td>3.737200e-11</td>\n",
       "      <td>0.346154</td>\n",
       "      <td>0.473684</td>\n",
       "      <td>0.400000</td>\n",
       "      <td>9.0</td>\n",
       "      <td>19.0</td>\n",
       "      <td>26.0</td>\n",
       "      <td>https://www.kegg.jp/kegg-bin/show_pathway?map=...</td>\n",
       "      <td>Oxidative phosphorylation</td>\n",
       "    </tr>\n",
       "  </tbody>\n",
       "</table>\n",
       "</div>"
      ],
      "text/plain": [
       "            imodulon   kegg_id        pvalue        qvalue  precision  \\\n",
       "0  nitrogen_fixation  map00625  2.295555e-06  4.223821e-04   0.300000   \n",
       "1  nitrogen_fixation  map00910  9.558823e-06  8.794117e-04   0.300000   \n",
       "2      translation_2  map03010  7.694818e-30  1.415847e-27   1.000000   \n",
       "3     ATP_synthase_1  map00195  4.782999e-18  8.800718e-16   0.346154   \n",
       "4     ATP_synthase_1  map00190  4.062174e-13  3.737200e-11   0.346154   \n",
       "\n",
       "     recall   f1score    TP  target_set_size  imodulon_size  \\\n",
       "0  0.500000  0.375000   3.0              6.0           10.0   \n",
       "1  0.333333  0.315789   3.0              9.0           10.0   \n",
       "2  0.339623  0.507042  18.0             53.0           18.0   \n",
       "3  1.000000  0.514286   9.0              9.0           26.0   \n",
       "4  0.473684  0.400000   9.0             19.0           26.0   \n",
       "\n",
       "                                 KEGG_highlight_link  \\\n",
       "0  https://www.kegg.jp/kegg-bin/show_pathway?map=...   \n",
       "1  https://www.kegg.jp/kegg-bin/show_pathway?map=...   \n",
       "2  https://www.kegg.jp/kegg-bin/show_pathway?map=...   \n",
       "3  https://www.kegg.jp/kegg-bin/show_pathway?map=...   \n",
       "4  https://www.kegg.jp/kegg-bin/show_pathway?map=...   \n",
       "\n",
       "                                pathway_name  \n",
       "0  Chloroalkane and chloroalkene degradation  \n",
       "1                        Nitrogen metabolism  \n",
       "2                                   Ribosome  \n",
       "3                             Photosynthesis  \n",
       "4                  Oxidative phosphorylation  "
      ]
     },
     "execution_count": 25,
     "metadata": {},
     "output_type": "execute_result"
    }
   ],
   "source": [
    "DF_pathway_enrich.head()"
   ]
  },
  {
   "cell_type": "code",
   "execution_count": 30,
   "metadata": {},
   "outputs": [
    {
     "data": {
      "text/html": [
       "<div>\n",
       "<style scoped>\n",
       "    .dataframe tbody tr th:only-of-type {\n",
       "        vertical-align: middle;\n",
       "    }\n",
       "\n",
       "    .dataframe tbody tr th {\n",
       "        vertical-align: top;\n",
       "    }\n",
       "\n",
       "    .dataframe thead th {\n",
       "        text-align: right;\n",
       "    }\n",
       "</style>\n",
       "<table border=\"1\" class=\"dataframe\">\n",
       "  <thead>\n",
       "    <tr style=\"text-align: right;\">\n",
       "      <th></th>\n",
       "      <th>imodulon</th>\n",
       "      <th>kegg_id</th>\n",
       "      <th>pvalue</th>\n",
       "      <th>qvalue</th>\n",
       "      <th>precision</th>\n",
       "      <th>recall</th>\n",
       "      <th>f1score</th>\n",
       "      <th>TP</th>\n",
       "      <th>target_set_size</th>\n",
       "      <th>imodulon_size</th>\n",
       "      <th>KEGG_highlight_link</th>\n",
       "      <th>pathway_name</th>\n",
       "    </tr>\n",
       "  </thead>\n",
       "  <tbody>\n",
       "    <tr>\n",
       "      <th>7</th>\n",
       "      <td>ATP_synthase_1</td>\n",
       "      <td>map00010</td>\n",
       "      <td>4.805597e-09</td>\n",
       "      <td>1.768460e-07</td>\n",
       "      <td>0.269231</td>\n",
       "      <td>0.333333</td>\n",
       "      <td>0.297872</td>\n",
       "      <td>7.0</td>\n",
       "      <td>21.0</td>\n",
       "      <td>26.0</td>\n",
       "      <td>https://www.kegg.jp/kegg-bin/show_pathway?map=map00010&amp;multi_query=1.1.1.363%0A4.1.1.1%0A5.4.2.11%0A4.1.1.12%0A4.2.1.12%0A2.7.1.2%0A3.1.1.31%0A2.7.1.40%0A4.1.3.42%0A1.1.1.49%0A2.7.2.3%0A4.1.2.14%0A4.2.1.11%0A1.1.99.28%0A1.2.1.12%0A3.6.3.14</td>\n",
       "      <td>Glycolysis / Gluconeogenesis</td>\n",
       "    </tr>\n",
       "  </tbody>\n",
       "</table>\n",
       "</div>"
      ],
      "text/plain": [
       "         imodulon   kegg_id        pvalue        qvalue  precision    recall   f1score   TP  target_set_size  imodulon_size                                                                                                                                                                                                                              KEGG_highlight_link                  pathway_name\n",
       "7  ATP_synthase_1  map00010  4.805597e-09  1.768460e-07   0.269231  0.333333  0.297872  7.0             21.0           26.0  https://www.kegg.jp/kegg-bin/show_pathway?map=map00010&multi_query=1.1.1.363%0A4.1.1.1%0A5.4.2.11%0A4.1.1.12%0A4.2.1.12%0A2.7.1.2%0A3.1.1.31%0A2.7.1.40%0A4.1.3.42%0A1.1.1.49%0A2.7.2.3%0A4.1.2.14%0A4.2.1.11%0A1.1.99.28%0A1.2.1.12%0A3.6.3.14  Glycolysis / Gluconeogenesis"
      ]
     },
     "execution_count": 30,
     "metadata": {},
     "output_type": "execute_result"
    }
   ],
   "source": [
    "pd.set_option('display.max_colwidth', 1000)\n",
    "DF_pathway_enrich[DF_pathway_enrich['kegg_id'] == 'map00010']"
   ]
  },
  {
   "cell_type": "code",
   "execution_count": 27,
   "metadata": {},
   "outputs": [
    {
     "data": {
      "text/html": [
       "<div>\n",
       "<style scoped>\n",
       "    .dataframe tbody tr th:only-of-type {\n",
       "        vertical-align: middle;\n",
       "    }\n",
       "\n",
       "    .dataframe tbody tr th {\n",
       "        vertical-align: top;\n",
       "    }\n",
       "\n",
       "    .dataframe thead th {\n",
       "        text-align: right;\n",
       "    }\n",
       "</style>\n",
       "<table border=\"1\" class=\"dataframe\">\n",
       "  <thead>\n",
       "    <tr style=\"text-align: right;\">\n",
       "      <th></th>\n",
       "      <th>gene_weight</th>\n",
       "      <th>gene_name</th>\n",
       "      <th>accession</th>\n",
       "      <th>start</th>\n",
       "      <th>end</th>\n",
       "      <th>strand</th>\n",
       "      <th>gene_product</th>\n",
       "      <th>COG</th>\n",
       "      <th>uniprot</th>\n",
       "      <th>operon</th>\n",
       "      <th>kegg_maps</th>\n",
       "      <th>EC_number</th>\n",
       "    </tr>\n",
       "  </thead>\n",
       "  <tbody>\n",
       "    <tr>\n",
       "      <th>ZCP4_0092</th>\n",
       "      <td>0.124386</td>\n",
       "      <td>gpmA</td>\n",
       "      <td>CP006818.1</td>\n",
       "      <td>101594.0</td>\n",
       "      <td>102280.0</td>\n",
       "      <td>+</td>\n",
       "      <td>phosphoglycerate mutase</td>\n",
       "      <td>Carbohydrate transport and metabolism</td>\n",
       "      <td>P30798</td>\n",
       "      <td>Op234</td>\n",
       "      <td>map00010;map00260;map00680;map01100;map01110;m...</td>\n",
       "      <td>5.4.2.11</td>\n",
       "    </tr>\n",
       "    <tr>\n",
       "      <th>ZCP4_0117</th>\n",
       "      <td>0.081000</td>\n",
       "      <td>ZCP4_0117</td>\n",
       "      <td>CP006818.1</td>\n",
       "      <td>132676.0</td>\n",
       "      <td>132999.0</td>\n",
       "      <td>+</td>\n",
       "      <td>hypothetical protein</td>\n",
       "      <td>No COG annotation</td>\n",
       "      <td>NaN</td>\n",
       "      <td>Op258</td>\n",
       "      <td>NaN</td>\n",
       "      <td>NaN</td>\n",
       "    </tr>\n",
       "    <tr>\n",
       "      <th>ZCP4_0322</th>\n",
       "      <td>0.129047</td>\n",
       "      <td>eda</td>\n",
       "      <td>CP006818.1</td>\n",
       "      <td>362336.0</td>\n",
       "      <td>362962.0</td>\n",
       "      <td>-</td>\n",
       "      <td>2-keto-3-deoxy-phosphogluconate aldolase</td>\n",
       "      <td>Carbohydrate transport and metabolism</td>\n",
       "      <td>Q00384</td>\n",
       "      <td>Op452</td>\n",
       "      <td>map00030;map00630;map01100;map01120;map01200</td>\n",
       "      <td>4.1.2.14,4.1.3.42</td>\n",
       "    </tr>\n",
       "    <tr>\n",
       "      <th>ZCP4_0604</th>\n",
       "      <td>0.123002</td>\n",
       "      <td>gfo</td>\n",
       "      <td>CP006818.1</td>\n",
       "      <td>689454.0</td>\n",
       "      <td>690755.0</td>\n",
       "      <td>+</td>\n",
       "      <td>putative dehydrogenase</td>\n",
       "      <td>Function unknown</td>\n",
       "      <td>Q07982</td>\n",
       "      <td>Op718</td>\n",
       "      <td>NaN</td>\n",
       "      <td>1.1.99.28</td>\n",
       "    </tr>\n",
       "    <tr>\n",
       "      <th>ZCP4_0621</th>\n",
       "      <td>0.116757</td>\n",
       "      <td>atpF</td>\n",
       "      <td>CP006818.1</td>\n",
       "      <td>710898.0</td>\n",
       "      <td>711536.0</td>\n",
       "      <td>-</td>\n",
       "      <td>F0F1-type ATP synthase%2C beta subunit</td>\n",
       "      <td>Energy production and conversion</td>\n",
       "      <td>Q5NPR5</td>\n",
       "      <td>Op735</td>\n",
       "      <td>map00190;map00195;map01100</td>\n",
       "      <td>NaN</td>\n",
       "    </tr>\n",
       "    <tr>\n",
       "      <th>ZCP4_0622</th>\n",
       "      <td>0.111882</td>\n",
       "      <td>atpF</td>\n",
       "      <td>CP006818.1</td>\n",
       "      <td>711550.0</td>\n",
       "      <td>712050.0</td>\n",
       "      <td>-</td>\n",
       "      <td>F0F1-type ATP synthase%2C beta subunit</td>\n",
       "      <td>Energy production and conversion</td>\n",
       "      <td>Q5NPR7</td>\n",
       "      <td>Op736</td>\n",
       "      <td>map00190;map00195;map01100</td>\n",
       "      <td>NaN</td>\n",
       "    </tr>\n",
       "    <tr>\n",
       "      <th>ZCP4_0623</th>\n",
       "      <td>0.142469</td>\n",
       "      <td>ZCP4_0623</td>\n",
       "      <td>CP006818.1</td>\n",
       "      <td>712172.0</td>\n",
       "      <td>712411.0</td>\n",
       "      <td>-</td>\n",
       "      <td>ATP synthase F0 subcomplex C subunit</td>\n",
       "      <td>Energy production and conversion</td>\n",
       "      <td>Q5NPR8</td>\n",
       "      <td>Op737</td>\n",
       "      <td>map00190;map00195;map01100</td>\n",
       "      <td>NaN</td>\n",
       "    </tr>\n",
       "    <tr>\n",
       "      <th>ZCP4_0624</th>\n",
       "      <td>0.123656</td>\n",
       "      <td>atpB</td>\n",
       "      <td>CP006818.1</td>\n",
       "      <td>712447.0</td>\n",
       "      <td>713247.0</td>\n",
       "      <td>-</td>\n",
       "      <td>ATP synthase F0 subcomplex A subunit</td>\n",
       "      <td>Energy production and conversion</td>\n",
       "      <td>Q5NPR9</td>\n",
       "      <td>Op738</td>\n",
       "      <td>map00190;map00195;map01100</td>\n",
       "      <td>NaN</td>\n",
       "    </tr>\n",
       "    <tr>\n",
       "      <th>ZCP4_0625</th>\n",
       "      <td>0.099825</td>\n",
       "      <td>ZCP4_0625</td>\n",
       "      <td>CP006818.1</td>\n",
       "      <td>713292.0</td>\n",
       "      <td>713609.0</td>\n",
       "      <td>-</td>\n",
       "      <td>hypothetical protein</td>\n",
       "      <td>Function unknown</td>\n",
       "      <td>D2N0W2</td>\n",
       "      <td>Op739</td>\n",
       "      <td>NaN</td>\n",
       "      <td>NaN</td>\n",
       "    </tr>\n",
       "    <tr>\n",
       "      <th>ZCP4_0903</th>\n",
       "      <td>0.100852</td>\n",
       "      <td>glk</td>\n",
       "      <td>CP006818.1</td>\n",
       "      <td>995849.0</td>\n",
       "      <td>996823.0</td>\n",
       "      <td>-</td>\n",
       "      <td>glucokinase</td>\n",
       "      <td>Carbohydrate transport and metabolism</td>\n",
       "      <td>P21908</td>\n",
       "      <td>Op1007</td>\n",
       "      <td>map00010;map00052;map00500;map00520;map00521;m...</td>\n",
       "      <td>2.7.1.2</td>\n",
       "    </tr>\n",
       "    <tr>\n",
       "      <th>ZCP4_0904</th>\n",
       "      <td>0.089336</td>\n",
       "      <td>edd</td>\n",
       "      <td>CP006818.1</td>\n",
       "      <td>996956.0</td>\n",
       "      <td>998779.0</td>\n",
       "      <td>-</td>\n",
       "      <td>6-phosphogluconate dehydratase</td>\n",
       "      <td>Amino acid transport and metabolism</td>\n",
       "      <td>P21909</td>\n",
       "      <td>Op1008</td>\n",
       "      <td>map00030;map01100;map01120;map01200</td>\n",
       "      <td>4.2.1.12</td>\n",
       "    </tr>\n",
       "    <tr>\n",
       "      <th>ZCP4_0905</th>\n",
       "      <td>0.078479</td>\n",
       "      <td>zwf</td>\n",
       "      <td>CP006818.1</td>\n",
       "      <td>998772.0</td>\n",
       "      <td>1000229.0</td>\n",
       "      <td>-</td>\n",
       "      <td>glucose-6-phosphate 1-dehydrogenase</td>\n",
       "      <td>Carbohydrate transport and metabolism</td>\n",
       "      <td>P21907</td>\n",
       "      <td>Op1009</td>\n",
       "      <td>map00030;map00480;map01100;map01110;map01120;m...</td>\n",
       "      <td>1.1.1.363,1.1.1.49</td>\n",
       "    </tr>\n",
       "    <tr>\n",
       "      <th>ZCP4_1007</th>\n",
       "      <td>0.133544</td>\n",
       "      <td>ZCP4_1007</td>\n",
       "      <td>CP006818.1</td>\n",
       "      <td>1133464.0</td>\n",
       "      <td>1133730.0</td>\n",
       "      <td>-</td>\n",
       "      <td>ATP synthase F1 subcomplex epsilon subunit</td>\n",
       "      <td>Energy production and conversion</td>\n",
       "      <td>Q5NQY8</td>\n",
       "      <td>Op1110</td>\n",
       "      <td>map00190;map00195;map01100</td>\n",
       "      <td>NaN</td>\n",
       "    </tr>\n",
       "    <tr>\n",
       "      <th>ZCP4_1008</th>\n",
       "      <td>0.165577</td>\n",
       "      <td>atpD</td>\n",
       "      <td>CP006818.1</td>\n",
       "      <td>1133790.0</td>\n",
       "      <td>1135244.0</td>\n",
       "      <td>-</td>\n",
       "      <td>ATP synthase F1 subcomplex beta subunit</td>\n",
       "      <td>Energy production and conversion</td>\n",
       "      <td>Q5NQY9</td>\n",
       "      <td>Op1111</td>\n",
       "      <td>map00190;map00195;map01100</td>\n",
       "      <td>3.6.3.14</td>\n",
       "    </tr>\n",
       "    <tr>\n",
       "      <th>ZCP4_1009</th>\n",
       "      <td>0.148311</td>\n",
       "      <td>atpG</td>\n",
       "      <td>CP006818.1</td>\n",
       "      <td>1135273.0</td>\n",
       "      <td>1136169.0</td>\n",
       "      <td>-</td>\n",
       "      <td>ATP synthase F1 subcomplex gamma subunit</td>\n",
       "      <td>Energy production and conversion</td>\n",
       "      <td>Q5NQZ0</td>\n",
       "      <td>Op1112</td>\n",
       "      <td>map00190;map00195;map01100</td>\n",
       "      <td>NaN</td>\n",
       "    </tr>\n",
       "    <tr>\n",
       "      <th>ZCP4_1010</th>\n",
       "      <td>0.147107</td>\n",
       "      <td>atpA</td>\n",
       "      <td>CP006818.1</td>\n",
       "      <td>1136203.0</td>\n",
       "      <td>1137732.0</td>\n",
       "      <td>-</td>\n",
       "      <td>ATP synthase F1 subcomplex alpha subunit</td>\n",
       "      <td>Energy production and conversion</td>\n",
       "      <td>Q5NQZ1</td>\n",
       "      <td>Op1113</td>\n",
       "      <td>map00190;map00195;map01100</td>\n",
       "      <td>3.6.3.14</td>\n",
       "    </tr>\n",
       "    <tr>\n",
       "      <th>ZCP4_1011</th>\n",
       "      <td>0.121502</td>\n",
       "      <td>atpH</td>\n",
       "      <td>CP006818.1</td>\n",
       "      <td>1137735.0</td>\n",
       "      <td>1138289.0</td>\n",
       "      <td>-</td>\n",
       "      <td>ATP synthase F1 subcomplex delta subunit</td>\n",
       "      <td>Energy production and conversion</td>\n",
       "      <td>Q5NQZ2</td>\n",
       "      <td>Op1114</td>\n",
       "      <td>map00190;map00195;map01100</td>\n",
       "      <td>NaN</td>\n",
       "    </tr>\n",
       "    <tr>\n",
       "      <th>ZCP4_1067</th>\n",
       "      <td>0.140106</td>\n",
       "      <td>pgk</td>\n",
       "      <td>CP006818.1</td>\n",
       "      <td>1206032.0</td>\n",
       "      <td>1207225.0</td>\n",
       "      <td>-</td>\n",
       "      <td>phosphoglycerate kinase</td>\n",
       "      <td>Nucleotide transport and metabolism</td>\n",
       "      <td>P09404</td>\n",
       "      <td>Op1168</td>\n",
       "      <td>map00010;map00710;map01100;map01110;map01120;m...</td>\n",
       "      <td>2.7.2.3</td>\n",
       "    </tr>\n",
       "    <tr>\n",
       "      <th>ZCP4_1068</th>\n",
       "      <td>0.137380</td>\n",
       "      <td>gap</td>\n",
       "      <td>CP006818.1</td>\n",
       "      <td>1207448.0</td>\n",
       "      <td>1208461.0</td>\n",
       "      <td>-</td>\n",
       "      <td>glyceraldehyde-3-phosphate dehydrogenase (NAD+)</td>\n",
       "      <td>Carbohydrate transport and metabolism</td>\n",
       "      <td>P09316</td>\n",
       "      <td>Op1169</td>\n",
       "      <td>map00010;map00710;map01100;map01110;map01120;m...</td>\n",
       "      <td>1.2.1.12</td>\n",
       "    </tr>\n",
       "    <tr>\n",
       "      <th>ZCP4_1090</th>\n",
       "      <td>0.106981</td>\n",
       "      <td>ZCP4_1090</td>\n",
       "      <td>CP006818.1</td>\n",
       "      <td>1229465.0</td>\n",
       "      <td>1230892.0</td>\n",
       "      <td>+</td>\n",
       "      <td>pyruvate kinase</td>\n",
       "      <td>Carbohydrate transport and metabolism</td>\n",
       "      <td>Q5NR78</td>\n",
       "      <td>Op1190</td>\n",
       "      <td>map00010;map00230;map00620;map01100;map01110;m...</td>\n",
       "      <td>2.7.1.40</td>\n",
       "    </tr>\n",
       "    <tr>\n",
       "      <th>ZCP4_1480</th>\n",
       "      <td>0.084202</td>\n",
       "      <td>ZCP4_1480</td>\n",
       "      <td>CP006818.1</td>\n",
       "      <td>1657610.0</td>\n",
       "      <td>1659202.0</td>\n",
       "      <td>-</td>\n",
       "      <td>aspartate 4-decarboxylase</td>\n",
       "      <td>Amino acid transport and metabolism</td>\n",
       "      <td>Q5NLV4</td>\n",
       "      <td>Op1565</td>\n",
       "      <td>map00250;map00270;map01100;map01230</td>\n",
       "      <td>4.1.1.12</td>\n",
       "    </tr>\n",
       "    <tr>\n",
       "      <th>ZCP4_1550</th>\n",
       "      <td>0.187395</td>\n",
       "      <td>eno</td>\n",
       "      <td>CP006818.1</td>\n",
       "      <td>1734469.0</td>\n",
       "      <td>1735758.0</td>\n",
       "      <td>+</td>\n",
       "      <td>enolase</td>\n",
       "      <td>Carbohydrate transport and metabolism</td>\n",
       "      <td>P33675</td>\n",
       "      <td>Op1633</td>\n",
       "      <td>map00010;map00680;map01100;map01110;map01120;m...</td>\n",
       "      <td>4.2.1.11</td>\n",
       "    </tr>\n",
       "    <tr>\n",
       "      <th>ZCP4_1667</th>\n",
       "      <td>0.082123</td>\n",
       "      <td>ZCP4_1667</td>\n",
       "      <td>CP006818.1</td>\n",
       "      <td>1882764.0</td>\n",
       "      <td>1883471.0</td>\n",
       "      <td>+</td>\n",
       "      <td>6-phosphogluconolactonase</td>\n",
       "      <td>Carbohydrate transport and metabolism</td>\n",
       "      <td>NaN</td>\n",
       "      <td>Op1741</td>\n",
       "      <td>map00030;map01100;map01110;map01120;map01130;m...</td>\n",
       "      <td>3.1.1.31</td>\n",
       "    </tr>\n",
       "    <tr>\n",
       "      <th>ZCP4_1763</th>\n",
       "      <td>0.154839</td>\n",
       "      <td>ZCP4_1763</td>\n",
       "      <td>CP006818.1</td>\n",
       "      <td>1995787.0</td>\n",
       "      <td>1995936.0</td>\n",
       "      <td>+</td>\n",
       "      <td>hypothetical protein</td>\n",
       "      <td>No COG annotation</td>\n",
       "      <td>NaN</td>\n",
       "      <td>Op1832</td>\n",
       "      <td>NaN</td>\n",
       "      <td>NaN</td>\n",
       "    </tr>\n",
       "    <tr>\n",
       "      <th>ZCP4_1764</th>\n",
       "      <td>0.127674</td>\n",
       "      <td>ZCP4_1764</td>\n",
       "      <td>CP006818.1</td>\n",
       "      <td>1995926.0</td>\n",
       "      <td>1996108.0</td>\n",
       "      <td>+</td>\n",
       "      <td>hypothetical protein</td>\n",
       "      <td>No COG annotation</td>\n",
       "      <td>NaN</td>\n",
       "      <td>Op1833</td>\n",
       "      <td>NaN</td>\n",
       "      <td>NaN</td>\n",
       "    </tr>\n",
       "    <tr>\n",
       "      <th>ZCP4_1765</th>\n",
       "      <td>0.111967</td>\n",
       "      <td>pdc</td>\n",
       "      <td>CP006818.1</td>\n",
       "      <td>1996183.0</td>\n",
       "      <td>1997889.0</td>\n",
       "      <td>+</td>\n",
       "      <td>thiamine pyrophosphate dependent decarboxylase...</td>\n",
       "      <td>Energy production and conversion</td>\n",
       "      <td>P06672</td>\n",
       "      <td>Op1834</td>\n",
       "      <td>map00010;map01100;map01110;map01130</td>\n",
       "      <td>4.1.1.1</td>\n",
       "    </tr>\n",
       "  </tbody>\n",
       "</table>\n",
       "</div>"
      ],
      "text/plain": [
       "           gene_weight  gene_name   accession      start        end strand  \\\n",
       "ZCP4_0092     0.124386       gpmA  CP006818.1   101594.0   102280.0      +   \n",
       "ZCP4_0117     0.081000  ZCP4_0117  CP006818.1   132676.0   132999.0      +   \n",
       "ZCP4_0322     0.129047        eda  CP006818.1   362336.0   362962.0      -   \n",
       "ZCP4_0604     0.123002        gfo  CP006818.1   689454.0   690755.0      +   \n",
       "ZCP4_0621     0.116757       atpF  CP006818.1   710898.0   711536.0      -   \n",
       "ZCP4_0622     0.111882       atpF  CP006818.1   711550.0   712050.0      -   \n",
       "ZCP4_0623     0.142469  ZCP4_0623  CP006818.1   712172.0   712411.0      -   \n",
       "ZCP4_0624     0.123656       atpB  CP006818.1   712447.0   713247.0      -   \n",
       "ZCP4_0625     0.099825  ZCP4_0625  CP006818.1   713292.0   713609.0      -   \n",
       "ZCP4_0903     0.100852        glk  CP006818.1   995849.0   996823.0      -   \n",
       "ZCP4_0904     0.089336        edd  CP006818.1   996956.0   998779.0      -   \n",
       "ZCP4_0905     0.078479        zwf  CP006818.1   998772.0  1000229.0      -   \n",
       "ZCP4_1007     0.133544  ZCP4_1007  CP006818.1  1133464.0  1133730.0      -   \n",
       "ZCP4_1008     0.165577       atpD  CP006818.1  1133790.0  1135244.0      -   \n",
       "ZCP4_1009     0.148311       atpG  CP006818.1  1135273.0  1136169.0      -   \n",
       "ZCP4_1010     0.147107       atpA  CP006818.1  1136203.0  1137732.0      -   \n",
       "ZCP4_1011     0.121502       atpH  CP006818.1  1137735.0  1138289.0      -   \n",
       "ZCP4_1067     0.140106        pgk  CP006818.1  1206032.0  1207225.0      -   \n",
       "ZCP4_1068     0.137380        gap  CP006818.1  1207448.0  1208461.0      -   \n",
       "ZCP4_1090     0.106981  ZCP4_1090  CP006818.1  1229465.0  1230892.0      +   \n",
       "ZCP4_1480     0.084202  ZCP4_1480  CP006818.1  1657610.0  1659202.0      -   \n",
       "ZCP4_1550     0.187395        eno  CP006818.1  1734469.0  1735758.0      +   \n",
       "ZCP4_1667     0.082123  ZCP4_1667  CP006818.1  1882764.0  1883471.0      +   \n",
       "ZCP4_1763     0.154839  ZCP4_1763  CP006818.1  1995787.0  1995936.0      +   \n",
       "ZCP4_1764     0.127674  ZCP4_1764  CP006818.1  1995926.0  1996108.0      +   \n",
       "ZCP4_1765     0.111967        pdc  CP006818.1  1996183.0  1997889.0      +   \n",
       "\n",
       "                                                gene_product  \\\n",
       "ZCP4_0092                            phosphoglycerate mutase   \n",
       "ZCP4_0117                               hypothetical protein   \n",
       "ZCP4_0322           2-keto-3-deoxy-phosphogluconate aldolase   \n",
       "ZCP4_0604                             putative dehydrogenase   \n",
       "ZCP4_0621             F0F1-type ATP synthase%2C beta subunit   \n",
       "ZCP4_0622             F0F1-type ATP synthase%2C beta subunit   \n",
       "ZCP4_0623               ATP synthase F0 subcomplex C subunit   \n",
       "ZCP4_0624               ATP synthase F0 subcomplex A subunit   \n",
       "ZCP4_0625                               hypothetical protein   \n",
       "ZCP4_0903                                        glucokinase   \n",
       "ZCP4_0904                     6-phosphogluconate dehydratase   \n",
       "ZCP4_0905                glucose-6-phosphate 1-dehydrogenase   \n",
       "ZCP4_1007         ATP synthase F1 subcomplex epsilon subunit   \n",
       "ZCP4_1008            ATP synthase F1 subcomplex beta subunit   \n",
       "ZCP4_1009           ATP synthase F1 subcomplex gamma subunit   \n",
       "ZCP4_1010           ATP synthase F1 subcomplex alpha subunit   \n",
       "ZCP4_1011           ATP synthase F1 subcomplex delta subunit   \n",
       "ZCP4_1067                            phosphoglycerate kinase   \n",
       "ZCP4_1068    glyceraldehyde-3-phosphate dehydrogenase (NAD+)   \n",
       "ZCP4_1090                                    pyruvate kinase   \n",
       "ZCP4_1480                          aspartate 4-decarboxylase   \n",
       "ZCP4_1550                                            enolase   \n",
       "ZCP4_1667                          6-phosphogluconolactonase   \n",
       "ZCP4_1763                               hypothetical protein   \n",
       "ZCP4_1764                               hypothetical protein   \n",
       "ZCP4_1765  thiamine pyrophosphate dependent decarboxylase...   \n",
       "\n",
       "                                             COG uniprot  operon  \\\n",
       "ZCP4_0092  Carbohydrate transport and metabolism  P30798   Op234   \n",
       "ZCP4_0117                      No COG annotation     NaN   Op258   \n",
       "ZCP4_0322  Carbohydrate transport and metabolism  Q00384   Op452   \n",
       "ZCP4_0604                       Function unknown  Q07982   Op718   \n",
       "ZCP4_0621       Energy production and conversion  Q5NPR5   Op735   \n",
       "ZCP4_0622       Energy production and conversion  Q5NPR7   Op736   \n",
       "ZCP4_0623       Energy production and conversion  Q5NPR8   Op737   \n",
       "ZCP4_0624       Energy production and conversion  Q5NPR9   Op738   \n",
       "ZCP4_0625                       Function unknown  D2N0W2   Op739   \n",
       "ZCP4_0903  Carbohydrate transport and metabolism  P21908  Op1007   \n",
       "ZCP4_0904    Amino acid transport and metabolism  P21909  Op1008   \n",
       "ZCP4_0905  Carbohydrate transport and metabolism  P21907  Op1009   \n",
       "ZCP4_1007       Energy production and conversion  Q5NQY8  Op1110   \n",
       "ZCP4_1008       Energy production and conversion  Q5NQY9  Op1111   \n",
       "ZCP4_1009       Energy production and conversion  Q5NQZ0  Op1112   \n",
       "ZCP4_1010       Energy production and conversion  Q5NQZ1  Op1113   \n",
       "ZCP4_1011       Energy production and conversion  Q5NQZ2  Op1114   \n",
       "ZCP4_1067    Nucleotide transport and metabolism  P09404  Op1168   \n",
       "ZCP4_1068  Carbohydrate transport and metabolism  P09316  Op1169   \n",
       "ZCP4_1090  Carbohydrate transport and metabolism  Q5NR78  Op1190   \n",
       "ZCP4_1480    Amino acid transport and metabolism  Q5NLV4  Op1565   \n",
       "ZCP4_1550  Carbohydrate transport and metabolism  P33675  Op1633   \n",
       "ZCP4_1667  Carbohydrate transport and metabolism     NaN  Op1741   \n",
       "ZCP4_1763                      No COG annotation     NaN  Op1832   \n",
       "ZCP4_1764                      No COG annotation     NaN  Op1833   \n",
       "ZCP4_1765       Energy production and conversion  P06672  Op1834   \n",
       "\n",
       "                                                   kegg_maps  \\\n",
       "ZCP4_0092  map00010;map00260;map00680;map01100;map01110;m...   \n",
       "ZCP4_0117                                                NaN   \n",
       "ZCP4_0322       map00030;map00630;map01100;map01120;map01200   \n",
       "ZCP4_0604                                                NaN   \n",
       "ZCP4_0621                         map00190;map00195;map01100   \n",
       "ZCP4_0622                         map00190;map00195;map01100   \n",
       "ZCP4_0623                         map00190;map00195;map01100   \n",
       "ZCP4_0624                         map00190;map00195;map01100   \n",
       "ZCP4_0625                                                NaN   \n",
       "ZCP4_0903  map00010;map00052;map00500;map00520;map00521;m...   \n",
       "ZCP4_0904                map00030;map01100;map01120;map01200   \n",
       "ZCP4_0905  map00030;map00480;map01100;map01110;map01120;m...   \n",
       "ZCP4_1007                         map00190;map00195;map01100   \n",
       "ZCP4_1008                         map00190;map00195;map01100   \n",
       "ZCP4_1009                         map00190;map00195;map01100   \n",
       "ZCP4_1010                         map00190;map00195;map01100   \n",
       "ZCP4_1011                         map00190;map00195;map01100   \n",
       "ZCP4_1067  map00010;map00710;map01100;map01110;map01120;m...   \n",
       "ZCP4_1068  map00010;map00710;map01100;map01110;map01120;m...   \n",
       "ZCP4_1090  map00010;map00230;map00620;map01100;map01110;m...   \n",
       "ZCP4_1480                map00250;map00270;map01100;map01230   \n",
       "ZCP4_1550  map00010;map00680;map01100;map01110;map01120;m...   \n",
       "ZCP4_1667  map00030;map01100;map01110;map01120;map01130;m...   \n",
       "ZCP4_1763                                                NaN   \n",
       "ZCP4_1764                                                NaN   \n",
       "ZCP4_1765                map00010;map01100;map01110;map01130   \n",
       "\n",
       "                    EC_number  \n",
       "ZCP4_0092            5.4.2.11  \n",
       "ZCP4_0117                 NaN  \n",
       "ZCP4_0322   4.1.2.14,4.1.3.42  \n",
       "ZCP4_0604           1.1.99.28  \n",
       "ZCP4_0621                 NaN  \n",
       "ZCP4_0622                 NaN  \n",
       "ZCP4_0623                 NaN  \n",
       "ZCP4_0624                 NaN  \n",
       "ZCP4_0625                 NaN  \n",
       "ZCP4_0903             2.7.1.2  \n",
       "ZCP4_0904            4.2.1.12  \n",
       "ZCP4_0905  1.1.1.363,1.1.1.49  \n",
       "ZCP4_1007                 NaN  \n",
       "ZCP4_1008            3.6.3.14  \n",
       "ZCP4_1009                 NaN  \n",
       "ZCP4_1010            3.6.3.14  \n",
       "ZCP4_1011                 NaN  \n",
       "ZCP4_1067             2.7.2.3  \n",
       "ZCP4_1068            1.2.1.12  \n",
       "ZCP4_1090            2.7.1.40  \n",
       "ZCP4_1480            4.1.1.12  \n",
       "ZCP4_1550            4.2.1.11  \n",
       "ZCP4_1667            3.1.1.31  \n",
       "ZCP4_1763                 NaN  \n",
       "ZCP4_1764                 NaN  \n",
       "ZCP4_1765             4.1.1.1  "
      ]
     },
     "execution_count": 27,
     "metadata": {},
     "output_type": "execute_result"
    }
   ],
   "source": [
    "ica_data.view_imodulon('ATP_synthase_1')"
   ]
  },
  {
   "cell_type": "code",
   "execution_count": 28,
   "metadata": {
    "tags": []
   },
   "outputs": [
    {
     "data": {
      "text/html": [
       "<div>\n",
       "<style scoped>\n",
       "    .dataframe tbody tr th:only-of-type {\n",
       "        vertical-align: middle;\n",
       "    }\n",
       "\n",
       "    .dataframe tbody tr th {\n",
       "        vertical-align: top;\n",
       "    }\n",
       "\n",
       "    .dataframe thead th {\n",
       "        text-align: right;\n",
       "    }\n",
       "</style>\n",
       "<table border=\"1\" class=\"dataframe\">\n",
       "  <thead>\n",
       "    <tr style=\"text-align: right;\">\n",
       "      <th></th>\n",
       "      <th>imodulon</th>\n",
       "      <th>kegg_id</th>\n",
       "      <th>pvalue</th>\n",
       "      <th>qvalue</th>\n",
       "      <th>precision</th>\n",
       "      <th>recall</th>\n",
       "      <th>f1score</th>\n",
       "      <th>TP</th>\n",
       "      <th>target_set_size</th>\n",
       "      <th>imodulon_size</th>\n",
       "      <th>module_name</th>\n",
       "    </tr>\n",
       "  </thead>\n",
       "  <tbody>\n",
       "    <tr>\n",
       "      <th>0</th>\n",
       "      <td>nitrogen_fixation</td>\n",
       "      <td>M00175</td>\n",
       "      <td>1.157677e-07</td>\n",
       "      <td>2.002781e-05</td>\n",
       "      <td>0.300000</td>\n",
       "      <td>1.000000</td>\n",
       "      <td>0.461538</td>\n",
       "      <td>3.0</td>\n",
       "      <td>3.0</td>\n",
       "      <td>10.0</td>\n",
       "      <td>Nitrogen fixation, nitrogen =&gt; ammonia</td>\n",
       "    </tr>\n",
       "    <tr>\n",
       "      <th>1</th>\n",
       "      <td>translation_2</td>\n",
       "      <td>M00178</td>\n",
       "      <td>7.694818e-30</td>\n",
       "      <td>1.331204e-27</td>\n",
       "      <td>1.000000</td>\n",
       "      <td>0.339623</td>\n",
       "      <td>0.507042</td>\n",
       "      <td>18.0</td>\n",
       "      <td>53.0</td>\n",
       "      <td>18.0</td>\n",
       "      <td>None</td>\n",
       "    </tr>\n",
       "    <tr>\n",
       "      <th>2</th>\n",
       "      <td>translation_2</td>\n",
       "      <td>M00179</td>\n",
       "      <td>5.858429e-29</td>\n",
       "      <td>5.067541e-27</td>\n",
       "      <td>0.888889</td>\n",
       "      <td>0.516129</td>\n",
       "      <td>0.653061</td>\n",
       "      <td>16.0</td>\n",
       "      <td>31.0</td>\n",
       "      <td>18.0</td>\n",
       "      <td>None</td>\n",
       "    </tr>\n",
       "    <tr>\n",
       "      <th>3</th>\n",
       "      <td>ATP_synthase_1</td>\n",
       "      <td>M00157</td>\n",
       "      <td>4.782999e-18</td>\n",
       "      <td>8.274588e-16</td>\n",
       "      <td>0.346154</td>\n",
       "      <td>1.000000</td>\n",
       "      <td>0.514286</td>\n",
       "      <td>9.0</td>\n",
       "      <td>9.0</td>\n",
       "      <td>26.0</td>\n",
       "      <td>F-type ATPase, prokaryotes and chloroplasts</td>\n",
       "    </tr>\n",
       "    <tr>\n",
       "      <th>4</th>\n",
       "      <td>ATP_synthase_1</td>\n",
       "      <td>M00001</td>\n",
       "      <td>8.710231e-10</td>\n",
       "      <td>7.534350e-08</td>\n",
       "      <td>0.230769</td>\n",
       "      <td>0.600000</td>\n",
       "      <td>0.333333</td>\n",
       "      <td>6.0</td>\n",
       "      <td>10.0</td>\n",
       "      <td>26.0</td>\n",
       "      <td>Glycolysis (Embden-Meyerhof pathway), glucose ...</td>\n",
       "    </tr>\n",
       "  </tbody>\n",
       "</table>\n",
       "</div>"
      ],
      "text/plain": [
       "            imodulon kegg_id        pvalue        qvalue  precision    recall  \\\n",
       "0  nitrogen_fixation  M00175  1.157677e-07  2.002781e-05   0.300000  1.000000   \n",
       "1      translation_2  M00178  7.694818e-30  1.331204e-27   1.000000  0.339623   \n",
       "2      translation_2  M00179  5.858429e-29  5.067541e-27   0.888889  0.516129   \n",
       "3     ATP_synthase_1  M00157  4.782999e-18  8.274588e-16   0.346154  1.000000   \n",
       "4     ATP_synthase_1  M00001  8.710231e-10  7.534350e-08   0.230769  0.600000   \n",
       "\n",
       "    f1score    TP  target_set_size  imodulon_size  \\\n",
       "0  0.461538   3.0              3.0           10.0   \n",
       "1  0.507042  18.0             53.0           18.0   \n",
       "2  0.653061  16.0             31.0           18.0   \n",
       "3  0.514286   9.0              9.0           26.0   \n",
       "4  0.333333   6.0             10.0           26.0   \n",
       "\n",
       "                                         module_name  \n",
       "0             Nitrogen fixation, nitrogen => ammonia  \n",
       "1                                               None  \n",
       "2                                               None  \n",
       "3        F-type ATPase, prokaryotes and chloroplasts  \n",
       "4  Glycolysis (Embden-Meyerhof pathway), glucose ...  "
      ]
     },
     "execution_count": 28,
     "metadata": {},
     "output_type": "execute_result"
    }
   ],
   "source": [
    "DF_module_enrich.head()"
   ]
  },
  {
   "cell_type": "markdown",
   "metadata": {},
   "source": [
    "## Save files"
   ]
  },
  {
   "cell_type": "code",
   "execution_count": null,
   "metadata": {
    "tags": []
   },
   "outputs": [],
   "source": [
    "#DF_GO_enrich['source'] = 'GO'\n",
    "# DF_pathway_enrich['source'] = 'KEGG pathways'\n",
    "# DF_module_enrich['source'] = 'KEGG modules'\n",
    "# DF_subti_enrich['source'] = 'SubtiWiki'\n",
    "\n",
    "#DF_GO_enrich.rename({'gene_ontology':'annotation'},axis=1, inplace=True)\n",
    "# DF_pathway_enrich.rename({'kegg_id':'annotation'},axis=1, inplace=True)\n",
    "# DF_module_enrich.rename({'kegg_id':'annotation'},axis=1, inplace=True)\n",
    "# DF_subti_enrich.rename({'value':'annotation'},axis=1, inplace=True)\n",
    "\n",
    "#DF_enrichments = pd.concat([DF_GO_enrich, DF_pathway_enrich, DF_module_enrich, DF_subti_enrich])\n",
    "#DF_enrichments.to_csv(path.join(data_dir,'functional_enrichments.csv'))"
   ]
  },
  {
   "cell_type": "markdown",
   "metadata": {},
   "source": [
    "# Check for single gene iModulons"
   ]
  },
  {
   "cell_type": "markdown",
   "metadata": {},
   "source": [
    "Some iModulons are dominated by a single, high-coefficient gene. These iModulons may result from:\n",
    "1. Overdecomposition of the dataset to identify noisy genes\n",
    "1. Artificial knock-out of single genes\n",
    "1. Regulons with only one target gene\n",
    "\n",
    "No matter what causes these iModulons, it is important to be aware of them. The find_single_gene_imodulons function identifies iModulons that are likely dominated by a single gene.\n",
    "\n",
    "The iModulons identified by ``find_single_gene_imodulons`` may contain more than one gene, since a threshold-agnostic method is used to identify these iModulons."
   ]
  },
  {
   "cell_type": "code",
   "execution_count": null,
   "metadata": {
    "tags": []
   },
   "outputs": [],
   "source": [
    "sg_imods = ica_data.find_single_gene_imodulons(save=True)\n",
    "len(sg_imods)"
   ]
  },
  {
   "cell_type": "code",
   "execution_count": null,
   "metadata": {
    "tags": []
   },
   "outputs": [],
   "source": [
    "for i,mod in enumerate(sg_imods):\n",
    "    ica_data.rename_imodulons({mod:'SG_'+str(i+1)})"
   ]
  },
  {
   "cell_type": "code",
   "execution_count": null,
   "metadata": {
    "tags": []
   },
   "outputs": [],
   "source": [
    "ica_data.imodulon_table[ica_data.imodulon_table.single_gene == True]"
   ]
  },
  {
   "cell_type": "code",
   "execution_count": null,
   "metadata": {
    "tags": []
   },
   "outputs": [],
   "source": [
    "ica_data.view_imodulon('SG_1')"
   ]
  },
  {
   "cell_type": "markdown",
   "metadata": {},
   "source": [
    "# add on chromosome/plasmid location"
   ]
  },
  {
   "cell_type": "code",
   "execution_count": null,
   "metadata": {
    "tags": []
   },
   "outputs": [],
   "source": [
    "f = open('../Zymomonas_mobilis/sequence_files/genome.gff3', 'r')\n",
    "lines = f.readlines()\n",
    "f.close()\n",
    "gene_to_reg = {}\n",
    "for line in lines:\n",
    "    if '##sequence-region' in line:\n",
    "        seq_region = line.split(' ')[1]\n",
    "    if 'ID=gene-' in line:\n",
    "        gene = line.split('ID=gene-')[1].split(';')[0]\n",
    "        gene_to_reg.update({gene : seq_region})\n",
    "        \n",
    "new_col = [gene_to_reg[index] for index in ica_data.gene_table.index]\n",
    "ica_data.gene_table['chromosome_id'] = new_col"
   ]
  },
  {
   "cell_type": "markdown",
   "metadata": {},
   "source": [
    "# Save iModulon object"
   ]
  },
  {
   "cell_type": "code",
   "execution_count": null,
   "metadata": {
    "tags": []
   },
   "outputs": [],
   "source": [
    "from pymodulon.util import explained_variance\n",
    "from pymodulon.io import *"
   ]
  },
  {
   "cell_type": "code",
   "execution_count": null,
   "metadata": {
    "tags": []
   },
   "outputs": [],
   "source": [
    "# Add iModulon sizes and explained variance\n",
    "for im in ica_data.imodulon_names:\n",
    "    ica_data.imodulon_table.loc[im,'imodulon_size'] = len(ica_data.view_imodulon(im))\n",
    "    ica_data.imodulon_table.loc[im,'explained_variance'] = explained_variance(ica_data,imodulons=im)"
   ]
  },
  {
   "cell_type": "markdown",
   "metadata": {},
   "source": [
    "This will save your iModulon table, your thresholds, and any other information stored in the ica_data object."
   ]
  },
  {
   "cell_type": "code",
   "execution_count": null,
   "metadata": {
    "tags": []
   },
   "outputs": [],
   "source": [
    "save_to_json(ica_data, path.join('..','data','interim','zmo_raw.json.gz'))"
   ]
  },
  {
   "cell_type": "markdown",
   "metadata": {},
   "source": [
    "If you prefer to view and edit your iModulon table in excel, save it as a CSV and reload the iModulon as before"
   ]
  },
  {
   "cell_type": "code",
   "execution_count": null,
   "metadata": {
    "tags": []
   },
   "outputs": [],
   "source": [
    "ica_data.imodulon_table.to_csv(path.join('..','data','processed_data','imodulon_table_raw.csv'))"
   ]
  },
  {
   "cell_type": "code",
   "execution_count": null,
   "metadata": {},
   "outputs": [],
   "source": []
  }
 ],
 "metadata": {
  "kernelspec": {
   "display_name": "Python 3 (ipykernel)",
   "language": "python",
   "name": "python3"
  },
  "language_info": {
   "codemirror_mode": {
    "name": "ipython",
    "version": 3
   },
   "file_extension": ".py",
   "mimetype": "text/x-python",
   "name": "python",
   "nbconvert_exporter": "python",
   "pygments_lexer": "ipython3",
   "version": "3.7.16"
  },
  "toc": {
   "base_numbering": 1,
   "nav_menu": {},
   "number_sections": true,
   "sideBar": true,
   "skip_h1_title": false,
   "title_cell": "Table of Contents",
   "title_sidebar": "Contents",
   "toc_cell": true,
   "toc_position": {},
   "toc_section_display": true,
   "toc_window_display": false
  }
 },
 "nbformat": 4,
 "nbformat_minor": 4
}
