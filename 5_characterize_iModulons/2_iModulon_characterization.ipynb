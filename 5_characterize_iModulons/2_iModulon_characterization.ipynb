{
 "cells": [
  {
   "cell_type": "markdown",
   "metadata": {},
   "source": [
    "# Setup\n",
    "This IPython notebook will walk through the steps of characterizing iModulons through the semi-automated tools in PyModulon. You will need:\n",
    "\n",
    "* M and A matrices\n",
    "* Expression data (e.g. `log_tpm_norm.csv`)\n",
    "* Gene table and KEGG/GO annotations (Generated in `1_create_the_gene_table.ipynb`)\n",
    "* Sample table, with a column for `project` and `condition`\n",
    "* TRN file\n",
    "\n",
    "Optional:\n",
    "* iModulon table (if you already have some characterized iModulons)"
   ]
  },
  {
   "cell_type": "code",
   "execution_count": 1,
   "metadata": {
    "tags": []
   },
   "outputs": [],
   "source": [
    "from pymodulon.core import IcaData\n",
    "from pymodulon.plotting import *\n",
    "from os import path\n",
    "import pandas as pd\n",
    "import re\n",
    "from Bio.KEGG import REST\n",
    "from tqdm.notebook import tqdm"
   ]
  },
  {
   "cell_type": "code",
   "execution_count": 2,
   "metadata": {
    "tags": []
   },
   "outputs": [],
   "source": [
    "# Enter the location of your data here\n",
    "data_dir = path.join('..','data','processed_data')\n",
    "\n",
    "# GO and KEGG annotations are in the 'external' folder\n",
    "external_data = path.join('..','data','external')"
   ]
  },
  {
   "cell_type": "markdown",
   "metadata": {},
   "source": [
    "## Check your sample table (i.e. metadata file)\n",
    "Your metadata file will probably have a lot of columns, most of which you may not care about. Feel free to save a secondary copy of your metadata file with only columns that seem relevant to you. The two most important columns are:\n",
    "1. `project`\n",
    "2. `condition`\n",
    "\n",
    "Make sure that these columns exist in your metadata file"
   ]
  },
  {
   "cell_type": "code",
   "execution_count": 3,
   "metadata": {
    "tags": []
   },
   "outputs": [
    {
     "data": {
      "text/html": [
       "<div>\n",
       "<style scoped>\n",
       "    .dataframe tbody tr th:only-of-type {\n",
       "        vertical-align: middle;\n",
       "    }\n",
       "\n",
       "    .dataframe tbody tr th {\n",
       "        vertical-align: top;\n",
       "    }\n",
       "\n",
       "    .dataframe thead th {\n",
       "        text-align: right;\n",
       "    }\n",
       "</style>\n",
       "<table border=\"1\" class=\"dataframe\">\n",
       "  <thead>\n",
       "    <tr style=\"text-align: right;\">\n",
       "      <th></th>\n",
       "      <th>project</th>\n",
       "      <th>condition</th>\n",
       "    </tr>\n",
       "  </thead>\n",
       "  <tbody>\n",
       "    <tr>\n",
       "      <th>SRX14953908</th>\n",
       "      <td>multistage_ferment_AFEX</td>\n",
       "      <td>6perACSH_Glucose</td>\n",
       "    </tr>\n",
       "    <tr>\n",
       "      <th>SRX14953909</th>\n",
       "      <td>multistage_ferment_AFEX</td>\n",
       "      <td>6perACSH_Glucose</td>\n",
       "    </tr>\n",
       "    <tr>\n",
       "      <th>SRX14953910</th>\n",
       "      <td>multistage_ferment_AFEX</td>\n",
       "      <td>6perACSH_Glucose</td>\n",
       "    </tr>\n",
       "    <tr>\n",
       "      <th>SRX14953911</th>\n",
       "      <td>multistage_ferment_AFEX</td>\n",
       "      <td>6perACSH_Glucose</td>\n",
       "    </tr>\n",
       "    <tr>\n",
       "      <th>SRX14953912</th>\n",
       "      <td>multistage_ferment_AFEX</td>\n",
       "      <td>6perACSH_Glucose</td>\n",
       "    </tr>\n",
       "  </tbody>\n",
       "</table>\n",
       "</div>"
      ],
      "text/plain": [
       "                             project         condition\n",
       "SRX14953908  multistage_ferment_AFEX  6perACSH_Glucose\n",
       "SRX14953909  multistage_ferment_AFEX  6perACSH_Glucose\n",
       "SRX14953910  multistage_ferment_AFEX  6perACSH_Glucose\n",
       "SRX14953911  multistage_ferment_AFEX  6perACSH_Glucose\n",
       "SRX14953912  multistage_ferment_AFEX  6perACSH_Glucose"
      ]
     },
     "execution_count": 3,
     "metadata": {},
     "output_type": "execute_result"
    }
   ],
   "source": [
    "df_metadata = pd.read_csv(path.join(data_dir,'metadata.tsv'),index_col=0,sep='\\t')\n",
    "df_metadata[['project','condition']].head()"
   ]
  },
  {
   "cell_type": "code",
   "execution_count": 4,
   "metadata": {
    "tags": []
   },
   "outputs": [
    {
     "name": "stdout",
     "output_type": "stream",
     "text": [
      "True\n",
      "True\n"
     ]
    }
   ],
   "source": [
    "print(df_metadata.project.notnull().all())\n",
    "print(df_metadata.condition.notnull().all())"
   ]
  },
  {
   "cell_type": "markdown",
   "metadata": {},
   "source": [
    "## Check your TRN"
   ]
  },
  {
   "cell_type": "markdown",
   "metadata": {},
   "source": [
    "Each row of the TRN file represents a regulatory interaction.  \n",
    "**Your TRN file must have the following columns:**\n",
    "1. `regulator` - Name of regulator (`/` or `+` characters will be converted to `;`)\n",
    "1. `gene_id` - Locus tag of gene being regulated\n",
    "\n",
    "The following columns are optional, but are helpful to have:\n",
    "1. `regulator_id` - Locus tag of regulator\n",
    "1. `gene_name` - Name of gene (can automatically update this using `name2num`)\n",
    "1. `direction` - Direction of regulation ('+' for activation, '-' for repression, '?' or NaN for unknown)\n",
    "1. `evidence` - Evidence of regulation (e.g. ChIP-exo, qRT-PCR, SELEX, Motif search)\n",
    "1. `PMID` - Reference for regulation\n",
    "\n",
    "You may add any other columns that could help you. TRNs may be saved as either CSV or TSV files. See below for an example:"
   ]
  },
  {
   "cell_type": "code",
   "execution_count": 5,
   "metadata": {
    "tags": []
   },
   "outputs": [],
   "source": [
    "#df_trn = pd.read_csv(path.join(external_data,'TRN.csv'))\n",
    "#df_trn.head()"
   ]
  },
  {
   "cell_type": "markdown",
   "metadata": {},
   "source": [
    "The `regulator` and `gene_id` must be filled in for each row"
   ]
  },
  {
   "cell_type": "code",
   "execution_count": 6,
   "metadata": {
    "tags": []
   },
   "outputs": [],
   "source": [
    "#print(df_trn.regulator.notnull().all())\n",
    "#print(df_trn.gene_id.notnull().all())"
   ]
  },
  {
   "cell_type": "markdown",
   "metadata": {},
   "source": [
    "## Load the data\n",
    "You're now ready to load your IcaData object!"
   ]
  },
  {
   "cell_type": "code",
   "execution_count": 7,
   "metadata": {
    "tags": []
   },
   "outputs": [
    {
     "name": "stderr",
     "output_type": "stream",
     "text": [
      "WARNING:root:Some gene are missing from the gene table: ['ZCP4_0004', 'ZCP4_0001', 'ZCP4_0002', 'ZCP4_0003']\n",
      "WARNING:root:Using Kmeans threshold method. D'agostino optimization will not be performed.\n"
     ]
    }
   ],
   "source": [
    "A = pd.read_csv(path.join(data_dir,'A.csv'))\n",
    "X = pd.read_csv(path.join(data_dir,'log_tpm_norm.csv'))\n",
    "ica_data = IcaData(M = path.join(data_dir,'M.csv'),\n",
    "                   A = path.join(data_dir,'A.csv'),\n",
    "                   X = path.join(data_dir,'log_tpm_norm.csv'),\n",
    "                   #imodulon_table = path.join(data_dir, 'imodulon_table.csv'),\n",
    "                   gene_table = path.join(data_dir,'gene_info.csv'),\n",
    "                   sample_table = path.join(data_dir,'metadata.tsv'),\n",
    "                   #trn = path.join(external_data,'TRN.csv'),\n",
    "                   optimize_cutoff=True)"
   ]
  },
  {
   "cell_type": "markdown",
   "metadata": {},
   "source": [
    "If you don't have a TRN (or have a very minimal TRN), use `threshold_method = 'kmeans'`"
   ]
  },
  {
   "cell_type": "code",
   "execution_count": 8,
   "metadata": {},
   "outputs": [],
   "source": [
    "# ica_data = IcaData(M = path.join(data_dir,'M.csv'),\n",
    "#                    A = path.join(data_dir,'A.csv'),\n",
    "#                    X = path.join(data_dir,'log_tpm_norm.csv'),\n",
    "#                    gene_table = path.join(data_dir,'gene_info.csv'),\n",
    "#                    sample_table = path.join(data_dir,'metadata.tsv'),\n",
    "#                    trn = path.join(data_dir,'TRN.csv'),\n",
    "#                    threshold_method = 'kmeans')"
   ]
  },
  {
   "cell_type": "markdown",
   "metadata": {},
   "source": [
    "# Regulatory iModulons\n",
    "Use `compute_trn_enrichment` to automatically check for Regulatory iModulons. The more complete your TRN, the more regulatory iModulons you'll find."
   ]
  },
  {
   "cell_type": "code",
   "execution_count": 9,
   "metadata": {
    "tags": []
   },
   "outputs": [],
   "source": [
    "#ica_data.compute_trn_enrichment()"
   ]
  },
  {
   "cell_type": "markdown",
   "metadata": {},
   "source": [
    "You can also search for AND/OR combinations of regulators using the `max_regs` argument.\n",
    "\n",
    "Regulator enrichments can be directly saved to the `imodulon_table` using the `save` argument. This saves the enrichment with the lowest q-value to the table."
   ]
  },
  {
   "cell_type": "code",
   "execution_count": 10,
   "metadata": {},
   "outputs": [],
   "source": [
    "# First search for regulator enrichments with 2 regulators\n",
    "#ica_data.compute_trn_enrichment(max_regs=2,save=True)\n",
    "\n",
    "# Next, search for regulator enrichments with just one regulator. This will supercede the 2 regulator enrichments.\n",
    "#ica_data.compute_trn_enrichment(max_regs=1,save=True)"
   ]
  },
  {
   "cell_type": "markdown",
   "metadata": {},
   "source": [
    "The list of regulatory iModulons are shown below"
   ]
  },
  {
   "cell_type": "code",
   "execution_count": 11,
   "metadata": {},
   "outputs": [],
   "source": [
    "#regulatory_imodulons = ica_data.imodulon_table[ica_data.imodulon_table.regulator.notnull()]\n",
    "#print(len(ica_data.imodulon_table),'Total iModulons')\n",
    "#print(len(regulatory_imodulons),'Regulatory iModulons')\n",
    "#regulatory_imodulons"
   ]
  },
  {
   "cell_type": "markdown",
   "metadata": {},
   "source": [
    "You can rename iModulons in this jupyter notebook, or you can save the iModulon table as a CSV and edit it in Excel.\n",
    "\n",
    "If two iModulons have the same regulator (e.g. 'Reg'), they will be named 'Reg-1' and 'Reg-2'"
   ]
  },
  {
   "cell_type": "code",
   "execution_count": 12,
   "metadata": {},
   "outputs": [],
   "source": [
    "#ica_data.rename_imodulons(regulatory_imodulons.regulator.to_dict())\n",
    "#ica_data.imodulon_table.head()"
   ]
  },
  {
   "cell_type": "code",
   "execution_count": 13,
   "metadata": {},
   "outputs": [],
   "source": [
    "#regulatory_imodulons = ica_data.imodulon_table[ica_data.imodulon_table.regulator.notnull()]"
   ]
  },
  {
   "cell_type": "markdown",
   "metadata": {},
   "source": [
    "# Functional iModulons"
   ]
  },
  {
   "cell_type": "markdown",
   "metadata": {},
   "source": [
    "GO annotations and KEGG pathways/modules were generated in the 1_create_the_gene_table.ipynb notebook. Enrichments will be calculated in this notebook, and further curated in the 3_manual_iModulon_curation notebook."
   ]
  },
  {
   "cell_type": "markdown",
   "metadata": {},
   "source": [
    "## GO Enrichments"
   ]
  },
  {
   "cell_type": "markdown",
   "metadata": {},
   "source": [
    "First load the Gene Ontology annotations"
   ]
  },
  {
   "cell_type": "code",
   "execution_count": 14,
   "metadata": {
    "tags": []
   },
   "outputs": [
    {
     "data": {
      "text/html": [
       "<div>\n",
       "<style scoped>\n",
       "    .dataframe tbody tr th:only-of-type {\n",
       "        vertical-align: middle;\n",
       "    }\n",
       "\n",
       "    .dataframe tbody tr th {\n",
       "        vertical-align: top;\n",
       "    }\n",
       "\n",
       "    .dataframe thead th {\n",
       "        text-align: right;\n",
       "    }\n",
       "</style>\n",
       "<table border=\"1\" class=\"dataframe\">\n",
       "  <thead>\n",
       "    <tr style=\"text-align: right;\">\n",
       "      <th></th>\n",
       "      <th>gene_id</th>\n",
       "      <th>gene_name</th>\n",
       "      <th>gene_ontology</th>\n",
       "    </tr>\n",
       "  </thead>\n",
       "  <tbody>\n",
       "    <tr>\n",
       "      <th>0</th>\n",
       "      <td>BSU_25810</td>\n",
       "      <td>arsR</td>\n",
       "      <td>regulation of DNA-templated transcription</td>\n",
       "    </tr>\n",
       "    <tr>\n",
       "      <th>1</th>\n",
       "      <td>BSU_25790</td>\n",
       "      <td>arsB</td>\n",
       "      <td>arsenite transmembrane transporter activity</td>\n",
       "    </tr>\n",
       "    <tr>\n",
       "      <th>2</th>\n",
       "      <td>BSU_25790</td>\n",
       "      <td>arsB</td>\n",
       "      <td>antimonite transmembrane transporter activity</td>\n",
       "    </tr>\n",
       "    <tr>\n",
       "      <th>3</th>\n",
       "      <td>BSU_25790</td>\n",
       "      <td>arsB</td>\n",
       "      <td>antiporter activity</td>\n",
       "    </tr>\n",
       "    <tr>\n",
       "      <th>4</th>\n",
       "      <td>BSU_25790</td>\n",
       "      <td>arsB</td>\n",
       "      <td>plasma membrane</td>\n",
       "    </tr>\n",
       "  </tbody>\n",
       "</table>\n",
       "</div>"
      ],
      "text/plain": [
       "     gene_id gene_name                                  gene_ontology\n",
       "0  BSU_25810      arsR      regulation of DNA-templated transcription\n",
       "1  BSU_25790      arsB    arsenite transmembrane transporter activity\n",
       "2  BSU_25790      arsB  antimonite transmembrane transporter activity\n",
       "3  BSU_25790      arsB                            antiporter activity\n",
       "4  BSU_25790      arsB                                plasma membrane"
      ]
     },
     "execution_count": 14,
     "metadata": {},
     "output_type": "execute_result"
    }
   ],
   "source": [
    "DF_GO = pd.read_csv(path.join(external_data,'GO_annotations_curated.csv'),index_col=0)\n",
    "DF_GO.head()"
   ]
  },
  {
   "cell_type": "code",
   "execution_count": 15,
   "metadata": {
    "tags": []
   },
   "outputs": [],
   "source": [
    "#DF_GO_enrich = ica_data.compute_annotation_enrichment(DF_GO,'gene_ontology')"
   ]
  },
  {
   "cell_type": "code",
   "execution_count": 17,
   "metadata": {},
   "outputs": [],
   "source": [
    "#DF_GO_enrich.head()"
   ]
  },
  {
   "cell_type": "markdown",
   "metadata": {},
   "source": [
    "## KEGG Enrichments"
   ]
  },
  {
   "cell_type": "markdown",
   "metadata": {},
   "source": [
    "### Load KEGG mapping\n",
    "The `kegg_mapping.csv` file contains KEGG orthologies, pathways, modules, and reactions. Only pathways and modules are relevant to iModulon characterization."
   ]
  },
  {
   "cell_type": "code",
   "execution_count": 18,
   "metadata": {
    "tags": []
   },
   "outputs": [
    {
     "name": "stdout",
     "output_type": "stream",
     "text": [
      "['KEGG_pathway' 'KEGG_module' 'KEGG_reaction']\n"
     ]
    },
    {
     "data": {
      "text/html": [
       "<div>\n",
       "<style scoped>\n",
       "    .dataframe tbody tr th:only-of-type {\n",
       "        vertical-align: middle;\n",
       "    }\n",
       "\n",
       "    .dataframe tbody tr th {\n",
       "        vertical-align: top;\n",
       "    }\n",
       "\n",
       "    .dataframe thead th {\n",
       "        text-align: right;\n",
       "    }\n",
       "</style>\n",
       "<table border=\"1\" class=\"dataframe\">\n",
       "  <thead>\n",
       "    <tr style=\"text-align: right;\">\n",
       "      <th></th>\n",
       "      <th>gene_id</th>\n",
       "      <th>database</th>\n",
       "      <th>kegg_id</th>\n",
       "    </tr>\n",
       "  </thead>\n",
       "  <tbody>\n",
       "    <tr>\n",
       "      <th>0</th>\n",
       "      <td>ZCP4_0005</td>\n",
       "      <td>KEGG_pathway</td>\n",
       "      <td>-</td>\n",
       "    </tr>\n",
       "    <tr>\n",
       "      <th>8</th>\n",
       "      <td>ZCP4_0006</td>\n",
       "      <td>KEGG_pathway</td>\n",
       "      <td>map00361</td>\n",
       "    </tr>\n",
       "    <tr>\n",
       "      <th>9</th>\n",
       "      <td>ZCP4_0006</td>\n",
       "      <td>KEGG_pathway</td>\n",
       "      <td>map00364</td>\n",
       "    </tr>\n",
       "    <tr>\n",
       "      <th>10</th>\n",
       "      <td>ZCP4_0006</td>\n",
       "      <td>KEGG_pathway</td>\n",
       "      <td>map00623</td>\n",
       "    </tr>\n",
       "    <tr>\n",
       "      <th>11</th>\n",
       "      <td>ZCP4_0006</td>\n",
       "      <td>KEGG_pathway</td>\n",
       "      <td>map01100</td>\n",
       "    </tr>\n",
       "  </tbody>\n",
       "</table>\n",
       "</div>"
      ],
      "text/plain": [
       "      gene_id      database   kegg_id\n",
       "0   ZCP4_0005  KEGG_pathway         -\n",
       "8   ZCP4_0006  KEGG_pathway  map00361\n",
       "9   ZCP4_0006  KEGG_pathway  map00364\n",
       "10  ZCP4_0006  KEGG_pathway  map00623\n",
       "11  ZCP4_0006  KEGG_pathway  map01100"
      ]
     },
     "execution_count": 18,
     "metadata": {},
     "output_type": "execute_result"
    }
   ],
   "source": [
    "DF_KEGG = pd.read_csv(path.join(external_data,'kegg_mapping.csv'),index_col=0)\n",
    "print(DF_KEGG.database.unique())\n",
    "DF_KEGG.head()"
   ]
  },
  {
   "cell_type": "code",
   "execution_count": 19,
   "metadata": {
    "tags": []
   },
   "outputs": [],
   "source": [
    "kegg_pathways = DF_KEGG[DF_KEGG.database == 'KEGG_pathway']\n",
    "kegg_modules = DF_KEGG[DF_KEGG.database == 'KEGG_module']"
   ]
  },
  {
   "cell_type": "markdown",
   "metadata": {},
   "source": [
    "### Perform enrichment\n",
    "Uses the `compute_annotation_enrichment` function"
   ]
  },
  {
   "cell_type": "code",
   "execution_count": 20,
   "metadata": {
    "tags": []
   },
   "outputs": [],
   "source": [
    "DF_pathway_enrich = ica_data.compute_annotation_enrichment(kegg_pathways,'kegg_id')\n",
    "DF_module_enrich = ica_data.compute_annotation_enrichment(kegg_modules,'kegg_id')"
   ]
  },
  {
   "cell_type": "code",
   "execution_count": 21,
   "metadata": {
    "tags": []
   },
   "outputs": [
    {
     "data": {
      "text/html": [
       "<div>\n",
       "<style scoped>\n",
       "    .dataframe tbody tr th:only-of-type {\n",
       "        vertical-align: middle;\n",
       "    }\n",
       "\n",
       "    .dataframe tbody tr th {\n",
       "        vertical-align: top;\n",
       "    }\n",
       "\n",
       "    .dataframe thead th {\n",
       "        text-align: right;\n",
       "    }\n",
       "</style>\n",
       "<table border=\"1\" class=\"dataframe\">\n",
       "  <thead>\n",
       "    <tr style=\"text-align: right;\">\n",
       "      <th></th>\n",
       "      <th>imodulon</th>\n",
       "      <th>kegg_id</th>\n",
       "      <th>pvalue</th>\n",
       "      <th>qvalue</th>\n",
       "      <th>precision</th>\n",
       "      <th>recall</th>\n",
       "      <th>f1score</th>\n",
       "      <th>TP</th>\n",
       "      <th>target_set_size</th>\n",
       "      <th>imodulon_size</th>\n",
       "    </tr>\n",
       "  </thead>\n",
       "  <tbody>\n",
       "    <tr>\n",
       "      <th>0</th>\n",
       "      <td>1</td>\n",
       "      <td>map04626</td>\n",
       "      <td>0.000000</td>\n",
       "      <td>0.000000</td>\n",
       "      <td>1.000000</td>\n",
       "      <td>1.000000</td>\n",
       "      <td>1.000000</td>\n",
       "      <td>1.0</td>\n",
       "      <td>1.0</td>\n",
       "      <td>1.0</td>\n",
       "    </tr>\n",
       "    <tr>\n",
       "      <th>1</th>\n",
       "      <td>1</td>\n",
       "      <td>map05132</td>\n",
       "      <td>0.000000</td>\n",
       "      <td>0.000000</td>\n",
       "      <td>1.000000</td>\n",
       "      <td>1.000000</td>\n",
       "      <td>1.000000</td>\n",
       "      <td>1.0</td>\n",
       "      <td>1.0</td>\n",
       "      <td>1.0</td>\n",
       "    </tr>\n",
       "    <tr>\n",
       "      <th>2</th>\n",
       "      <td>1</td>\n",
       "      <td>map04621</td>\n",
       "      <td>0.001087</td>\n",
       "      <td>0.066667</td>\n",
       "      <td>1.000000</td>\n",
       "      <td>0.500000</td>\n",
       "      <td>0.666667</td>\n",
       "      <td>1.0</td>\n",
       "      <td>2.0</td>\n",
       "      <td>1.0</td>\n",
       "    </tr>\n",
       "    <tr>\n",
       "      <th>3</th>\n",
       "      <td>1</td>\n",
       "      <td>map05134</td>\n",
       "      <td>0.001630</td>\n",
       "      <td>0.075000</td>\n",
       "      <td>1.000000</td>\n",
       "      <td>0.333333</td>\n",
       "      <td>0.500000</td>\n",
       "      <td>1.0</td>\n",
       "      <td>3.0</td>\n",
       "      <td>1.0</td>\n",
       "    </tr>\n",
       "    <tr>\n",
       "      <th>4</th>\n",
       "      <td>2</td>\n",
       "      <td>map00270</td>\n",
       "      <td>0.000066</td>\n",
       "      <td>0.012149</td>\n",
       "      <td>0.428571</td>\n",
       "      <td>0.125000</td>\n",
       "      <td>0.193548</td>\n",
       "      <td>3.0</td>\n",
       "      <td>24.0</td>\n",
       "      <td>7.0</td>\n",
       "    </tr>\n",
       "  </tbody>\n",
       "</table>\n",
       "</div>"
      ],
      "text/plain": [
       "   imodulon   kegg_id    pvalue    qvalue  precision    recall   f1score   TP  \\\n",
       "0         1  map04626  0.000000  0.000000   1.000000  1.000000  1.000000  1.0   \n",
       "1         1  map05132  0.000000  0.000000   1.000000  1.000000  1.000000  1.0   \n",
       "2         1  map04621  0.001087  0.066667   1.000000  0.500000  0.666667  1.0   \n",
       "3         1  map05134  0.001630  0.075000   1.000000  0.333333  0.500000  1.0   \n",
       "4         2  map00270  0.000066  0.012149   0.428571  0.125000  0.193548  3.0   \n",
       "\n",
       "   target_set_size  imodulon_size  \n",
       "0              1.0            1.0  \n",
       "1              1.0            1.0  \n",
       "2              2.0            1.0  \n",
       "3              3.0            1.0  \n",
       "4             24.0            7.0  "
      ]
     },
     "execution_count": 21,
     "metadata": {},
     "output_type": "execute_result"
    }
   ],
   "source": [
    "DF_pathway_enrich.head()"
   ]
  },
  {
   "cell_type": "code",
   "execution_count": 22,
   "metadata": {
    "tags": []
   },
   "outputs": [
    {
     "data": {
      "text/html": [
       "<div>\n",
       "<style scoped>\n",
       "    .dataframe tbody tr th:only-of-type {\n",
       "        vertical-align: middle;\n",
       "    }\n",
       "\n",
       "    .dataframe tbody tr th {\n",
       "        vertical-align: top;\n",
       "    }\n",
       "\n",
       "    .dataframe thead th {\n",
       "        text-align: right;\n",
       "    }\n",
       "</style>\n",
       "<table border=\"1\" class=\"dataframe\">\n",
       "  <thead>\n",
       "    <tr style=\"text-align: right;\">\n",
       "      <th></th>\n",
       "      <th>imodulon</th>\n",
       "      <th>kegg_id</th>\n",
       "      <th>pvalue</th>\n",
       "      <th>qvalue</th>\n",
       "      <th>precision</th>\n",
       "      <th>recall</th>\n",
       "      <th>f1score</th>\n",
       "      <th>TP</th>\n",
       "      <th>target_set_size</th>\n",
       "      <th>imodulon_size</th>\n",
       "    </tr>\n",
       "  </thead>\n",
       "  <tbody>\n",
       "    <tr>\n",
       "      <th>0</th>\n",
       "      <td>2</td>\n",
       "      <td>M00035</td>\n",
       "      <td>1.241223e-05</td>\n",
       "      <td>2.147315e-03</td>\n",
       "      <td>0.285714</td>\n",
       "      <td>1.000000</td>\n",
       "      <td>0.444444</td>\n",
       "      <td>2.0</td>\n",
       "      <td>2.0</td>\n",
       "      <td>7.0</td>\n",
       "    </tr>\n",
       "    <tr>\n",
       "      <th>1</th>\n",
       "      <td>5</td>\n",
       "      <td>M00178</td>\n",
       "      <td>3.923912e-36</td>\n",
       "      <td>6.788368e-34</td>\n",
       "      <td>0.591837</td>\n",
       "      <td>0.547170</td>\n",
       "      <td>0.568627</td>\n",
       "      <td>29.0</td>\n",
       "      <td>53.0</td>\n",
       "      <td>49.0</td>\n",
       "    </tr>\n",
       "    <tr>\n",
       "      <th>2</th>\n",
       "      <td>5</td>\n",
       "      <td>M00179</td>\n",
       "      <td>2.996189e-12</td>\n",
       "      <td>2.591704e-10</td>\n",
       "      <td>0.244898</td>\n",
       "      <td>0.387097</td>\n",
       "      <td>0.300000</td>\n",
       "      <td>12.0</td>\n",
       "      <td>31.0</td>\n",
       "      <td>49.0</td>\n",
       "    </tr>\n",
       "    <tr>\n",
       "      <th>3</th>\n",
       "      <td>7</td>\n",
       "      <td>M00436</td>\n",
       "      <td>1.929462e-08</td>\n",
       "      <td>3.337969e-06</td>\n",
       "      <td>0.500000</td>\n",
       "      <td>1.000000</td>\n",
       "      <td>0.666667</td>\n",
       "      <td>3.0</td>\n",
       "      <td>3.0</td>\n",
       "      <td>6.0</td>\n",
       "    </tr>\n",
       "    <tr>\n",
       "      <th>4</th>\n",
       "      <td>9</td>\n",
       "      <td>M00330</td>\n",
       "      <td>1.929462e-08</td>\n",
       "      <td>3.337969e-06</td>\n",
       "      <td>0.500000</td>\n",
       "      <td>1.000000</td>\n",
       "      <td>0.666667</td>\n",
       "      <td>3.0</td>\n",
       "      <td>3.0</td>\n",
       "      <td>6.0</td>\n",
       "    </tr>\n",
       "  </tbody>\n",
       "</table>\n",
       "</div>"
      ],
      "text/plain": [
       "   imodulon kegg_id        pvalue        qvalue  precision    recall  \\\n",
       "0         2  M00035  1.241223e-05  2.147315e-03   0.285714  1.000000   \n",
       "1         5  M00178  3.923912e-36  6.788368e-34   0.591837  0.547170   \n",
       "2         5  M00179  2.996189e-12  2.591704e-10   0.244898  0.387097   \n",
       "3         7  M00436  1.929462e-08  3.337969e-06   0.500000  1.000000   \n",
       "4         9  M00330  1.929462e-08  3.337969e-06   0.500000  1.000000   \n",
       "\n",
       "    f1score    TP  target_set_size  imodulon_size  \n",
       "0  0.444444   2.0              2.0            7.0  \n",
       "1  0.568627  29.0             53.0           49.0  \n",
       "2  0.300000  12.0             31.0           49.0  \n",
       "3  0.666667   3.0              3.0            6.0  \n",
       "4  0.666667   3.0              3.0            6.0  "
      ]
     },
     "execution_count": 22,
     "metadata": {},
     "output_type": "execute_result"
    }
   ],
   "source": [
    "DF_module_enrich.head()"
   ]
  },
  {
   "cell_type": "markdown",
   "metadata": {},
   "source": [
    "### Convert KEGG IDs to human-readable names"
   ]
  },
  {
   "cell_type": "code",
   "execution_count": 23,
   "metadata": {
    "scrolled": true,
    "tags": []
   },
   "outputs": [
    {
     "data": {
      "application/vnd.jupyter.widget-view+json": {
       "model_id": "f743ad47882e41ea9378ca04187128ab",
       "version_major": 2,
       "version_minor": 0
      },
      "text/plain": [
       "  0%|          | 0/48 [00:00<?, ?it/s]"
      ]
     },
     "metadata": {},
     "output_type": "display_data"
    },
    {
     "data": {
      "application/vnd.jupyter.widget-view+json": {
       "model_id": "c01667e1dd064cad8aacb767dd517d0f",
       "version_major": 2,
       "version_minor": 0
      },
      "text/plain": [
       "  0%|          | 0/31 [00:00<?, ?it/s]"
      ]
     },
     "metadata": {},
     "output_type": "display_data"
    }
   ],
   "source": [
    "for idx,key in tqdm(DF_pathway_enrich.kegg_id.items(),total=len(DF_pathway_enrich)):\n",
    "    if '-' not in key:\n",
    "        text = REST.kegg_find('pathway',key).read()\n",
    "    try:\n",
    "        name = re.search('\\t(.*)\\n',text).group(1)\n",
    "        DF_pathway_enrich.loc[idx,'pathway_name'] = name\n",
    "    except AttributeError:\n",
    "        DF_pathway_enrich.loc[idx,'pathway_name'] = None\n",
    "    \n",
    "for idx,key in tqdm(DF_module_enrich.kegg_id.items(),total=len(DF_module_enrich)):\n",
    "    if '-' not in key:\n",
    "        text = REST.kegg_find('module',key).read()\n",
    "    try:\n",
    "        name = re.search('\\t(.*)\\n',text).group(1)\n",
    "        DF_module_enrich.loc[idx,'module_name'] = name\n",
    "    except AttributeError:\n",
    "        DF_module_enrich.loc[idx,'module_name'] = None"
   ]
  },
  {
   "cell_type": "code",
   "execution_count": 24,
   "metadata": {
    "tags": []
   },
   "outputs": [
    {
     "data": {
      "text/html": [
       "<div>\n",
       "<style scoped>\n",
       "    .dataframe tbody tr th:only-of-type {\n",
       "        vertical-align: middle;\n",
       "    }\n",
       "\n",
       "    .dataframe tbody tr th {\n",
       "        vertical-align: top;\n",
       "    }\n",
       "\n",
       "    .dataframe thead th {\n",
       "        text-align: right;\n",
       "    }\n",
       "</style>\n",
       "<table border=\"1\" class=\"dataframe\">\n",
       "  <thead>\n",
       "    <tr style=\"text-align: right;\">\n",
       "      <th></th>\n",
       "      <th>imodulon</th>\n",
       "      <th>kegg_id</th>\n",
       "      <th>pvalue</th>\n",
       "      <th>qvalue</th>\n",
       "      <th>precision</th>\n",
       "      <th>recall</th>\n",
       "      <th>f1score</th>\n",
       "      <th>TP</th>\n",
       "      <th>target_set_size</th>\n",
       "      <th>imodulon_size</th>\n",
       "      <th>pathway_name</th>\n",
       "    </tr>\n",
       "  </thead>\n",
       "  <tbody>\n",
       "    <tr>\n",
       "      <th>0</th>\n",
       "      <td>1</td>\n",
       "      <td>map04626</td>\n",
       "      <td>0.000000</td>\n",
       "      <td>0.000000</td>\n",
       "      <td>1.000000</td>\n",
       "      <td>1.000000</td>\n",
       "      <td>1.000000</td>\n",
       "      <td>1.0</td>\n",
       "      <td>1.0</td>\n",
       "      <td>1.0</td>\n",
       "      <td>Plant-pathogen interaction</td>\n",
       "    </tr>\n",
       "    <tr>\n",
       "      <th>1</th>\n",
       "      <td>1</td>\n",
       "      <td>map05132</td>\n",
       "      <td>0.000000</td>\n",
       "      <td>0.000000</td>\n",
       "      <td>1.000000</td>\n",
       "      <td>1.000000</td>\n",
       "      <td>1.000000</td>\n",
       "      <td>1.0</td>\n",
       "      <td>1.0</td>\n",
       "      <td>1.0</td>\n",
       "      <td>Salmonella infection</td>\n",
       "    </tr>\n",
       "    <tr>\n",
       "      <th>2</th>\n",
       "      <td>1</td>\n",
       "      <td>map04621</td>\n",
       "      <td>0.001087</td>\n",
       "      <td>0.066667</td>\n",
       "      <td>1.000000</td>\n",
       "      <td>0.500000</td>\n",
       "      <td>0.666667</td>\n",
       "      <td>1.0</td>\n",
       "      <td>2.0</td>\n",
       "      <td>1.0</td>\n",
       "      <td>NOD-like receptor signaling pathway</td>\n",
       "    </tr>\n",
       "    <tr>\n",
       "      <th>3</th>\n",
       "      <td>1</td>\n",
       "      <td>map05134</td>\n",
       "      <td>0.001630</td>\n",
       "      <td>0.075000</td>\n",
       "      <td>1.000000</td>\n",
       "      <td>0.333333</td>\n",
       "      <td>0.500000</td>\n",
       "      <td>1.0</td>\n",
       "      <td>3.0</td>\n",
       "      <td>1.0</td>\n",
       "      <td>Legionellosis</td>\n",
       "    </tr>\n",
       "    <tr>\n",
       "      <th>4</th>\n",
       "      <td>2</td>\n",
       "      <td>map00270</td>\n",
       "      <td>0.000066</td>\n",
       "      <td>0.012149</td>\n",
       "      <td>0.428571</td>\n",
       "      <td>0.125000</td>\n",
       "      <td>0.193548</td>\n",
       "      <td>3.0</td>\n",
       "      <td>24.0</td>\n",
       "      <td>7.0</td>\n",
       "      <td>Cysteine and methionine metabolism</td>\n",
       "    </tr>\n",
       "  </tbody>\n",
       "</table>\n",
       "</div>"
      ],
      "text/plain": [
       "   imodulon   kegg_id    pvalue    qvalue  precision    recall   f1score   TP  \\\n",
       "0         1  map04626  0.000000  0.000000   1.000000  1.000000  1.000000  1.0   \n",
       "1         1  map05132  0.000000  0.000000   1.000000  1.000000  1.000000  1.0   \n",
       "2         1  map04621  0.001087  0.066667   1.000000  0.500000  0.666667  1.0   \n",
       "3         1  map05134  0.001630  0.075000   1.000000  0.333333  0.500000  1.0   \n",
       "4         2  map00270  0.000066  0.012149   0.428571  0.125000  0.193548  3.0   \n",
       "\n",
       "   target_set_size  imodulon_size                         pathway_name  \n",
       "0              1.0            1.0           Plant-pathogen interaction  \n",
       "1              1.0            1.0                 Salmonella infection  \n",
       "2              2.0            1.0  NOD-like receptor signaling pathway  \n",
       "3              3.0            1.0                        Legionellosis  \n",
       "4             24.0            7.0   Cysteine and methionine metabolism  "
      ]
     },
     "execution_count": 24,
     "metadata": {},
     "output_type": "execute_result"
    }
   ],
   "source": [
    "DF_pathway_enrich.head()"
   ]
  },
  {
   "cell_type": "code",
   "execution_count": 25,
   "metadata": {
    "tags": []
   },
   "outputs": [
    {
     "data": {
      "text/html": [
       "<div>\n",
       "<style scoped>\n",
       "    .dataframe tbody tr th:only-of-type {\n",
       "        vertical-align: middle;\n",
       "    }\n",
       "\n",
       "    .dataframe tbody tr th {\n",
       "        vertical-align: top;\n",
       "    }\n",
       "\n",
       "    .dataframe thead th {\n",
       "        text-align: right;\n",
       "    }\n",
       "</style>\n",
       "<table border=\"1\" class=\"dataframe\">\n",
       "  <thead>\n",
       "    <tr style=\"text-align: right;\">\n",
       "      <th></th>\n",
       "      <th>imodulon</th>\n",
       "      <th>kegg_id</th>\n",
       "      <th>pvalue</th>\n",
       "      <th>qvalue</th>\n",
       "      <th>precision</th>\n",
       "      <th>recall</th>\n",
       "      <th>f1score</th>\n",
       "      <th>TP</th>\n",
       "      <th>target_set_size</th>\n",
       "      <th>imodulon_size</th>\n",
       "      <th>module_name</th>\n",
       "    </tr>\n",
       "  </thead>\n",
       "  <tbody>\n",
       "    <tr>\n",
       "      <th>0</th>\n",
       "      <td>2</td>\n",
       "      <td>M00035</td>\n",
       "      <td>1.241223e-05</td>\n",
       "      <td>2.147315e-03</td>\n",
       "      <td>0.285714</td>\n",
       "      <td>1.000000</td>\n",
       "      <td>0.444444</td>\n",
       "      <td>2.0</td>\n",
       "      <td>2.0</td>\n",
       "      <td>7.0</td>\n",
       "      <td>Methionine degradation</td>\n",
       "    </tr>\n",
       "    <tr>\n",
       "      <th>1</th>\n",
       "      <td>5</td>\n",
       "      <td>M00178</td>\n",
       "      <td>3.923912e-36</td>\n",
       "      <td>6.788368e-34</td>\n",
       "      <td>0.591837</td>\n",
       "      <td>0.547170</td>\n",
       "      <td>0.568627</td>\n",
       "      <td>29.0</td>\n",
       "      <td>53.0</td>\n",
       "      <td>49.0</td>\n",
       "      <td>None</td>\n",
       "    </tr>\n",
       "    <tr>\n",
       "      <th>2</th>\n",
       "      <td>5</td>\n",
       "      <td>M00179</td>\n",
       "      <td>2.996189e-12</td>\n",
       "      <td>2.591704e-10</td>\n",
       "      <td>0.244898</td>\n",
       "      <td>0.387097</td>\n",
       "      <td>0.300000</td>\n",
       "      <td>12.0</td>\n",
       "      <td>31.0</td>\n",
       "      <td>49.0</td>\n",
       "      <td>None</td>\n",
       "    </tr>\n",
       "    <tr>\n",
       "      <th>3</th>\n",
       "      <td>7</td>\n",
       "      <td>M00436</td>\n",
       "      <td>1.929462e-08</td>\n",
       "      <td>3.337969e-06</td>\n",
       "      <td>0.500000</td>\n",
       "      <td>1.000000</td>\n",
       "      <td>0.666667</td>\n",
       "      <td>3.0</td>\n",
       "      <td>3.0</td>\n",
       "      <td>6.0</td>\n",
       "      <td>None</td>\n",
       "    </tr>\n",
       "    <tr>\n",
       "      <th>4</th>\n",
       "      <td>9</td>\n",
       "      <td>M00330</td>\n",
       "      <td>1.929462e-08</td>\n",
       "      <td>3.337969e-06</td>\n",
       "      <td>0.500000</td>\n",
       "      <td>1.000000</td>\n",
       "      <td>0.666667</td>\n",
       "      <td>3.0</td>\n",
       "      <td>3.0</td>\n",
       "      <td>6.0</td>\n",
       "      <td>None</td>\n",
       "    </tr>\n",
       "  </tbody>\n",
       "</table>\n",
       "</div>"
      ],
      "text/plain": [
       "   imodulon kegg_id        pvalue        qvalue  precision    recall  \\\n",
       "0         2  M00035  1.241223e-05  2.147315e-03   0.285714  1.000000   \n",
       "1         5  M00178  3.923912e-36  6.788368e-34   0.591837  0.547170   \n",
       "2         5  M00179  2.996189e-12  2.591704e-10   0.244898  0.387097   \n",
       "3         7  M00436  1.929462e-08  3.337969e-06   0.500000  1.000000   \n",
       "4         9  M00330  1.929462e-08  3.337969e-06   0.500000  1.000000   \n",
       "\n",
       "    f1score    TP  target_set_size  imodulon_size             module_name  \n",
       "0  0.444444   2.0              2.0            7.0  Methionine degradation  \n",
       "1  0.568627  29.0             53.0           49.0                    None  \n",
       "2  0.300000  12.0             31.0           49.0                    None  \n",
       "3  0.666667   3.0              3.0            6.0                    None  \n",
       "4  0.666667   3.0              3.0            6.0                    None  "
      ]
     },
     "execution_count": 25,
     "metadata": {},
     "output_type": "execute_result"
    }
   ],
   "source": [
    "DF_module_enrich.head()"
   ]
  },
  {
   "cell_type": "markdown",
   "metadata": {},
   "source": [
    "## Save files"
   ]
  },
  {
   "cell_type": "code",
   "execution_count": 26,
   "metadata": {
    "tags": []
   },
   "outputs": [],
   "source": [
    "#DF_GO_enrich['source'] = 'GO'\n",
    "# DF_pathway_enrich['source'] = 'KEGG pathways'\n",
    "# DF_module_enrich['source'] = 'KEGG modules'\n",
    "# DF_subti_enrich['source'] = 'SubtiWiki'\n",
    "\n",
    "#DF_GO_enrich.rename({'gene_ontology':'annotation'},axis=1, inplace=True)\n",
    "# DF_pathway_enrich.rename({'kegg_id':'annotation'},axis=1, inplace=True)\n",
    "# DF_module_enrich.rename({'kegg_id':'annotation'},axis=1, inplace=True)\n",
    "# DF_subti_enrich.rename({'value':'annotation'},axis=1, inplace=True)\n",
    "\n",
    "#DF_enrichments = pd.concat([DF_GO_enrich, DF_pathway_enrich, DF_module_enrich, DF_subti_enrich])\n",
    "#DF_enrichments.to_csv(path.join(data_dir,'functional_enrichments.csv'))"
   ]
  },
  {
   "cell_type": "markdown",
   "metadata": {},
   "source": [
    "# Check for single gene iModulons"
   ]
  },
  {
   "cell_type": "markdown",
   "metadata": {},
   "source": [
    "Some iModulons are dominated by a single, high-coefficient gene. These iModulons may result from:\n",
    "1. Overdecomposition of the dataset to identify noisy genes\n",
    "1. Artificial knock-out of single genes\n",
    "1. Regulons with only one target gene\n",
    "\n",
    "No matter what causes these iModulons, it is important to be aware of them. The find_single_gene_imodulons function identifies iModulons that are likely dominated by a single gene.\n",
    "\n",
    "The iModulons identified by ``find_single_gene_imodulons`` may contain more than one gene, since a threshold-agnostic method is used to identify these iModulons."
   ]
  },
  {
   "cell_type": "code",
   "execution_count": 27,
   "metadata": {
    "tags": []
   },
   "outputs": [
    {
     "data": {
      "text/plain": [
       "18"
      ]
     },
     "execution_count": 27,
     "metadata": {},
     "output_type": "execute_result"
    }
   ],
   "source": [
    "sg_imods = ica_data.find_single_gene_imodulons(save=True)\n",
    "len(sg_imods)"
   ]
  },
  {
   "cell_type": "code",
   "execution_count": 28,
   "metadata": {
    "tags": []
   },
   "outputs": [],
   "source": [
    "for i,mod in enumerate(sg_imods):\n",
    "    ica_data.rename_imodulons({mod:'SG_'+str(i+1)})"
   ]
  },
  {
   "cell_type": "code",
   "execution_count": 29,
   "metadata": {
    "tags": []
   },
   "outputs": [
    {
     "data": {
      "text/html": [
       "<div>\n",
       "<style scoped>\n",
       "    .dataframe tbody tr th:only-of-type {\n",
       "        vertical-align: middle;\n",
       "    }\n",
       "\n",
       "    .dataframe tbody tr th {\n",
       "        vertical-align: top;\n",
       "    }\n",
       "\n",
       "    .dataframe thead th {\n",
       "        text-align: right;\n",
       "    }\n",
       "</style>\n",
       "<table border=\"1\" class=\"dataframe\">\n",
       "  <thead>\n",
       "    <tr style=\"text-align: right;\">\n",
       "      <th></th>\n",
       "      <th>single_gene</th>\n",
       "    </tr>\n",
       "  </thead>\n",
       "  <tbody>\n",
       "    <tr>\n",
       "      <th>SG_1</th>\n",
       "      <td>True</td>\n",
       "    </tr>\n",
       "    <tr>\n",
       "      <th>SG_2</th>\n",
       "      <td>True</td>\n",
       "    </tr>\n",
       "    <tr>\n",
       "      <th>SG_3</th>\n",
       "      <td>True</td>\n",
       "    </tr>\n",
       "    <tr>\n",
       "      <th>SG_4</th>\n",
       "      <td>True</td>\n",
       "    </tr>\n",
       "    <tr>\n",
       "      <th>SG_5</th>\n",
       "      <td>True</td>\n",
       "    </tr>\n",
       "    <tr>\n",
       "      <th>SG_6</th>\n",
       "      <td>True</td>\n",
       "    </tr>\n",
       "    <tr>\n",
       "      <th>SG_7</th>\n",
       "      <td>True</td>\n",
       "    </tr>\n",
       "    <tr>\n",
       "      <th>SG_8</th>\n",
       "      <td>True</td>\n",
       "    </tr>\n",
       "    <tr>\n",
       "      <th>SG_9</th>\n",
       "      <td>True</td>\n",
       "    </tr>\n",
       "    <tr>\n",
       "      <th>SG_10</th>\n",
       "      <td>True</td>\n",
       "    </tr>\n",
       "    <tr>\n",
       "      <th>SG_11</th>\n",
       "      <td>True</td>\n",
       "    </tr>\n",
       "    <tr>\n",
       "      <th>SG_12</th>\n",
       "      <td>True</td>\n",
       "    </tr>\n",
       "    <tr>\n",
       "      <th>SG_13</th>\n",
       "      <td>True</td>\n",
       "    </tr>\n",
       "    <tr>\n",
       "      <th>SG_14</th>\n",
       "      <td>True</td>\n",
       "    </tr>\n",
       "    <tr>\n",
       "      <th>SG_15</th>\n",
       "      <td>True</td>\n",
       "    </tr>\n",
       "    <tr>\n",
       "      <th>SG_16</th>\n",
       "      <td>True</td>\n",
       "    </tr>\n",
       "    <tr>\n",
       "      <th>SG_17</th>\n",
       "      <td>True</td>\n",
       "    </tr>\n",
       "    <tr>\n",
       "      <th>SG_18</th>\n",
       "      <td>True</td>\n",
       "    </tr>\n",
       "  </tbody>\n",
       "</table>\n",
       "</div>"
      ],
      "text/plain": [
       "      single_gene\n",
       "SG_1         True\n",
       "SG_2         True\n",
       "SG_3         True\n",
       "SG_4         True\n",
       "SG_5         True\n",
       "SG_6         True\n",
       "SG_7         True\n",
       "SG_8         True\n",
       "SG_9         True\n",
       "SG_10        True\n",
       "SG_11        True\n",
       "SG_12        True\n",
       "SG_13        True\n",
       "SG_14        True\n",
       "SG_15        True\n",
       "SG_16        True\n",
       "SG_17        True\n",
       "SG_18        True"
      ]
     },
     "execution_count": 29,
     "metadata": {},
     "output_type": "execute_result"
    }
   ],
   "source": [
    "ica_data.imodulon_table[ica_data.imodulon_table.single_gene == True]"
   ]
  },
  {
   "cell_type": "code",
   "execution_count": 30,
   "metadata": {
    "tags": []
   },
   "outputs": [
    {
     "data": {
      "text/html": [
       "<div>\n",
       "<style scoped>\n",
       "    .dataframe tbody tr th:only-of-type {\n",
       "        vertical-align: middle;\n",
       "    }\n",
       "\n",
       "    .dataframe tbody tr th {\n",
       "        vertical-align: top;\n",
       "    }\n",
       "\n",
       "    .dataframe thead th {\n",
       "        text-align: right;\n",
       "    }\n",
       "</style>\n",
       "<table border=\"1\" class=\"dataframe\">\n",
       "  <thead>\n",
       "    <tr style=\"text-align: right;\">\n",
       "      <th></th>\n",
       "      <th>gene_weight</th>\n",
       "      <th>gene_name</th>\n",
       "      <th>accession</th>\n",
       "      <th>old_locus_tag</th>\n",
       "      <th>start</th>\n",
       "      <th>end</th>\n",
       "      <th>strand</th>\n",
       "      <th>gene_product</th>\n",
       "      <th>COG</th>\n",
       "      <th>uniprot</th>\n",
       "      <th>operon</th>\n",
       "    </tr>\n",
       "  </thead>\n",
       "  <tbody>\n",
       "    <tr>\n",
       "      <th>ZCP4_1892</th>\n",
       "      <td>0.704028</td>\n",
       "      <td>ZCP4_1892</td>\n",
       "      <td>CP006894.1</td>\n",
       "      <td>NaN</td>\n",
       "      <td>8388.0</td>\n",
       "      <td>8489.0</td>\n",
       "      <td>-</td>\n",
       "      <td>hypothetical protein</td>\n",
       "      <td>No COG annotation</td>\n",
       "      <td>NaN</td>\n",
       "      <td>Op41</td>\n",
       "    </tr>\n",
       "  </tbody>\n",
       "</table>\n",
       "</div>"
      ],
      "text/plain": [
       "           gene_weight  gene_name   accession  old_locus_tag   start     end  \\\n",
       "ZCP4_1892     0.704028  ZCP4_1892  CP006894.1            NaN  8388.0  8489.0   \n",
       "\n",
       "          strand          gene_product                COG  uniprot operon  \n",
       "ZCP4_1892      -  hypothetical protein  No COG annotation      NaN   Op41  "
      ]
     },
     "execution_count": 30,
     "metadata": {},
     "output_type": "execute_result"
    }
   ],
   "source": [
    "ica_data.view_imodulon('SG_1')"
   ]
  },
  {
   "cell_type": "markdown",
   "metadata": {},
   "source": [
    "# Save iModulon object"
   ]
  },
  {
   "cell_type": "code",
   "execution_count": 31,
   "metadata": {
    "tags": []
   },
   "outputs": [],
   "source": [
    "from pymodulon.util import explained_variance\n",
    "from pymodulon.io import *"
   ]
  },
  {
   "cell_type": "code",
   "execution_count": 32,
   "metadata": {
    "tags": []
   },
   "outputs": [],
   "source": [
    "# Add iModulon sizes and explained variance\n",
    "for im in ica_data.imodulon_names:\n",
    "    ica_data.imodulon_table.loc[im,'imodulon_size'] = len(ica_data.view_imodulon(im))\n",
    "    ica_data.imodulon_table.loc[im,'explained_variance'] = explained_variance(ica_data,imodulons=im)"
   ]
  },
  {
   "cell_type": "markdown",
   "metadata": {},
   "source": [
    "This will save your iModulon table, your thresholds, and any other information stored in the ica_data object."
   ]
  },
  {
   "cell_type": "code",
   "execution_count": 33,
   "metadata": {
    "tags": []
   },
   "outputs": [],
   "source": [
    "save_to_json(ica_data, path.join('..','data','interim','zmo_raw.json.gz'))"
   ]
  },
  {
   "cell_type": "markdown",
   "metadata": {},
   "source": [
    "If you prefer to view and edit your iModulon table in excel, save it as a CSV and reload the iModulon as before"
   ]
  },
  {
   "cell_type": "code",
   "execution_count": 34,
   "metadata": {
    "tags": []
   },
   "outputs": [],
   "source": [
    "ica_data.imodulon_table.to_csv(path.join('..','data','processed_data','imodulon_table_raw.csv'))"
   ]
  },
  {
   "cell_type": "code",
   "execution_count": null,
   "metadata": {},
   "outputs": [],
   "source": []
  }
 ],
 "metadata": {
  "kernelspec": {
   "display_name": "Python 3 (ipykernel)",
   "language": "python",
   "name": "python3"
  },
  "language_info": {
   "codemirror_mode": {
    "name": "ipython",
    "version": 3
   },
   "file_extension": ".py",
   "mimetype": "text/x-python",
   "name": "python",
   "nbconvert_exporter": "python",
   "pygments_lexer": "ipython3",
   "version": "3.7.12"
  },
  "toc": {
   "base_numbering": 1,
   "nav_menu": {},
   "number_sections": true,
   "sideBar": true,
   "skip_h1_title": false,
   "title_cell": "Table of Contents",
   "title_sidebar": "Contents",
   "toc_cell": true,
   "toc_position": {},
   "toc_section_display": true,
   "toc_window_display": false
  }
 },
 "nbformat": 4,
 "nbformat_minor": 4
}
