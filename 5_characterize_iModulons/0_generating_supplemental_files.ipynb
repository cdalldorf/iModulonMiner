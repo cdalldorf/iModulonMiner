{
 "cells": [
  {
   "cell_type": "code",
   "execution_count": 5,
   "metadata": {},
   "outputs": [
    {
     "name": "stdout",
     "output_type": "stream",
     "text": [
      "\u001b[0m\u001b[01;34m1_download_metadata\u001b[0m/       \u001b[01;34m6_plotting\u001b[0m/         \u001b[01;34mdata\u001b[0m/\n",
      "\u001b[01;34m2_process_data\u001b[0m/            Dockerfile          environment.yml\n",
      "\u001b[01;34m3_quality_control\u001b[0m/         LICENSE             \u001b[01;34mfigures\u001b[0m/\n",
      "\u001b[01;34m4_optICA\u001b[0m/                  README.md           \u001b[01;34mfunctions\u001b[0m/\n",
      "\u001b[01;34m5_characterize_iModulons\u001b[0m/  \u001b[01;34mZymomonas_mobilis\u001b[0m/  pyproject.toml\n"
     ]
    }
   ],
   "source": [
    "ls zuniga/iModulonMiner/"
   ]
  },
  {
   "cell_type": "code",
   "execution_count": 49,
   "metadata": {},
   "outputs": [
    {
     "name": "stderr",
     "output_type": "stream",
     "text": [
      "/home/chris/miniforge3/envs/iM_miner/lib/python3.10/site-packages/pymodulon/util.py:31: FutureWarning: Passing literal json to 'read_json' is deprecated and will be removed in a future version. To read from a literal string, wrap it in a 'StringIO' object.\n",
      "  table = pd.read_json(table)\n",
      "/home/chris/miniforge3/envs/iM_miner/lib/python3.10/site-packages/pymodulon/util.py:31: FutureWarning: Passing literal json to 'read_json' is deprecated and will be removed in a future version. To read from a literal string, wrap it in a 'StringIO' object.\n",
      "  table = pd.read_json(table)\n",
      "/home/chris/miniforge3/envs/iM_miner/lib/python3.10/site-packages/pymodulon/util.py:31: FutureWarning: Passing literal json to 'read_json' is deprecated and will be removed in a future version. To read from a literal string, wrap it in a 'StringIO' object.\n",
      "  table = pd.read_json(table)\n",
      "/home/chris/miniforge3/envs/iM_miner/lib/python3.10/site-packages/pymodulon/util.py:31: FutureWarning: Passing literal json to 'read_json' is deprecated and will be removed in a future version. To read from a literal string, wrap it in a 'StringIO' object.\n",
      "  table = pd.read_json(table)\n",
      "/home/chris/miniforge3/envs/iM_miner/lib/python3.10/site-packages/pymodulon/util.py:31: FutureWarning: Passing literal json to 'read_json' is deprecated and will be removed in a future version. To read from a literal string, wrap it in a 'StringIO' object.\n",
      "  table = pd.read_json(table)\n",
      "/home/chris/miniforge3/envs/iM_miner/lib/python3.10/site-packages/pymodulon/util.py:31: FutureWarning: Passing literal json to 'read_json' is deprecated and will be removed in a future version. To read from a literal string, wrap it in a 'StringIO' object.\n",
      "  table = pd.read_json(table)\n",
      "/home/chris/miniforge3/envs/iM_miner/lib/python3.10/site-packages/pymodulon/util.py:31: FutureWarning: Passing literal json to 'read_json' is deprecated and will be removed in a future version. To read from a literal string, wrap it in a 'StringIO' object.\n",
      "  table = pd.read_json(table)\n"
     ]
    }
   ],
   "source": [
    "# imports and loading\n",
    "from pymodulon.io import *\n",
    "from pymodulon.plotting import *\n",
    "from scipy.stats import fisher_exact, chi2_contingency\n",
    "from statsmodels.stats.multitest import multipletests\n",
    "from os import path\n",
    "import pandas as pd\n",
    "import seaborn as sns\n",
    "import ast \n",
    "import matplotlib as mpl\n",
    "mpl.rcParams['pdf.fonttype'] = 42\n",
    "\n",
    "base_dir = '/home/chris/zuniga/iModulonMiner'\n",
    "external_data = path.join(base_dir,'data','external')\n",
    "df_trn = pd.read_csv(path.join(external_data,'TRN.csv'))\n",
    "\n",
    "data_dir = path.join(base_dir,'data','processed_data')\n",
    "interim_dir = path.join(base_dir,'data','interim')\n",
    "ica_data = load_json_model(path.join(interim_dir,'zmo_raw.json.gz'))\n",
    "ica_data.gene_table.to_csv(path.join(data_dir, 'supp_gene_table.csv'))\n"
   ]
  },
  {
   "cell_type": "code",
   "execution_count": 56,
   "metadata": {},
   "outputs": [],
   "source": [
    "# let's create groups of regulators\n",
    "\n",
    "# first, by iModulon\n",
    "iM_to_genes = {}\n",
    "for iM in ica_data.imodulon_table.index:\n",
    "    iM_to_genes.update({iM : list(ica_data.view_imodulon(iM).sort_index().index)})\n",
    "pd.Series(iM_to_genes).to_csv(path.join(data_dir, 'supp_iM_to_genes.csv'))\n",
    "\n",
    "# second by DAP-seq\n",
    "DAP_to_genes = {}\n",
    "for reg, df in df_trn.groupby('regulator'):\n",
    "    DAP_to_genes.update({reg : set(df['gene_id'])})\n",
    "for k, v in DAP_to_genes.items():\n",
    "    new = list(v)\n",
    "    new.sort()\n",
    "    DAP_to_genes.update({k : new})\n",
    "pd.Series(DAP_to_genes).to_csv(path.join(data_dir, 'supp_DAP_to_genes.csv'))\n",
    "\n",
    "# third by seq-based\n",
    "tot_regs = set(ica_data.gene_table.FIMO_regulators)\n",
    "all_regs = set()\n",
    "for regs in tot_regs:\n",
    "    for reg in ast.literal_eval(regs):\n",
    "        all_regs.add(reg)\n",
    "FIMO_to_genes = {reg : set() for reg in all_regs}\n",
    "for index, row in ica_data.gene_table.iterrows():\n",
    "    for reg in ast.literal_eval(row['FIMO_regulators']):\n",
    "        FIMO_to_genes[reg].add(index)\n",
    "for k, v in FIMO_to_genes.items():\n",
    "    new = list(v)\n",
    "    new.sort()\n",
    "    FIMO_to_genes.update({k : new})\n",
    "pd.Series(FIMO_to_genes).to_csv(path.join(data_dir, 'supp_FIMO_to_genes.csv'))"
   ]
  }
 ],
 "metadata": {
  "kernelspec": {
   "display_name": "Python 3 (ipykernel)",
   "language": "python",
   "name": "python3"
  },
  "language_info": {
   "codemirror_mode": {
    "name": "ipython",
    "version": 3
   },
   "file_extension": ".py",
   "mimetype": "text/x-python",
   "name": "python",
   "nbconvert_exporter": "python",
   "pygments_lexer": "ipython3",
   "version": "3.10.0"
  }
 },
 "nbformat": 4,
 "nbformat_minor": 2
}
