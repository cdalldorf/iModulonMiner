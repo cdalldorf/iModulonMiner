{
 "cells": [
  {
   "cell_type": "code",
   "execution_count": 1,
   "metadata": {
    "tags": []
   },
   "outputs": [],
   "source": [
    "# imports and loading\n",
    "from pymodulon.io import *\n",
    "from pymodulon.plotting import *\n",
    "from scipy.stats import fisher_exact, chi2_contingency\n",
    "from statsmodels.stats.multitest import multipletests\n",
    "from os import path\n",
    "import seaborn as sns\n",
    "\n",
    "data_dir = path.join('..','data','processed_data')\n",
    "interim_dir = path.join('..','data','interim')\n",
    "ica_data = load_json_model(path.join(interim_dir,'zmo_raw.json.gz'))\n",
    "\n",
    "# let's create a metadata enrichment function\n",
    "def metadata_enrichment(ica_data, iM, categories = ['project','gene_KO', 'Strain Description', 'Evolved Sample', 'Base Media', 'Temperature (C)', 'pH', 'Carbon Source (g/L)', 'Supplement', 'Growth Rate (1/hr)', 'Isolate Type', 'lab', 'Aerobicity']):\n",
    "    # first let's find the samples where the iM is active\n",
    "    vals = abs(ica_data.A.loc[iM].values)\n",
    "    avg = np.mean(vals)\n",
    "    std = np.std(vals)\n",
    "    active_samps = ica_data.A.columns[vals > (avg + 2*std)]\n",
    "    samp_table = ica_data.sample_table.fillna('nan')\n",
    "    samp_table['is_active'] = samp_table.index.isin(active_samps)\n",
    "    \n",
    "    # now enrichment against the categories\n",
    "    return_dfs = []\n",
    "    for cat in categories:\n",
    "        # try each type of category found in the active samples\n",
    "        contingency_table = pd.crosstab(samp_table[cat], samp_table['is_active'])\n",
    "        _, pval, dof, expected = chi2_contingency(contingency_table)\n",
    "        observed = contingency_table.values\n",
    "        observed_df = pd.DataFrame(observed, index=contingency_table.index, columns=contingency_table.columns)\n",
    "        residuals = (observed - expected) / (expected ** 0.5)\n",
    "        residuals_df = pd.DataFrame(residuals, index=contingency_table.index, columns=contingency_table.columns)\n",
    "        most_abnormal = abs(residuals_df).sort_values(by = True, ascending = False).index[0]\n",
    "        \n",
    "        # calculate precision and recall of most abnormal\n",
    "        true_pos = observed_df.loc[most_abnormal][True]\n",
    "        false_pos = observed_df.loc[most_abnormal][False]\n",
    "        false_neg = observed_df[True].sum() - true_pos\n",
    "        precision = true_pos / (true_pos + false_pos)\n",
    "        recall = true_pos / (true_pos + false_neg)\n",
    "        \n",
    "        return_dfs.append([cat, pval, most_abnormal, precision, recall])\n",
    "    \n",
    "    output_df = pd.DataFrame(return_dfs, columns = ['Category', 'p_value', 'most_enriched', 'precision', 'recall'])\n",
    "    _, q_values, _, _ = multipletests(output_df['p_value'], method='fdr_bh')\n",
    "    output_df['q_value'] = q_values\n",
    "    output_df = output_df.set_index('Category').sort_values(by = 'p_value')[['p_value', 'q_value', 'most_enriched', 'precision', 'recall']]\n",
    "    \n",
    "    return(output_df)\n",
    "\n",
    "\n",
    "# gene table enrichment\n",
    "def genes_enrichment(ica_data, iM, categories = ['strand', 'gene_product', 'COG', 'operon', 'chromosome_id']):\n",
    "    # first let's find the samples where the iM is active\n",
    "    vals = abs(ica_data.A.loc[iM].values)\n",
    "    avg = np.mean(vals)\n",
    "    std = np.std(vals)\n",
    "    active_samps = ica_data.view_imodulon(iM).index\n",
    "    samp_table = ica_data.gene_table.fillna('nan')\n",
    "    samp_table['is_active'] = samp_table.index.isin(active_samps)\n",
    "    \n",
    "    # now enrichment against the categories\n",
    "    return_dfs = []\n",
    "    for cat in categories:\n",
    "        # try each type of category found in the active samples\n",
    "        contingency_table = pd.crosstab(samp_table[cat], samp_table['is_active'])\n",
    "        _, pval, dof, expected = chi2_contingency(contingency_table)\n",
    "        observed = contingency_table.values\n",
    "        observed_df = pd.DataFrame(observed, index=contingency_table.index, columns=contingency_table.columns)\n",
    "        residuals = (observed - expected) / (expected ** 0.5)\n",
    "        residuals_df = pd.DataFrame(residuals, index=contingency_table.index, columns=contingency_table.columns)\n",
    "        most_abnormal = abs(residuals_df).sort_values(by = True, ascending = False).index[0]\n",
    "        \n",
    "        # calculate precision and recall of most abnormal\n",
    "        true_pos = observed_df.loc[most_abnormal][True]\n",
    "        false_pos = observed_df.loc[most_abnormal][False]\n",
    "        false_neg = observed_df[True].sum() - true_pos\n",
    "        precision = true_pos / (true_pos + false_pos)\n",
    "        recall = true_pos / (true_pos + false_neg)\n",
    "        \n",
    "        return_dfs.append([cat, pval, most_abnormal, precision, recall])\n",
    "    \n",
    "    output_df = pd.DataFrame(return_dfs, columns = ['Category', 'p_value', 'most_enriched', 'precision', 'recall'])\n",
    "    _, q_values, _, _ = multipletests(output_df['p_value'], method='fdr_bh')\n",
    "    output_df['q_value'] = q_values\n",
    "    output_df = output_df.set_index('Category').sort_values(by = 'p_value')[['p_value', 'q_value', 'most_enriched', 'precision', 'recall']]\n",
    "    \n",
    "    return(output_df)\n",
    "\n",
    "\n",
    "def custom_plot_gene_weights(ica_data, imodulon, by=\"start\", xaxis=None, xname=\"\", **kwargs):\n",
    "    \"\"\"\n",
    "    Plot gene weights on a scatter plot.\n",
    "\n",
    "    Parameters\n",
    "    ----------\n",
    "    ica_data: ~pymodulon.core.IcaData\n",
    "        :class:`~pymodulon.core.IcaData` object\n",
    "    imodulon : int or str\n",
    "        `iModulon` name\n",
    "    by: 'log-tpm-norm', 'length', or 'start'\n",
    "        Property to plot on x-axis. Superceded by `xaxis`\n",
    "    xaxis: list, dict or ~pandas.Series, optional\n",
    "        Values on custom x-axis\n",
    "    xname: str, optional\n",
    "        Name of x-axis if using custom x-axis\n",
    "    **kwargs:\n",
    "        Additional keyword arguments passed to :func:`pymodulon.plotting.scatterplot`\n",
    "    Returns\n",
    "    -------\n",
    "    ax: ~matplotlib.axes.Axes\n",
    "        :class:`~matplotlib.axes.Axes` containing the scatterplot\n",
    "    \"\"\"\n",
    "    # Check that iModulon exists\n",
    "    if imodulon in ica_data.M.columns:\n",
    "        y = ica_data.M[imodulon]\n",
    "        ylabel = f\"{imodulon} Gene Weight\"\n",
    "    else:\n",
    "        raise ValueError(f\"iModulon does not exist: {imodulon}\")\n",
    "\n",
    "    # Get genes in the iModulon\n",
    "    bin_M = ica_data.M_binarized\n",
    "    component_genes = set(bin_M[imodulon].loc[bin_M[imodulon] == 1].index)\n",
    "    other_genes = set(bin_M[imodulon].loc[bin_M[imodulon] == 0].index)\n",
    "\n",
    "    # If experimental `xaxis` parameter is used, use custom values for x-axis\n",
    "    if xaxis is not None:\n",
    "        x = _set_xaxis(xaxis=xaxis, y=y)\n",
    "        xlabel = xname\n",
    "\n",
    "    else:\n",
    "        #  Ensure 'by' has a valid input and assign x, xlabel accordingly\n",
    "        if by == \"log-tpm\":\n",
    "            x = ica_data.log_tpm.mean(axis=1)\n",
    "            xlabel = \"Mean Expression\"\n",
    "        elif by == \"log-tpm-norm\":\n",
    "            x = ica_data.X.mean(axis=1)\n",
    "            xlabel = \"Mean Centered Expression\"\n",
    "        elif by == \"length\":\n",
    "            x = np.log10(ica_data.gene_table.length)\n",
    "            xlabel = \"Gene Length (log10-scale)\"\n",
    "        elif by == \"start\":\n",
    "            x = ica_data.gene_table.start\n",
    "            xlabel = \"Gene Start\"\n",
    "        else:\n",
    "            raise ValueError(\n",
    "                '\"by\" must be \"log-tpm\", \"log-tpm-norm\", \"length\", ' 'or \"start\"'\n",
    "            )\n",
    "\n",
    "    # Override specific kwargs (their implementation is different\n",
    "    # in this function)\n",
    "    show_labels_pgw = kwargs.pop(\"show_labels\", \"auto\")\n",
    "    adjust_labels_pgw = kwargs.pop(\"adjust_labels\", True)\n",
    "    legend_kwargs_pgw = kwargs.pop(\"legend_kwargs\", {})\n",
    "    label_font_kwargs_pgw = kwargs.pop(\"label_font_kwargs\", {})\n",
    "\n",
    "    kwargs[\"show_labels\"] = kwargs[\"adjust_labels\"] = False\n",
    "\n",
    "    # Remove xlabel and ylabel kwargs if provided\n",
    "    kwargs.pop(\"xlabel\", None)\n",
    "    kwargs.pop(\"ylabel\", None)\n",
    "\n",
    "    # Default legend should be on the side of the plot\n",
    "    if (\n",
    "        \"bbox_to_anchor\" not in legend_kwargs_pgw.keys()\n",
    "        and \"loc\" not in legend_kwargs_pgw.keys()\n",
    "    ):\n",
    "        legend_kwargs_pgw.update({\"bbox_to_anchor\": (1, 1), \"loc\": 2})\n",
    "        kwargs[\"legend_kwargs\"] = legend_kwargs_pgw\n",
    "\n",
    "    # Update colors for COG groups\n",
    "    if \"COG\" in ica_data.gene_table.columns and \"groups\" not in kwargs:\n",
    "        mod_cogs = ica_data.gene_table.loc[component_genes].COG\n",
    "        hidden_cogs = pd.Series(\"hidden\", index=other_genes)\n",
    "        all_cogs = pd.concat([mod_cogs, hidden_cogs])\n",
    "        # colors = {cog:ica_data.cog_colors[cog] for cog in sorted(mod_cogs.unique())}\n",
    "        kwargs.update({\"groups\": all_cogs, \"colors\": ica_data.cog_colors})\n",
    "\n",
    "    # Scatter Plot\n",
    "    ax = scatterplot(x, y, xlabel=xlabel, ylabel=ylabel, **kwargs)\n",
    "    \n",
    "    # add vertical lines at chromosome changes\n",
    "    for grp in ica_data.gene_table.groupby('chromosome_id'):\n",
    "        plt.axvline(x = max(grp[1].fillna(0).end), ls = '--', c = 'k')\n",
    "\n",
    "    # Add thresholds to scatter-plot (dashed lines)\n",
    "    xmin, xmax = ax.get_xlim()\n",
    "    ymin, ymax = ax.get_ylim()\n",
    "\n",
    "    thresh = ica_data.thresholds[imodulon]\n",
    "    if thresh != 0:\n",
    "        ax.hlines(\n",
    "            [thresh, -thresh],\n",
    "            xmin=xmin,\n",
    "            xmax=xmax,\n",
    "            colors=\"k\",\n",
    "            linestyles=\"dashed\",\n",
    "            linewidth=1,\n",
    "        )\n",
    "\n",
    "    ax.set_xlim(xmin, xmax)\n",
    "    ax.set_ylim(ymin, ymax)\n",
    "\n",
    "    texts = []\n",
    "    expand_kwargs = {\"expand_objects\": (1.2, 1.4), \"expand_points\": (1.3, 1.3)}\n",
    "\n",
    "    # Add labels: Put gene name if components contain under 20 genes\n",
    "    if show_labels_pgw is True or (\n",
    "        show_labels_pgw is not False and len(component_genes) <= 20\n",
    "    ):\n",
    "        for gene in component_genes:\n",
    "\n",
    "            # Add labels\n",
    "            text_kwargs = label_font_kwargs_pgw.copy()\n",
    "\n",
    "            if \"fontstyle\" not in text_kwargs:\n",
    "                text_kwargs.update({\"fontstyle\": \"normal\"})\n",
    "\n",
    "            # Italicize gene if there is a defined name (not locus tag)\n",
    "            try:\n",
    "                gene_name = ica_data.gene_table.loc[gene, \"gene_name\"]\n",
    "\n",
    "                if gene_name != gene:\n",
    "                    text_kwargs.update({\"fontstyle\": \"italic\"})\n",
    "\n",
    "            except KeyError:\n",
    "                gene_name = gene\n",
    "\n",
    "            # Set default fontsize\n",
    "            if \"fontsize\" not in text_kwargs:\n",
    "                text_kwargs.update({\"fontsize\": 12})\n",
    "\n",
    "            texts.append(\n",
    "                ax.text(\n",
    "                    x[gene],\n",
    "                    ica_data.M.loc[gene, imodulon],\n",
    "                    gene_name,\n",
    "                    **text_kwargs,\n",
    "                )\n",
    "            )\n",
    "\n",
    "        expand_kwargs[\"expand_text\"] = (1.4, 1.4)\n",
    "\n",
    "    # Add labels: Repel texts from other text and points\n",
    "    rect = ax.add_patch(\n",
    "        Rectangle(\n",
    "            xy=(xmin, -abs(thresh)),\n",
    "            width=xmax - xmin,\n",
    "            height=2 * abs(thresh),\n",
    "            fill=False,\n",
    "            linewidth=0,\n",
    "        )\n",
    "    )\n",
    "\n",
    "    if adjust_labels_pgw:\n",
    "        adjust_text(\n",
    "            texts=texts,\n",
    "            add_objects=[rect],\n",
    "            ax=ax,\n",
    "            arrowprops=dict(arrowstyle=\"-\", color=\"k\", lw=0.5),\n",
    "            only_move={\"objects\": \"y\"},\n",
    "            **expand_kwargs,\n",
    "        )\n",
    "\n",
    "    return ax"
   ]
  },
  {
   "cell_type": "markdown",
   "metadata": {
    "tags": []
   },
   "source": [
    "# investgiate an iM"
   ]
  },
  {
   "cell_type": "code",
   "execution_count": 2,
   "metadata": {
    "tags": []
   },
   "outputs": [],
   "source": [
    "iM_ct = 'noise_2'"
   ]
  },
  {
   "cell_type": "code",
   "execution_count": 3,
   "metadata": {
    "tags": []
   },
   "outputs": [
    {
     "data": {
      "text/html": [
       "<div>\n",
       "<style scoped>\n",
       "    .dataframe tbody tr th:only-of-type {\n",
       "        vertical-align: middle;\n",
       "    }\n",
       "\n",
       "    .dataframe tbody tr th {\n",
       "        vertical-align: top;\n",
       "    }\n",
       "\n",
       "    .dataframe thead th {\n",
       "        text-align: right;\n",
       "    }\n",
       "</style>\n",
       "<table border=\"1\" class=\"dataframe\">\n",
       "  <thead>\n",
       "    <tr style=\"text-align: right;\">\n",
       "      <th></th>\n",
       "      <th>gene_name</th>\n",
       "      <th>gene_weight</th>\n",
       "      <th>gene_product</th>\n",
       "      <th>COG</th>\n",
       "      <th>regulator</th>\n",
       "      <th>EC_number</th>\n",
       "      <th>interpro_annotation</th>\n",
       "      <th>aerobic_essential</th>\n",
       "      <th>anaerobic_essential</th>\n",
       "    </tr>\n",
       "  </thead>\n",
       "  <tbody>\n",
       "    <tr>\n",
       "      <th>ZCP4_0614</th>\n",
       "      <td>ZCP4_0614</td>\n",
       "      <td>0.219477</td>\n",
       "      <td>nitroreductase</td>\n",
       "      <td>Energy production and conversion</td>\n",
       "      <td>NaN</td>\n",
       "      <td>NaN</td>\n",
       "      <td>SignalP-TM;SignalP-noTM</td>\n",
       "      <td>-1.614610</td>\n",
       "      <td>0.000000</td>\n",
       "    </tr>\n",
       "    <tr>\n",
       "      <th>ZCP4_1652</th>\n",
       "      <td>ZCP4_1652</td>\n",
       "      <td>0.156817</td>\n",
       "      <td>ATP:cob(I)alamin adenosyltransferase</td>\n",
       "      <td>Function unknown</td>\n",
       "      <td>ZCP4_0018,ZCP4_0018,ZCP4_0128,ZCP4_0210,ZCP4_0...</td>\n",
       "      <td>2.5.1.17</td>\n",
       "      <td>C-terminal region of a signal peptide.;Hydroph...</td>\n",
       "      <td>0.000000</td>\n",
       "      <td>0.000000</td>\n",
       "    </tr>\n",
       "    <tr>\n",
       "      <th>ZCP4_1555</th>\n",
       "      <td>ZCP4_1555</td>\n",
       "      <td>0.151989</td>\n",
       "      <td>TIGR01244 family protein</td>\n",
       "      <td>Function unknown</td>\n",
       "      <td>ZCP4_1387</td>\n",
       "      <td>NaN</td>\n",
       "      <td>SignalP-TM;SignalP-noTM</td>\n",
       "      <td>0.000000</td>\n",
       "      <td>0.000000</td>\n",
       "    </tr>\n",
       "    <tr>\n",
       "      <th>ZCP4_0123</th>\n",
       "      <td>ZCP4_0123</td>\n",
       "      <td>0.149139</td>\n",
       "      <td>NADPH-glutathione reductase</td>\n",
       "      <td>Energy production and conversion</td>\n",
       "      <td>NaN</td>\n",
       "      <td>1.8.1.7</td>\n",
       "      <td>SignalP-TM;SignalP-noTM</td>\n",
       "      <td>0.000000</td>\n",
       "      <td>0.000000</td>\n",
       "    </tr>\n",
       "    <tr>\n",
       "      <th>ZCP4_1599</th>\n",
       "      <td>ZCP4_1599</td>\n",
       "      <td>0.126830</td>\n",
       "      <td>short-chain dehydrogenase of unknown substrate...</td>\n",
       "      <td>Function unknown</td>\n",
       "      <td>ZCP4_0018,ZCP4_1382,ZCP4_1718,ZCP4_1718</td>\n",
       "      <td>NaN</td>\n",
       "      <td>SignalP-TM;SignalP-noTM</td>\n",
       "      <td>0.000000</td>\n",
       "      <td>0.000000</td>\n",
       "    </tr>\n",
       "    <tr>\n",
       "      <th>ZCP4_1729</th>\n",
       "      <td>ZCP4_1729</td>\n",
       "      <td>0.119781</td>\n",
       "      <td>Iron-sulfur cluster assembly accessory protein</td>\n",
       "      <td>Function unknown</td>\n",
       "      <td>ZCP4_1387</td>\n",
       "      <td>NaN</td>\n",
       "      <td>C-terminal region of a signal peptide.;Hydroph...</td>\n",
       "      <td>0.000000</td>\n",
       "      <td>0.000000</td>\n",
       "    </tr>\n",
       "    <tr>\n",
       "      <th>ZCP4_0230</th>\n",
       "      <td>rnr</td>\n",
       "      <td>0.112109</td>\n",
       "      <td>RNAse R</td>\n",
       "      <td>Translation, ribosomal structure and biogenesis</td>\n",
       "      <td>NaN</td>\n",
       "      <td>NaN</td>\n",
       "      <td>C-terminal region of a signal peptide.;Hydroph...</td>\n",
       "      <td>0.000000</td>\n",
       "      <td>0.000000</td>\n",
       "    </tr>\n",
       "    <tr>\n",
       "      <th>ZCP4_1730</th>\n",
       "      <td>ZCP4_1730</td>\n",
       "      <td>0.107883</td>\n",
       "      <td>Exodeoxyribonuclease III</td>\n",
       "      <td>Replication, recombination and repair</td>\n",
       "      <td>NaN</td>\n",
       "      <td>3.1.11.2</td>\n",
       "      <td>C-terminal region of a signal peptide.;Hydroph...</td>\n",
       "      <td>0.000000</td>\n",
       "      <td>0.000000</td>\n",
       "    </tr>\n",
       "    <tr>\n",
       "      <th>ZCP4_0270</th>\n",
       "      <td>ZCP4_0270</td>\n",
       "      <td>0.106470</td>\n",
       "      <td>diguanylate cyclase/phosphodiesterase</td>\n",
       "      <td>Signal transduction mechanisms</td>\n",
       "      <td>ZCP4_0018,ZCP4_0128,ZCP4_0128,ZCP4_0210,ZCP4_0...</td>\n",
       "      <td>NaN</td>\n",
       "      <td>C-terminal region of a signal peptide.;Hydroph...</td>\n",
       "      <td>0.000000</td>\n",
       "      <td>0.000000</td>\n",
       "    </tr>\n",
       "    <tr>\n",
       "      <th>ZCP4_1930</th>\n",
       "      <td>ZCP4_1930</td>\n",
       "      <td>-0.102867</td>\n",
       "      <td>hypothetical protein</td>\n",
       "      <td>No COG annotation</td>\n",
       "      <td>NaN</td>\n",
       "      <td>NaN</td>\n",
       "      <td>C-terminal region of a signal peptide.;Hydroph...</td>\n",
       "      <td>0.000000</td>\n",
       "      <td>0.000000</td>\n",
       "    </tr>\n",
       "    <tr>\n",
       "      <th>ZCP4_0324</th>\n",
       "      <td>ZCP4_0324</td>\n",
       "      <td>-0.101643</td>\n",
       "      <td>hypothetical protein</td>\n",
       "      <td>Transcription</td>\n",
       "      <td>ZCP4_0128,ZCP4_1046,ZCP4_1465</td>\n",
       "      <td>NaN</td>\n",
       "      <td>SignalP-TM;SignalP-noTM</td>\n",
       "      <td>0.000000</td>\n",
       "      <td>0.000000</td>\n",
       "    </tr>\n",
       "    <tr>\n",
       "      <th>ZCP4_0953</th>\n",
       "      <td>ZCP4_0953</td>\n",
       "      <td>0.095366</td>\n",
       "      <td>capsule polysaccharide export protein</td>\n",
       "      <td>Cell wall/membrane/envelope biogenesis</td>\n",
       "      <td>NaN</td>\n",
       "      <td>NaN</td>\n",
       "      <td>SignalP-TM;SignalP-noTM</td>\n",
       "      <td>0.000000</td>\n",
       "      <td>0.000000</td>\n",
       "    </tr>\n",
       "    <tr>\n",
       "      <th>ZCP4_0195</th>\n",
       "      <td>ZCP4_0195</td>\n",
       "      <td>0.092135</td>\n",
       "      <td>cytochrome c peroxidase</td>\n",
       "      <td>Energy production and conversion</td>\n",
       "      <td>NaN</td>\n",
       "      <td>1.11.1.5</td>\n",
       "      <td>SignalP-TM;SignalP-noTM</td>\n",
       "      <td>0.000000</td>\n",
       "      <td>0.000000</td>\n",
       "    </tr>\n",
       "    <tr>\n",
       "      <th>ZCP4_0995</th>\n",
       "      <td>dld</td>\n",
       "      <td>0.090885</td>\n",
       "      <td>D-lactate dehydrogenase</td>\n",
       "      <td>Energy production and conversion</td>\n",
       "      <td>ZCP4_0018,ZCP4_0128,ZCP4_0900,ZCP4_1718</td>\n",
       "      <td>1.1.5.12</td>\n",
       "      <td>SignalP-TM;SignalP-noTM</td>\n",
       "      <td>0.000000</td>\n",
       "      <td>0.000000</td>\n",
       "    </tr>\n",
       "    <tr>\n",
       "      <th>ZCP4_0404</th>\n",
       "      <td>ZCP4_0404</td>\n",
       "      <td>-0.087980</td>\n",
       "      <td>periplasmic protein involved in polysaccharide...</td>\n",
       "      <td>Cell wall/membrane/envelope biogenesis</td>\n",
       "      <td>ZCP4_0128,ZCP4_1387</td>\n",
       "      <td>NaN</td>\n",
       "      <td>SignalP-TM;SignalP-noTM</td>\n",
       "      <td>0.000000</td>\n",
       "      <td>0.000000</td>\n",
       "    </tr>\n",
       "    <tr>\n",
       "      <th>ZCP4_1569</th>\n",
       "      <td>ZCP4_1569</td>\n",
       "      <td>0.087377</td>\n",
       "      <td>hypothetical protein</td>\n",
       "      <td>No COG annotation</td>\n",
       "      <td>ZCP4_0375</td>\n",
       "      <td>NaN</td>\n",
       "      <td>SignalP-TM;SignalP-noTM</td>\n",
       "      <td>0.000000</td>\n",
       "      <td>0.000000</td>\n",
       "    </tr>\n",
       "    <tr>\n",
       "      <th>ZCP4_0291</th>\n",
       "      <td>ZCP4_0291</td>\n",
       "      <td>0.087293</td>\n",
       "      <td>ABC-type multidrug transport system%2C ATPase ...</td>\n",
       "      <td>Defense mechanisms</td>\n",
       "      <td>ZCP4_1387</td>\n",
       "      <td>NaN</td>\n",
       "      <td>SignalP-TM;SignalP-noTM</td>\n",
       "      <td>0.000000</td>\n",
       "      <td>0.000000</td>\n",
       "    </tr>\n",
       "    <tr>\n",
       "      <th>ZCP4_1843</th>\n",
       "      <td>ZCP4_1843</td>\n",
       "      <td>-0.086550</td>\n",
       "      <td>Helix-turn-helix domain protein</td>\n",
       "      <td>Transcription</td>\n",
       "      <td>NaN</td>\n",
       "      <td>NaN</td>\n",
       "      <td>SignalP-TM;SignalP-noTM</td>\n",
       "      <td>-1.873302</td>\n",
       "      <td>-2.432833</td>\n",
       "    </tr>\n",
       "    <tr>\n",
       "      <th>ZCP4_0461</th>\n",
       "      <td>ZCP4_0461</td>\n",
       "      <td>0.085621</td>\n",
       "      <td>response regulator with CheY-like receiver%2C ...</td>\n",
       "      <td>Transcription</td>\n",
       "      <td>NaN</td>\n",
       "      <td>NaN</td>\n",
       "      <td>C-terminal region of a signal peptide.;Hydroph...</td>\n",
       "      <td>0.000000</td>\n",
       "      <td>0.000000</td>\n",
       "    </tr>\n",
       "    <tr>\n",
       "      <th>ZCP4_0804</th>\n",
       "      <td>ZCP4_0804</td>\n",
       "      <td>0.084864</td>\n",
       "      <td>FecR family protein</td>\n",
       "      <td>Cell wall/membrane/envelope biogenesis</td>\n",
       "      <td>ZCP4_0018,ZCP4_1046,ZCP4_1137</td>\n",
       "      <td>NaN</td>\n",
       "      <td>SignalP-TM;SignalP-noTM</td>\n",
       "      <td>0.000000</td>\n",
       "      <td>0.000000</td>\n",
       "    </tr>\n",
       "    <tr>\n",
       "      <th>ZCP4_0558</th>\n",
       "      <td>ZCP4_0558</td>\n",
       "      <td>-0.084055</td>\n",
       "      <td>hypothetical protein</td>\n",
       "      <td>Function unknown</td>\n",
       "      <td>NaN</td>\n",
       "      <td>NaN</td>\n",
       "      <td>C-terminal region of a signal peptide.;Hydroph...</td>\n",
       "      <td>0.000000</td>\n",
       "      <td>0.000000</td>\n",
       "    </tr>\n",
       "    <tr>\n",
       "      <th>ZCP4_0666</th>\n",
       "      <td>ZCP4_0666</td>\n",
       "      <td>0.081692</td>\n",
       "      <td>flagella basal body P-ring formation protein FlgA</td>\n",
       "      <td>Cell motility</td>\n",
       "      <td>NaN</td>\n",
       "      <td>NaN</td>\n",
       "      <td>SignalP-TM;SignalP-noTM</td>\n",
       "      <td>0.000000</td>\n",
       "      <td>0.000000</td>\n",
       "    </tr>\n",
       "    <tr>\n",
       "      <th>ZCP4_1761</th>\n",
       "      <td>ZCP4_1761</td>\n",
       "      <td>0.081282</td>\n",
       "      <td>oxygen-independent coproporphyrinogen III oxidase</td>\n",
       "      <td>Coenzyme transport and metabolism</td>\n",
       "      <td>NaN</td>\n",
       "      <td>NaN</td>\n",
       "      <td>C-terminal region of a signal peptide.;Hydroph...</td>\n",
       "      <td>0.000000</td>\n",
       "      <td>0.000000</td>\n",
       "    </tr>\n",
       "    <tr>\n",
       "      <th>ZCP4_1103</th>\n",
       "      <td>ZCP4_1103</td>\n",
       "      <td>-0.077514</td>\n",
       "      <td>TPR repeat-containing protein</td>\n",
       "      <td>Function unknown</td>\n",
       "      <td>NaN</td>\n",
       "      <td>NaN</td>\n",
       "      <td>SignalP-TM;SignalP-noTM</td>\n",
       "      <td>0.000000</td>\n",
       "      <td>0.000000</td>\n",
       "    </tr>\n",
       "    <tr>\n",
       "      <th>ZCP4_1434</th>\n",
       "      <td>ZCP4_1434</td>\n",
       "      <td>0.077447</td>\n",
       "      <td>Protein of unknown function (DUF2794)</td>\n",
       "      <td>Function unknown</td>\n",
       "      <td>ZCP4_1387,ZCP4_1465</td>\n",
       "      <td>NaN</td>\n",
       "      <td>SignalP-TM;SignalP-noTM</td>\n",
       "      <td>0.000000</td>\n",
       "      <td>0.000000</td>\n",
       "    </tr>\n",
       "    <tr>\n",
       "      <th>ZCP4_1568</th>\n",
       "      <td>uvrA</td>\n",
       "      <td>0.076150</td>\n",
       "      <td>Excinuclease ABC subunit A</td>\n",
       "      <td>Replication, recombination and repair</td>\n",
       "      <td>NaN</td>\n",
       "      <td>NaN</td>\n",
       "      <td>SignalP-TM;SignalP-noTM</td>\n",
       "      <td>0.000000</td>\n",
       "      <td>0.000000</td>\n",
       "    </tr>\n",
       "    <tr>\n",
       "      <th>ZCP4_0167</th>\n",
       "      <td>ZCP4_0167</td>\n",
       "      <td>0.075807</td>\n",
       "      <td>putative amidophosphoribosyltransferase</td>\n",
       "      <td>Function unknown</td>\n",
       "      <td>NaN</td>\n",
       "      <td>NaN</td>\n",
       "      <td>SignalP-TM;SignalP-noTM</td>\n",
       "      <td>-1.305079</td>\n",
       "      <td>-1.582419</td>\n",
       "    </tr>\n",
       "    <tr>\n",
       "      <th>ZCP4_1433</th>\n",
       "      <td>ZCP4_1433</td>\n",
       "      <td>0.074953</td>\n",
       "      <td>serine O-acetyltransferase</td>\n",
       "      <td>Amino acid transport and metabolism</td>\n",
       "      <td>NaN</td>\n",
       "      <td>2.3.1.30</td>\n",
       "      <td>SignalP-TM;SignalP-noTM</td>\n",
       "      <td>-3.757895</td>\n",
       "      <td>-1.874359</td>\n",
       "    </tr>\n",
       "    <tr>\n",
       "      <th>ZCP4_0321</th>\n",
       "      <td>msrA</td>\n",
       "      <td>0.073825</td>\n",
       "      <td>methionine-S-sulfoxide reductase</td>\n",
       "      <td>Post-translational modification, protein turno...</td>\n",
       "      <td>NaN</td>\n",
       "      <td>1.8.4.11</td>\n",
       "      <td>C-terminal region of a signal peptide.;Hydroph...</td>\n",
       "      <td>0.000000</td>\n",
       "      <td>0.000000</td>\n",
       "    </tr>\n",
       "    <tr>\n",
       "      <th>ZCP4_0290</th>\n",
       "      <td>ZCP4_0290</td>\n",
       "      <td>0.069791</td>\n",
       "      <td>ABC-2 family transporter protein</td>\n",
       "      <td>Defense mechanisms</td>\n",
       "      <td>ZCP4_0900,ZCP4_1387</td>\n",
       "      <td>NaN</td>\n",
       "      <td>SignalP-TM;SignalP-noTM</td>\n",
       "      <td>0.000000</td>\n",
       "      <td>0.000000</td>\n",
       "    </tr>\n",
       "    <tr>\n",
       "      <th>ZCP4_0229</th>\n",
       "      <td>ZCP4_0229</td>\n",
       "      <td>0.069547</td>\n",
       "      <td>thioredoxin</td>\n",
       "      <td>Post-translational modification, protein turno...</td>\n",
       "      <td>NaN</td>\n",
       "      <td>NaN</td>\n",
       "      <td>SignalP-TM;SignalP-noTM</td>\n",
       "      <td>0.000000</td>\n",
       "      <td>-3.273125</td>\n",
       "    </tr>\n",
       "    <tr>\n",
       "      <th>ZCP4_0680</th>\n",
       "      <td>ZCP4_0680</td>\n",
       "      <td>0.068341</td>\n",
       "      <td>flagellar motor stator protein MotA</td>\n",
       "      <td>Cell motility</td>\n",
       "      <td>NaN</td>\n",
       "      <td>NaN</td>\n",
       "      <td>SignalP-TM;SignalP-noTM</td>\n",
       "      <td>0.000000</td>\n",
       "      <td>0.000000</td>\n",
       "    </tr>\n",
       "    <tr>\n",
       "      <th>ZCP4_0842</th>\n",
       "      <td>ZCP4_0842</td>\n",
       "      <td>-0.067853</td>\n",
       "      <td>putative outer membrane lipoprotein</td>\n",
       "      <td>Function unknown</td>\n",
       "      <td>ZCP4_0900,ZCP4_0900</td>\n",
       "      <td>NaN</td>\n",
       "      <td>SignalP-TM;SignalP-noTM</td>\n",
       "      <td>0.000000</td>\n",
       "      <td>0.000000</td>\n",
       "    </tr>\n",
       "    <tr>\n",
       "      <th>ZCP4_0852</th>\n",
       "      <td>ZCP4_0852</td>\n",
       "      <td>0.066747</td>\n",
       "      <td>Iron-regulated ABC transporter membrane compon...</td>\n",
       "      <td>Post-translational modification, protein turno...</td>\n",
       "      <td>NaN</td>\n",
       "      <td>NaN</td>\n",
       "      <td>SignalP-TM;SignalP-noTM</td>\n",
       "      <td>0.000000</td>\n",
       "      <td>0.000000</td>\n",
       "    </tr>\n",
       "    <tr>\n",
       "      <th>ZCP4_1232</th>\n",
       "      <td>ZCP4_1232</td>\n",
       "      <td>0.066669</td>\n",
       "      <td>arabinose efflux permease family protein</td>\n",
       "      <td>Amino acid transport and metabolism</td>\n",
       "      <td>ZCP4_0523</td>\n",
       "      <td>NaN</td>\n",
       "      <td>SignalP-TM;SignalP-noTM</td>\n",
       "      <td>0.000000</td>\n",
       "      <td>0.000000</td>\n",
       "    </tr>\n",
       "    <tr>\n",
       "      <th>ZCP4_0803</th>\n",
       "      <td>ZCP4_0803</td>\n",
       "      <td>0.065591</td>\n",
       "      <td>putative transmembrane sensor domain protein</td>\n",
       "      <td>Signal transduction mechanisms</td>\n",
       "      <td>NaN</td>\n",
       "      <td>NaN</td>\n",
       "      <td>SignalP-TM;SignalP-noTM</td>\n",
       "      <td>0.000000</td>\n",
       "      <td>0.000000</td>\n",
       "    </tr>\n",
       "    <tr>\n",
       "      <th>ZCP4_0412</th>\n",
       "      <td>ZCP4_0412</td>\n",
       "      <td>0.065299</td>\n",
       "      <td>2-isopropylmalate synthase</td>\n",
       "      <td>Amino acid transport and metabolism</td>\n",
       "      <td>NaN</td>\n",
       "      <td>2.3.3.13</td>\n",
       "      <td>C-terminal region of a signal peptide.;Hydroph...</td>\n",
       "      <td>0.000000</td>\n",
       "      <td>0.000000</td>\n",
       "    </tr>\n",
       "    <tr>\n",
       "      <th>ZCP4_0389</th>\n",
       "      <td>ZCP4_0389</td>\n",
       "      <td>-0.065192</td>\n",
       "      <td>cold-shock DNA-binding protein family</td>\n",
       "      <td>Transcription</td>\n",
       "      <td>ZCP4_0018,ZCP4_0018,ZCP4_0900,ZCP4_1718</td>\n",
       "      <td>NaN</td>\n",
       "      <td>SignalP-TM;SignalP-noTM</td>\n",
       "      <td>0.000000</td>\n",
       "      <td>0.000000</td>\n",
       "    </tr>\n",
       "    <tr>\n",
       "      <th>ZCP4_1065</th>\n",
       "      <td>ispG</td>\n",
       "      <td>0.064889</td>\n",
       "      <td>4-hydroxy-3-methylbut-2-en-1-yl diphosphate sy...</td>\n",
       "      <td>Lipid transport and metabolism</td>\n",
       "      <td>NaN</td>\n",
       "      <td>1.17.7.1,1.17.7.3</td>\n",
       "      <td>SignalP-TM;SignalP-noTM</td>\n",
       "      <td>0.000000</td>\n",
       "      <td>0.000000</td>\n",
       "    </tr>\n",
       "    <tr>\n",
       "      <th>ZCP4_1720</th>\n",
       "      <td>ZCP4_1720</td>\n",
       "      <td>-0.064835</td>\n",
       "      <td>bacterioferritin</td>\n",
       "      <td>Inorganic ion transport and metabolism</td>\n",
       "      <td>NaN</td>\n",
       "      <td>1.16.3.1</td>\n",
       "      <td>SignalP-TM;SignalP-noTM</td>\n",
       "      <td>0.000000</td>\n",
       "      <td>0.000000</td>\n",
       "    </tr>\n",
       "    <tr>\n",
       "      <th>ZCP4_0135</th>\n",
       "      <td>ZCP4_0135</td>\n",
       "      <td>0.064245</td>\n",
       "      <td>5-aminolevulinate synthase</td>\n",
       "      <td>Amino acid transport and metabolism</td>\n",
       "      <td>NaN</td>\n",
       "      <td>2.3.1.37</td>\n",
       "      <td>SignalP-TM;SignalP-noTM</td>\n",
       "      <td>-1.915669</td>\n",
       "      <td>0.000000</td>\n",
       "    </tr>\n",
       "    <tr>\n",
       "      <th>ZCP4_0150</th>\n",
       "      <td>ZCP4_0150</td>\n",
       "      <td>0.064186</td>\n",
       "      <td>flavin-dependent dehydrogenase</td>\n",
       "      <td>Energy production and conversion</td>\n",
       "      <td>NaN</td>\n",
       "      <td>1.5.5.1</td>\n",
       "      <td>C-terminal region of a signal peptide.;Hydroph...</td>\n",
       "      <td>-2.900999</td>\n",
       "      <td>0.000000</td>\n",
       "    </tr>\n",
       "    <tr>\n",
       "      <th>ZCP4_1442</th>\n",
       "      <td>ZCP4_1442</td>\n",
       "      <td>-0.062722</td>\n",
       "      <td>lactoylglutathione lyase-like lyase</td>\n",
       "      <td>Energy production and conversion</td>\n",
       "      <td>NaN</td>\n",
       "      <td>4.4.1.5</td>\n",
       "      <td>SignalP-TM;SignalP-noTM</td>\n",
       "      <td>0.000000</td>\n",
       "      <td>0.000000</td>\n",
       "    </tr>\n",
       "    <tr>\n",
       "      <th>ZCP4_1335</th>\n",
       "      <td>ZCP4_1335</td>\n",
       "      <td>-0.062309</td>\n",
       "      <td>putative Zn-ribbon-containing protein involved...</td>\n",
       "      <td>Inorganic ion transport and metabolism</td>\n",
       "      <td>ZCP4_1387</td>\n",
       "      <td>NaN</td>\n",
       "      <td>SignalP-TM;SignalP-noTM</td>\n",
       "      <td>0.000000</td>\n",
       "      <td>0.000000</td>\n",
       "    </tr>\n",
       "    <tr>\n",
       "      <th>ZCP4_1330</th>\n",
       "      <td>ZCP4_1330</td>\n",
       "      <td>0.062113</td>\n",
       "      <td>Protein of unknown function (DUF2023)</td>\n",
       "      <td>Function unknown</td>\n",
       "      <td>ZCP4_1387</td>\n",
       "      <td>NaN</td>\n",
       "      <td>SignalP-TM;SignalP-noTM</td>\n",
       "      <td>0.000000</td>\n",
       "      <td>0.000000</td>\n",
       "    </tr>\n",
       "    <tr>\n",
       "      <th>ZCP4_0079</th>\n",
       "      <td>ccmC</td>\n",
       "      <td>0.061463</td>\n",
       "      <td>heme exporter protein CcmC</td>\n",
       "      <td>Post-translational modification, protein turno...</td>\n",
       "      <td>NaN</td>\n",
       "      <td>NaN</td>\n",
       "      <td>SignalP-TM;SignalP-noTM</td>\n",
       "      <td>0.000000</td>\n",
       "      <td>0.000000</td>\n",
       "    </tr>\n",
       "    <tr>\n",
       "      <th>ZCP4_1726</th>\n",
       "      <td>ZCP4_1726</td>\n",
       "      <td>0.060544</td>\n",
       "      <td>DNA-directed RNA polymerase specialized sigma ...</td>\n",
       "      <td>Signal transduction mechanisms</td>\n",
       "      <td>ZCP4_0900</td>\n",
       "      <td>NaN</td>\n",
       "      <td>SignalP-TM;SignalP-noTM</td>\n",
       "      <td>0.000000</td>\n",
       "      <td>0.000000</td>\n",
       "    </tr>\n",
       "    <tr>\n",
       "      <th>ZCP4_1141</th>\n",
       "      <td>ZCP4_1141</td>\n",
       "      <td>0.060262</td>\n",
       "      <td>biotin synthase</td>\n",
       "      <td>Coenzyme transport and metabolism</td>\n",
       "      <td>NaN</td>\n",
       "      <td>2.8.1.6</td>\n",
       "      <td>SignalP-TM;SignalP-noTM</td>\n",
       "      <td>0.000000</td>\n",
       "      <td>-1.523165</td>\n",
       "    </tr>\n",
       "    <tr>\n",
       "      <th>ZCP4_0601</th>\n",
       "      <td>ZCP4_0601</td>\n",
       "      <td>-0.060188</td>\n",
       "      <td>peroxiredoxin%2C Ohr subfamily</td>\n",
       "      <td>Post-translational modification, protein turno...</td>\n",
       "      <td>ZCP4_1387,ZCP4_1465</td>\n",
       "      <td>NaN</td>\n",
       "      <td>SignalP-TM;SignalP-noTM</td>\n",
       "      <td>0.000000</td>\n",
       "      <td>0.000000</td>\n",
       "    </tr>\n",
       "    <tr>\n",
       "      <th>ZCP4_1386</th>\n",
       "      <td>ZCP4_1386</td>\n",
       "      <td>0.059644</td>\n",
       "      <td>hypothetical protein</td>\n",
       "      <td>Signal transduction mechanisms</td>\n",
       "      <td>ZCP4_0018,ZCP4_0530</td>\n",
       "      <td>NaN</td>\n",
       "      <td>SignalP-TM;SignalP-noTM</td>\n",
       "      <td>0.000000</td>\n",
       "      <td>0.000000</td>\n",
       "    </tr>\n",
       "    <tr>\n",
       "      <th>ZCP4_0199</th>\n",
       "      <td>lipA</td>\n",
       "      <td>0.059076</td>\n",
       "      <td>lipoate synthase</td>\n",
       "      <td>Coenzyme transport and metabolism</td>\n",
       "      <td>NaN</td>\n",
       "      <td>2.8.1.8</td>\n",
       "      <td>SignalP-TM;SignalP-noTM</td>\n",
       "      <td>-3.493984</td>\n",
       "      <td>0.000000</td>\n",
       "    </tr>\n",
       "    <tr>\n",
       "      <th>ZCP4_1714</th>\n",
       "      <td>ZCP4_1714</td>\n",
       "      <td>-0.058407</td>\n",
       "      <td>DNA/RNA helicase%2C superfamily II</td>\n",
       "      <td>Replication, recombination and repair</td>\n",
       "      <td>ZCP4_0900</td>\n",
       "      <td>3.6.4.13</td>\n",
       "      <td>SignalP-TM;SignalP-noTM</td>\n",
       "      <td>0.000000</td>\n",
       "      <td>-1.232627</td>\n",
       "    </tr>\n",
       "    <tr>\n",
       "      <th>ZCP4_1675</th>\n",
       "      <td>ZCP4_1675</td>\n",
       "      <td>0.057807</td>\n",
       "      <td>hypothetical protein</td>\n",
       "      <td>No COG annotation</td>\n",
       "      <td>ZCP4_0018,ZCP4_0128,ZCP4_0375,ZCP4_0523,ZCP4_0...</td>\n",
       "      <td>NaN</td>\n",
       "      <td>SignalP-TM;SignalP-noTM</td>\n",
       "      <td>0.000000</td>\n",
       "      <td>0.000000</td>\n",
       "    </tr>\n",
       "    <tr>\n",
       "      <th>ZCP4_0151</th>\n",
       "      <td>ZCP4_0151</td>\n",
       "      <td>0.057494</td>\n",
       "      <td>Tetratricopeptide repeat protein</td>\n",
       "      <td>Function unknown</td>\n",
       "      <td>NaN</td>\n",
       "      <td>NaN</td>\n",
       "      <td>SignalP-TM;SignalP-noTM</td>\n",
       "      <td>0.000000</td>\n",
       "      <td>0.000000</td>\n",
       "    </tr>\n",
       "    <tr>\n",
       "      <th>ZCP4_1001</th>\n",
       "      <td>ZCP4_1001</td>\n",
       "      <td>-0.056919</td>\n",
       "      <td>response regulator with CheY-like receiver dom...</td>\n",
       "      <td>Signal transduction mechanisms</td>\n",
       "      <td>ZCP4_0018</td>\n",
       "      <td>NaN</td>\n",
       "      <td>SignalP-TM;SignalP-noTM</td>\n",
       "      <td>-1.725242</td>\n",
       "      <td>0.000000</td>\n",
       "    </tr>\n",
       "    <tr>\n",
       "      <th>ZCP4_0551</th>\n",
       "      <td>ZCP4_0551</td>\n",
       "      <td>0.056843</td>\n",
       "      <td>cysteine synthase</td>\n",
       "      <td>Amino acid transport and metabolism</td>\n",
       "      <td>NaN</td>\n",
       "      <td>2.5.1.47</td>\n",
       "      <td>SignalP-TM;SignalP-noTM</td>\n",
       "      <td>0.000000</td>\n",
       "      <td>0.000000</td>\n",
       "    </tr>\n",
       "    <tr>\n",
       "      <th>ZCP4_1143</th>\n",
       "      <td>ZCP4_1143</td>\n",
       "      <td>-0.056683</td>\n",
       "      <td>dehydrogenase of unknown specificity%2C short-...</td>\n",
       "      <td>Lipid transport and metabolism</td>\n",
       "      <td>ZCP4_1387</td>\n",
       "      <td>NaN</td>\n",
       "      <td>SignalP-TM;SignalP-noTM</td>\n",
       "      <td>0.000000</td>\n",
       "      <td>0.000000</td>\n",
       "    </tr>\n",
       "    <tr>\n",
       "      <th>ZCP4_1046</th>\n",
       "      <td>lexA</td>\n",
       "      <td>0.055974</td>\n",
       "      <td>SOS-response transcriptional repressor%2C LexA</td>\n",
       "      <td>Transcription</td>\n",
       "      <td>NaN</td>\n",
       "      <td>3.4.21.88</td>\n",
       "      <td>SignalP-TM;SignalP-noTM</td>\n",
       "      <td>0.000000</td>\n",
       "      <td>0.000000</td>\n",
       "    </tr>\n",
       "    <tr>\n",
       "      <th>ZCP4_1478</th>\n",
       "      <td>ZCP4_1478</td>\n",
       "      <td>0.055178</td>\n",
       "      <td>phosphoserine aminotransferase apoenzyme</td>\n",
       "      <td>Amino acid transport and metabolism</td>\n",
       "      <td>NaN</td>\n",
       "      <td>2.6.1.52</td>\n",
       "      <td>Integrins beta chain cysteine-rich domain sign...</td>\n",
       "      <td>-2.907092</td>\n",
       "      <td>-2.264548</td>\n",
       "    </tr>\n",
       "    <tr>\n",
       "      <th>ZCP4_1477</th>\n",
       "      <td>ZCP4_1477</td>\n",
       "      <td>0.055044</td>\n",
       "      <td>D-3-phosphoglycerate dehydrogenase</td>\n",
       "      <td>Amino acid transport and metabolism</td>\n",
       "      <td>NaN</td>\n",
       "      <td>1.1.1.399,1.1.1.95</td>\n",
       "      <td>C-terminal cystine knot signature.;SignalP-TM</td>\n",
       "      <td>0.000000</td>\n",
       "      <td>0.000000</td>\n",
       "    </tr>\n",
       "    <tr>\n",
       "      <th>ZCP4_0573</th>\n",
       "      <td>secE</td>\n",
       "      <td>0.054723</td>\n",
       "      <td>protein translocase subunit secE/sec61 gamma</td>\n",
       "      <td>Intracellular trafficking, secretion, and vesi...</td>\n",
       "      <td>NaN</td>\n",
       "      <td>NaN</td>\n",
       "      <td>C-terminal region of a signal peptide.;Hydroph...</td>\n",
       "      <td>0.000000</td>\n",
       "      <td>0.000000</td>\n",
       "    </tr>\n",
       "    <tr>\n",
       "      <th>ZCP4_1678</th>\n",
       "      <td>ZCP4_1678</td>\n",
       "      <td>0.054023</td>\n",
       "      <td>putative threonine efflux protein</td>\n",
       "      <td>Amino acid transport and metabolism</td>\n",
       "      <td>ZCP4_0128,ZCP4_0375,ZCP4_1046</td>\n",
       "      <td>NaN</td>\n",
       "      <td>C-terminal region of a signal peptide.;Hydroph...</td>\n",
       "      <td>0.000000</td>\n",
       "      <td>0.000000</td>\n",
       "    </tr>\n",
       "  </tbody>\n",
       "</table>\n",
       "</div>"
      ],
      "text/plain": [
       "           gene_name  gene_weight  \\\n",
       "ZCP4_0614  ZCP4_0614     0.219477   \n",
       "ZCP4_1652  ZCP4_1652     0.156817   \n",
       "ZCP4_1555  ZCP4_1555     0.151989   \n",
       "ZCP4_0123  ZCP4_0123     0.149139   \n",
       "ZCP4_1599  ZCP4_1599     0.126830   \n",
       "ZCP4_1729  ZCP4_1729     0.119781   \n",
       "ZCP4_0230        rnr     0.112109   \n",
       "ZCP4_1730  ZCP4_1730     0.107883   \n",
       "ZCP4_0270  ZCP4_0270     0.106470   \n",
       "ZCP4_1930  ZCP4_1930    -0.102867   \n",
       "ZCP4_0324  ZCP4_0324    -0.101643   \n",
       "ZCP4_0953  ZCP4_0953     0.095366   \n",
       "ZCP4_0195  ZCP4_0195     0.092135   \n",
       "ZCP4_0995        dld     0.090885   \n",
       "ZCP4_0404  ZCP4_0404    -0.087980   \n",
       "ZCP4_1569  ZCP4_1569     0.087377   \n",
       "ZCP4_0291  ZCP4_0291     0.087293   \n",
       "ZCP4_1843  ZCP4_1843    -0.086550   \n",
       "ZCP4_0461  ZCP4_0461     0.085621   \n",
       "ZCP4_0804  ZCP4_0804     0.084864   \n",
       "ZCP4_0558  ZCP4_0558    -0.084055   \n",
       "ZCP4_0666  ZCP4_0666     0.081692   \n",
       "ZCP4_1761  ZCP4_1761     0.081282   \n",
       "ZCP4_1103  ZCP4_1103    -0.077514   \n",
       "ZCP4_1434  ZCP4_1434     0.077447   \n",
       "ZCP4_1568       uvrA     0.076150   \n",
       "ZCP4_0167  ZCP4_0167     0.075807   \n",
       "ZCP4_1433  ZCP4_1433     0.074953   \n",
       "ZCP4_0321       msrA     0.073825   \n",
       "ZCP4_0290  ZCP4_0290     0.069791   \n",
       "ZCP4_0229  ZCP4_0229     0.069547   \n",
       "ZCP4_0680  ZCP4_0680     0.068341   \n",
       "ZCP4_0842  ZCP4_0842    -0.067853   \n",
       "ZCP4_0852  ZCP4_0852     0.066747   \n",
       "ZCP4_1232  ZCP4_1232     0.066669   \n",
       "ZCP4_0803  ZCP4_0803     0.065591   \n",
       "ZCP4_0412  ZCP4_0412     0.065299   \n",
       "ZCP4_0389  ZCP4_0389    -0.065192   \n",
       "ZCP4_1065       ispG     0.064889   \n",
       "ZCP4_1720  ZCP4_1720    -0.064835   \n",
       "ZCP4_0135  ZCP4_0135     0.064245   \n",
       "ZCP4_0150  ZCP4_0150     0.064186   \n",
       "ZCP4_1442  ZCP4_1442    -0.062722   \n",
       "ZCP4_1335  ZCP4_1335    -0.062309   \n",
       "ZCP4_1330  ZCP4_1330     0.062113   \n",
       "ZCP4_0079       ccmC     0.061463   \n",
       "ZCP4_1726  ZCP4_1726     0.060544   \n",
       "ZCP4_1141  ZCP4_1141     0.060262   \n",
       "ZCP4_0601  ZCP4_0601    -0.060188   \n",
       "ZCP4_1386  ZCP4_1386     0.059644   \n",
       "ZCP4_0199       lipA     0.059076   \n",
       "ZCP4_1714  ZCP4_1714    -0.058407   \n",
       "ZCP4_1675  ZCP4_1675     0.057807   \n",
       "ZCP4_0151  ZCP4_0151     0.057494   \n",
       "ZCP4_1001  ZCP4_1001    -0.056919   \n",
       "ZCP4_0551  ZCP4_0551     0.056843   \n",
       "ZCP4_1143  ZCP4_1143    -0.056683   \n",
       "ZCP4_1046       lexA     0.055974   \n",
       "ZCP4_1478  ZCP4_1478     0.055178   \n",
       "ZCP4_1477  ZCP4_1477     0.055044   \n",
       "ZCP4_0573       secE     0.054723   \n",
       "ZCP4_1678  ZCP4_1678     0.054023   \n",
       "\n",
       "                                                gene_product  \\\n",
       "ZCP4_0614                                     nitroreductase   \n",
       "ZCP4_1652               ATP:cob(I)alamin adenosyltransferase   \n",
       "ZCP4_1555                           TIGR01244 family protein   \n",
       "ZCP4_0123                        NADPH-glutathione reductase   \n",
       "ZCP4_1599  short-chain dehydrogenase of unknown substrate...   \n",
       "ZCP4_1729     Iron-sulfur cluster assembly accessory protein   \n",
       "ZCP4_0230                                            RNAse R   \n",
       "ZCP4_1730                           Exodeoxyribonuclease III   \n",
       "ZCP4_0270              diguanylate cyclase/phosphodiesterase   \n",
       "ZCP4_1930                               hypothetical protein   \n",
       "ZCP4_0324                               hypothetical protein   \n",
       "ZCP4_0953              capsule polysaccharide export protein   \n",
       "ZCP4_0195                            cytochrome c peroxidase   \n",
       "ZCP4_0995                            D-lactate dehydrogenase   \n",
       "ZCP4_0404  periplasmic protein involved in polysaccharide...   \n",
       "ZCP4_1569                               hypothetical protein   \n",
       "ZCP4_0291  ABC-type multidrug transport system%2C ATPase ...   \n",
       "ZCP4_1843                    Helix-turn-helix domain protein   \n",
       "ZCP4_0461  response regulator with CheY-like receiver%2C ...   \n",
       "ZCP4_0804                                FecR family protein   \n",
       "ZCP4_0558                               hypothetical protein   \n",
       "ZCP4_0666  flagella basal body P-ring formation protein FlgA   \n",
       "ZCP4_1761  oxygen-independent coproporphyrinogen III oxidase   \n",
       "ZCP4_1103                      TPR repeat-containing protein   \n",
       "ZCP4_1434              Protein of unknown function (DUF2794)   \n",
       "ZCP4_1568                         Excinuclease ABC subunit A   \n",
       "ZCP4_0167            putative amidophosphoribosyltransferase   \n",
       "ZCP4_1433                         serine O-acetyltransferase   \n",
       "ZCP4_0321                   methionine-S-sulfoxide reductase   \n",
       "ZCP4_0290                   ABC-2 family transporter protein   \n",
       "ZCP4_0229                                        thioredoxin   \n",
       "ZCP4_0680                flagellar motor stator protein MotA   \n",
       "ZCP4_0842                putative outer membrane lipoprotein   \n",
       "ZCP4_0852  Iron-regulated ABC transporter membrane compon...   \n",
       "ZCP4_1232           arabinose efflux permease family protein   \n",
       "ZCP4_0803       putative transmembrane sensor domain protein   \n",
       "ZCP4_0412                         2-isopropylmalate synthase   \n",
       "ZCP4_0389              cold-shock DNA-binding protein family   \n",
       "ZCP4_1065  4-hydroxy-3-methylbut-2-en-1-yl diphosphate sy...   \n",
       "ZCP4_1720                                   bacterioferritin   \n",
       "ZCP4_0135                         5-aminolevulinate synthase   \n",
       "ZCP4_0150                     flavin-dependent dehydrogenase   \n",
       "ZCP4_1442                lactoylglutathione lyase-like lyase   \n",
       "ZCP4_1335  putative Zn-ribbon-containing protein involved...   \n",
       "ZCP4_1330              Protein of unknown function (DUF2023)   \n",
       "ZCP4_0079                         heme exporter protein CcmC   \n",
       "ZCP4_1726  DNA-directed RNA polymerase specialized sigma ...   \n",
       "ZCP4_1141                                    biotin synthase   \n",
       "ZCP4_0601                     peroxiredoxin%2C Ohr subfamily   \n",
       "ZCP4_1386                               hypothetical protein   \n",
       "ZCP4_0199                                   lipoate synthase   \n",
       "ZCP4_1714                 DNA/RNA helicase%2C superfamily II   \n",
       "ZCP4_1675                               hypothetical protein   \n",
       "ZCP4_0151                   Tetratricopeptide repeat protein   \n",
       "ZCP4_1001  response regulator with CheY-like receiver dom...   \n",
       "ZCP4_0551                                  cysteine synthase   \n",
       "ZCP4_1143  dehydrogenase of unknown specificity%2C short-...   \n",
       "ZCP4_1046     SOS-response transcriptional repressor%2C LexA   \n",
       "ZCP4_1478           phosphoserine aminotransferase apoenzyme   \n",
       "ZCP4_1477                 D-3-phosphoglycerate dehydrogenase   \n",
       "ZCP4_0573       protein translocase subunit secE/sec61 gamma   \n",
       "ZCP4_1678                  putative threonine efflux protein   \n",
       "\n",
       "                                                         COG  \\\n",
       "ZCP4_0614                   Energy production and conversion   \n",
       "ZCP4_1652                                   Function unknown   \n",
       "ZCP4_1555                                   Function unknown   \n",
       "ZCP4_0123                   Energy production and conversion   \n",
       "ZCP4_1599                                   Function unknown   \n",
       "ZCP4_1729                                   Function unknown   \n",
       "ZCP4_0230    Translation, ribosomal structure and biogenesis   \n",
       "ZCP4_1730              Replication, recombination and repair   \n",
       "ZCP4_0270                     Signal transduction mechanisms   \n",
       "ZCP4_1930                                  No COG annotation   \n",
       "ZCP4_0324                                      Transcription   \n",
       "ZCP4_0953             Cell wall/membrane/envelope biogenesis   \n",
       "ZCP4_0195                   Energy production and conversion   \n",
       "ZCP4_0995                   Energy production and conversion   \n",
       "ZCP4_0404             Cell wall/membrane/envelope biogenesis   \n",
       "ZCP4_1569                                  No COG annotation   \n",
       "ZCP4_0291                                 Defense mechanisms   \n",
       "ZCP4_1843                                      Transcription   \n",
       "ZCP4_0461                                      Transcription   \n",
       "ZCP4_0804             Cell wall/membrane/envelope biogenesis   \n",
       "ZCP4_0558                                   Function unknown   \n",
       "ZCP4_0666                                      Cell motility   \n",
       "ZCP4_1761                  Coenzyme transport and metabolism   \n",
       "ZCP4_1103                                   Function unknown   \n",
       "ZCP4_1434                                   Function unknown   \n",
       "ZCP4_1568              Replication, recombination and repair   \n",
       "ZCP4_0167                                   Function unknown   \n",
       "ZCP4_1433                Amino acid transport and metabolism   \n",
       "ZCP4_0321  Post-translational modification, protein turno...   \n",
       "ZCP4_0290                                 Defense mechanisms   \n",
       "ZCP4_0229  Post-translational modification, protein turno...   \n",
       "ZCP4_0680                                      Cell motility   \n",
       "ZCP4_0842                                   Function unknown   \n",
       "ZCP4_0852  Post-translational modification, protein turno...   \n",
       "ZCP4_1232                Amino acid transport and metabolism   \n",
       "ZCP4_0803                     Signal transduction mechanisms   \n",
       "ZCP4_0412                Amino acid transport and metabolism   \n",
       "ZCP4_0389                                      Transcription   \n",
       "ZCP4_1065                     Lipid transport and metabolism   \n",
       "ZCP4_1720             Inorganic ion transport and metabolism   \n",
       "ZCP4_0135                Amino acid transport and metabolism   \n",
       "ZCP4_0150                   Energy production and conversion   \n",
       "ZCP4_1442                   Energy production and conversion   \n",
       "ZCP4_1335             Inorganic ion transport and metabolism   \n",
       "ZCP4_1330                                   Function unknown   \n",
       "ZCP4_0079  Post-translational modification, protein turno...   \n",
       "ZCP4_1726                     Signal transduction mechanisms   \n",
       "ZCP4_1141                  Coenzyme transport and metabolism   \n",
       "ZCP4_0601  Post-translational modification, protein turno...   \n",
       "ZCP4_1386                     Signal transduction mechanisms   \n",
       "ZCP4_0199                  Coenzyme transport and metabolism   \n",
       "ZCP4_1714              Replication, recombination and repair   \n",
       "ZCP4_1675                                  No COG annotation   \n",
       "ZCP4_0151                                   Function unknown   \n",
       "ZCP4_1001                     Signal transduction mechanisms   \n",
       "ZCP4_0551                Amino acid transport and metabolism   \n",
       "ZCP4_1143                     Lipid transport and metabolism   \n",
       "ZCP4_1046                                      Transcription   \n",
       "ZCP4_1478                Amino acid transport and metabolism   \n",
       "ZCP4_1477                Amino acid transport and metabolism   \n",
       "ZCP4_0573  Intracellular trafficking, secretion, and vesi...   \n",
       "ZCP4_1678                Amino acid transport and metabolism   \n",
       "\n",
       "                                                   regulator  \\\n",
       "ZCP4_0614                                                NaN   \n",
       "ZCP4_1652  ZCP4_0018,ZCP4_0018,ZCP4_0128,ZCP4_0210,ZCP4_0...   \n",
       "ZCP4_1555                                          ZCP4_1387   \n",
       "ZCP4_0123                                                NaN   \n",
       "ZCP4_1599            ZCP4_0018,ZCP4_1382,ZCP4_1718,ZCP4_1718   \n",
       "ZCP4_1729                                          ZCP4_1387   \n",
       "ZCP4_0230                                                NaN   \n",
       "ZCP4_1730                                                NaN   \n",
       "ZCP4_0270  ZCP4_0018,ZCP4_0128,ZCP4_0128,ZCP4_0210,ZCP4_0...   \n",
       "ZCP4_1930                                                NaN   \n",
       "ZCP4_0324                      ZCP4_0128,ZCP4_1046,ZCP4_1465   \n",
       "ZCP4_0953                                                NaN   \n",
       "ZCP4_0195                                                NaN   \n",
       "ZCP4_0995            ZCP4_0018,ZCP4_0128,ZCP4_0900,ZCP4_1718   \n",
       "ZCP4_0404                                ZCP4_0128,ZCP4_1387   \n",
       "ZCP4_1569                                          ZCP4_0375   \n",
       "ZCP4_0291                                          ZCP4_1387   \n",
       "ZCP4_1843                                                NaN   \n",
       "ZCP4_0461                                                NaN   \n",
       "ZCP4_0804                      ZCP4_0018,ZCP4_1046,ZCP4_1137   \n",
       "ZCP4_0558                                                NaN   \n",
       "ZCP4_0666                                                NaN   \n",
       "ZCP4_1761                                                NaN   \n",
       "ZCP4_1103                                                NaN   \n",
       "ZCP4_1434                                ZCP4_1387,ZCP4_1465   \n",
       "ZCP4_1568                                                NaN   \n",
       "ZCP4_0167                                                NaN   \n",
       "ZCP4_1433                                                NaN   \n",
       "ZCP4_0321                                                NaN   \n",
       "ZCP4_0290                                ZCP4_0900,ZCP4_1387   \n",
       "ZCP4_0229                                                NaN   \n",
       "ZCP4_0680                                                NaN   \n",
       "ZCP4_0842                                ZCP4_0900,ZCP4_0900   \n",
       "ZCP4_0852                                                NaN   \n",
       "ZCP4_1232                                          ZCP4_0523   \n",
       "ZCP4_0803                                                NaN   \n",
       "ZCP4_0412                                                NaN   \n",
       "ZCP4_0389            ZCP4_0018,ZCP4_0018,ZCP4_0900,ZCP4_1718   \n",
       "ZCP4_1065                                                NaN   \n",
       "ZCP4_1720                                                NaN   \n",
       "ZCP4_0135                                                NaN   \n",
       "ZCP4_0150                                                NaN   \n",
       "ZCP4_1442                                                NaN   \n",
       "ZCP4_1335                                          ZCP4_1387   \n",
       "ZCP4_1330                                          ZCP4_1387   \n",
       "ZCP4_0079                                                NaN   \n",
       "ZCP4_1726                                          ZCP4_0900   \n",
       "ZCP4_1141                                                NaN   \n",
       "ZCP4_0601                                ZCP4_1387,ZCP4_1465   \n",
       "ZCP4_1386                                ZCP4_0018,ZCP4_0530   \n",
       "ZCP4_0199                                                NaN   \n",
       "ZCP4_1714                                          ZCP4_0900   \n",
       "ZCP4_1675  ZCP4_0018,ZCP4_0128,ZCP4_0375,ZCP4_0523,ZCP4_0...   \n",
       "ZCP4_0151                                                NaN   \n",
       "ZCP4_1001                                          ZCP4_0018   \n",
       "ZCP4_0551                                                NaN   \n",
       "ZCP4_1143                                          ZCP4_1387   \n",
       "ZCP4_1046                                                NaN   \n",
       "ZCP4_1478                                                NaN   \n",
       "ZCP4_1477                                                NaN   \n",
       "ZCP4_0573                                                NaN   \n",
       "ZCP4_1678                      ZCP4_0128,ZCP4_0375,ZCP4_1046   \n",
       "\n",
       "                    EC_number  \\\n",
       "ZCP4_0614                 NaN   \n",
       "ZCP4_1652            2.5.1.17   \n",
       "ZCP4_1555                 NaN   \n",
       "ZCP4_0123             1.8.1.7   \n",
       "ZCP4_1599                 NaN   \n",
       "ZCP4_1729                 NaN   \n",
       "ZCP4_0230                 NaN   \n",
       "ZCP4_1730            3.1.11.2   \n",
       "ZCP4_0270                 NaN   \n",
       "ZCP4_1930                 NaN   \n",
       "ZCP4_0324                 NaN   \n",
       "ZCP4_0953                 NaN   \n",
       "ZCP4_0195            1.11.1.5   \n",
       "ZCP4_0995            1.1.5.12   \n",
       "ZCP4_0404                 NaN   \n",
       "ZCP4_1569                 NaN   \n",
       "ZCP4_0291                 NaN   \n",
       "ZCP4_1843                 NaN   \n",
       "ZCP4_0461                 NaN   \n",
       "ZCP4_0804                 NaN   \n",
       "ZCP4_0558                 NaN   \n",
       "ZCP4_0666                 NaN   \n",
       "ZCP4_1761                 NaN   \n",
       "ZCP4_1103                 NaN   \n",
       "ZCP4_1434                 NaN   \n",
       "ZCP4_1568                 NaN   \n",
       "ZCP4_0167                 NaN   \n",
       "ZCP4_1433            2.3.1.30   \n",
       "ZCP4_0321            1.8.4.11   \n",
       "ZCP4_0290                 NaN   \n",
       "ZCP4_0229                 NaN   \n",
       "ZCP4_0680                 NaN   \n",
       "ZCP4_0842                 NaN   \n",
       "ZCP4_0852                 NaN   \n",
       "ZCP4_1232                 NaN   \n",
       "ZCP4_0803                 NaN   \n",
       "ZCP4_0412            2.3.3.13   \n",
       "ZCP4_0389                 NaN   \n",
       "ZCP4_1065   1.17.7.1,1.17.7.3   \n",
       "ZCP4_1720            1.16.3.1   \n",
       "ZCP4_0135            2.3.1.37   \n",
       "ZCP4_0150             1.5.5.1   \n",
       "ZCP4_1442             4.4.1.5   \n",
       "ZCP4_1335                 NaN   \n",
       "ZCP4_1330                 NaN   \n",
       "ZCP4_0079                 NaN   \n",
       "ZCP4_1726                 NaN   \n",
       "ZCP4_1141             2.8.1.6   \n",
       "ZCP4_0601                 NaN   \n",
       "ZCP4_1386                 NaN   \n",
       "ZCP4_0199             2.8.1.8   \n",
       "ZCP4_1714            3.6.4.13   \n",
       "ZCP4_1675                 NaN   \n",
       "ZCP4_0151                 NaN   \n",
       "ZCP4_1001                 NaN   \n",
       "ZCP4_0551            2.5.1.47   \n",
       "ZCP4_1143                 NaN   \n",
       "ZCP4_1046           3.4.21.88   \n",
       "ZCP4_1478            2.6.1.52   \n",
       "ZCP4_1477  1.1.1.399,1.1.1.95   \n",
       "ZCP4_0573                 NaN   \n",
       "ZCP4_1678                 NaN   \n",
       "\n",
       "                                         interpro_annotation  \\\n",
       "ZCP4_0614                            SignalP-TM;SignalP-noTM   \n",
       "ZCP4_1652  C-terminal region of a signal peptide.;Hydroph...   \n",
       "ZCP4_1555                            SignalP-TM;SignalP-noTM   \n",
       "ZCP4_0123                            SignalP-TM;SignalP-noTM   \n",
       "ZCP4_1599                            SignalP-TM;SignalP-noTM   \n",
       "ZCP4_1729  C-terminal region of a signal peptide.;Hydroph...   \n",
       "ZCP4_0230  C-terminal region of a signal peptide.;Hydroph...   \n",
       "ZCP4_1730  C-terminal region of a signal peptide.;Hydroph...   \n",
       "ZCP4_0270  C-terminal region of a signal peptide.;Hydroph...   \n",
       "ZCP4_1930  C-terminal region of a signal peptide.;Hydroph...   \n",
       "ZCP4_0324                            SignalP-TM;SignalP-noTM   \n",
       "ZCP4_0953                            SignalP-TM;SignalP-noTM   \n",
       "ZCP4_0195                            SignalP-TM;SignalP-noTM   \n",
       "ZCP4_0995                            SignalP-TM;SignalP-noTM   \n",
       "ZCP4_0404                            SignalP-TM;SignalP-noTM   \n",
       "ZCP4_1569                            SignalP-TM;SignalP-noTM   \n",
       "ZCP4_0291                            SignalP-TM;SignalP-noTM   \n",
       "ZCP4_1843                            SignalP-TM;SignalP-noTM   \n",
       "ZCP4_0461  C-terminal region of a signal peptide.;Hydroph...   \n",
       "ZCP4_0804                            SignalP-TM;SignalP-noTM   \n",
       "ZCP4_0558  C-terminal region of a signal peptide.;Hydroph...   \n",
       "ZCP4_0666                            SignalP-TM;SignalP-noTM   \n",
       "ZCP4_1761  C-terminal region of a signal peptide.;Hydroph...   \n",
       "ZCP4_1103                            SignalP-TM;SignalP-noTM   \n",
       "ZCP4_1434                            SignalP-TM;SignalP-noTM   \n",
       "ZCP4_1568                            SignalP-TM;SignalP-noTM   \n",
       "ZCP4_0167                            SignalP-TM;SignalP-noTM   \n",
       "ZCP4_1433                            SignalP-TM;SignalP-noTM   \n",
       "ZCP4_0321  C-terminal region of a signal peptide.;Hydroph...   \n",
       "ZCP4_0290                            SignalP-TM;SignalP-noTM   \n",
       "ZCP4_0229                            SignalP-TM;SignalP-noTM   \n",
       "ZCP4_0680                            SignalP-TM;SignalP-noTM   \n",
       "ZCP4_0842                            SignalP-TM;SignalP-noTM   \n",
       "ZCP4_0852                            SignalP-TM;SignalP-noTM   \n",
       "ZCP4_1232                            SignalP-TM;SignalP-noTM   \n",
       "ZCP4_0803                            SignalP-TM;SignalP-noTM   \n",
       "ZCP4_0412  C-terminal region of a signal peptide.;Hydroph...   \n",
       "ZCP4_0389                            SignalP-TM;SignalP-noTM   \n",
       "ZCP4_1065                            SignalP-TM;SignalP-noTM   \n",
       "ZCP4_1720                            SignalP-TM;SignalP-noTM   \n",
       "ZCP4_0135                            SignalP-TM;SignalP-noTM   \n",
       "ZCP4_0150  C-terminal region of a signal peptide.;Hydroph...   \n",
       "ZCP4_1442                            SignalP-TM;SignalP-noTM   \n",
       "ZCP4_1335                            SignalP-TM;SignalP-noTM   \n",
       "ZCP4_1330                            SignalP-TM;SignalP-noTM   \n",
       "ZCP4_0079                            SignalP-TM;SignalP-noTM   \n",
       "ZCP4_1726                            SignalP-TM;SignalP-noTM   \n",
       "ZCP4_1141                            SignalP-TM;SignalP-noTM   \n",
       "ZCP4_0601                            SignalP-TM;SignalP-noTM   \n",
       "ZCP4_1386                            SignalP-TM;SignalP-noTM   \n",
       "ZCP4_0199                            SignalP-TM;SignalP-noTM   \n",
       "ZCP4_1714                            SignalP-TM;SignalP-noTM   \n",
       "ZCP4_1675                            SignalP-TM;SignalP-noTM   \n",
       "ZCP4_0151                            SignalP-TM;SignalP-noTM   \n",
       "ZCP4_1001                            SignalP-TM;SignalP-noTM   \n",
       "ZCP4_0551                            SignalP-TM;SignalP-noTM   \n",
       "ZCP4_1143                            SignalP-TM;SignalP-noTM   \n",
       "ZCP4_1046                            SignalP-TM;SignalP-noTM   \n",
       "ZCP4_1478  Integrins beta chain cysteine-rich domain sign...   \n",
       "ZCP4_1477      C-terminal cystine knot signature.;SignalP-TM   \n",
       "ZCP4_0573  C-terminal region of a signal peptide.;Hydroph...   \n",
       "ZCP4_1678  C-terminal region of a signal peptide.;Hydroph...   \n",
       "\n",
       "           aerobic_essential  anaerobic_essential  \n",
       "ZCP4_0614          -1.614610             0.000000  \n",
       "ZCP4_1652           0.000000             0.000000  \n",
       "ZCP4_1555           0.000000             0.000000  \n",
       "ZCP4_0123           0.000000             0.000000  \n",
       "ZCP4_1599           0.000000             0.000000  \n",
       "ZCP4_1729           0.000000             0.000000  \n",
       "ZCP4_0230           0.000000             0.000000  \n",
       "ZCP4_1730           0.000000             0.000000  \n",
       "ZCP4_0270           0.000000             0.000000  \n",
       "ZCP4_1930           0.000000             0.000000  \n",
       "ZCP4_0324           0.000000             0.000000  \n",
       "ZCP4_0953           0.000000             0.000000  \n",
       "ZCP4_0195           0.000000             0.000000  \n",
       "ZCP4_0995           0.000000             0.000000  \n",
       "ZCP4_0404           0.000000             0.000000  \n",
       "ZCP4_1569           0.000000             0.000000  \n",
       "ZCP4_0291           0.000000             0.000000  \n",
       "ZCP4_1843          -1.873302            -2.432833  \n",
       "ZCP4_0461           0.000000             0.000000  \n",
       "ZCP4_0804           0.000000             0.000000  \n",
       "ZCP4_0558           0.000000             0.000000  \n",
       "ZCP4_0666           0.000000             0.000000  \n",
       "ZCP4_1761           0.000000             0.000000  \n",
       "ZCP4_1103           0.000000             0.000000  \n",
       "ZCP4_1434           0.000000             0.000000  \n",
       "ZCP4_1568           0.000000             0.000000  \n",
       "ZCP4_0167          -1.305079            -1.582419  \n",
       "ZCP4_1433          -3.757895            -1.874359  \n",
       "ZCP4_0321           0.000000             0.000000  \n",
       "ZCP4_0290           0.000000             0.000000  \n",
       "ZCP4_0229           0.000000            -3.273125  \n",
       "ZCP4_0680           0.000000             0.000000  \n",
       "ZCP4_0842           0.000000             0.000000  \n",
       "ZCP4_0852           0.000000             0.000000  \n",
       "ZCP4_1232           0.000000             0.000000  \n",
       "ZCP4_0803           0.000000             0.000000  \n",
       "ZCP4_0412           0.000000             0.000000  \n",
       "ZCP4_0389           0.000000             0.000000  \n",
       "ZCP4_1065           0.000000             0.000000  \n",
       "ZCP4_1720           0.000000             0.000000  \n",
       "ZCP4_0135          -1.915669             0.000000  \n",
       "ZCP4_0150          -2.900999             0.000000  \n",
       "ZCP4_1442           0.000000             0.000000  \n",
       "ZCP4_1335           0.000000             0.000000  \n",
       "ZCP4_1330           0.000000             0.000000  \n",
       "ZCP4_0079           0.000000             0.000000  \n",
       "ZCP4_1726           0.000000             0.000000  \n",
       "ZCP4_1141           0.000000            -1.523165  \n",
       "ZCP4_0601           0.000000             0.000000  \n",
       "ZCP4_1386           0.000000             0.000000  \n",
       "ZCP4_0199          -3.493984             0.000000  \n",
       "ZCP4_1714           0.000000            -1.232627  \n",
       "ZCP4_1675           0.000000             0.000000  \n",
       "ZCP4_0151           0.000000             0.000000  \n",
       "ZCP4_1001          -1.725242             0.000000  \n",
       "ZCP4_0551           0.000000             0.000000  \n",
       "ZCP4_1143           0.000000             0.000000  \n",
       "ZCP4_1046           0.000000             0.000000  \n",
       "ZCP4_1478          -2.907092            -2.264548  \n",
       "ZCP4_1477           0.000000             0.000000  \n",
       "ZCP4_0573           0.000000             0.000000  \n",
       "ZCP4_1678           0.000000             0.000000  "
      ]
     },
     "execution_count": 3,
     "metadata": {},
     "output_type": "execute_result"
    }
   ],
   "source": [
    "pd.set_option('display.max_rows', 500)\n",
    "impt_cols = ['gene_name', 'gene_weight', 'gene_product', 'COG', 'regulator', 'EC_number', 'interpro_annotation', 'aerobic_essential', 'anaerobic_essential']\n",
    "df = ica_data.view_imodulon(iM_ct).sort_values(by = 'gene_weight', ascending = False, key = abs)\n",
    "super_impt_cols = ['gene_weight', 'gene_product', 'COG', 'EC_number']\n",
    "df[impt_cols]"
   ]
  },
  {
   "cell_type": "code",
   "execution_count": 4,
   "metadata": {
    "tags": []
   },
   "outputs": [
    {
     "data": {
      "image/png": "[encoded data removed]",
      "text/plain": [
       "<Figure size 1000x1000 with 4 Axes>"
      ]
     },
     "metadata": {},
     "output_type": "display_data"
    }
   ],
   "source": [
    "df = ica_data.X.loc[ica_data.view_imodulon(iM_ct).index]\n",
    "sns.clustermap(df.T.corr(), vmin = -1, vmax = 1)\n",
    "plt.show()"
   ]
  },
  {
   "cell_type": "code",
   "execution_count": 5,
   "metadata": {
    "tags": []
   },
   "outputs": [
    {
     "data": {
      "image/png": "[encoded data removed]",
      "text/plain": [
       "<Figure size 640x480 with 1 Axes>"
      ]
     },
     "metadata": {},
     "output_type": "display_data"
    }
   ],
   "source": [
    "custom_plot_gene_weights(ica_data, iM_ct)\n",
    "plt.show()"
   ]
  },
  {
   "cell_type": "code",
   "execution_count": 6,
   "metadata": {
    "tags": []
   },
   "outputs": [
    {
     "data": {
      "image/png": "[encoded data removed]",
      "text/plain": [
       "<Figure size 2130x200 with 1 Axes>"
      ]
     },
     "metadata": {},
     "output_type": "display_data"
    }
   ],
   "source": [
    "plot_activities(ica_data, iM_ct, highlight=['multistage_ferment_AFEX'])#'low_pH_evo'])\n",
    "plt.show()"
   ]
  },
  {
   "cell_type": "code",
   "execution_count": 7,
   "metadata": {
    "tags": []
   },
   "outputs": [
    {
     "data": {
      "text/html": [
       "<div>\n",
       "<style scoped>\n",
       "    .dataframe tbody tr th:only-of-type {\n",
       "        vertical-align: middle;\n",
       "    }\n",
       "\n",
       "    .dataframe tbody tr th {\n",
       "        vertical-align: top;\n",
       "    }\n",
       "\n",
       "    .dataframe thead th {\n",
       "        text-align: right;\n",
       "    }\n",
       "</style>\n",
       "<table border=\"1\" class=\"dataframe\">\n",
       "  <thead>\n",
       "    <tr style=\"text-align: right;\">\n",
       "      <th></th>\n",
       "      <th>p_value</th>\n",
       "      <th>q_value</th>\n",
       "      <th>most_enriched</th>\n",
       "      <th>precision</th>\n",
       "      <th>recall</th>\n",
       "    </tr>\n",
       "    <tr>\n",
       "      <th>Category</th>\n",
       "      <th></th>\n",
       "      <th></th>\n",
       "      <th></th>\n",
       "      <th></th>\n",
       "      <th></th>\n",
       "    </tr>\n",
       "  </thead>\n",
       "  <tbody>\n",
       "    <tr>\n",
       "      <th>gene_KO</th>\n",
       "      <td>0.000004</td>\n",
       "      <td>0.000047</td>\n",
       "      <td>zur</td>\n",
       "      <td>0.666667</td>\n",
       "      <td>0.111111</td>\n",
       "    </tr>\n",
       "    <tr>\n",
       "      <th>project</th>\n",
       "      <td>0.000008</td>\n",
       "      <td>0.000050</td>\n",
       "      <td>MMG_RMG_oxidative</td>\n",
       "      <td>0.333333</td>\n",
       "      <td>0.333333</td>\n",
       "    </tr>\n",
       "    <tr>\n",
       "      <th>pH</th>\n",
       "      <td>0.000022</td>\n",
       "      <td>0.000096</td>\n",
       "      <td>6.4</td>\n",
       "      <td>0.333333</td>\n",
       "      <td>0.333333</td>\n",
       "    </tr>\n",
       "    <tr>\n",
       "      <th>Base Media</th>\n",
       "      <td>0.000972</td>\n",
       "      <td>0.003160</td>\n",
       "      <td>MMG</td>\n",
       "      <td>0.175000</td>\n",
       "      <td>0.388889</td>\n",
       "    </tr>\n",
       "    <tr>\n",
       "      <th>Carbon Source (g/L)</th>\n",
       "      <td>0.005737</td>\n",
       "      <td>0.014916</td>\n",
       "      <td>glucose</td>\n",
       "      <td>0.132653</td>\n",
       "      <td>0.722222</td>\n",
       "    </tr>\n",
       "  </tbody>\n",
       "</table>\n",
       "</div>"
      ],
      "text/plain": [
       "                      p_value   q_value      most_enriched  precision  \\\n",
       "Category                                                                \n",
       "gene_KO              0.000004  0.000047                zur   0.666667   \n",
       "project              0.000008  0.000050  MMG_RMG_oxidative   0.333333   \n",
       "pH                   0.000022  0.000096                6.4   0.333333   \n",
       "Base Media           0.000972  0.003160                MMG   0.175000   \n",
       "Carbon Source (g/L)  0.005737  0.014916            glucose   0.132653   \n",
       "\n",
       "                       recall  \n",
       "Category                       \n",
       "gene_KO              0.111111  \n",
       "project              0.333333  \n",
       "pH                   0.333333  \n",
       "Base Media           0.388889  \n",
       "Carbon Source (g/L)  0.722222  "
      ]
     },
     "execution_count": 7,
     "metadata": {},
     "output_type": "execute_result"
    }
   ],
   "source": [
    "out = metadata_enrichment(ica_data, iM_ct)\n",
    "out[out['q_value'] < 0.10]"
   ]
  },
  {
   "cell_type": "code",
   "execution_count": 8,
   "metadata": {
    "tags": []
   },
   "outputs": [
    {
     "data": {
      "text/html": [
       "<div>\n",
       "<style scoped>\n",
       "    .dataframe tbody tr th:only-of-type {\n",
       "        vertical-align: middle;\n",
       "    }\n",
       "\n",
       "    .dataframe tbody tr th {\n",
       "        vertical-align: top;\n",
       "    }\n",
       "\n",
       "    .dataframe thead th {\n",
       "        text-align: right;\n",
       "    }\n",
       "</style>\n",
       "<table border=\"1\" class=\"dataframe\">\n",
       "  <thead>\n",
       "    <tr style=\"text-align: right;\">\n",
       "      <th></th>\n",
       "      <th>p_value</th>\n",
       "      <th>q_value</th>\n",
       "      <th>most_enriched</th>\n",
       "      <th>precision</th>\n",
       "      <th>recall</th>\n",
       "    </tr>\n",
       "    <tr>\n",
       "      <th>Category</th>\n",
       "      <th></th>\n",
       "      <th></th>\n",
       "      <th></th>\n",
       "      <th></th>\n",
       "      <th></th>\n",
       "    </tr>\n",
       "  </thead>\n",
       "  <tbody>\n",
       "  </tbody>\n",
       "</table>\n",
       "</div>"
      ],
      "text/plain": [
       "Empty DataFrame\n",
       "Columns: [p_value, q_value, most_enriched, precision, recall]\n",
       "Index: []"
      ]
     },
     "execution_count": 8,
     "metadata": {},
     "output_type": "execute_result"
    }
   ],
   "source": [
    "out = genes_enrichment(ica_data, iM_ct)\n",
    "out[out['q_value'] < 0.10]"
   ]
  },
  {
   "cell_type": "markdown",
   "metadata": {
    "jp-MarkdownHeadingCollapsed": true,
    "tags": []
   },
   "source": [
    "# below is as forked from SBRG/iModulonMiner, ignoring it for now"
   ]
  },
  {
   "cell_type": "markdown",
   "metadata": {
    "jp-MarkdownHeadingCollapsed": true,
    "tags": []
   },
   "source": [
    "## Add iModulon category"
   ]
  },
  {
   "cell_type": "code",
   "execution_count": null,
   "metadata": {
    "tags": []
   },
   "outputs": [],
   "source": [
    "for i,row in ica_data.imodulon_table.iterrows():\n",
    "    if pd.notnull(row.regulator):\n",
    "        ica_data.imodulon_table.loc[i, 'category'] = 'regulatory'\n",
    "    elif pd.notnull(row.single_gene):\n",
    "        ica_data.imodulon_table.loc[i, 'category'] = 'single_gene'\n",
    "    else:\n",
    "        ica_data.imodulon_table.loc[i, 'category'] = 'uncharacterized'"
   ]
  },
  {
   "cell_type": "code",
   "execution_count": null,
   "metadata": {},
   "outputs": [],
   "source": [
    "ica_data.imodulon_table.head()"
   ]
  },
  {
   "cell_type": "markdown",
   "metadata": {
    "tags": []
   },
   "source": [
    "## Inspect all iModulons without an automated annotation"
   ]
  },
  {
   "cell_type": "code",
   "execution_count": null,
   "metadata": {
    "tags": []
   },
   "outputs": [],
   "source": [
    "unchar_imods = ica_data.imodulon_table[ica_data.imodulon_table.category == 'uncharacterized']"
   ]
  },
  {
   "cell_type": "code",
   "execution_count": null,
   "metadata": {
    "tags": []
   },
   "outputs": [],
   "source": [
    "unchar_imods"
   ]
  },
  {
   "cell_type": "markdown",
   "metadata": {},
   "source": [
    "### iModulon 1: Unknown"
   ]
  },
  {
   "cell_type": "code",
   "execution_count": null,
   "metadata": {
    "tags": []
   },
   "outputs": [],
   "source": [
    "ica_data.view_imodulon(1)"
   ]
  },
  {
   "cell_type": "code",
   "execution_count": null,
   "metadata": {},
   "outputs": [],
   "source": [
    "plot_activities(ica_data,1,highlight=['heatshock','spore_genes'])"
   ]
  },
  {
   "cell_type": "code",
   "execution_count": null,
   "metadata": {},
   "outputs": [],
   "source": [
    "DF_enrichments[DF_enrichments.imodulon=='1'].sort_values('f1score',ascending=False)"
   ]
  },
  {
   "cell_type": "code",
   "execution_count": null,
   "metadata": {},
   "outputs": [],
   "source": [
    "# Update the ICA data object\n",
    "\n",
    "ica_data.rename_imodulons({1:'uncharacterized-1'})"
   ]
  },
  {
   "cell_type": "markdown",
   "metadata": {},
   "source": [
    "### iModulon 3: Unknown\n",
    "This iModulon is likely some technical artifact from the MK7 project."
   ]
  },
  {
   "cell_type": "code",
   "execution_count": null,
   "metadata": {},
   "outputs": [],
   "source": [
    "ica_data.view_imodulon(3)"
   ]
  },
  {
   "cell_type": "code",
   "execution_count": null,
   "metadata": {},
   "outputs": [],
   "source": [
    "plot_activities(ica_data,3,highlight=['heatshock','spore_genes'])"
   ]
  },
  {
   "cell_type": "code",
   "execution_count": null,
   "metadata": {},
   "outputs": [],
   "source": [
    "DF_enrichments[DF_enrichments.imodulon=='3'].sort_values('f1score',ascending=False)"
   ]
  },
  {
   "cell_type": "code",
   "execution_count": null,
   "metadata": {},
   "outputs": [],
   "source": [
    "# Update the ica_data object\n",
    "ica_data.rename_imodulons({3:'uncharacterized-2'})"
   ]
  },
  {
   "cell_type": "markdown",
   "metadata": {},
   "source": [
    "### iModulon 6: ybc Operon\n",
    "This iModulon contains four genes starting with ybc, and ndhF, which are all likely in the same operon. Little is known about the genes except that they are part of prophage 1."
   ]
  },
  {
   "cell_type": "code",
   "execution_count": null,
   "metadata": {},
   "outputs": [],
   "source": [
    "ica_data.view_imodulon(6)"
   ]
  },
  {
   "cell_type": "code",
   "execution_count": null,
   "metadata": {},
   "outputs": [],
   "source": [
    "plot_activities(ica_data,6,highlight=['heatshock','sigI'])"
   ]
  },
  {
   "cell_type": "code",
   "execution_count": null,
   "metadata": {},
   "outputs": [],
   "source": [
    "DF_enrichments[DF_enrichments.imodulon=='6'].sort_values('f1score',ascending=False)"
   ]
  },
  {
   "cell_type": "code",
   "execution_count": null,
   "metadata": {},
   "outputs": [],
   "source": [
    "# Update the ICA data object\n",
    "\n",
    "ica_data.rename_imodulons({6:'ybc-operon'})\n",
    "ica_data.imodulon_table.loc['ybc-operon','category'] = 'functional'"
   ]
  },
  {
   "cell_type": "markdown",
   "metadata": {},
   "source": [
    "### iModulon 7: Putative yvaF\n",
    "We predict that this iModulon is regulated by yvaF, a putative transcriptional regulator that is in the iModulon."
   ]
  },
  {
   "cell_type": "code",
   "execution_count": null,
   "metadata": {},
   "outputs": [],
   "source": [
    "ica_data.view_imodulon(7)"
   ]
  },
  {
   "cell_type": "code",
   "execution_count": null,
   "metadata": {},
   "outputs": [],
   "source": [
    "plot_activities(ica_data,7,highlight=['heatshock'])"
   ]
  },
  {
   "cell_type": "code",
   "execution_count": null,
   "metadata": {},
   "outputs": [],
   "source": [
    "DF_enrichments[DF_enrichments.imodulon=='7'].sort_values('f1score',ascending=False)"
   ]
  },
  {
   "cell_type": "code",
   "execution_count": null,
   "metadata": {},
   "outputs": [],
   "source": [
    "# Update the ica_data object\n",
    "ica_data.rename_imodulons({7:'YvaF'})\n",
    "ica_data.imodulon_table.loc['YvaF','category'] = 'functional'"
   ]
  },
  {
   "cell_type": "markdown",
   "metadata": {},
   "source": [
    "### iModulon 9: Unknown\n",
    "Another technical artifact from the MK7 project"
   ]
  },
  {
   "cell_type": "code",
   "execution_count": null,
   "metadata": {},
   "outputs": [],
   "source": [
    "ica_data.view_imodulon(9)"
   ]
  },
  {
   "cell_type": "code",
   "execution_count": null,
   "metadata": {},
   "outputs": [],
   "source": [
    "plot_activities(ica_data,9,highlight=['ldar'])"
   ]
  },
  {
   "cell_type": "code",
   "execution_count": null,
   "metadata": {},
   "outputs": [],
   "source": [
    "DF_enrichments[DF_enrichments.imodulon=='9'].sort_values('f1score',ascending=False)"
   ]
  },
  {
   "cell_type": "code",
   "execution_count": null,
   "metadata": {},
   "outputs": [],
   "source": [
    "# Update the ica_data object\n",
    "ica_data.rename_imodulons({9:'uncharacterized-3'})"
   ]
  },
  {
   "cell_type": "markdown",
   "metadata": {},
   "source": [
    "### iModulon 51: Unknown"
   ]
  },
  {
   "cell_type": "code",
   "execution_count": null,
   "metadata": {},
   "outputs": [],
   "source": [
    "ica_data.view_imodulon(51)"
   ]
  },
  {
   "cell_type": "code",
   "execution_count": null,
   "metadata": {},
   "outputs": [],
   "source": [
    "plot_activities(ica_data,51,highlight=['heatshock','ldar'])"
   ]
  },
  {
   "cell_type": "code",
   "execution_count": null,
   "metadata": {},
   "outputs": [],
   "source": [
    "DF_enrichments[DF_enrichments.imodulon=='51'].sort_values('f1score',ascending=False)"
   ]
  },
  {
   "cell_type": "code",
   "execution_count": null,
   "metadata": {},
   "outputs": [],
   "source": [
    "# Update the ica_data object\n",
    "ica_data.rename_imodulons({51:'uncharacterized-4'})"
   ]
  },
  {
   "cell_type": "markdown",
   "metadata": {},
   "source": [
    "### iModulon 52: ykzB-related\n",
    "This iModulon is only down-regulated during sporulation when ykzB is deleted."
   ]
  },
  {
   "cell_type": "code",
   "execution_count": null,
   "metadata": {},
   "outputs": [],
   "source": [
    "ica_data.view_imodulon(52)"
   ]
  },
  {
   "cell_type": "code",
   "execution_count": null,
   "metadata": {},
   "outputs": [],
   "source": [
    "plot_activities(ica_data,52,highlight=['biofilm_time','spore_genes'])"
   ]
  },
  {
   "cell_type": "code",
   "execution_count": null,
   "metadata": {},
   "outputs": [],
   "source": [
    "DF_enrichments[DF_enrichments.imodulon=='52'].sort_values('f1score',ascending=False)"
   ]
  },
  {
   "cell_type": "code",
   "execution_count": null,
   "metadata": {},
   "outputs": [],
   "source": [
    "# Update the ica_data object\n",
    "ica_data.rename_imodulons({52:'ykzB-related'})\n",
    "ica_data.imodulon_table.loc['ykzB-related','category'] = 'functional'"
   ]
  },
  {
   "cell_type": "markdown",
   "metadata": {},
   "source": [
    "### iModulon 61: early biofilm"
   ]
  },
  {
   "cell_type": "code",
   "execution_count": null,
   "metadata": {},
   "outputs": [],
   "source": [
    "ica_data.view_imodulon(61)"
   ]
  },
  {
   "cell_type": "code",
   "execution_count": null,
   "metadata": {},
   "outputs": [],
   "source": [
    "plot_activities(ica_data,61,highlight=['biofilm_time','ldar','pamR'])"
   ]
  },
  {
   "cell_type": "code",
   "execution_count": null,
   "metadata": {},
   "outputs": [],
   "source": [
    "DF_enrichments[DF_enrichments.imodulon=='61'].sort_values('f1score',ascending=False)"
   ]
  },
  {
   "cell_type": "code",
   "execution_count": null,
   "metadata": {},
   "outputs": [],
   "source": [
    "# Update ICA data object\n",
    "ica_data.rename_imodulons({61:'early-biofilm'})\n",
    "ica_data.imodulon_table.loc['early-biofilm','category'] = 'functional'"
   ]
  },
  {
   "cell_type": "markdown",
   "metadata": {},
   "source": [
    "### iModulon 68: Unknown"
   ]
  },
  {
   "cell_type": "code",
   "execution_count": null,
   "metadata": {},
   "outputs": [],
   "source": [
    "ica_data.view_imodulon(68)"
   ]
  },
  {
   "cell_type": "code",
   "execution_count": null,
   "metadata": {},
   "outputs": [],
   "source": [
    "plot_activities(ica_data,68,highlight=['ldar','tasA'])"
   ]
  },
  {
   "cell_type": "code",
   "execution_count": null,
   "metadata": {
    "scrolled": true
   },
   "outputs": [],
   "source": [
    "DF_enrichments[DF_enrichments.imodulon=='68'].sort_values('f1score',ascending=False)"
   ]
  },
  {
   "cell_type": "code",
   "execution_count": null,
   "metadata": {},
   "outputs": [],
   "source": [
    "# Update the ica_data object\n",
    "ica_data.rename_imodulons({68:'uncharacterized-5'})"
   ]
  },
  {
   "cell_type": "markdown",
   "metadata": {
    "tags": []
   },
   "source": [
    "### iModulon 69: cssRS"
   ]
  },
  {
   "cell_type": "code",
   "execution_count": null,
   "metadata": {},
   "outputs": [],
   "source": [
    "ica_data.view_imodulon(69)"
   ]
  },
  {
   "cell_type": "code",
   "execution_count": null,
   "metadata": {},
   "outputs": [],
   "source": [
    "plot_activities(ica_data,69,highlight=['ecm_tasA','ldar'])"
   ]
  },
  {
   "cell_type": "code",
   "execution_count": null,
   "metadata": {
    "scrolled": true
   },
   "outputs": [],
   "source": [
    "DF_enrichments[DF_enrichments.imodulon=='69'].sort_values('f1score',ascending=False)"
   ]
  },
  {
   "cell_type": "code",
   "execution_count": null,
   "metadata": {},
   "outputs": [],
   "source": [
    "# Update the ICA data object\n",
    "\n",
    "ica_data.rename_imodulons({69:'putative-cssRS'})\n",
    "ica_data.imodulon_table.loc['putative-cssRS','category'] = 'functional'"
   ]
  },
  {
   "cell_type": "markdown",
   "metadata": {},
   "source": [
    "### iModulon 70: Unknown"
   ]
  },
  {
   "cell_type": "code",
   "execution_count": null,
   "metadata": {},
   "outputs": [],
   "source": [
    "ica_data.view_imodulon(70)"
   ]
  },
  {
   "cell_type": "code",
   "execution_count": null,
   "metadata": {},
   "outputs": [],
   "source": [
    "plot_activities(ica_data,70,highlight=['ldar'])"
   ]
  },
  {
   "cell_type": "code",
   "execution_count": null,
   "metadata": {},
   "outputs": [],
   "source": [
    "# Update the ica_data object\n",
    "ica_data.rename_imodulons({70:'uncharacterized-6'})"
   ]
  },
  {
   "cell_type": "markdown",
   "metadata": {},
   "source": [
    "### iModulon 71: Putative yxi-operon"
   ]
  },
  {
   "cell_type": "code",
   "execution_count": null,
   "metadata": {},
   "outputs": [],
   "source": [
    "ica_data.view_imodulon(71)"
   ]
  },
  {
   "cell_type": "code",
   "execution_count": null,
   "metadata": {},
   "outputs": [],
   "source": [
    "plot_activities(ica_data,71,highlight=['ldar','heatshock'])"
   ]
  },
  {
   "cell_type": "code",
   "execution_count": null,
   "metadata": {},
   "outputs": [],
   "source": [
    "# Update ICA data object\n",
    "ica_data.rename_imodulons({71:'yxi-operon'})\n",
    "ica_data.imodulon_table.loc['yxi-operon','category'] = 'functional'"
   ]
  },
  {
   "cell_type": "markdown",
   "metadata": {
    "jp-MarkdownHeadingCollapsed": true,
    "tags": []
   },
   "source": [
    "## Double-check low-scoring iModulons"
   ]
  },
  {
   "cell_type": "code",
   "execution_count": null,
   "metadata": {},
   "outputs": [],
   "source": [
    "ica_data.imodulon_table[ica_data.imodulon_table['f1score']  < 0.25]"
   ]
  },
  {
   "cell_type": "code",
   "execution_count": null,
   "metadata": {},
   "outputs": [],
   "source": [
    "def clear_row(imodulon):\n",
    "    clear_columns = ['regulator','pvalue','qvalue','precision','recall','f1score','TP','regulon_size','n_regs']\n",
    "    \n",
    "    for col in clear_columns:\n",
    "        ica_data.imodulon_table.loc[imodulon,col] = None"
   ]
  },
  {
   "cell_type": "markdown",
   "metadata": {},
   "source": [
    "### CsoR/Fnr -> SPbeta-1"
   ]
  },
  {
   "cell_type": "code",
   "execution_count": null,
   "metadata": {},
   "outputs": [],
   "source": [
    "ica_data.imodulon_table.loc['CsoR/Fnr']"
   ]
  },
  {
   "cell_type": "code",
   "execution_count": null,
   "metadata": {},
   "outputs": [],
   "source": [
    "DF_enrichments[DF_enrichments.imodulon=='CsoR/Fnr'].sort_values('f1score',ascending=False)"
   ]
  },
  {
   "cell_type": "code",
   "execution_count": null,
   "metadata": {},
   "outputs": [],
   "source": [
    "# Update the ICA data object\n",
    "\n",
    "ica_data.rename_imodulons({'CsoR/Fnr':'SPbeta-1'})\n",
    "ica_data.imodulon_table.loc['SPbeta-1','category'] = 'functional'\n",
    "clear_row('SPbeta-1')"
   ]
  },
  {
   "cell_type": "markdown",
   "metadata": {},
   "source": [
    "### RhgR -> Carbon metabolism/skin element"
   ]
  },
  {
   "cell_type": "code",
   "execution_count": null,
   "metadata": {},
   "outputs": [],
   "source": [
    "ica_data.imodulon_table.loc['RhgR']"
   ]
  },
  {
   "cell_type": "code",
   "execution_count": null,
   "metadata": {},
   "outputs": [],
   "source": [
    "DF_enrichments[DF_enrichments.imodulon=='RhgR'].sort_values('f1score',ascending=False)"
   ]
  },
  {
   "cell_type": "code",
   "execution_count": null,
   "metadata": {},
   "outputs": [],
   "source": [
    "# Update the ICA data object\n",
    "\n",
    "ica_data.rename_imodulons({'RhgR':'carbon metabolism/skin element'})\n",
    "ica_data.imodulon_table.loc['carbon metabolism/skin element','category'] = 'functional'\n",
    "clear_row('carbon metabolism/skin element')"
   ]
  },
  {
   "cell_type": "markdown",
   "metadata": {},
   "source": [
    "## NusA -> ComK/LevR/NusA"
   ]
  },
  {
   "cell_type": "code",
   "execution_count": null,
   "metadata": {},
   "outputs": [],
   "source": [
    "ica_data.imodulon_table.loc['NusA']"
   ]
  },
  {
   "cell_type": "code",
   "execution_count": null,
   "metadata": {},
   "outputs": [],
   "source": [
    "DF_enrichments[DF_enrichments.imodulon=='NusA'].sort_values('f1score',ascending=False)"
   ]
  },
  {
   "cell_type": "code",
   "execution_count": null,
   "metadata": {},
   "outputs": [],
   "source": [
    "ica_data.compute_trn_enrichment('NusA', max_regs=3,force=True,save=True)"
   ]
  },
  {
   "cell_type": "code",
   "execution_count": null,
   "metadata": {},
   "outputs": [],
   "source": [
    "# Update the ICA data object\n",
    "\n",
    "ica_data.rename_imodulons({'NusA':'ComK/LevR/NusA'})"
   ]
  },
  {
   "cell_type": "markdown",
   "metadata": {},
   "source": [
    "## CsoR -> SPbeta-2"
   ]
  },
  {
   "cell_type": "code",
   "execution_count": null,
   "metadata": {},
   "outputs": [],
   "source": [
    "ica_data.imodulon_table.loc['CsoR']"
   ]
  },
  {
   "cell_type": "code",
   "execution_count": null,
   "metadata": {},
   "outputs": [],
   "source": [
    "DF_enrichments[DF_enrichments.imodulon=='CsoR'].sort_values('f1score',ascending=False)"
   ]
  },
  {
   "cell_type": "code",
   "execution_count": null,
   "metadata": {},
   "outputs": [],
   "source": [
    "# Update the ICA data object\n",
    "\n",
    "ica_data.rename_imodulons({'CsoR':'SPbeta-2'})\n",
    "ica_data.imodulon_table.loc['SPbeta-2','category'] = 'functional'\n",
    "clear_row('SPbeta-2')"
   ]
  },
  {
   "cell_type": "markdown",
   "metadata": {},
   "source": [
    "## Xpf"
   ]
  },
  {
   "cell_type": "code",
   "execution_count": null,
   "metadata": {},
   "outputs": [],
   "source": [
    "ica_data.compute_trn_enrichment('Xpf',max_regs=2,save=True)"
   ]
  },
  {
   "cell_type": "code",
   "execution_count": null,
   "metadata": {},
   "outputs": [],
   "source": [
    "ica_data.rename_imodulons({'Xpf':'Xre/Xpf'})"
   ]
  },
  {
   "cell_type": "markdown",
   "metadata": {},
   "source": [
    "## Adjust some thresholds"
   ]
  },
  {
   "cell_type": "code",
   "execution_count": null,
   "metadata": {},
   "outputs": [],
   "source": [
    "ica_data.change_threshold('Thi-box',.1)\n",
    "ica_data.change_threshold('LnrK',.15)\n",
    "ica_data.change_threshold('KipR',0.12)\n",
    "\n",
    "# Recalculate enrichments\n",
    "ica_data.compute_trn_enrichment(['Thi-box','LnrK','KipR'], save=True)"
   ]
  },
  {
   "cell_type": "markdown",
   "metadata": {
    "jp-MarkdownHeadingCollapsed": true,
    "tags": []
   },
   "source": [
    "## Add biological functions\n",
    "This is only relevant for 'biological' and 'regulatory iModulons"
   ]
  },
  {
   "cell_type": "code",
   "execution_count": null,
   "metadata": {},
   "outputs": [],
   "source": [
    "subti_annot = pd.read_csv(path.join('..','data','external','subtiwiki_categories.csv'))\n",
    "subti_annot.rename({'BSU_number':'gene_id'},axis=1,inplace=True)\n",
    "subti_annot = subti_annot[subti_annot.gene_id.isin(ica_data.gene_names)]"
   ]
  },
  {
   "cell_type": "code",
   "execution_count": null,
   "metadata": {},
   "outputs": [],
   "source": [
    "subti_enrich = ica_data.compute_annotation_enrichment(subti_annot,'FuncName2')\n",
    "functions = subti_enrich.sort_values('qvalue').drop_duplicates('imodulon').set_index('imodulon')['FuncName2']\n",
    "functions = functions[ica_data.imodulon_table.category.isin(['regulatory','functional'])]\n",
    "functions.head()"
   ]
  },
  {
   "cell_type": "code",
   "execution_count": null,
   "metadata": {},
   "outputs": [],
   "source": [
    "ica_data.imodulon_table['function'] = functions"
   ]
  },
  {
   "cell_type": "markdown",
   "metadata": {},
   "source": [
    "### Manually curate functions"
   ]
  },
  {
   "cell_type": "code",
   "execution_count": null,
   "metadata": {},
   "outputs": [],
   "source": [
    "ica_data.imodulon_table.function.value_counts()"
   ]
  },
  {
   "cell_type": "code",
   "execution_count": null,
   "metadata": {},
   "outputs": [],
   "source": [
    "rename = {'carbon metabolism':'Carbon Metabolism',\n",
    "          'coping with stress':'Stress Response',\n",
    "          'amino acid/ nitrogen metabolism':'AA/Nucleotide Metabolism',\n",
    "          'prophages':'Prophages',\n",
    "          'sporulation':'Lifestyles',\n",
    "          'exponential and early post-exponential lifestyles':'Lifestyles',\n",
    "          'electron transport and ATP synthesis': 'Misc. Metabolism',\n",
    "          'homeostasis':'Homeostasis',\n",
    "          'nucleotide metabolism':'AA/Nucleotide Metabolism',\n",
    "          'proteins of unknown function':'Other',\n",
    "          'additional metabolic pathways':'Misc. Metabolism',\n",
    "          'short peptides':'Cellular Processes',\n",
    "          'essential genes':'Cellular Processes',\n",
    "          'transporters':'Misc. Metabolism',\n",
    "          'mobile genetic elements': 'Cellular Processes',\n",
    "          'ncRNA':'Cellular Processes',\n",
    "          'mobile genetic elements/ based on similarity':'Cellular Processes',\n",
    "          'lipid metabolism':'Misc. Metabolism',\n",
    "          'cell envelope and cell division': 'Cellular Processes',\n",
    "          'genetics':'Cellular Processes'}"
   ]
  },
  {
   "cell_type": "code",
   "execution_count": null,
   "metadata": {},
   "outputs": [],
   "source": [
    "ica_data.imodulon_table.function = ica_data.imodulon_table.function.replace(rename)"
   ]
  },
  {
   "cell_type": "code",
   "execution_count": null,
   "metadata": {},
   "outputs": [],
   "source": [
    "ica_data.imodulon_table.loc['ybc-operon','function'] = 'Prophages'\n",
    "ica_data.imodulon_table.loc['SigI','function'] = 'Stress Response'\n",
    "ica_data.imodulon_table.loc['LnrK','function'] = 'Cellular Processes'\n",
    "ica_data.imodulon_table.loc['early-biofilm','function'] = 'Lifestyles'\n",
    "ica_data.imodulon_table.loc['KipR','function'] = 'Misc. Metabolism'\n",
    "ica_data.imodulon_table.loc['AbrB','function'] = 'Lifestyles'\n",
    "ica_data.imodulon_table.loc['putative-cssRS','function'] = 'Lifestyles'\n",
    "ica_data.imodulon_table.loc['YvaF','function'] = 'Other'"
   ]
  },
  {
   "cell_type": "code",
   "execution_count": null,
   "metadata": {
    "scrolled": true
   },
   "outputs": [],
   "source": [
    "ica_data.imodulon_table.function.value_counts()"
   ]
  },
  {
   "cell_type": "markdown",
   "metadata": {},
   "source": [
    "### Fill in Uncharacterized and Single Gene iModulons"
   ]
  },
  {
   "cell_type": "code",
   "execution_count": null,
   "metadata": {},
   "outputs": [],
   "source": [
    "ica_data.imodulon_table.function = ['Uncharacterized' if row.category == 'uncharacterized' else\n",
    "                                    'Single Gene' if row.category == 'single_gene' else row.function\n",
    "                                    for i,row in ica_data.imodulon_table.iterrows()]\n"
   ]
  },
  {
   "cell_type": "markdown",
   "metadata": {
    "tags": []
   },
   "source": [
    "## Save final ICA data object"
   ]
  },
  {
   "cell_type": "code",
   "execution_count": null,
   "metadata": {},
   "outputs": [],
   "source": [
    "save_to_json(ica_data, path.join(data_dir, 'bsu.json.gz'))"
   ]
  },
  {
   "cell_type": "code",
   "execution_count": null,
   "metadata": {
    "tags": []
   },
   "outputs": [],
   "source": [
    "ica_data.imodulon_table.to_csv(path.join(data_dir, 'imodulon_table.csv'))"
   ]
  }
 ],
 "metadata": {
  "kernelspec": {
   "display_name": "Python 3 (ipykernel)",
   "language": "python",
   "name": "python3"
  },
  "language_info": {
   "codemirror_mode": {
    "name": "ipython",
    "version": 3
   },
   "file_extension": ".py",
   "mimetype": "text/x-python",
   "name": "python",
   "nbconvert_exporter": "python",
   "pygments_lexer": "ipython3",
   "version": "3.7.12"
  }
 },
 "nbformat": 4,
 "nbformat_minor": 4
}
