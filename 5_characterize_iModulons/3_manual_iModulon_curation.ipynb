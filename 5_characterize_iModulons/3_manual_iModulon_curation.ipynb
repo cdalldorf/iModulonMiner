{
 "cells": [
  {
   "cell_type": "code",
   "execution_count": 9,
   "metadata": {
    "tags": []
   },
   "outputs": [],
   "source": [
    "# imports and loading\n",
    "from pymodulon.io import *\n",
    "from pymodulon.plotting import *\n",
    "from scipy.stats import fisher_exact, chi2_contingency\n",
    "from statsmodels.stats.multitest import multipletests\n",
    "from os import path\n",
    "import seaborn as sns\n",
    "import ast \n",
    "\n",
    "data_dir = path.join('..','data','processed_data')\n",
    "interim_dir = path.join('..','data','interim')\n",
    "ica_data = load_json_model(path.join(interim_dir,'zmo_raw.json.gz'))\n",
    "\n",
    "# let's create a metadata enrichment function\n",
    "def metadata_enrichment(ica_data, iM, categories = ['project','gene_KO', 'Strain Description', 'Evolved Sample', 'Base Media', 'Temperature (C)', 'pH', 'Carbon Source (g/L)', 'Supplement', 'Growth Rate (1/hr)', 'Isolate Type', 'lab', 'Aerobicity']):\n",
    "    # first let's find the samples where the iM is active\n",
    "    vals = abs(ica_data.A.loc[iM].values)\n",
    "    avg = np.mean(vals)\n",
    "    std = np.std(vals)\n",
    "    active_samps = ica_data.A.columns[vals > (avg + 2*std)]\n",
    "    samp_table = ica_data.sample_table.fillna('nan')\n",
    "    samp_table['is_active'] = samp_table.index.isin(active_samps)\n",
    "    \n",
    "    # now enrichment against the categories\n",
    "    return_dfs = []\n",
    "    for cat in categories:\n",
    "        # try each type of category found in the active samples\n",
    "        contingency_table = pd.crosstab(samp_table[cat], samp_table['is_active'])\n",
    "        _, pval, dof, expected = chi2_contingency(contingency_table)\n",
    "        observed = contingency_table.values\n",
    "        observed_df = pd.DataFrame(observed, index=contingency_table.index, columns=contingency_table.columns)\n",
    "        residuals = (observed - expected) / (expected ** 0.5)\n",
    "        residuals_df = pd.DataFrame(residuals, index=contingency_table.index, columns=contingency_table.columns)\n",
    "        most_abnormal = abs(residuals_df).sort_values(by = True, ascending = False).index[0]\n",
    "        \n",
    "        # calculate precision and recall of most abnormal\n",
    "        true_pos = observed_df.loc[most_abnormal][True]\n",
    "        false_pos = observed_df.loc[most_abnormal][False]\n",
    "        false_neg = observed_df[True].sum() - true_pos\n",
    "        precision = true_pos / (true_pos + false_pos)\n",
    "        recall = true_pos / (true_pos + false_neg)\n",
    "        \n",
    "        return_dfs.append([cat, pval, most_abnormal, precision, recall])\n",
    "    \n",
    "    output_df = pd.DataFrame(return_dfs, columns = ['Category', 'p_value', 'most_enriched', 'precision', 'recall'])\n",
    "    _, q_values, _, _ = multipletests(output_df['p_value'], method='fdr_bh')\n",
    "    output_df['q_value'] = q_values\n",
    "    output_df = output_df.set_index('Category').sort_values(by = 'p_value')[['p_value', 'q_value', 'most_enriched', 'precision', 'recall']]\n",
    "    \n",
    "    return(output_df)\n",
    "\n",
    "\n",
    "# gene table enrichment\n",
    "def genes_enrichment(ica_data, iM, categories = ['strand', 'gene_product', 'COG', 'operon', 'chromosome_id']):\n",
    "    # first let's find the samples where the iM is active\n",
    "    vals = abs(ica_data.A.loc[iM].values)\n",
    "    avg = np.mean(vals)\n",
    "    std = np.std(vals)\n",
    "    active_samps = ica_data.view_imodulon(iM).index\n",
    "    samp_table = ica_data.gene_table.fillna('nan')\n",
    "    samp_table['is_active'] = samp_table.index.isin(active_samps)\n",
    "    \n",
    "    # now enrichment against the categories\n",
    "    return_dfs = []\n",
    "    for cat in categories:\n",
    "        # try each type of category found in the active samples\n",
    "        contingency_table = pd.crosstab(samp_table[cat], samp_table['is_active'])\n",
    "        _, pval, dof, expected = chi2_contingency(contingency_table)\n",
    "        observed = contingency_table.values\n",
    "        observed_df = pd.DataFrame(observed, index=contingency_table.index, columns=contingency_table.columns)\n",
    "        residuals = (observed - expected) / (expected ** 0.5)\n",
    "        residuals_df = pd.DataFrame(residuals, index=contingency_table.index, columns=contingency_table.columns)\n",
    "        most_abnormal = abs(residuals_df).sort_values(by = True, ascending = False).index[0]\n",
    "        \n",
    "        # calculate precision and recall of most abnormal\n",
    "        true_pos = observed_df.loc[most_abnormal][True]\n",
    "        false_pos = observed_df.loc[most_abnormal][False]\n",
    "        false_neg = observed_df[True].sum() - true_pos\n",
    "        precision = true_pos / (true_pos + false_pos)\n",
    "        recall = true_pos / (true_pos + false_neg)\n",
    "        \n",
    "        return_dfs.append([cat, pval, most_abnormal, precision, recall])\n",
    "    \n",
    "    output_df = pd.DataFrame(return_dfs, columns = ['Category', 'p_value', 'most_enriched', 'precision', 'recall'])\n",
    "    _, q_values, _, _ = multipletests(output_df['p_value'], method='fdr_bh')\n",
    "    output_df['q_value'] = q_values\n",
    "    output_df = output_df.set_index('Category').sort_values(by = 'p_value')[['p_value', 'q_value', 'most_enriched', 'precision', 'recall']]\n",
    "    \n",
    "    return(output_df)\n",
    "\n",
    "\n",
    "def custom_plot_gene_weights(ica_data, imodulon, by=\"start\", xaxis=None, xname=\"\", **kwargs):\n",
    "    \"\"\"\n",
    "    Plot gene weights on a scatter plot.\n",
    "\n",
    "    Parameters\n",
    "    ----------\n",
    "    ica_data: ~pymodulon.core.IcaData\n",
    "        :class:`~pymodulon.core.IcaData` object\n",
    "    imodulon : int or str\n",
    "        `iModulon` name\n",
    "    by: 'log-tpm-norm', 'length', or 'start'\n",
    "        Property to plot on x-axis. Superceded by `xaxis`\n",
    "    xaxis: list, dict or ~pandas.Series, optional\n",
    "        Values on custom x-axis\n",
    "    xname: str, optional\n",
    "        Name of x-axis if using custom x-axis\n",
    "    **kwargs:\n",
    "        Additional keyword arguments passed to :func:`pymodulon.plotting.scatterplot`\n",
    "    Returns\n",
    "    -------\n",
    "    ax: ~matplotlib.axes.Axes\n",
    "        :class:`~matplotlib.axes.Axes` containing the scatterplot\n",
    "    \"\"\"\n",
    "    # Check that iModulon exists\n",
    "    if imodulon in ica_data.M.columns:\n",
    "        y = ica_data.M[imodulon]\n",
    "        ylabel = f\"{imodulon} Gene Weight\"\n",
    "    else:\n",
    "        raise ValueError(f\"iModulon does not exist: {imodulon}\")\n",
    "\n",
    "    # Get genes in the iModulon\n",
    "    bin_M = ica_data.M_binarized\n",
    "    component_genes = set(bin_M[imodulon].loc[bin_M[imodulon] == 1].index)\n",
    "    other_genes = set(bin_M[imodulon].loc[bin_M[imodulon] == 0].index)\n",
    "\n",
    "    # If experimental `xaxis` parameter is used, use custom values for x-axis\n",
    "    if xaxis is not None:\n",
    "        x = _set_xaxis(xaxis=xaxis, y=y)\n",
    "        xlabel = xname\n",
    "\n",
    "    else:\n",
    "        #  Ensure 'by' has a valid input and assign x, xlabel accordingly\n",
    "        if by == \"log-tpm\":\n",
    "            x = ica_data.log_tpm.mean(axis=1)\n",
    "            xlabel = \"Mean Expression\"\n",
    "        elif by == \"log-tpm-norm\":\n",
    "            x = ica_data.X.mean(axis=1)\n",
    "            xlabel = \"Mean Centered Expression\"\n",
    "        elif by == \"length\":\n",
    "            x = np.log10(ica_data.gene_table.length)\n",
    "            xlabel = \"Gene Length (log10-scale)\"\n",
    "        elif by == \"start\":\n",
    "            x = ica_data.gene_table.start\n",
    "            xlabel = \"Gene Start\"\n",
    "        else:\n",
    "            raise ValueError(\n",
    "                '\"by\" must be \"log-tpm\", \"log-tpm-norm\", \"length\", ' 'or \"start\"'\n",
    "            )\n",
    "\n",
    "    # Override specific kwargs (their implementation is different\n",
    "    # in this function)\n",
    "    show_labels_pgw = kwargs.pop(\"show_labels\", \"auto\")\n",
    "    adjust_labels_pgw = kwargs.pop(\"adjust_labels\", True)\n",
    "    legend_kwargs_pgw = kwargs.pop(\"legend_kwargs\", {})\n",
    "    label_font_kwargs_pgw = kwargs.pop(\"label_font_kwargs\", {})\n",
    "\n",
    "    kwargs[\"show_labels\"] = kwargs[\"adjust_labels\"] = False\n",
    "\n",
    "    # Remove xlabel and ylabel kwargs if provided\n",
    "    kwargs.pop(\"xlabel\", None)\n",
    "    kwargs.pop(\"ylabel\", None)\n",
    "\n",
    "    # Default legend should be on the side of the plot\n",
    "    if (\n",
    "        \"bbox_to_anchor\" not in legend_kwargs_pgw.keys()\n",
    "        and \"loc\" not in legend_kwargs_pgw.keys()\n",
    "    ):\n",
    "        legend_kwargs_pgw.update({\"bbox_to_anchor\": (1, 1), \"loc\": 2})\n",
    "        kwargs[\"legend_kwargs\"] = legend_kwargs_pgw\n",
    "\n",
    "    # Update colors for COG groups\n",
    "    if \"COG\" in ica_data.gene_table.columns and \"groups\" not in kwargs:\n",
    "        mod_cogs = ica_data.gene_table.loc[component_genes].COG\n",
    "        hidden_cogs = pd.Series(\"hidden\", index=other_genes)\n",
    "        all_cogs = pd.concat([mod_cogs, hidden_cogs])\n",
    "        # colors = {cog:ica_data.cog_colors[cog] for cog in sorted(mod_cogs.unique())}\n",
    "        kwargs.update({\"groups\": all_cogs, \"colors\": ica_data.cog_colors})\n",
    "\n",
    "    # Scatter Plot\n",
    "    ax = scatterplot(x, y, xlabel=xlabel, ylabel=ylabel, **kwargs)\n",
    "    \n",
    "    # add vertical lines at chromosome changes\n",
    "    for grp in ica_data.gene_table.groupby('chromosome_id'):\n",
    "        plt.axvline(x = max(grp[1].fillna(0).end), ls = '--', c = 'k')\n",
    "\n",
    "    # Add thresholds to scatter-plot (dashed lines)\n",
    "    xmin, xmax = ax.get_xlim()\n",
    "    ymin, ymax = ax.get_ylim()\n",
    "\n",
    "    thresh = ica_data.thresholds[imodulon]\n",
    "    if thresh != 0:\n",
    "        ax.hlines(\n",
    "            [thresh, -thresh],\n",
    "            xmin=xmin,\n",
    "            xmax=xmax,\n",
    "            colors=\"k\",\n",
    "            linestyles=\"dashed\",\n",
    "            linewidth=1,\n",
    "        )\n",
    "\n",
    "    ax.set_xlim(xmin, xmax)\n",
    "    ax.set_ylim(ymin, ymax)\n",
    "\n",
    "    texts = []\n",
    "    expand_kwargs = {\"expand_objects\": (1.2, 1.4), \"expand_points\": (1.3, 1.3)}\n",
    "\n",
    "    # Add labels: Put gene name if components contain under 20 genes\n",
    "    if show_labels_pgw is True or (\n",
    "        show_labels_pgw is not False and len(component_genes) <= 20\n",
    "    ):\n",
    "        for gene in component_genes:\n",
    "\n",
    "            # Add labels\n",
    "            text_kwargs = label_font_kwargs_pgw.copy()\n",
    "\n",
    "            if \"fontstyle\" not in text_kwargs:\n",
    "                text_kwargs.update({\"fontstyle\": \"normal\"})\n",
    "\n",
    "            # Italicize gene if there is a defined name (not locus tag)\n",
    "            try:\n",
    "                gene_name = ica_data.gene_table.loc[gene, \"gene_name\"]\n",
    "\n",
    "                if gene_name != gene:\n",
    "                    text_kwargs.update({\"fontstyle\": \"italic\"})\n",
    "\n",
    "            except KeyError:\n",
    "                gene_name = gene\n",
    "\n",
    "            # Set default fontsize\n",
    "            if \"fontsize\" not in text_kwargs:\n",
    "                text_kwargs.update({\"fontsize\": 12})\n",
    "\n",
    "            texts.append(\n",
    "                ax.text(\n",
    "                    x[gene],\n",
    "                    ica_data.M.loc[gene, imodulon],\n",
    "                    gene_name,\n",
    "                    **text_kwargs,\n",
    "                )\n",
    "            )\n",
    "\n",
    "        expand_kwargs[\"expand_text\"] = (1.4, 1.4)\n",
    "\n",
    "    # Add labels: Repel texts from other text and points\n",
    "    rect = ax.add_patch(\n",
    "        Rectangle(\n",
    "            xy=(xmin, -abs(thresh)),\n",
    "            width=xmax - xmin,\n",
    "            height=2 * abs(thresh),\n",
    "            fill=False,\n",
    "            linewidth=0,\n",
    "        )\n",
    "    )\n",
    "\n",
    "    if adjust_labels_pgw:\n",
    "        adjust_text(\n",
    "            texts=texts,\n",
    "            add_objects=[rect],\n",
    "            ax=ax,\n",
    "            arrowprops=dict(arrowstyle=\"-\", color=\"k\", lw=0.5),\n",
    "            only_move={\"objects\": \"y\"},\n",
    "            **expand_kwargs,\n",
    "        )\n",
    "\n",
    "    return ax"
   ]
  },
  {
   "cell_type": "markdown",
   "metadata": {
    "tags": []
   },
   "source": [
    "# investgiate an iM"
   ]
  },
  {
   "cell_type": "code",
   "execution_count": 18,
   "metadata": {
    "tags": []
   },
   "outputs": [],
   "source": [
    "iM_ct = 'membrane_cobalmin'"
   ]
  },
  {
   "cell_type": "code",
   "execution_count": 19,
   "metadata": {
    "tags": []
   },
   "outputs": [
    {
     "data": {
      "text/html": [
       "<div>\n",
       "<style scoped>\n",
       "    .dataframe tbody tr th:only-of-type {\n",
       "        vertical-align: middle;\n",
       "    }\n",
       "\n",
       "    .dataframe tbody tr th {\n",
       "        vertical-align: top;\n",
       "    }\n",
       "\n",
       "    .dataframe thead th {\n",
       "        text-align: right;\n",
       "    }\n",
       "</style>\n",
       "<table border=\"1\" class=\"dataframe\">\n",
       "  <thead>\n",
       "    <tr style=\"text-align: right;\">\n",
       "      <th></th>\n",
       "      <th>gene_name</th>\n",
       "      <th>gene_weight</th>\n",
       "      <th>gene_product</th>\n",
       "      <th>COG</th>\n",
       "      <th>regulator</th>\n",
       "      <th>FIMO_regulators</th>\n",
       "      <th>EC_number</th>\n",
       "      <th>aerobic_essential</th>\n",
       "      <th>anaerobic_essential</th>\n",
       "    </tr>\n",
       "  </thead>\n",
       "  <tbody>\n",
       "    <tr>\n",
       "      <th>ZCP4_1627</th>\n",
       "      <td>ZCP4_1627</td>\n",
       "      <td>0.298781</td>\n",
       "      <td>outer membrane cobalamin receptor protein</td>\n",
       "      <td>Inorganic ion transport and metabolism</td>\n",
       "      <td>ZCP4_0900,ZCP4_1387,ZCP4_1387,ZCP4_1465</td>\n",
       "      <td>['CosR_Campylobacter_jejuni', 'HilC_Salmonella...</td>\n",
       "      <td>NaN</td>\n",
       "      <td>0.000000</td>\n",
       "      <td>0.000000</td>\n",
       "    </tr>\n",
       "    <tr>\n",
       "      <th>ZCP4_0054</th>\n",
       "      <td>ZCP4_0054</td>\n",
       "      <td>0.163987</td>\n",
       "      <td>carboxypeptidase C (cathepsin A)</td>\n",
       "      <td>Amino acid transport and metabolism</td>\n",
       "      <td>ZCP4_0018,ZCP4_0128,ZCP4_0210,ZCP4_0375,ZCP4_0...</td>\n",
       "      <td>['CosR_Campylobacter_jejuni', 'NikR_Helicobact...</td>\n",
       "      <td>NaN</td>\n",
       "      <td>0.000000</td>\n",
       "      <td>0.000000</td>\n",
       "    </tr>\n",
       "    <tr>\n",
       "      <th>ZCP4_1111</th>\n",
       "      <td>ZCP4_1111</td>\n",
       "      <td>0.158477</td>\n",
       "      <td>outer membrane receptor protein</td>\n",
       "      <td>Inorganic ion transport and metabolism</td>\n",
       "      <td>NaN</td>\n",
       "      <td>[]</td>\n",
       "      <td>NaN</td>\n",
       "      <td>0.000000</td>\n",
       "      <td>0.000000</td>\n",
       "    </tr>\n",
       "    <tr>\n",
       "      <th>ZCP4_1562</th>\n",
       "      <td>ZCP4_1562</td>\n",
       "      <td>0.144156</td>\n",
       "      <td>glycyl aminopeptidase</td>\n",
       "      <td>Function unknown</td>\n",
       "      <td>ZCP4_0018,ZCP4_0812,ZCP4_1387</td>\n",
       "      <td>['CosR_Campylobacter_jejuni', 'MogR_Listeria_m...</td>\n",
       "      <td>NaN</td>\n",
       "      <td>0.000000</td>\n",
       "      <td>0.000000</td>\n",
       "    </tr>\n",
       "    <tr>\n",
       "      <th>ZCP4_0403</th>\n",
       "      <td>ZCP4_0403</td>\n",
       "      <td>0.130652</td>\n",
       "      <td>hypothetical protein</td>\n",
       "      <td>Function unknown</td>\n",
       "      <td>ZCP4_0530,ZCP4_1718</td>\n",
       "      <td>[]</td>\n",
       "      <td>NaN</td>\n",
       "      <td>0.000000</td>\n",
       "      <td>0.000000</td>\n",
       "    </tr>\n",
       "    <tr>\n",
       "      <th>ZCP4_0718</th>\n",
       "      <td>ZCP4_0718</td>\n",
       "      <td>0.123801</td>\n",
       "      <td>PLP-dependent enzyme%2C histidinol-phosphate/a...</td>\n",
       "      <td>Amino acid transport and metabolism</td>\n",
       "      <td>NaN</td>\n",
       "      <td>['CosR_Campylobacter_jejuni', 'NikR_Helicobact...</td>\n",
       "      <td>2.6.1.9</td>\n",
       "      <td>0.000000</td>\n",
       "      <td>0.000000</td>\n",
       "    </tr>\n",
       "    <tr>\n",
       "      <th>ZCP4_1109</th>\n",
       "      <td>ZCP4_1109</td>\n",
       "      <td>0.123631</td>\n",
       "      <td>putative phosphohydrolase</td>\n",
       "      <td>Function unknown</td>\n",
       "      <td>ZCP4_1137,ZCP4_1465</td>\n",
       "      <td>[]</td>\n",
       "      <td>NaN</td>\n",
       "      <td>0.000000</td>\n",
       "      <td>0.000000</td>\n",
       "    </tr>\n",
       "    <tr>\n",
       "      <th>ZCP4_0635</th>\n",
       "      <td>ZCP4_0635</td>\n",
       "      <td>0.122458</td>\n",
       "      <td>arginine succinyltransferase</td>\n",
       "      <td>Amino acid transport and metabolism</td>\n",
       "      <td>NaN</td>\n",
       "      <td>[]</td>\n",
       "      <td>2.3.1.109</td>\n",
       "      <td>0.000000</td>\n",
       "      <td>0.000000</td>\n",
       "    </tr>\n",
       "    <tr>\n",
       "      <th>ZCP4_0600</th>\n",
       "      <td>ZCP4_0600</td>\n",
       "      <td>-0.121339</td>\n",
       "      <td>YfdX protein</td>\n",
       "      <td>Function unknown</td>\n",
       "      <td>ZCP4_0018,ZCP4_0265,ZCP4_0530,ZCP4_0900,ZCP4_1...</td>\n",
       "      <td>['MogR_Listeria_monocytogenes', 'NikR_Helicoba...</td>\n",
       "      <td>NaN</td>\n",
       "      <td>0.000000</td>\n",
       "      <td>0.000000</td>\n",
       "    </tr>\n",
       "    <tr>\n",
       "      <th>ZCP4_0413</th>\n",
       "      <td>ZCP4_0413</td>\n",
       "      <td>0.120541</td>\n",
       "      <td>outer membrane receptor protein</td>\n",
       "      <td>Inorganic ion transport and metabolism</td>\n",
       "      <td>ZCP4_0095,ZCP4_0900,ZCP4_1046,ZCP4_1718</td>\n",
       "      <td>['CosR_Campylobacter_jejuni', 'MogR_Listeria_m...</td>\n",
       "      <td>NaN</td>\n",
       "      <td>0.000000</td>\n",
       "      <td>0.000000</td>\n",
       "    </tr>\n",
       "    <tr>\n",
       "      <th>ZCP4_1058</th>\n",
       "      <td>ZCP4_1058</td>\n",
       "      <td>0.117052</td>\n",
       "      <td>TonB-dependent siderophore receptor</td>\n",
       "      <td>Inorganic ion transport and metabolism</td>\n",
       "      <td>NaN</td>\n",
       "      <td>['Cap37_Clostridium_acetobutylicum', 'CosR_Cam...</td>\n",
       "      <td>NaN</td>\n",
       "      <td>0.000000</td>\n",
       "      <td>0.000000</td>\n",
       "    </tr>\n",
       "    <tr>\n",
       "      <th>ZCP4_0337</th>\n",
       "      <td>ZCP4_0337</td>\n",
       "      <td>0.114976</td>\n",
       "      <td>outer membrane cobalamin receptor protein</td>\n",
       "      <td>Coenzyme transport and metabolism</td>\n",
       "      <td>ZCP4_0071,ZCP4_0207,ZCP4_0389,ZCP4_1046,ZCP4_1431</td>\n",
       "      <td>[]</td>\n",
       "      <td>NaN</td>\n",
       "      <td>0.000000</td>\n",
       "      <td>0.000000</td>\n",
       "    </tr>\n",
       "    <tr>\n",
       "      <th>ZCP4_1110</th>\n",
       "      <td>phoC</td>\n",
       "      <td>0.108257</td>\n",
       "      <td>membrane-associated phospholipid phosphatase</td>\n",
       "      <td>Lipid transport and metabolism</td>\n",
       "      <td>NaN</td>\n",
       "      <td>['CosR_Campylobacter_jejuni', 'MogR_Listeria_m...</td>\n",
       "      <td>3.1.3.2</td>\n",
       "      <td>0.000000</td>\n",
       "      <td>0.000000</td>\n",
       "    </tr>\n",
       "    <tr>\n",
       "      <th>ZCP4_0283</th>\n",
       "      <td>ZCP4_0283</td>\n",
       "      <td>0.107928</td>\n",
       "      <td>outer membrane cobalamin receptor protein</td>\n",
       "      <td>Inorganic ion transport and metabolism</td>\n",
       "      <td>ZCP4_0128,ZCP4_0210,ZCP4_0375,ZCP4_0523,ZCP4_0...</td>\n",
       "      <td>['CosR_Campylobacter_jejuni', 'Fur_Vibrio_chol...</td>\n",
       "      <td>NaN</td>\n",
       "      <td>-1.323649</td>\n",
       "      <td>-1.255249</td>\n",
       "    </tr>\n",
       "    <tr>\n",
       "      <th>ZCP4_0348</th>\n",
       "      <td>ZCP4_0348</td>\n",
       "      <td>0.103136</td>\n",
       "      <td>hypothetical protein</td>\n",
       "      <td>No COG annotation</td>\n",
       "      <td>ZCP4_1382,ZCP4_1718</td>\n",
       "      <td>['MogR_Listeria_monocytogenes']</td>\n",
       "      <td>NaN</td>\n",
       "      <td>-1.208144</td>\n",
       "      <td>0.000000</td>\n",
       "    </tr>\n",
       "    <tr>\n",
       "      <th>ZCP4_1650</th>\n",
       "      <td>ZCP4_1650</td>\n",
       "      <td>0.099196</td>\n",
       "      <td>amino acid/polyamine/organocation transporter%...</td>\n",
       "      <td>Amino acid transport and metabolism</td>\n",
       "      <td>ZCP4_1046</td>\n",
       "      <td>['CosR_Campylobacter_jejuni', 'CsrR_Streptococ...</td>\n",
       "      <td>NaN</td>\n",
       "      <td>0.000000</td>\n",
       "      <td>0.000000</td>\n",
       "    </tr>\n",
       "    <tr>\n",
       "      <th>ZCP4_0510</th>\n",
       "      <td>ZCP4_0510</td>\n",
       "      <td>0.099007</td>\n",
       "      <td>serine protease%2C S9A family peptidase</td>\n",
       "      <td>Amino acid transport and metabolism</td>\n",
       "      <td>ZCP4_1042,ZCP4_1465</td>\n",
       "      <td>[]</td>\n",
       "      <td>3.4.21.26</td>\n",
       "      <td>0.000000</td>\n",
       "      <td>0.000000</td>\n",
       "    </tr>\n",
       "    <tr>\n",
       "      <th>ZCP4_1363</th>\n",
       "      <td>ZCP4_1363</td>\n",
       "      <td>0.095997</td>\n",
       "      <td>outer membrane receptor for monomeric catechols</td>\n",
       "      <td>Inorganic ion transport and metabolism</td>\n",
       "      <td>ZCP4_0128,ZCP4_0168,ZCP4_0210,ZCP4_0530,ZCP4_0...</td>\n",
       "      <td>['Cap37_Clostridium_acetobutylicum', 'CosR_Cam...</td>\n",
       "      <td>NaN</td>\n",
       "      <td>0.000000</td>\n",
       "      <td>0.000000</td>\n",
       "    </tr>\n",
       "    <tr>\n",
       "      <th>ZCP4_0049</th>\n",
       "      <td>ZCP4_0049</td>\n",
       "      <td>0.094934</td>\n",
       "      <td>outer membrane cobalamin receptor protein</td>\n",
       "      <td>Inorganic ion transport and metabolism</td>\n",
       "      <td>ZCP4_0018,ZCP4_0128,ZCP4_0375,ZCP4_0523,ZCP4_0...</td>\n",
       "      <td>['Cap37_Clostridium_acetobutylicum', 'CosR_Cam...</td>\n",
       "      <td>NaN</td>\n",
       "      <td>0.000000</td>\n",
       "      <td>0.000000</td>\n",
       "    </tr>\n",
       "    <tr>\n",
       "      <th>ZCP4_1628</th>\n",
       "      <td>ZCP4_1628</td>\n",
       "      <td>0.090873</td>\n",
       "      <td>hypothetical protein</td>\n",
       "      <td>No COG annotation</td>\n",
       "      <td>ZCP4_0128,ZCP4_0210,ZCP4_0375,ZCP4_0523,ZCP4_0...</td>\n",
       "      <td>['CosR_Campylobacter_jejuni', 'HilC_Salmonella...</td>\n",
       "      <td>NaN</td>\n",
       "      <td>0.000000</td>\n",
       "      <td>0.000000</td>\n",
       "    </tr>\n",
       "    <tr>\n",
       "      <th>ZCP4_1480</th>\n",
       "      <td>ZCP4_1480</td>\n",
       "      <td>-0.088661</td>\n",
       "      <td>aspartate 4-decarboxylase</td>\n",
       "      <td>Amino acid transport and metabolism</td>\n",
       "      <td>NaN</td>\n",
       "      <td>[]</td>\n",
       "      <td>4.1.1.12</td>\n",
       "      <td>0.000000</td>\n",
       "      <td>0.000000</td>\n",
       "    </tr>\n",
       "    <tr>\n",
       "      <th>ZCP4_0325</th>\n",
       "      <td>ZCP4_0325</td>\n",
       "      <td>0.087092</td>\n",
       "      <td>carboxypeptidase C (cathepsin A)</td>\n",
       "      <td>Amino acid transport and metabolism</td>\n",
       "      <td>ZCP4_0018,ZCP4_0375,ZCP4_0523,ZCP4_1718</td>\n",
       "      <td>['CosR_Campylobacter_jejuni', 'MogR_Listeria_m...</td>\n",
       "      <td>NaN</td>\n",
       "      <td>0.000000</td>\n",
       "      <td>0.000000</td>\n",
       "    </tr>\n",
       "    <tr>\n",
       "      <th>ZCP4_1074</th>\n",
       "      <td>ZCP4_1074</td>\n",
       "      <td>0.086627</td>\n",
       "      <td>hydroxymethylpyrimidine synthase</td>\n",
       "      <td>Coenzyme transport and metabolism</td>\n",
       "      <td>NaN</td>\n",
       "      <td>[]</td>\n",
       "      <td>4.1.99.17</td>\n",
       "      <td>0.000000</td>\n",
       "      <td>0.000000</td>\n",
       "    </tr>\n",
       "    <tr>\n",
       "      <th>ZCP4_0658</th>\n",
       "      <td>ZCP4_0658</td>\n",
       "      <td>0.085726</td>\n",
       "      <td>flagellin/flagellar hook associated protein</td>\n",
       "      <td>Cell motility</td>\n",
       "      <td>NaN</td>\n",
       "      <td>['CosR_Campylobacter_jejuni', 'Fur_Helicobacte...</td>\n",
       "      <td>NaN</td>\n",
       "      <td>0.000000</td>\n",
       "      <td>0.000000</td>\n",
       "    </tr>\n",
       "    <tr>\n",
       "      <th>ZCP4_1669</th>\n",
       "      <td>ZCP4_1669</td>\n",
       "      <td>0.084053</td>\n",
       "      <td>outer membrane cobalamin receptor protein</td>\n",
       "      <td>Inorganic ion transport and metabolism</td>\n",
       "      <td>NaN</td>\n",
       "      <td>['CosR_Campylobacter_jejuni', 'MogR_Listeria_m...</td>\n",
       "      <td>NaN</td>\n",
       "      <td>0.000000</td>\n",
       "      <td>0.000000</td>\n",
       "    </tr>\n",
       "    <tr>\n",
       "      <th>ZCP4_1857</th>\n",
       "      <td>ZCP4_1857</td>\n",
       "      <td>-0.081804</td>\n",
       "      <td>dehydrogenase of unknown specificity%2C short-...</td>\n",
       "      <td>Lipid transport and metabolism</td>\n",
       "      <td>NaN</td>\n",
       "      <td>['NikR_Helicobacter_pylori']</td>\n",
       "      <td>1.1.1.100</td>\n",
       "      <td>0.000000</td>\n",
       "      <td>0.000000</td>\n",
       "    </tr>\n",
       "    <tr>\n",
       "      <th>ZCP4_0318</th>\n",
       "      <td>ZCP4_0318</td>\n",
       "      <td>0.078340</td>\n",
       "      <td>amino acid/peptide transporter (peptide:H symp...</td>\n",
       "      <td>Amino acid transport and metabolism</td>\n",
       "      <td>ZCP4_0018,ZCP4_0265,ZCP4_0530,ZCP4_1465,ZCP4_1718</td>\n",
       "      <td>[]</td>\n",
       "      <td>NaN</td>\n",
       "      <td>0.000000</td>\n",
       "      <td>0.000000</td>\n",
       "    </tr>\n",
       "    <tr>\n",
       "      <th>ZCP4_1094</th>\n",
       "      <td>ZCP4_1094</td>\n",
       "      <td>0.077362</td>\n",
       "      <td>putative aminopeptidase</td>\n",
       "      <td>Function unknown</td>\n",
       "      <td>ZCP4_1042,ZCP4_1387</td>\n",
       "      <td>[]</td>\n",
       "      <td>NaN</td>\n",
       "      <td>0.000000</td>\n",
       "      <td>0.000000</td>\n",
       "    </tr>\n",
       "    <tr>\n",
       "      <th>ZCP4_1112</th>\n",
       "      <td>ZCP4_1112</td>\n",
       "      <td>0.077186</td>\n",
       "      <td>S1/P1 Nuclease</td>\n",
       "      <td>Function unknown</td>\n",
       "      <td>ZCP4_1046,ZCP4_1387</td>\n",
       "      <td>[]</td>\n",
       "      <td>NaN</td>\n",
       "      <td>0.000000</td>\n",
       "      <td>0.000000</td>\n",
       "    </tr>\n",
       "    <tr>\n",
       "      <th>ZCP4_1448</th>\n",
       "      <td>ZCP4_1448</td>\n",
       "      <td>0.075393</td>\n",
       "      <td>outer membrane transport energization protein ...</td>\n",
       "      <td>Intracellular trafficking, secretion, and vesi...</td>\n",
       "      <td>NaN</td>\n",
       "      <td>['CsrR_Streptococcus_pyogenes', 'MogR_Listeria...</td>\n",
       "      <td>NaN</td>\n",
       "      <td>0.000000</td>\n",
       "      <td>0.000000</td>\n",
       "    </tr>\n",
       "    <tr>\n",
       "      <th>ZCP4_1481</th>\n",
       "      <td>ZCP4_1481</td>\n",
       "      <td>-0.074713</td>\n",
       "      <td>aspartate-alanine antiporter</td>\n",
       "      <td>Inorganic ion transport and metabolism</td>\n",
       "      <td>ZCP4_0018,ZCP4_0128,ZCP4_0210,ZCP4_0375,ZCP4_0...</td>\n",
       "      <td>['CosR_Campylobacter_jejuni', 'NikR_Helicobact...</td>\n",
       "      <td>NaN</td>\n",
       "      <td>0.000000</td>\n",
       "      <td>0.000000</td>\n",
       "    </tr>\n",
       "    <tr>\n",
       "      <th>ZCP4_1446</th>\n",
       "      <td>ZCP4_1446</td>\n",
       "      <td>0.074531</td>\n",
       "      <td>outer membrane transport energization protein ...</td>\n",
       "      <td>Cell wall/membrane/envelope biogenesis</td>\n",
       "      <td>NaN</td>\n",
       "      <td>['CsrR_Streptococcus_pyogenes', 'MogR_Listeria...</td>\n",
       "      <td>NaN</td>\n",
       "      <td>0.000000</td>\n",
       "      <td>0.000000</td>\n",
       "    </tr>\n",
       "    <tr>\n",
       "      <th>ZCP4_1107</th>\n",
       "      <td>ZCP4_1107</td>\n",
       "      <td>0.074186</td>\n",
       "      <td>Sel1 repeat-containing protein</td>\n",
       "      <td>Energy production and conversion</td>\n",
       "      <td>ZCP4_0523,ZCP4_0530,ZCP4_1387,ZCP4_1718</td>\n",
       "      <td>['NikR_Helicobacter_pylori']</td>\n",
       "      <td>NaN</td>\n",
       "      <td>0.000000</td>\n",
       "      <td>0.000000</td>\n",
       "    </tr>\n",
       "    <tr>\n",
       "      <th>ZCP4_1187</th>\n",
       "      <td>ZCP4_1187</td>\n",
       "      <td>-0.073075</td>\n",
       "      <td>outer membrane receptor protein</td>\n",
       "      <td>Inorganic ion transport and metabolism</td>\n",
       "      <td>ZCP4_0018,ZCP4_0128,ZCP4_0210,ZCP4_0523,ZCP4_1...</td>\n",
       "      <td>['CosR_Campylobacter_jejuni', 'CsrR_Streptococ...</td>\n",
       "      <td>NaN</td>\n",
       "      <td>0.000000</td>\n",
       "      <td>0.000000</td>\n",
       "    </tr>\n",
       "    <tr>\n",
       "      <th>ZCP4_1355</th>\n",
       "      <td>nifH</td>\n",
       "      <td>0.072417</td>\n",
       "      <td>Mo-nitrogenase iron protein subunit NifH</td>\n",
       "      <td>Cell cycle control, cell division, chromosome ...</td>\n",
       "      <td>NaN</td>\n",
       "      <td>['CosR_Campylobacter_jejuni', 'Fur_Escherichia...</td>\n",
       "      <td>1.18.6.1,1.3.7.7</td>\n",
       "      <td>0.000000</td>\n",
       "      <td>0.000000</td>\n",
       "    </tr>\n",
       "    <tr>\n",
       "      <th>ZCP4_1034</th>\n",
       "      <td>ZCP4_1034</td>\n",
       "      <td>0.072291</td>\n",
       "      <td>outer membrane autotransporter barrel domain-c...</td>\n",
       "      <td>Intracellular trafficking, secretion, and vesi...</td>\n",
       "      <td>NaN</td>\n",
       "      <td>['Cap37_Clostridium_acetobutylicum', 'CosR_Cam...</td>\n",
       "      <td>NaN</td>\n",
       "      <td>0.000000</td>\n",
       "      <td>0.000000</td>\n",
       "    </tr>\n",
       "    <tr>\n",
       "      <th>ZCP4_0346</th>\n",
       "      <td>ZCP4_0346</td>\n",
       "      <td>0.071120</td>\n",
       "      <td>purine nucleoside permease</td>\n",
       "      <td>Nucleotide transport and metabolism</td>\n",
       "      <td>ZCP4_1046</td>\n",
       "      <td>[]</td>\n",
       "      <td>NaN</td>\n",
       "      <td>0.000000</td>\n",
       "      <td>0.000000</td>\n",
       "    </tr>\n",
       "    <tr>\n",
       "      <th>ZCP4_1447</th>\n",
       "      <td>ZCP4_1447</td>\n",
       "      <td>0.070233</td>\n",
       "      <td>outer membrane transport energization protein ...</td>\n",
       "      <td>Intracellular trafficking, secretion, and vesi...</td>\n",
       "      <td>NaN</td>\n",
       "      <td>['CsrR_Streptococcus_pyogenes', 'MogR_Listeria...</td>\n",
       "      <td>NaN</td>\n",
       "      <td>0.000000</td>\n",
       "      <td>-1.083046</td>\n",
       "    </tr>\n",
       "    <tr>\n",
       "      <th>ZCP4_0165</th>\n",
       "      <td>ZCP4_0165</td>\n",
       "      <td>0.069908</td>\n",
       "      <td>putative hydrolase%2C CocE/NonD family</td>\n",
       "      <td>Function unknown</td>\n",
       "      <td>NaN</td>\n",
       "      <td>['CosR_Campylobacter_jejuni']</td>\n",
       "      <td>NaN</td>\n",
       "      <td>0.000000</td>\n",
       "      <td>0.000000</td>\n",
       "    </tr>\n",
       "    <tr>\n",
       "      <th>ZCP4_0349</th>\n",
       "      <td>ZCP4_0349</td>\n",
       "      <td>0.068172</td>\n",
       "      <td>nucleoside permease</td>\n",
       "      <td>Nucleotide transport and metabolism</td>\n",
       "      <td>ZCP4_0375,ZCP4_1465</td>\n",
       "      <td>[]</td>\n",
       "      <td>NaN</td>\n",
       "      <td>0.000000</td>\n",
       "      <td>0.000000</td>\n",
       "    </tr>\n",
       "    <tr>\n",
       "      <th>ZCP4_0067</th>\n",
       "      <td>ZCP4_0067</td>\n",
       "      <td>0.067662</td>\n",
       "      <td>succinylglutamic semialdehyde dehydrogenase</td>\n",
       "      <td>Energy production and conversion</td>\n",
       "      <td>NaN</td>\n",
       "      <td>[]</td>\n",
       "      <td>1.2.1.71</td>\n",
       "      <td>0.000000</td>\n",
       "      <td>0.000000</td>\n",
       "    </tr>\n",
       "    <tr>\n",
       "      <th>ZCP4_0347</th>\n",
       "      <td>ZCP4_0347</td>\n",
       "      <td>0.067492</td>\n",
       "      <td>permease</td>\n",
       "      <td>Function unknown</td>\n",
       "      <td>NaN</td>\n",
       "      <td>['CosR_Campylobacter_jejuni', 'MogR_Listeria_m...</td>\n",
       "      <td>NaN</td>\n",
       "      <td>0.000000</td>\n",
       "      <td>0.000000</td>\n",
       "    </tr>\n",
       "    <tr>\n",
       "      <th>ZCP4_1529</th>\n",
       "      <td>ZCP4_1529</td>\n",
       "      <td>0.066869</td>\n",
       "      <td>TonB-dependent siderophore receptor</td>\n",
       "      <td>Inorganic ion transport and metabolism</td>\n",
       "      <td>ZCP4_0530,ZCP4_1046</td>\n",
       "      <td>['CosR_Campylobacter_jejuni', 'NikR_Helicobact...</td>\n",
       "      <td>NaN</td>\n",
       "      <td>0.000000</td>\n",
       "      <td>0.000000</td>\n",
       "    </tr>\n",
       "    <tr>\n",
       "      <th>ZCP4_1216</th>\n",
       "      <td>ZCP4_1216</td>\n",
       "      <td>0.066311</td>\n",
       "      <td>outer membrane receptor protein</td>\n",
       "      <td>Inorganic ion transport and metabolism</td>\n",
       "      <td>NaN</td>\n",
       "      <td>['CosR_Campylobacter_jejuni', 'Fur_Helicobacte...</td>\n",
       "      <td>NaN</td>\n",
       "      <td>0.000000</td>\n",
       "      <td>0.000000</td>\n",
       "    </tr>\n",
       "    <tr>\n",
       "      <th>ZCP4_0882</th>\n",
       "      <td>ZCP4_0882</td>\n",
       "      <td>0.066217</td>\n",
       "      <td>hypothetical protein</td>\n",
       "      <td>No COG annotation</td>\n",
       "      <td>NaN</td>\n",
       "      <td>[]</td>\n",
       "      <td>NaN</td>\n",
       "      <td>0.000000</td>\n",
       "      <td>0.000000</td>\n",
       "    </tr>\n",
       "    <tr>\n",
       "      <th>ZCP4_1755</th>\n",
       "      <td>ZCP4_1755</td>\n",
       "      <td>-0.064173</td>\n",
       "      <td>short-chain dehydrogenase of unknown substrate...</td>\n",
       "      <td>Function unknown</td>\n",
       "      <td>ZCP4_1046,ZCP4_1387,ZCP4_1387</td>\n",
       "      <td>['MogR_Listeria_monocytogenes']</td>\n",
       "      <td>NaN</td>\n",
       "      <td>0.000000</td>\n",
       "      <td>0.000000</td>\n",
       "    </tr>\n",
       "    <tr>\n",
       "      <th>ZCP4_1334</th>\n",
       "      <td>ZCP4_1334</td>\n",
       "      <td>0.063956</td>\n",
       "      <td>ABC-type cobalamin/Fe3+-siderophore transport ...</td>\n",
       "      <td>Coenzyme transport and metabolism</td>\n",
       "      <td>NaN</td>\n",
       "      <td>[]</td>\n",
       "      <td>3.6.3.34</td>\n",
       "      <td>0.000000</td>\n",
       "      <td>0.000000</td>\n",
       "    </tr>\n",
       "    <tr>\n",
       "      <th>ZCP4_1192</th>\n",
       "      <td>ZCP4_1192</td>\n",
       "      <td>0.063607</td>\n",
       "      <td>TPR repeat-containing protein</td>\n",
       "      <td>Energy production and conversion</td>\n",
       "      <td>ZCP4_0018,ZCP4_0523,ZCP4_0900,ZCP4_1718</td>\n",
       "      <td>['MogR_Listeria_monocytogenes']</td>\n",
       "      <td>NaN</td>\n",
       "      <td>0.000000</td>\n",
       "      <td>0.000000</td>\n",
       "    </tr>\n",
       "    <tr>\n",
       "      <th>ZCP4_0558</th>\n",
       "      <td>ZCP4_0558</td>\n",
       "      <td>0.063282</td>\n",
       "      <td>hypothetical protein</td>\n",
       "      <td>Function unknown</td>\n",
       "      <td>NaN</td>\n",
       "      <td>['CosR_Campylobacter_jejuni', 'MogR_Listeria_m...</td>\n",
       "      <td>NaN</td>\n",
       "      <td>0.000000</td>\n",
       "      <td>0.000000</td>\n",
       "    </tr>\n",
       "    <tr>\n",
       "      <th>ZCP4_1195</th>\n",
       "      <td>ZCP4_1195</td>\n",
       "      <td>-0.063103</td>\n",
       "      <td>Fe-S oxidoreductase</td>\n",
       "      <td>Energy production and conversion</td>\n",
       "      <td>ZCP4_0018,ZCP4_0128,ZCP4_0375,ZCP4_0523,ZCP4_1...</td>\n",
       "      <td>['Fur_Klebsiella_pneumoniae', 'NikR_Helicobact...</td>\n",
       "      <td>NaN</td>\n",
       "      <td>0.000000</td>\n",
       "      <td>0.000000</td>\n",
       "    </tr>\n",
       "    <tr>\n",
       "      <th>ZCP4_0020</th>\n",
       "      <td>ZCP4_0020</td>\n",
       "      <td>-0.061966</td>\n",
       "      <td>hypothetical protein</td>\n",
       "      <td>Function unknown</td>\n",
       "      <td>ZCP4_0018,ZCP4_0812,ZCP4_0900</td>\n",
       "      <td>['CosR_Campylobacter_jejuni', 'NikR_Helicobact...</td>\n",
       "      <td>NaN</td>\n",
       "      <td>0.000000</td>\n",
       "      <td>0.000000</td>\n",
       "    </tr>\n",
       "    <tr>\n",
       "      <th>ZCP4_0019</th>\n",
       "      <td>ZCP4_0019</td>\n",
       "      <td>-0.061093</td>\n",
       "      <td>NAD(P)H:quinone oxidoreductase%2C type IV</td>\n",
       "      <td>Function unknown</td>\n",
       "      <td>NaN</td>\n",
       "      <td>[]</td>\n",
       "      <td>1.6.5.2</td>\n",
       "      <td>0.000000</td>\n",
       "      <td>0.000000</td>\n",
       "    </tr>\n",
       "  </tbody>\n",
       "</table>\n",
       "</div>"
      ],
      "text/plain": [
       "           gene_name  gene_weight  \\\n",
       "ZCP4_1627  ZCP4_1627     0.298781   \n",
       "ZCP4_0054  ZCP4_0054     0.163987   \n",
       "ZCP4_1111  ZCP4_1111     0.158477   \n",
       "ZCP4_1562  ZCP4_1562     0.144156   \n",
       "ZCP4_0403  ZCP4_0403     0.130652   \n",
       "ZCP4_0718  ZCP4_0718     0.123801   \n",
       "ZCP4_1109  ZCP4_1109     0.123631   \n",
       "ZCP4_0635  ZCP4_0635     0.122458   \n",
       "ZCP4_0600  ZCP4_0600    -0.121339   \n",
       "ZCP4_0413  ZCP4_0413     0.120541   \n",
       "ZCP4_1058  ZCP4_1058     0.117052   \n",
       "ZCP4_0337  ZCP4_0337     0.114976   \n",
       "ZCP4_1110       phoC     0.108257   \n",
       "ZCP4_0283  ZCP4_0283     0.107928   \n",
       "ZCP4_0348  ZCP4_0348     0.103136   \n",
       "ZCP4_1650  ZCP4_1650     0.099196   \n",
       "ZCP4_0510  ZCP4_0510     0.099007   \n",
       "ZCP4_1363  ZCP4_1363     0.095997   \n",
       "ZCP4_0049  ZCP4_0049     0.094934   \n",
       "ZCP4_1628  ZCP4_1628     0.090873   \n",
       "ZCP4_1480  ZCP4_1480    -0.088661   \n",
       "ZCP4_0325  ZCP4_0325     0.087092   \n",
       "ZCP4_1074  ZCP4_1074     0.086627   \n",
       "ZCP4_0658  ZCP4_0658     0.085726   \n",
       "ZCP4_1669  ZCP4_1669     0.084053   \n",
       "ZCP4_1857  ZCP4_1857    -0.081804   \n",
       "ZCP4_0318  ZCP4_0318     0.078340   \n",
       "ZCP4_1094  ZCP4_1094     0.077362   \n",
       "ZCP4_1112  ZCP4_1112     0.077186   \n",
       "ZCP4_1448  ZCP4_1448     0.075393   \n",
       "ZCP4_1481  ZCP4_1481    -0.074713   \n",
       "ZCP4_1446  ZCP4_1446     0.074531   \n",
       "ZCP4_1107  ZCP4_1107     0.074186   \n",
       "ZCP4_1187  ZCP4_1187    -0.073075   \n",
       "ZCP4_1355       nifH     0.072417   \n",
       "ZCP4_1034  ZCP4_1034     0.072291   \n",
       "ZCP4_0346  ZCP4_0346     0.071120   \n",
       "ZCP4_1447  ZCP4_1447     0.070233   \n",
       "ZCP4_0165  ZCP4_0165     0.069908   \n",
       "ZCP4_0349  ZCP4_0349     0.068172   \n",
       "ZCP4_0067  ZCP4_0067     0.067662   \n",
       "ZCP4_0347  ZCP4_0347     0.067492   \n",
       "ZCP4_1529  ZCP4_1529     0.066869   \n",
       "ZCP4_1216  ZCP4_1216     0.066311   \n",
       "ZCP4_0882  ZCP4_0882     0.066217   \n",
       "ZCP4_1755  ZCP4_1755    -0.064173   \n",
       "ZCP4_1334  ZCP4_1334     0.063956   \n",
       "ZCP4_1192  ZCP4_1192     0.063607   \n",
       "ZCP4_0558  ZCP4_0558     0.063282   \n",
       "ZCP4_1195  ZCP4_1195    -0.063103   \n",
       "ZCP4_0020  ZCP4_0020    -0.061966   \n",
       "ZCP4_0019  ZCP4_0019    -0.061093   \n",
       "\n",
       "                                                gene_product  \\\n",
       "ZCP4_1627          outer membrane cobalamin receptor protein   \n",
       "ZCP4_0054                   carboxypeptidase C (cathepsin A)   \n",
       "ZCP4_1111                    outer membrane receptor protein   \n",
       "ZCP4_1562                              glycyl aminopeptidase   \n",
       "ZCP4_0403                               hypothetical protein   \n",
       "ZCP4_0718  PLP-dependent enzyme%2C histidinol-phosphate/a...   \n",
       "ZCP4_1109                          putative phosphohydrolase   \n",
       "ZCP4_0635                       arginine succinyltransferase   \n",
       "ZCP4_0600                                       YfdX protein   \n",
       "ZCP4_0413                    outer membrane receptor protein   \n",
       "ZCP4_1058                TonB-dependent siderophore receptor   \n",
       "ZCP4_0337          outer membrane cobalamin receptor protein   \n",
       "ZCP4_1110       membrane-associated phospholipid phosphatase   \n",
       "ZCP4_0283          outer membrane cobalamin receptor protein   \n",
       "ZCP4_0348                               hypothetical protein   \n",
       "ZCP4_1650  amino acid/polyamine/organocation transporter%...   \n",
       "ZCP4_0510            serine protease%2C S9A family peptidase   \n",
       "ZCP4_1363    outer membrane receptor for monomeric catechols   \n",
       "ZCP4_0049          outer membrane cobalamin receptor protein   \n",
       "ZCP4_1628                               hypothetical protein   \n",
       "ZCP4_1480                          aspartate 4-decarboxylase   \n",
       "ZCP4_0325                   carboxypeptidase C (cathepsin A)   \n",
       "ZCP4_1074                   hydroxymethylpyrimidine synthase   \n",
       "ZCP4_0658        flagellin/flagellar hook associated protein   \n",
       "ZCP4_1669          outer membrane cobalamin receptor protein   \n",
       "ZCP4_1857  dehydrogenase of unknown specificity%2C short-...   \n",
       "ZCP4_0318  amino acid/peptide transporter (peptide:H symp...   \n",
       "ZCP4_1094                            putative aminopeptidase   \n",
       "ZCP4_1112                                     S1/P1 Nuclease   \n",
       "ZCP4_1448  outer membrane transport energization protein ...   \n",
       "ZCP4_1481                       aspartate-alanine antiporter   \n",
       "ZCP4_1446  outer membrane transport energization protein ...   \n",
       "ZCP4_1107                     Sel1 repeat-containing protein   \n",
       "ZCP4_1187                    outer membrane receptor protein   \n",
       "ZCP4_1355           Mo-nitrogenase iron protein subunit NifH   \n",
       "ZCP4_1034  outer membrane autotransporter barrel domain-c...   \n",
       "ZCP4_0346                         purine nucleoside permease   \n",
       "ZCP4_1447  outer membrane transport energization protein ...   \n",
       "ZCP4_0165             putative hydrolase%2C CocE/NonD family   \n",
       "ZCP4_0349                                nucleoside permease   \n",
       "ZCP4_0067        succinylglutamic semialdehyde dehydrogenase   \n",
       "ZCP4_0347                                           permease   \n",
       "ZCP4_1529                TonB-dependent siderophore receptor   \n",
       "ZCP4_1216                    outer membrane receptor protein   \n",
       "ZCP4_0882                               hypothetical protein   \n",
       "ZCP4_1755  short-chain dehydrogenase of unknown substrate...   \n",
       "ZCP4_1334  ABC-type cobalamin/Fe3+-siderophore transport ...   \n",
       "ZCP4_1192                      TPR repeat-containing protein   \n",
       "ZCP4_0558                               hypothetical protein   \n",
       "ZCP4_1195                                Fe-S oxidoreductase   \n",
       "ZCP4_0020                               hypothetical protein   \n",
       "ZCP4_0019          NAD(P)H:quinone oxidoreductase%2C type IV   \n",
       "\n",
       "                                                         COG  \\\n",
       "ZCP4_1627             Inorganic ion transport and metabolism   \n",
       "ZCP4_0054                Amino acid transport and metabolism   \n",
       "ZCP4_1111             Inorganic ion transport and metabolism   \n",
       "ZCP4_1562                                   Function unknown   \n",
       "ZCP4_0403                                   Function unknown   \n",
       "ZCP4_0718                Amino acid transport and metabolism   \n",
       "ZCP4_1109                                   Function unknown   \n",
       "ZCP4_0635                Amino acid transport and metabolism   \n",
       "ZCP4_0600                                   Function unknown   \n",
       "ZCP4_0413             Inorganic ion transport and metabolism   \n",
       "ZCP4_1058             Inorganic ion transport and metabolism   \n",
       "ZCP4_0337                  Coenzyme transport and metabolism   \n",
       "ZCP4_1110                     Lipid transport and metabolism   \n",
       "ZCP4_0283             Inorganic ion transport and metabolism   \n",
       "ZCP4_0348                                  No COG annotation   \n",
       "ZCP4_1650                Amino acid transport and metabolism   \n",
       "ZCP4_0510                Amino acid transport and metabolism   \n",
       "ZCP4_1363             Inorganic ion transport and metabolism   \n",
       "ZCP4_0049             Inorganic ion transport and metabolism   \n",
       "ZCP4_1628                                  No COG annotation   \n",
       "ZCP4_1480                Amino acid transport and metabolism   \n",
       "ZCP4_0325                Amino acid transport and metabolism   \n",
       "ZCP4_1074                  Coenzyme transport and metabolism   \n",
       "ZCP4_0658                                      Cell motility   \n",
       "ZCP4_1669             Inorganic ion transport and metabolism   \n",
       "ZCP4_1857                     Lipid transport and metabolism   \n",
       "ZCP4_0318                Amino acid transport and metabolism   \n",
       "ZCP4_1094                                   Function unknown   \n",
       "ZCP4_1112                                   Function unknown   \n",
       "ZCP4_1448  Intracellular trafficking, secretion, and vesi...   \n",
       "ZCP4_1481             Inorganic ion transport and metabolism   \n",
       "ZCP4_1446             Cell wall/membrane/envelope biogenesis   \n",
       "ZCP4_1107                   Energy production and conversion   \n",
       "ZCP4_1187             Inorganic ion transport and metabolism   \n",
       "ZCP4_1355  Cell cycle control, cell division, chromosome ...   \n",
       "ZCP4_1034  Intracellular trafficking, secretion, and vesi...   \n",
       "ZCP4_0346                Nucleotide transport and metabolism   \n",
       "ZCP4_1447  Intracellular trafficking, secretion, and vesi...   \n",
       "ZCP4_0165                                   Function unknown   \n",
       "ZCP4_0349                Nucleotide transport and metabolism   \n",
       "ZCP4_0067                   Energy production and conversion   \n",
       "ZCP4_0347                                   Function unknown   \n",
       "ZCP4_1529             Inorganic ion transport and metabolism   \n",
       "ZCP4_1216             Inorganic ion transport and metabolism   \n",
       "ZCP4_0882                                  No COG annotation   \n",
       "ZCP4_1755                                   Function unknown   \n",
       "ZCP4_1334                  Coenzyme transport and metabolism   \n",
       "ZCP4_1192                   Energy production and conversion   \n",
       "ZCP4_0558                                   Function unknown   \n",
       "ZCP4_1195                   Energy production and conversion   \n",
       "ZCP4_0020                                   Function unknown   \n",
       "ZCP4_0019                                   Function unknown   \n",
       "\n",
       "                                                   regulator  \\\n",
       "ZCP4_1627            ZCP4_0900,ZCP4_1387,ZCP4_1387,ZCP4_1465   \n",
       "ZCP4_0054  ZCP4_0018,ZCP4_0128,ZCP4_0210,ZCP4_0375,ZCP4_0...   \n",
       "ZCP4_1111                                                NaN   \n",
       "ZCP4_1562                      ZCP4_0018,ZCP4_0812,ZCP4_1387   \n",
       "ZCP4_0403                                ZCP4_0530,ZCP4_1718   \n",
       "ZCP4_0718                                                NaN   \n",
       "ZCP4_1109                                ZCP4_1137,ZCP4_1465   \n",
       "ZCP4_0635                                                NaN   \n",
       "ZCP4_0600  ZCP4_0018,ZCP4_0265,ZCP4_0530,ZCP4_0900,ZCP4_1...   \n",
       "ZCP4_0413            ZCP4_0095,ZCP4_0900,ZCP4_1046,ZCP4_1718   \n",
       "ZCP4_1058                                                NaN   \n",
       "ZCP4_0337  ZCP4_0071,ZCP4_0207,ZCP4_0389,ZCP4_1046,ZCP4_1431   \n",
       "ZCP4_1110                                                NaN   \n",
       "ZCP4_0283  ZCP4_0128,ZCP4_0210,ZCP4_0375,ZCP4_0523,ZCP4_0...   \n",
       "ZCP4_0348                                ZCP4_1382,ZCP4_1718   \n",
       "ZCP4_1650                                          ZCP4_1046   \n",
       "ZCP4_0510                                ZCP4_1042,ZCP4_1465   \n",
       "ZCP4_1363  ZCP4_0128,ZCP4_0168,ZCP4_0210,ZCP4_0530,ZCP4_0...   \n",
       "ZCP4_0049  ZCP4_0018,ZCP4_0128,ZCP4_0375,ZCP4_0523,ZCP4_0...   \n",
       "ZCP4_1628  ZCP4_0128,ZCP4_0210,ZCP4_0375,ZCP4_0523,ZCP4_0...   \n",
       "ZCP4_1480                                                NaN   \n",
       "ZCP4_0325            ZCP4_0018,ZCP4_0375,ZCP4_0523,ZCP4_1718   \n",
       "ZCP4_1074                                                NaN   \n",
       "ZCP4_0658                                                NaN   \n",
       "ZCP4_1669                                                NaN   \n",
       "ZCP4_1857                                                NaN   \n",
       "ZCP4_0318  ZCP4_0018,ZCP4_0265,ZCP4_0530,ZCP4_1465,ZCP4_1718   \n",
       "ZCP4_1094                                ZCP4_1042,ZCP4_1387   \n",
       "ZCP4_1112                                ZCP4_1046,ZCP4_1387   \n",
       "ZCP4_1448                                                NaN   \n",
       "ZCP4_1481  ZCP4_0018,ZCP4_0128,ZCP4_0210,ZCP4_0375,ZCP4_0...   \n",
       "ZCP4_1446                                                NaN   \n",
       "ZCP4_1107            ZCP4_0523,ZCP4_0530,ZCP4_1387,ZCP4_1718   \n",
       "ZCP4_1187  ZCP4_0018,ZCP4_0128,ZCP4_0210,ZCP4_0523,ZCP4_1...   \n",
       "ZCP4_1355                                                NaN   \n",
       "ZCP4_1034                                                NaN   \n",
       "ZCP4_0346                                          ZCP4_1046   \n",
       "ZCP4_1447                                                NaN   \n",
       "ZCP4_0165                                                NaN   \n",
       "ZCP4_0349                                ZCP4_0375,ZCP4_1465   \n",
       "ZCP4_0067                                                NaN   \n",
       "ZCP4_0347                                                NaN   \n",
       "ZCP4_1529                                ZCP4_0530,ZCP4_1046   \n",
       "ZCP4_1216                                                NaN   \n",
       "ZCP4_0882                                                NaN   \n",
       "ZCP4_1755                      ZCP4_1046,ZCP4_1387,ZCP4_1387   \n",
       "ZCP4_1334                                                NaN   \n",
       "ZCP4_1192            ZCP4_0018,ZCP4_0523,ZCP4_0900,ZCP4_1718   \n",
       "ZCP4_0558                                                NaN   \n",
       "ZCP4_1195  ZCP4_0018,ZCP4_0128,ZCP4_0375,ZCP4_0523,ZCP4_1...   \n",
       "ZCP4_0020                      ZCP4_0018,ZCP4_0812,ZCP4_0900   \n",
       "ZCP4_0019                                                NaN   \n",
       "\n",
       "                                             FIMO_regulators  \\\n",
       "ZCP4_1627  ['CosR_Campylobacter_jejuni', 'HilC_Salmonella...   \n",
       "ZCP4_0054  ['CosR_Campylobacter_jejuni', 'NikR_Helicobact...   \n",
       "ZCP4_1111                                                 []   \n",
       "ZCP4_1562  ['CosR_Campylobacter_jejuni', 'MogR_Listeria_m...   \n",
       "ZCP4_0403                                                 []   \n",
       "ZCP4_0718  ['CosR_Campylobacter_jejuni', 'NikR_Helicobact...   \n",
       "ZCP4_1109                                                 []   \n",
       "ZCP4_0635                                                 []   \n",
       "ZCP4_0600  ['MogR_Listeria_monocytogenes', 'NikR_Helicoba...   \n",
       "ZCP4_0413  ['CosR_Campylobacter_jejuni', 'MogR_Listeria_m...   \n",
       "ZCP4_1058  ['Cap37_Clostridium_acetobutylicum', 'CosR_Cam...   \n",
       "ZCP4_0337                                                 []   \n",
       "ZCP4_1110  ['CosR_Campylobacter_jejuni', 'MogR_Listeria_m...   \n",
       "ZCP4_0283  ['CosR_Campylobacter_jejuni', 'Fur_Vibrio_chol...   \n",
       "ZCP4_0348                    ['MogR_Listeria_monocytogenes']   \n",
       "ZCP4_1650  ['CosR_Campylobacter_jejuni', 'CsrR_Streptococ...   \n",
       "ZCP4_0510                                                 []   \n",
       "ZCP4_1363  ['Cap37_Clostridium_acetobutylicum', 'CosR_Cam...   \n",
       "ZCP4_0049  ['Cap37_Clostridium_acetobutylicum', 'CosR_Cam...   \n",
       "ZCP4_1628  ['CosR_Campylobacter_jejuni', 'HilC_Salmonella...   \n",
       "ZCP4_1480                                                 []   \n",
       "ZCP4_0325  ['CosR_Campylobacter_jejuni', 'MogR_Listeria_m...   \n",
       "ZCP4_1074                                                 []   \n",
       "ZCP4_0658  ['CosR_Campylobacter_jejuni', 'Fur_Helicobacte...   \n",
       "ZCP4_1669  ['CosR_Campylobacter_jejuni', 'MogR_Listeria_m...   \n",
       "ZCP4_1857                       ['NikR_Helicobacter_pylori']   \n",
       "ZCP4_0318                                                 []   \n",
       "ZCP4_1094                                                 []   \n",
       "ZCP4_1112                                                 []   \n",
       "ZCP4_1448  ['CsrR_Streptococcus_pyogenes', 'MogR_Listeria...   \n",
       "ZCP4_1481  ['CosR_Campylobacter_jejuni', 'NikR_Helicobact...   \n",
       "ZCP4_1446  ['CsrR_Streptococcus_pyogenes', 'MogR_Listeria...   \n",
       "ZCP4_1107                       ['NikR_Helicobacter_pylori']   \n",
       "ZCP4_1187  ['CosR_Campylobacter_jejuni', 'CsrR_Streptococ...   \n",
       "ZCP4_1355  ['CosR_Campylobacter_jejuni', 'Fur_Escherichia...   \n",
       "ZCP4_1034  ['Cap37_Clostridium_acetobutylicum', 'CosR_Cam...   \n",
       "ZCP4_0346                                                 []   \n",
       "ZCP4_1447  ['CsrR_Streptococcus_pyogenes', 'MogR_Listeria...   \n",
       "ZCP4_0165                      ['CosR_Campylobacter_jejuni']   \n",
       "ZCP4_0349                                                 []   \n",
       "ZCP4_0067                                                 []   \n",
       "ZCP4_0347  ['CosR_Campylobacter_jejuni', 'MogR_Listeria_m...   \n",
       "ZCP4_1529  ['CosR_Campylobacter_jejuni', 'NikR_Helicobact...   \n",
       "ZCP4_1216  ['CosR_Campylobacter_jejuni', 'Fur_Helicobacte...   \n",
       "ZCP4_0882                                                 []   \n",
       "ZCP4_1755                    ['MogR_Listeria_monocytogenes']   \n",
       "ZCP4_1334                                                 []   \n",
       "ZCP4_1192                    ['MogR_Listeria_monocytogenes']   \n",
       "ZCP4_0558  ['CosR_Campylobacter_jejuni', 'MogR_Listeria_m...   \n",
       "ZCP4_1195  ['Fur_Klebsiella_pneumoniae', 'NikR_Helicobact...   \n",
       "ZCP4_0020  ['CosR_Campylobacter_jejuni', 'NikR_Helicobact...   \n",
       "ZCP4_0019                                                 []   \n",
       "\n",
       "                  EC_number  aerobic_essential  anaerobic_essential  \n",
       "ZCP4_1627               NaN           0.000000             0.000000  \n",
       "ZCP4_0054               NaN           0.000000             0.000000  \n",
       "ZCP4_1111               NaN           0.000000             0.000000  \n",
       "ZCP4_1562               NaN           0.000000             0.000000  \n",
       "ZCP4_0403               NaN           0.000000             0.000000  \n",
       "ZCP4_0718           2.6.1.9           0.000000             0.000000  \n",
       "ZCP4_1109               NaN           0.000000             0.000000  \n",
       "ZCP4_0635         2.3.1.109           0.000000             0.000000  \n",
       "ZCP4_0600               NaN           0.000000             0.000000  \n",
       "ZCP4_0413               NaN           0.000000             0.000000  \n",
       "ZCP4_1058               NaN           0.000000             0.000000  \n",
       "ZCP4_0337               NaN           0.000000             0.000000  \n",
       "ZCP4_1110           3.1.3.2           0.000000             0.000000  \n",
       "ZCP4_0283               NaN          -1.323649            -1.255249  \n",
       "ZCP4_0348               NaN          -1.208144             0.000000  \n",
       "ZCP4_1650               NaN           0.000000             0.000000  \n",
       "ZCP4_0510         3.4.21.26           0.000000             0.000000  \n",
       "ZCP4_1363               NaN           0.000000             0.000000  \n",
       "ZCP4_0049               NaN           0.000000             0.000000  \n",
       "ZCP4_1628               NaN           0.000000             0.000000  \n",
       "ZCP4_1480          4.1.1.12           0.000000             0.000000  \n",
       "ZCP4_0325               NaN           0.000000             0.000000  \n",
       "ZCP4_1074         4.1.99.17           0.000000             0.000000  \n",
       "ZCP4_0658               NaN           0.000000             0.000000  \n",
       "ZCP4_1669               NaN           0.000000             0.000000  \n",
       "ZCP4_1857         1.1.1.100           0.000000             0.000000  \n",
       "ZCP4_0318               NaN           0.000000             0.000000  \n",
       "ZCP4_1094               NaN           0.000000             0.000000  \n",
       "ZCP4_1112               NaN           0.000000             0.000000  \n",
       "ZCP4_1448               NaN           0.000000             0.000000  \n",
       "ZCP4_1481               NaN           0.000000             0.000000  \n",
       "ZCP4_1446               NaN           0.000000             0.000000  \n",
       "ZCP4_1107               NaN           0.000000             0.000000  \n",
       "ZCP4_1187               NaN           0.000000             0.000000  \n",
       "ZCP4_1355  1.18.6.1,1.3.7.7           0.000000             0.000000  \n",
       "ZCP4_1034               NaN           0.000000             0.000000  \n",
       "ZCP4_0346               NaN           0.000000             0.000000  \n",
       "ZCP4_1447               NaN           0.000000            -1.083046  \n",
       "ZCP4_0165               NaN           0.000000             0.000000  \n",
       "ZCP4_0349               NaN           0.000000             0.000000  \n",
       "ZCP4_0067          1.2.1.71           0.000000             0.000000  \n",
       "ZCP4_0347               NaN           0.000000             0.000000  \n",
       "ZCP4_1529               NaN           0.000000             0.000000  \n",
       "ZCP4_1216               NaN           0.000000             0.000000  \n",
       "ZCP4_0882               NaN           0.000000             0.000000  \n",
       "ZCP4_1755               NaN           0.000000             0.000000  \n",
       "ZCP4_1334          3.6.3.34           0.000000             0.000000  \n",
       "ZCP4_1192               NaN           0.000000             0.000000  \n",
       "ZCP4_0558               NaN           0.000000             0.000000  \n",
       "ZCP4_1195               NaN           0.000000             0.000000  \n",
       "ZCP4_0020               NaN           0.000000             0.000000  \n",
       "ZCP4_0019           1.6.5.2           0.000000             0.000000  "
      ]
     },
     "execution_count": 19,
     "metadata": {},
     "output_type": "execute_result"
    }
   ],
   "source": [
    "# show genes\n",
    "pd.set_option('display.max_rows', 500)\n",
    "pd.set_option('display.max_columns', 500)\n",
    "impt_cols = ['gene_name', 'gene_weight', 'gene_product', 'COG', 'regulator', 'FIMO_regulators', 'EC_number', 'aerobic_essential', 'anaerobic_essential']\n",
    "df = ica_data.view_imodulon(iM_ct).sort_values(by = 'gene_weight', ascending = False, key = abs)\n",
    "super_impt_cols = ['gene_weight', 'gene_product', 'COG', 'EC_number']\n",
    "df[impt_cols]"
   ]
  },
  {
   "cell_type": "code",
   "execution_count": 20,
   "metadata": {
    "tags": []
   },
   "outputs": [
    {
     "data": {
      "image/png": "[encoded data removed]",
      "text/plain": [
       "<Figure size 640x480 with 1 Axes>"
      ]
     },
     "metadata": {},
     "output_type": "display_data"
    }
   ],
   "source": [
    "# create bar chart of predicted regulators\n",
    "df = ica_data.view_imodulon(iM_ct)\n",
    "regulators = set()\n",
    "for regulator in df['FIMO_regulators']:\n",
    "    vals = ast.literal_eval(regulator)\n",
    "    for val in vals:\n",
    "        regulators.add(val)\n",
    "regulators = list(regulators)\n",
    "regulators.sort()\n",
    "\n",
    "counts = []\n",
    "for regulator in regulators:\n",
    "    ct = 0\n",
    "    for index, row in df.iterrows():\n",
    "        if regulator in row['FIMO_regulators']:\n",
    "            ct += 1\n",
    "    counts.append(ct)\n",
    "\n",
    "# resort to print most overlap first\n",
    "paired = list(zip(counts, regulators))\n",
    "paired.sort(key=lambda x: x[0])  # Sort by the first element (integer)\n",
    "counts, regulators = zip(*paired)\n",
    "counts = list(counts)\n",
    "regulators = list(regulators)\n",
    "\n",
    "# plotting\n",
    "counts.append(len(df.index))\n",
    "regulators.append('total genes')\n",
    "plt.barh(y = regulators, width = counts)\n",
    "plt.show()"
   ]
  },
  {
   "cell_type": "code",
   "execution_count": 58,
   "metadata": {
    "tags": []
   },
   "outputs": [
    {
     "data": {
      "image/png": "[encoded data removed]",
      "text/plain": [
       "<Figure size 1000x1000 with 4 Axes>"
      ]
     },
     "metadata": {},
     "output_type": "display_data"
    }
   ],
   "source": [
    "df = ica_data.X.loc[ica_data.view_imodulon(iM_ct).index]\n",
    "sns.clustermap(df.T.corr(), vmin = -1, vmax = 1)\n",
    "plt.show()"
   ]
  },
  {
   "cell_type": "code",
   "execution_count": 9,
   "metadata": {
    "tags": []
   },
   "outputs": [
    {
     "data": {
      "image/png": "[encoded data removed]",
      "text/plain": [
       "<Figure size 640x480 with 1 Axes>"
      ]
     },
     "metadata": {},
     "output_type": "display_data"
    }
   ],
   "source": [
    "custom_plot_gene_weights(ica_data, iM_ct)\n",
    "plt.show()"
   ]
  },
  {
   "cell_type": "code",
   "execution_count": 11,
   "metadata": {
    "tags": []
   },
   "outputs": [
    {
     "data": {
      "image/png": "[encoded data removed]",
      "text/plain": [
       "<Figure size 2130x200 with 1 Axes>"
      ]
     },
     "metadata": {},
     "output_type": "display_data"
    }
   ],
   "source": [
    "plot_activities(ica_data, iM_ct, highlight=['multistage_ferment_AFEX'])#'low_pH_evo'])\n",
    "plt.show()"
   ]
  },
  {
   "cell_type": "code",
   "execution_count": 10,
   "metadata": {
    "tags": []
   },
   "outputs": [
    {
     "data": {
      "text/html": [
       "<div>\n",
       "<style scoped>\n",
       "    .dataframe tbody tr th:only-of-type {\n",
       "        vertical-align: middle;\n",
       "    }\n",
       "\n",
       "    .dataframe tbody tr th {\n",
       "        vertical-align: top;\n",
       "    }\n",
       "\n",
       "    .dataframe thead th {\n",
       "        text-align: right;\n",
       "    }\n",
       "</style>\n",
       "<table border=\"1\" class=\"dataframe\">\n",
       "  <thead>\n",
       "    <tr style=\"text-align: right;\">\n",
       "      <th></th>\n",
       "      <th>p_value</th>\n",
       "      <th>q_value</th>\n",
       "      <th>most_enriched</th>\n",
       "      <th>precision</th>\n",
       "      <th>recall</th>\n",
       "    </tr>\n",
       "    <tr>\n",
       "      <th>Category</th>\n",
       "      <th></th>\n",
       "      <th></th>\n",
       "      <th></th>\n",
       "      <th></th>\n",
       "      <th></th>\n",
       "    </tr>\n",
       "  </thead>\n",
       "  <tbody>\n",
       "    <tr>\n",
       "      <th>project</th>\n",
       "      <td>0.000001</td>\n",
       "      <td>0.000017</td>\n",
       "      <td>MMG_RMG_oxidative</td>\n",
       "      <td>0.333333</td>\n",
       "      <td>0.315789</td>\n",
       "    </tr>\n",
       "    <tr>\n",
       "      <th>pH</th>\n",
       "      <td>0.000046</td>\n",
       "      <td>0.000299</td>\n",
       "      <td>6.4</td>\n",
       "      <td>0.333333</td>\n",
       "      <td>0.315789</td>\n",
       "    </tr>\n",
       "    <tr>\n",
       "      <th>Strain Description</th>\n",
       "      <td>0.000605</td>\n",
       "      <td>0.002622</td>\n",
       "      <td>Zymomonas mobilis subsp. mobilis ZM4 = ATCC 31821</td>\n",
       "      <td>0.118644</td>\n",
       "      <td>0.736842</td>\n",
       "    </tr>\n",
       "    <tr>\n",
       "      <th>Growth Rate (1/hr)</th>\n",
       "      <td>0.007523</td>\n",
       "      <td>0.024451</td>\n",
       "      <td>OD 0.85</td>\n",
       "      <td>1.000000</td>\n",
       "      <td>0.105263</td>\n",
       "    </tr>\n",
       "    <tr>\n",
       "      <th>Base Media</th>\n",
       "      <td>0.009888</td>\n",
       "      <td>0.025708</td>\n",
       "      <td>MMG</td>\n",
       "      <td>0.200000</td>\n",
       "      <td>0.421053</td>\n",
       "    </tr>\n",
       "  </tbody>\n",
       "</table>\n",
       "</div>"
      ],
      "text/plain": [
       "                     p_value   q_value  \\\n",
       "Category                                 \n",
       "project             0.000001  0.000017   \n",
       "pH                  0.000046  0.000299   \n",
       "Strain Description  0.000605  0.002622   \n",
       "Growth Rate (1/hr)  0.007523  0.024451   \n",
       "Base Media          0.009888  0.025708   \n",
       "\n",
       "                                                        most_enriched  \\\n",
       "Category                                                                \n",
       "project                                             MMG_RMG_oxidative   \n",
       "pH                                                                6.4   \n",
       "Strain Description  Zymomonas mobilis subsp. mobilis ZM4 = ATCC 31821   \n",
       "Growth Rate (1/hr)                                            OD 0.85   \n",
       "Base Media                                                        MMG   \n",
       "\n",
       "                    precision    recall  \n",
       "Category                                 \n",
       "project              0.333333  0.315789  \n",
       "pH                   0.333333  0.315789  \n",
       "Strain Description   0.118644  0.736842  \n",
       "Growth Rate (1/hr)   1.000000  0.105263  \n",
       "Base Media           0.200000  0.421053  "
      ]
     },
     "execution_count": 10,
     "metadata": {},
     "output_type": "execute_result"
    }
   ],
   "source": [
    "out = metadata_enrichment(ica_data, iM_ct)\n",
    "out[out['q_value'] < 0.10]"
   ]
  },
  {
   "cell_type": "code",
   "execution_count": 11,
   "metadata": {
    "tags": []
   },
   "outputs": [
    {
     "data": {
      "text/html": [
       "<div>\n",
       "<style scoped>\n",
       "    .dataframe tbody tr th:only-of-type {\n",
       "        vertical-align: middle;\n",
       "    }\n",
       "\n",
       "    .dataframe tbody tr th {\n",
       "        vertical-align: top;\n",
       "    }\n",
       "\n",
       "    .dataframe thead th {\n",
       "        text-align: right;\n",
       "    }\n",
       "</style>\n",
       "<table border=\"1\" class=\"dataframe\">\n",
       "  <thead>\n",
       "    <tr style=\"text-align: right;\">\n",
       "      <th></th>\n",
       "      <th>p_value</th>\n",
       "      <th>q_value</th>\n",
       "      <th>most_enriched</th>\n",
       "      <th>precision</th>\n",
       "      <th>recall</th>\n",
       "    </tr>\n",
       "    <tr>\n",
       "      <th>Category</th>\n",
       "      <th></th>\n",
       "      <th></th>\n",
       "      <th></th>\n",
       "      <th></th>\n",
       "      <th></th>\n",
       "    </tr>\n",
       "  </thead>\n",
       "  <tbody>\n",
       "    <tr>\n",
       "      <th>gene_product</th>\n",
       "      <td>2.118313e-08</td>\n",
       "      <td>1.059156e-07</td>\n",
       "      <td>ribonucleotide reductase%2C alpha subunit</td>\n",
       "      <td>1.000000</td>\n",
       "      <td>0.04</td>\n",
       "    </tr>\n",
       "    <tr>\n",
       "      <th>COG</th>\n",
       "      <td>6.434910e-04</td>\n",
       "      <td>1.608728e-03</td>\n",
       "      <td>Energy production and conversion</td>\n",
       "      <td>0.069307</td>\n",
       "      <td>0.28</td>\n",
       "    </tr>\n",
       "  </tbody>\n",
       "</table>\n",
       "</div>"
      ],
      "text/plain": [
       "                   p_value       q_value  \\\n",
       "Category                                   \n",
       "gene_product  2.118313e-08  1.059156e-07   \n",
       "COG           6.434910e-04  1.608728e-03   \n",
       "\n",
       "                                          most_enriched  precision  recall  \n",
       "Category                                                                    \n",
       "gene_product  ribonucleotide reductase%2C alpha subunit   1.000000    0.04  \n",
       "COG                    Energy production and conversion   0.069307    0.28  "
      ]
     },
     "execution_count": 11,
     "metadata": {},
     "output_type": "execute_result"
    }
   ],
   "source": [
    "out = genes_enrichment(ica_data, iM_ct)\n",
    "out[out['q_value'] < 0.10]"
   ]
  },
  {
   "cell_type": "markdown",
   "metadata": {
    "jp-MarkdownHeadingCollapsed": true,
    "tags": []
   },
   "source": [
    "# below is as forked from SBRG/iModulonMiner, ignoring it for now"
   ]
  },
  {
   "cell_type": "markdown",
   "metadata": {
    "jp-MarkdownHeadingCollapsed": true,
    "tags": []
   },
   "source": [
    "## Add iModulon category"
   ]
  },
  {
   "cell_type": "code",
   "execution_count": null,
   "metadata": {
    "tags": []
   },
   "outputs": [],
   "source": [
    "for i,row in ica_data.imodulon_table.iterrows():\n",
    "    if pd.notnull(row.regulator):\n",
    "        ica_data.imodulon_table.loc[i, 'category'] = 'regulatory'\n",
    "    elif pd.notnull(row.single_gene):\n",
    "        ica_data.imodulon_table.loc[i, 'category'] = 'single_gene'\n",
    "    else:\n",
    "        ica_data.imodulon_table.loc[i, 'category'] = 'uncharacterized'"
   ]
  },
  {
   "cell_type": "code",
   "execution_count": null,
   "metadata": {},
   "outputs": [],
   "source": [
    "ica_data.imodulon_table.head()"
   ]
  },
  {
   "cell_type": "markdown",
   "metadata": {
    "tags": []
   },
   "source": [
    "## Inspect all iModulons without an automated annotation"
   ]
  },
  {
   "cell_type": "code",
   "execution_count": null,
   "metadata": {
    "tags": []
   },
   "outputs": [],
   "source": [
    "unchar_imods = ica_data.imodulon_table[ica_data.imodulon_table.category == 'uncharacterized']"
   ]
  },
  {
   "cell_type": "code",
   "execution_count": null,
   "metadata": {
    "tags": []
   },
   "outputs": [],
   "source": [
    "unchar_imods"
   ]
  },
  {
   "cell_type": "markdown",
   "metadata": {},
   "source": [
    "### iModulon 1: Unknown"
   ]
  },
  {
   "cell_type": "code",
   "execution_count": null,
   "metadata": {
    "tags": []
   },
   "outputs": [],
   "source": [
    "ica_data.view_imodulon(1)"
   ]
  },
  {
   "cell_type": "code",
   "execution_count": null,
   "metadata": {},
   "outputs": [],
   "source": [
    "plot_activities(ica_data,1,highlight=['heatshock','spore_genes'])"
   ]
  },
  {
   "cell_type": "code",
   "execution_count": null,
   "metadata": {},
   "outputs": [],
   "source": [
    "DF_enrichments[DF_enrichments.imodulon=='1'].sort_values('f1score',ascending=False)"
   ]
  },
  {
   "cell_type": "code",
   "execution_count": null,
   "metadata": {},
   "outputs": [],
   "source": [
    "# Update the ICA data object\n",
    "\n",
    "ica_data.rename_imodulons({1:'uncharacterized-1'})"
   ]
  },
  {
   "cell_type": "markdown",
   "metadata": {},
   "source": [
    "### iModulon 3: Unknown\n",
    "This iModulon is likely some technical artifact from the MK7 project."
   ]
  },
  {
   "cell_type": "code",
   "execution_count": null,
   "metadata": {},
   "outputs": [],
   "source": [
    "ica_data.view_imodulon(3)"
   ]
  },
  {
   "cell_type": "code",
   "execution_count": null,
   "metadata": {},
   "outputs": [],
   "source": [
    "plot_activities(ica_data,3,highlight=['heatshock','spore_genes'])"
   ]
  },
  {
   "cell_type": "code",
   "execution_count": null,
   "metadata": {},
   "outputs": [],
   "source": [
    "DF_enrichments[DF_enrichments.imodulon=='3'].sort_values('f1score',ascending=False)"
   ]
  },
  {
   "cell_type": "code",
   "execution_count": null,
   "metadata": {},
   "outputs": [],
   "source": [
    "# Update the ica_data object\n",
    "ica_data.rename_imodulons({3:'uncharacterized-2'})"
   ]
  },
  {
   "cell_type": "markdown",
   "metadata": {},
   "source": [
    "### iModulon 6: ybc Operon\n",
    "This iModulon contains four genes starting with ybc, and ndhF, which are all likely in the same operon. Little is known about the genes except that they are part of prophage 1."
   ]
  },
  {
   "cell_type": "code",
   "execution_count": null,
   "metadata": {},
   "outputs": [],
   "source": [
    "ica_data.view_imodulon(6)"
   ]
  },
  {
   "cell_type": "code",
   "execution_count": null,
   "metadata": {},
   "outputs": [],
   "source": [
    "plot_activities(ica_data,6,highlight=['heatshock','sigI'])"
   ]
  },
  {
   "cell_type": "code",
   "execution_count": null,
   "metadata": {},
   "outputs": [],
   "source": [
    "DF_enrichments[DF_enrichments.imodulon=='6'].sort_values('f1score',ascending=False)"
   ]
  },
  {
   "cell_type": "code",
   "execution_count": null,
   "metadata": {},
   "outputs": [],
   "source": [
    "# Update the ICA data object\n",
    "\n",
    "ica_data.rename_imodulons({6:'ybc-operon'})\n",
    "ica_data.imodulon_table.loc['ybc-operon','category'] = 'functional'"
   ]
  },
  {
   "cell_type": "markdown",
   "metadata": {},
   "source": [
    "### iModulon 7: Putative yvaF\n",
    "We predict that this iModulon is regulated by yvaF, a putative transcriptional regulator that is in the iModulon."
   ]
  },
  {
   "cell_type": "code",
   "execution_count": null,
   "metadata": {},
   "outputs": [],
   "source": [
    "ica_data.view_imodulon(7)"
   ]
  },
  {
   "cell_type": "code",
   "execution_count": null,
   "metadata": {},
   "outputs": [],
   "source": [
    "plot_activities(ica_data,7,highlight=['heatshock'])"
   ]
  },
  {
   "cell_type": "code",
   "execution_count": null,
   "metadata": {},
   "outputs": [],
   "source": [
    "DF_enrichments[DF_enrichments.imodulon=='7'].sort_values('f1score',ascending=False)"
   ]
  },
  {
   "cell_type": "code",
   "execution_count": null,
   "metadata": {},
   "outputs": [],
   "source": [
    "# Update the ica_data object\n",
    "ica_data.rename_imodulons({7:'YvaF'})\n",
    "ica_data.imodulon_table.loc['YvaF','category'] = 'functional'"
   ]
  },
  {
   "cell_type": "markdown",
   "metadata": {},
   "source": [
    "### iModulon 9: Unknown\n",
    "Another technical artifact from the MK7 project"
   ]
  },
  {
   "cell_type": "code",
   "execution_count": null,
   "metadata": {},
   "outputs": [],
   "source": [
    "ica_data.view_imodulon(9)"
   ]
  },
  {
   "cell_type": "code",
   "execution_count": null,
   "metadata": {},
   "outputs": [],
   "source": [
    "plot_activities(ica_data,9,highlight=['ldar'])"
   ]
  },
  {
   "cell_type": "code",
   "execution_count": null,
   "metadata": {},
   "outputs": [],
   "source": [
    "DF_enrichments[DF_enrichments.imodulon=='9'].sort_values('f1score',ascending=False)"
   ]
  },
  {
   "cell_type": "code",
   "execution_count": null,
   "metadata": {},
   "outputs": [],
   "source": [
    "# Update the ica_data object\n",
    "ica_data.rename_imodulons({9:'uncharacterized-3'})"
   ]
  },
  {
   "cell_type": "markdown",
   "metadata": {},
   "source": [
    "### iModulon 51: Unknown"
   ]
  },
  {
   "cell_type": "code",
   "execution_count": null,
   "metadata": {},
   "outputs": [],
   "source": [
    "ica_data.view_imodulon(51)"
   ]
  },
  {
   "cell_type": "code",
   "execution_count": null,
   "metadata": {},
   "outputs": [],
   "source": [
    "plot_activities(ica_data,51,highlight=['heatshock','ldar'])"
   ]
  },
  {
   "cell_type": "code",
   "execution_count": null,
   "metadata": {},
   "outputs": [],
   "source": [
    "DF_enrichments[DF_enrichments.imodulon=='51'].sort_values('f1score',ascending=False)"
   ]
  },
  {
   "cell_type": "code",
   "execution_count": null,
   "metadata": {},
   "outputs": [],
   "source": [
    "# Update the ica_data object\n",
    "ica_data.rename_imodulons({51:'uncharacterized-4'})"
   ]
  },
  {
   "cell_type": "markdown",
   "metadata": {},
   "source": [
    "### iModulon 52: ykzB-related\n",
    "This iModulon is only down-regulated during sporulation when ykzB is deleted."
   ]
  },
  {
   "cell_type": "code",
   "execution_count": null,
   "metadata": {},
   "outputs": [],
   "source": [
    "ica_data.view_imodulon(52)"
   ]
  },
  {
   "cell_type": "code",
   "execution_count": null,
   "metadata": {},
   "outputs": [],
   "source": [
    "plot_activities(ica_data,52,highlight=['biofilm_time','spore_genes'])"
   ]
  },
  {
   "cell_type": "code",
   "execution_count": null,
   "metadata": {},
   "outputs": [],
   "source": [
    "DF_enrichments[DF_enrichments.imodulon=='52'].sort_values('f1score',ascending=False)"
   ]
  },
  {
   "cell_type": "code",
   "execution_count": null,
   "metadata": {},
   "outputs": [],
   "source": [
    "# Update the ica_data object\n",
    "ica_data.rename_imodulons({52:'ykzB-related'})\n",
    "ica_data.imodulon_table.loc['ykzB-related','category'] = 'functional'"
   ]
  },
  {
   "cell_type": "markdown",
   "metadata": {},
   "source": [
    "### iModulon 61: early biofilm"
   ]
  },
  {
   "cell_type": "code",
   "execution_count": null,
   "metadata": {},
   "outputs": [],
   "source": [
    "ica_data.view_imodulon(61)"
   ]
  },
  {
   "cell_type": "code",
   "execution_count": null,
   "metadata": {},
   "outputs": [],
   "source": [
    "plot_activities(ica_data,61,highlight=['biofilm_time','ldar','pamR'])"
   ]
  },
  {
   "cell_type": "code",
   "execution_count": null,
   "metadata": {},
   "outputs": [],
   "source": [
    "DF_enrichments[DF_enrichments.imodulon=='61'].sort_values('f1score',ascending=False)"
   ]
  },
  {
   "cell_type": "code",
   "execution_count": null,
   "metadata": {},
   "outputs": [],
   "source": [
    "# Update ICA data object\n",
    "ica_data.rename_imodulons({61:'early-biofilm'})\n",
    "ica_data.imodulon_table.loc['early-biofilm','category'] = 'functional'"
   ]
  },
  {
   "cell_type": "markdown",
   "metadata": {},
   "source": [
    "### iModulon 68: Unknown"
   ]
  },
  {
   "cell_type": "code",
   "execution_count": null,
   "metadata": {},
   "outputs": [],
   "source": [
    "ica_data.view_imodulon(68)"
   ]
  },
  {
   "cell_type": "code",
   "execution_count": null,
   "metadata": {},
   "outputs": [],
   "source": [
    "plot_activities(ica_data,68,highlight=['ldar','tasA'])"
   ]
  },
  {
   "cell_type": "code",
   "execution_count": null,
   "metadata": {
    "scrolled": true
   },
   "outputs": [],
   "source": [
    "DF_enrichments[DF_enrichments.imodulon=='68'].sort_values('f1score',ascending=False)"
   ]
  },
  {
   "cell_type": "code",
   "execution_count": null,
   "metadata": {},
   "outputs": [],
   "source": [
    "# Update the ica_data object\n",
    "ica_data.rename_imodulons({68:'uncharacterized-5'})"
   ]
  },
  {
   "cell_type": "markdown",
   "metadata": {
    "tags": []
   },
   "source": [
    "### iModulon 69: cssRS"
   ]
  },
  {
   "cell_type": "code",
   "execution_count": null,
   "metadata": {},
   "outputs": [],
   "source": [
    "ica_data.view_imodulon(69)"
   ]
  },
  {
   "cell_type": "code",
   "execution_count": null,
   "metadata": {},
   "outputs": [],
   "source": [
    "plot_activities(ica_data,69,highlight=['ecm_tasA','ldar'])"
   ]
  },
  {
   "cell_type": "code",
   "execution_count": null,
   "metadata": {
    "scrolled": true
   },
   "outputs": [],
   "source": [
    "DF_enrichments[DF_enrichments.imodulon=='69'].sort_values('f1score',ascending=False)"
   ]
  },
  {
   "cell_type": "code",
   "execution_count": null,
   "metadata": {},
   "outputs": [],
   "source": [
    "# Update the ICA data object\n",
    "\n",
    "ica_data.rename_imodulons({69:'putative-cssRS'})\n",
    "ica_data.imodulon_table.loc['putative-cssRS','category'] = 'functional'"
   ]
  },
  {
   "cell_type": "markdown",
   "metadata": {},
   "source": [
    "### iModulon 70: Unknown"
   ]
  },
  {
   "cell_type": "code",
   "execution_count": null,
   "metadata": {},
   "outputs": [],
   "source": [
    "ica_data.view_imodulon(70)"
   ]
  },
  {
   "cell_type": "code",
   "execution_count": null,
   "metadata": {},
   "outputs": [],
   "source": [
    "plot_activities(ica_data,70,highlight=['ldar'])"
   ]
  },
  {
   "cell_type": "code",
   "execution_count": null,
   "metadata": {},
   "outputs": [],
   "source": [
    "# Update the ica_data object\n",
    "ica_data.rename_imodulons({70:'uncharacterized-6'})"
   ]
  },
  {
   "cell_type": "markdown",
   "metadata": {},
   "source": [
    "### iModulon 71: Putative yxi-operon"
   ]
  },
  {
   "cell_type": "code",
   "execution_count": null,
   "metadata": {},
   "outputs": [],
   "source": [
    "ica_data.view_imodulon(71)"
   ]
  },
  {
   "cell_type": "code",
   "execution_count": null,
   "metadata": {},
   "outputs": [],
   "source": [
    "plot_activities(ica_data,71,highlight=['ldar','heatshock'])"
   ]
  },
  {
   "cell_type": "code",
   "execution_count": null,
   "metadata": {},
   "outputs": [],
   "source": [
    "# Update ICA data object\n",
    "ica_data.rename_imodulons({71:'yxi-operon'})\n",
    "ica_data.imodulon_table.loc['yxi-operon','category'] = 'functional'"
   ]
  },
  {
   "cell_type": "markdown",
   "metadata": {
    "jp-MarkdownHeadingCollapsed": true,
    "tags": []
   },
   "source": [
    "## Double-check low-scoring iModulons"
   ]
  },
  {
   "cell_type": "code",
   "execution_count": null,
   "metadata": {},
   "outputs": [],
   "source": [
    "ica_data.imodulon_table[ica_data.imodulon_table['f1score']  < 0.25]"
   ]
  },
  {
   "cell_type": "code",
   "execution_count": null,
   "metadata": {},
   "outputs": [],
   "source": [
    "def clear_row(imodulon):\n",
    "    clear_columns = ['regulator','pvalue','qvalue','precision','recall','f1score','TP','regulon_size','n_regs']\n",
    "    \n",
    "    for col in clear_columns:\n",
    "        ica_data.imodulon_table.loc[imodulon,col] = None"
   ]
  },
  {
   "cell_type": "markdown",
   "metadata": {},
   "source": [
    "### CsoR/Fnr -> SPbeta-1"
   ]
  },
  {
   "cell_type": "code",
   "execution_count": null,
   "metadata": {},
   "outputs": [],
   "source": [
    "ica_data.imodulon_table.loc['CsoR/Fnr']"
   ]
  },
  {
   "cell_type": "code",
   "execution_count": null,
   "metadata": {},
   "outputs": [],
   "source": [
    "DF_enrichments[DF_enrichments.imodulon=='CsoR/Fnr'].sort_values('f1score',ascending=False)"
   ]
  },
  {
   "cell_type": "code",
   "execution_count": null,
   "metadata": {},
   "outputs": [],
   "source": [
    "# Update the ICA data object\n",
    "\n",
    "ica_data.rename_imodulons({'CsoR/Fnr':'SPbeta-1'})\n",
    "ica_data.imodulon_table.loc['SPbeta-1','category'] = 'functional'\n",
    "clear_row('SPbeta-1')"
   ]
  },
  {
   "cell_type": "markdown",
   "metadata": {},
   "source": [
    "### RhgR -> Carbon metabolism/skin element"
   ]
  },
  {
   "cell_type": "code",
   "execution_count": null,
   "metadata": {},
   "outputs": [],
   "source": [
    "ica_data.imodulon_table.loc['RhgR']"
   ]
  },
  {
   "cell_type": "code",
   "execution_count": null,
   "metadata": {},
   "outputs": [],
   "source": [
    "DF_enrichments[DF_enrichments.imodulon=='RhgR'].sort_values('f1score',ascending=False)"
   ]
  },
  {
   "cell_type": "code",
   "execution_count": null,
   "metadata": {},
   "outputs": [],
   "source": [
    "# Update the ICA data object\n",
    "\n",
    "ica_data.rename_imodulons({'RhgR':'carbon metabolism/skin element'})\n",
    "ica_data.imodulon_table.loc['carbon metabolism/skin element','category'] = 'functional'\n",
    "clear_row('carbon metabolism/skin element')"
   ]
  },
  {
   "cell_type": "markdown",
   "metadata": {},
   "source": [
    "## NusA -> ComK/LevR/NusA"
   ]
  },
  {
   "cell_type": "code",
   "execution_count": null,
   "metadata": {},
   "outputs": [],
   "source": [
    "ica_data.imodulon_table.loc['NusA']"
   ]
  },
  {
   "cell_type": "code",
   "execution_count": null,
   "metadata": {},
   "outputs": [],
   "source": [
    "DF_enrichments[DF_enrichments.imodulon=='NusA'].sort_values('f1score',ascending=False)"
   ]
  },
  {
   "cell_type": "code",
   "execution_count": null,
   "metadata": {},
   "outputs": [],
   "source": [
    "ica_data.compute_trn_enrichment('NusA', max_regs=3,force=True,save=True)"
   ]
  },
  {
   "cell_type": "code",
   "execution_count": null,
   "metadata": {},
   "outputs": [],
   "source": [
    "# Update the ICA data object\n",
    "\n",
    "ica_data.rename_imodulons({'NusA':'ComK/LevR/NusA'})"
   ]
  },
  {
   "cell_type": "markdown",
   "metadata": {},
   "source": [
    "## CsoR -> SPbeta-2"
   ]
  },
  {
   "cell_type": "code",
   "execution_count": null,
   "metadata": {},
   "outputs": [],
   "source": [
    "ica_data.imodulon_table.loc['CsoR']"
   ]
  },
  {
   "cell_type": "code",
   "execution_count": null,
   "metadata": {},
   "outputs": [],
   "source": [
    "DF_enrichments[DF_enrichments.imodulon=='CsoR'].sort_values('f1score',ascending=False)"
   ]
  },
  {
   "cell_type": "code",
   "execution_count": null,
   "metadata": {},
   "outputs": [],
   "source": [
    "# Update the ICA data object\n",
    "\n",
    "ica_data.rename_imodulons({'CsoR':'SPbeta-2'})\n",
    "ica_data.imodulon_table.loc['SPbeta-2','category'] = 'functional'\n",
    "clear_row('SPbeta-2')"
   ]
  },
  {
   "cell_type": "markdown",
   "metadata": {},
   "source": [
    "## Xpf"
   ]
  },
  {
   "cell_type": "code",
   "execution_count": null,
   "metadata": {},
   "outputs": [],
   "source": [
    "ica_data.compute_trn_enrichment('Xpf',max_regs=2,save=True)"
   ]
  },
  {
   "cell_type": "code",
   "execution_count": null,
   "metadata": {},
   "outputs": [],
   "source": [
    "ica_data.rename_imodulons({'Xpf':'Xre/Xpf'})"
   ]
  },
  {
   "cell_type": "markdown",
   "metadata": {},
   "source": [
    "## Adjust some thresholds"
   ]
  },
  {
   "cell_type": "code",
   "execution_count": null,
   "metadata": {},
   "outputs": [],
   "source": [
    "ica_data.change_threshold('Thi-box',.1)\n",
    "ica_data.change_threshold('LnrK',.15)\n",
    "ica_data.change_threshold('KipR',0.12)\n",
    "\n",
    "# Recalculate enrichments\n",
    "ica_data.compute_trn_enrichment(['Thi-box','LnrK','KipR'], save=True)"
   ]
  },
  {
   "cell_type": "markdown",
   "metadata": {
    "jp-MarkdownHeadingCollapsed": true,
    "tags": []
   },
   "source": [
    "## Add biological functions\n",
    "This is only relevant for 'biological' and 'regulatory iModulons"
   ]
  },
  {
   "cell_type": "code",
   "execution_count": null,
   "metadata": {},
   "outputs": [],
   "source": [
    "subti_annot = pd.read_csv(path.join('..','data','external','subtiwiki_categories.csv'))\n",
    "subti_annot.rename({'BSU_number':'gene_id'},axis=1,inplace=True)\n",
    "subti_annot = subti_annot[subti_annot.gene_id.isin(ica_data.gene_names)]"
   ]
  },
  {
   "cell_type": "code",
   "execution_count": null,
   "metadata": {},
   "outputs": [],
   "source": [
    "subti_enrich = ica_data.compute_annotation_enrichment(subti_annot,'FuncName2')\n",
    "functions = subti_enrich.sort_values('qvalue').drop_duplicates('imodulon').set_index('imodulon')['FuncName2']\n",
    "functions = functions[ica_data.imodulon_table.category.isin(['regulatory','functional'])]\n",
    "functions.head()"
   ]
  },
  {
   "cell_type": "code",
   "execution_count": null,
   "metadata": {},
   "outputs": [],
   "source": [
    "ica_data.imodulon_table['function'] = functions"
   ]
  },
  {
   "cell_type": "markdown",
   "metadata": {},
   "source": [
    "### Manually curate functions"
   ]
  },
  {
   "cell_type": "code",
   "execution_count": null,
   "metadata": {},
   "outputs": [],
   "source": [
    "ica_data.imodulon_table.function.value_counts()"
   ]
  },
  {
   "cell_type": "code",
   "execution_count": null,
   "metadata": {},
   "outputs": [],
   "source": [
    "rename = {'carbon metabolism':'Carbon Metabolism',\n",
    "          'coping with stress':'Stress Response',\n",
    "          'amino acid/ nitrogen metabolism':'AA/Nucleotide Metabolism',\n",
    "          'prophages':'Prophages',\n",
    "          'sporulation':'Lifestyles',\n",
    "          'exponential and early post-exponential lifestyles':'Lifestyles',\n",
    "          'electron transport and ATP synthesis': 'Misc. Metabolism',\n",
    "          'homeostasis':'Homeostasis',\n",
    "          'nucleotide metabolism':'AA/Nucleotide Metabolism',\n",
    "          'proteins of unknown function':'Other',\n",
    "          'additional metabolic pathways':'Misc. Metabolism',\n",
    "          'short peptides':'Cellular Processes',\n",
    "          'essential genes':'Cellular Processes',\n",
    "          'transporters':'Misc. Metabolism',\n",
    "          'mobile genetic elements': 'Cellular Processes',\n",
    "          'ncRNA':'Cellular Processes',\n",
    "          'mobile genetic elements/ based on similarity':'Cellular Processes',\n",
    "          'lipid metabolism':'Misc. Metabolism',\n",
    "          'cell envelope and cell division': 'Cellular Processes',\n",
    "          'genetics':'Cellular Processes'}"
   ]
  },
  {
   "cell_type": "code",
   "execution_count": null,
   "metadata": {},
   "outputs": [],
   "source": [
    "ica_data.imodulon_table.function = ica_data.imodulon_table.function.replace(rename)"
   ]
  },
  {
   "cell_type": "code",
   "execution_count": null,
   "metadata": {},
   "outputs": [],
   "source": [
    "ica_data.imodulon_table.loc['ybc-operon','function'] = 'Prophages'\n",
    "ica_data.imodulon_table.loc['SigI','function'] = 'Stress Response'\n",
    "ica_data.imodulon_table.loc['LnrK','function'] = 'Cellular Processes'\n",
    "ica_data.imodulon_table.loc['early-biofilm','function'] = 'Lifestyles'\n",
    "ica_data.imodulon_table.loc['KipR','function'] = 'Misc. Metabolism'\n",
    "ica_data.imodulon_table.loc['AbrB','function'] = 'Lifestyles'\n",
    "ica_data.imodulon_table.loc['putative-cssRS','function'] = 'Lifestyles'\n",
    "ica_data.imodulon_table.loc['YvaF','function'] = 'Other'"
   ]
  },
  {
   "cell_type": "code",
   "execution_count": null,
   "metadata": {
    "scrolled": true
   },
   "outputs": [],
   "source": [
    "ica_data.imodulon_table.function.value_counts()"
   ]
  },
  {
   "cell_type": "markdown",
   "metadata": {},
   "source": [
    "### Fill in Uncharacterized and Single Gene iModulons"
   ]
  },
  {
   "cell_type": "code",
   "execution_count": null,
   "metadata": {},
   "outputs": [],
   "source": [
    "ica_data.imodulon_table.function = ['Uncharacterized' if row.category == 'uncharacterized' else\n",
    "                                    'Single Gene' if row.category == 'single_gene' else row.function\n",
    "                                    for i,row in ica_data.imodulon_table.iterrows()]\n"
   ]
  },
  {
   "cell_type": "markdown",
   "metadata": {
    "tags": []
   },
   "source": [
    "## Save final ICA data object"
   ]
  },
  {
   "cell_type": "code",
   "execution_count": null,
   "metadata": {},
   "outputs": [],
   "source": [
    "save_to_json(ica_data, path.join(data_dir, 'bsu.json.gz'))"
   ]
  },
  {
   "cell_type": "code",
   "execution_count": null,
   "metadata": {
    "tags": []
   },
   "outputs": [],
   "source": [
    "ica_data.imodulon_table.to_csv(path.join(data_dir, 'imodulon_table.csv'))"
   ]
  }
 ],
 "metadata": {
  "kernelspec": {
   "display_name": "Python 3 (ipykernel)",
   "language": "python",
   "name": "python3"
  },
  "language_info": {
   "codemirror_mode": {
    "name": "ipython",
    "version": 3
   },
   "file_extension": ".py",
   "mimetype": "text/x-python",
   "name": "python",
   "nbconvert_exporter": "python",
   "pygments_lexer": "ipython3",
   "version": "3.7.12"
  }
 },
 "nbformat": 4,
 "nbformat_minor": 4
}
