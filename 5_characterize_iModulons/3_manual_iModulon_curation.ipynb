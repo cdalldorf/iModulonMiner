{
 "cells": [
  {
   "cell_type": "code",
   "execution_count": 1,
   "metadata": {
    "tags": []
   },
   "outputs": [
    {
     "name": "stderr",
     "output_type": "stream",
     "text": [
      "/home/chris/miniforge3/envs/iM_miner/lib/python3.10/site-packages/pymodulon/util.py:31: FutureWarning: Passing literal json to 'read_json' is deprecated and will be removed in a future version. To read from a literal string, wrap it in a 'StringIO' object.\n",
      "  table = pd.read_json(table)\n",
      "/home/chris/miniforge3/envs/iM_miner/lib/python3.10/site-packages/pymodulon/util.py:31: FutureWarning: Passing literal json to 'read_json' is deprecated and will be removed in a future version. To read from a literal string, wrap it in a 'StringIO' object.\n",
      "  table = pd.read_json(table)\n",
      "/home/chris/miniforge3/envs/iM_miner/lib/python3.10/site-packages/pymodulon/util.py:31: FutureWarning: Passing literal json to 'read_json' is deprecated and will be removed in a future version. To read from a literal string, wrap it in a 'StringIO' object.\n",
      "  table = pd.read_json(table)\n",
      "/home/chris/miniforge3/envs/iM_miner/lib/python3.10/site-packages/pymodulon/util.py:31: FutureWarning: Passing literal json to 'read_json' is deprecated and will be removed in a future version. To read from a literal string, wrap it in a 'StringIO' object.\n",
      "  table = pd.read_json(table)\n",
      "/home/chris/miniforge3/envs/iM_miner/lib/python3.10/site-packages/pymodulon/util.py:31: FutureWarning: Passing literal json to 'read_json' is deprecated and will be removed in a future version. To read from a literal string, wrap it in a 'StringIO' object.\n",
      "  table = pd.read_json(table)\n",
      "/home/chris/miniforge3/envs/iM_miner/lib/python3.10/site-packages/pymodulon/util.py:31: FutureWarning: Passing literal json to 'read_json' is deprecated and will be removed in a future version. To read from a literal string, wrap it in a 'StringIO' object.\n",
      "  table = pd.read_json(table)\n",
      "/home/chris/miniforge3/envs/iM_miner/lib/python3.10/site-packages/pymodulon/util.py:31: FutureWarning: Passing literal json to 'read_json' is deprecated and will be removed in a future version. To read from a literal string, wrap it in a 'StringIO' object.\n",
      "  table = pd.read_json(table)\n"
     ]
    }
   ],
   "source": [
    "# imports and loading\n",
    "from pymodulon.io import *\n",
    "from pymodulon.plotting import *\n",
    "from scipy.stats import fisher_exact, chi2_contingency\n",
    "from statsmodels.stats.multitest import multipletests\n",
    "from os import path\n",
    "import seaborn as sns\n",
    "import ast \n",
    "import matplotlib as mpl\n",
    "mpl.rcParams['pdf.fonttype'] = 42\n",
    "\n",
    "external_data = path.join('..','data','external')\n",
    "df_trn = pd.read_csv(path.join(external_data,'TRN.csv'))\n",
    "\n",
    "\n",
    "data_dir = path.join('..','data','processed_data')\n",
    "interim_dir = path.join('..','data','interim')\n",
    "ica_data = load_json_model(path.join(interim_dir,'zmo_raw.json.gz'))\n",
    "\n",
    "# let's create a metadata enrichment function\n",
    "def metadata_enrichment(ica_data, iM, categories = ['project','gene_KO', 'Strain Description', 'Evolved Sample', 'Base Media', 'Temperature (C)', 'pH', 'Carbon Source (g/L)', 'Supplement', 'Growth Rate (1/hr)', 'Isolate Type', 'lab', 'Aerobicity']):\n",
    "    # first let's find the samples where the iM is active\n",
    "    vals = abs(ica_data.A.loc[iM].values)\n",
    "    avg = np.mean(vals)\n",
    "    std = np.std(vals)\n",
    "    active_samps = ica_data.A.columns[vals > (avg + 2*std)]\n",
    "    samp_table = ica_data.sample_table.fillna('nan')\n",
    "    samp_table['is_active'] = samp_table.index.isin(active_samps)\n",
    "    \n",
    "    # now enrichment against the categories\n",
    "    return_dfs = []\n",
    "    for cat in categories:\n",
    "        # try each type of category found in the active samples\n",
    "        contingency_table = pd.crosstab(samp_table[cat], samp_table['is_active'])\n",
    "        _, pval, dof, expected = chi2_contingency(contingency_table)\n",
    "        observed = contingency_table.values\n",
    "        observed_df = pd.DataFrame(observed, index=contingency_table.index, columns=contingency_table.columns)\n",
    "        residuals = (observed - expected) / (expected ** 0.5)\n",
    "        residuals_df = pd.DataFrame(residuals, index=contingency_table.index, columns=contingency_table.columns)\n",
    "        most_abnormal = abs(residuals_df).sort_values(by = True, ascending = False).index[0]\n",
    "        \n",
    "        # calculate precision and recall of most abnormal\n",
    "        true_pos = observed_df.loc[most_abnormal][True]\n",
    "        false_pos = observed_df.loc[most_abnormal][False]\n",
    "        false_neg = observed_df[True].sum() - true_pos\n",
    "        precision = true_pos / (true_pos + false_pos)\n",
    "        recall = true_pos / (true_pos + false_neg)\n",
    "        \n",
    "        return_dfs.append([cat, pval, most_abnormal, precision, recall])\n",
    "    \n",
    "    output_df = pd.DataFrame(return_dfs, columns = ['Category', 'p_value', 'most_enriched', 'precision', 'recall'])\n",
    "    _, q_values, _, _ = multipletests(output_df['p_value'], method='fdr_bh')\n",
    "    output_df['q_value'] = q_values\n",
    "    output_df = output_df.set_index('Category').sort_values(by = 'p_value')[['p_value', 'q_value', 'most_enriched', 'precision', 'recall']]\n",
    "    \n",
    "    return(output_df)\n",
    "\n",
    "\n",
    "# gene table enrichment\n",
    "def genes_enrichment(ica_data, iM, categories = ['strand', 'gene_product', 'COG', 'operon', 'chromosome_id']):\n",
    "    # first let's find the samples where the iM is active\n",
    "    vals = abs(ica_data.A.loc[iM].values)\n",
    "    avg = np.mean(vals)\n",
    "    std = np.std(vals)\n",
    "    active_samps = ica_data.view_imodulon(iM).index\n",
    "    samp_table = ica_data.gene_table.fillna('nan')\n",
    "    samp_table['is_active'] = samp_table.index.isin(active_samps)\n",
    "    \n",
    "    # now enrichment against the categories\n",
    "    return_dfs = []\n",
    "    for cat in categories:\n",
    "        # try each type of category found in the active samples\n",
    "        contingency_table = pd.crosstab(samp_table[cat], samp_table['is_active'])\n",
    "        _, pval, dof, expected = chi2_contingency(contingency_table)\n",
    "        observed = contingency_table.values\n",
    "        observed_df = pd.DataFrame(observed, index=contingency_table.index, columns=contingency_table.columns)\n",
    "        residuals = (observed - expected) / (expected ** 0.5)\n",
    "        residuals_df = pd.DataFrame(residuals, index=contingency_table.index, columns=contingency_table.columns)\n",
    "        most_abnormal = abs(residuals_df).sort_values(by = True, ascending = False).index[0]\n",
    "        \n",
    "        # calculate precision and recall of most abnormal\n",
    "        true_pos = observed_df.loc[most_abnormal][True]\n",
    "        false_pos = observed_df.loc[most_abnormal][False]\n",
    "        false_neg = observed_df[True].sum() - true_pos\n",
    "        precision = true_pos / (true_pos + false_pos)\n",
    "        recall = true_pos / (true_pos + false_neg)\n",
    "        \n",
    "        return_dfs.append([cat, pval, most_abnormal, precision, recall])\n",
    "    \n",
    "    output_df = pd.DataFrame(return_dfs, columns = ['Category', 'p_value', 'most_enriched', 'precision', 'recall'])\n",
    "    _, q_values, _, _ = multipletests(output_df['p_value'], method='fdr_bh')\n",
    "    output_df['q_value'] = q_values\n",
    "    output_df = output_df.set_index('Category').sort_values(by = 'p_value')[['p_value', 'q_value', 'most_enriched', 'precision', 'recall']]\n",
    "    \n",
    "    return(output_df)\n",
    "\n",
    "\n",
    "def custom_plot_gene_weights(ica_data, imodulon, by=\"start\", xaxis=None, xname=\"\", **kwargs):\n",
    "    \"\"\"\n",
    "    Plot gene weights on a scatter plot.\n",
    "\n",
    "    Parameters\n",
    "    ----------\n",
    "    ica_data: ~pymodulon.core.IcaData\n",
    "        :class:`~pymodulon.core.IcaData` object\n",
    "    imodulon : int or str\n",
    "        `iModulon` name\n",
    "    by: 'log-tpm-norm', 'length', or 'start'\n",
    "        Property to plot on x-axis. Superceded by `xaxis`\n",
    "    xaxis: list, dict or ~pandas.Series, optional\n",
    "        Values on custom x-axis\n",
    "    xname: str, optional\n",
    "        Name of x-axis if using custom x-axis\n",
    "    **kwargs:\n",
    "        Additional keyword arguments passed to :func:`pymodulon.plotting.scatterplot`\n",
    "    Returns\n",
    "    -------\n",
    "    ax: ~matplotlib.axes.Axes\n",
    "        :class:`~matplotlib.axes.Axes` containing the scatterplot\n",
    "    \"\"\"\n",
    "    # Check that iModulon exists\n",
    "    if imodulon in ica_data.M.columns:\n",
    "        y = ica_data.M[imodulon]\n",
    "        ylabel = f\"{imodulon} Gene Weight\"\n",
    "    else:\n",
    "        raise ValueError(f\"iModulon does not exist: {imodulon}\")\n",
    "\n",
    "    # Get genes in the iModulon\n",
    "    bin_M = ica_data.M_binarized\n",
    "    component_genes = set(bin_M[imodulon].loc[bin_M[imodulon] == 1].index)\n",
    "    other_genes = set(bin_M[imodulon].loc[bin_M[imodulon] == 0].index)\n",
    "\n",
    "    # If experimental `xaxis` parameter is used, use custom values for x-axis\n",
    "    if xaxis is not None:\n",
    "        x = _set_xaxis(xaxis=xaxis, y=y)\n",
    "        xlabel = xname\n",
    "\n",
    "    else:\n",
    "        #  Ensure 'by' has a valid input and assign x, xlabel accordingly\n",
    "        if by == \"log-tpm\":\n",
    "            x = ica_data.log_tpm.mean(axis=1)\n",
    "            xlabel = \"Mean Expression\"\n",
    "        elif by == \"log-tpm-norm\":\n",
    "            x = ica_data.X.mean(axis=1)\n",
    "            xlabel = \"Mean Centered Expression\"\n",
    "        elif by == \"length\":\n",
    "            x = np.log10(ica_data.gene_table.length)\n",
    "            xlabel = \"Gene Length (log10-scale)\"\n",
    "        elif by == \"start\":\n",
    "            x = ica_data.gene_table.start\n",
    "            xlabel = \"Gene Start\"\n",
    "        else:\n",
    "            raise ValueError(\n",
    "                '\"by\" must be \"log-tpm\", \"log-tpm-norm\", \"length\", ' 'or \"start\"'\n",
    "            )\n",
    "\n",
    "    # Override specific kwargs (their implementation is different\n",
    "    # in this function)\n",
    "    show_labels_pgw = kwargs.pop(\"show_labels\", \"auto\")\n",
    "    adjust_labels_pgw = kwargs.pop(\"adjust_labels\", True)\n",
    "    legend_kwargs_pgw = kwargs.pop(\"legend_kwargs\", {})\n",
    "    label_font_kwargs_pgw = kwargs.pop(\"label_font_kwargs\", {})\n",
    "\n",
    "    kwargs[\"show_labels\"] = kwargs[\"adjust_labels\"] = False\n",
    "\n",
    "    # Remove xlabel and ylabel kwargs if provided\n",
    "    kwargs.pop(\"xlabel\", None)\n",
    "    kwargs.pop(\"ylabel\", None)\n",
    "\n",
    "    # Default legend should be on the side of the plot\n",
    "    if (\n",
    "        \"bbox_to_anchor\" not in legend_kwargs_pgw.keys()\n",
    "        and \"loc\" not in legend_kwargs_pgw.keys()\n",
    "    ):\n",
    "        legend_kwargs_pgw.update({\"bbox_to_anchor\": (1, 1), \"loc\": 2})\n",
    "        kwargs[\"legend_kwargs\"] = legend_kwargs_pgw\n",
    "\n",
    "    # Update colors for COG groups\n",
    "    if \"COG\" in ica_data.gene_table.columns and \"groups\" not in kwargs:\n",
    "        mod_cogs = ica_data.gene_table.loc[component_genes].COG\n",
    "        hidden_cogs = pd.Series(\"hidden\", index=other_genes)\n",
    "        all_cogs = pd.concat([mod_cogs, hidden_cogs])\n",
    "        # colors = {cog:ica_data.cog_colors[cog] for cog in sorted(mod_cogs.unique())}\n",
    "        kwargs.update({\"groups\": all_cogs, \"colors\": ica_data.cog_colors})\n",
    "\n",
    "    # Scatter Plot\n",
    "    ax = scatterplot(x, y, xlabel=xlabel, ylabel=ylabel, **kwargs)\n",
    "    \n",
    "    # add vertical lines at chromosome changes\n",
    "    for grp in ica_data.gene_table.groupby('chromosome_id'):\n",
    "        plt.axvline(x = max(grp[1].fillna(0).end), ls = '--', c = 'k')\n",
    "\n",
    "    # Add thresholds to scatter-plot (dashed lines)\n",
    "    xmin, xmax = ax.get_xlim()\n",
    "    ymin, ymax = ax.get_ylim()\n",
    "\n",
    "    thresh = ica_data.thresholds[imodulon]\n",
    "    if thresh != 0:\n",
    "        ax.hlines(\n",
    "            [thresh, -thresh],\n",
    "            xmin=xmin,\n",
    "            xmax=xmax,\n",
    "            colors=\"k\",\n",
    "            linestyles=\"dashed\",\n",
    "            linewidth=1,\n",
    "        )\n",
    "\n",
    "    ax.set_xlim(xmin, xmax)\n",
    "    ax.set_ylim(ymin, ymax)\n",
    "\n",
    "    texts = []\n",
    "    expand_kwargs = {\"expand_objects\": (1.2, 1.4), \"expand_points\": (1.3, 1.3)}\n",
    "\n",
    "    # Add labels: Put gene name if components contain under 20 genes\n",
    "    if show_labels_pgw is True or (\n",
    "        show_labels_pgw is not False and len(component_genes) <= 20\n",
    "    ):\n",
    "        for gene in component_genes:\n",
    "\n",
    "            # Add labels\n",
    "            text_kwargs = label_font_kwargs_pgw.copy()\n",
    "\n",
    "            if \"fontstyle\" not in text_kwargs:\n",
    "                text_kwargs.update({\"fontstyle\": \"normal\"})\n",
    "\n",
    "            # Italicize gene if there is a defined name (not locus tag)\n",
    "            try:\n",
    "                gene_name = ica_data.gene_table.loc[gene, \"gene_name\"]\n",
    "\n",
    "                if gene_name != gene:\n",
    "                    text_kwargs.update({\"fontstyle\": \"italic\"})\n",
    "\n",
    "            except KeyError:\n",
    "                gene_name = gene\n",
    "\n",
    "            # Set default fontsize\n",
    "            if \"fontsize\" not in text_kwargs:\n",
    "                text_kwargs.update({\"fontsize\": 12})\n",
    "\n",
    "            texts.append(\n",
    "                ax.text(\n",
    "                    x[gene],\n",
    "                    ica_data.M.loc[gene, imodulon],\n",
    "                    gene_name,\n",
    "                    **text_kwargs,\n",
    "                )\n",
    "            )\n",
    "\n",
    "        expand_kwargs[\"expand_text\"] = (1.4, 1.4)\n",
    "\n",
    "    # Add labels: Repel texts from other text and points\n",
    "    rect = ax.add_patch(\n",
    "        Rectangle(\n",
    "            xy=(xmin, -abs(thresh)),\n",
    "            width=xmax - xmin,\n",
    "            height=2 * abs(thresh),\n",
    "            fill=False,\n",
    "            linewidth=0,\n",
    "        )\n",
    "    )\n",
    "\n",
    "    if adjust_labels_pgw:\n",
    "        adjust_text(\n",
    "            texts=texts,\n",
    "            add_objects=[rect],\n",
    "            ax=ax,\n",
    "            arrowprops=dict(arrowstyle=\"-\", color=\"k\", lw=0.5),\n",
    "            only_move={\"objects\": \"y\"},\n",
    "            **expand_kwargs,\n",
    "        )\n",
    "\n",
    "    return ax\n",
    "\n",
    "\n",
    "import scipy.cluster.hierarchy as sch\n",
    "import matplotlib.patches as patches\n",
    "\n",
    "def global_clustering(data, threshold=0.3, xticklabels=True, yticklabels=True, figsize=(9,9)):\n",
    "    \n",
    "    # Retrieve clusters using fcluster \n",
    "    corr = data.corr()\n",
    "    corr.fillna(0,inplace=True)\n",
    "    dist = sch.distance.pdist(corr)\n",
    "    link = sch.linkage(dist, method='complete')\n",
    "    clst = pd.DataFrame(index=data.columns)\n",
    "    clst['cluster'] = sch.fcluster(link, threshold * dist.max(), 'distance')\n",
    "\n",
    "    # Get colors for each cluster\n",
    "    cm = plt.cm.get_cmap('tab20')\n",
    "    cluster_colors = dict(zip(clst.cluster.unique(), cm.colors))\n",
    "    clst['color'] = clst.cluster.map(cluster_colors)\n",
    "\n",
    "    print('Number of cluster: ', len(cluster_colors))\n",
    "    \n",
    "    legend_items = [patches.Patch(color=c, label=l) for l,c in cluster_colors.items()]\n",
    "    \n",
    "    sns.set(rc={'figure.facecolor':'white'})\n",
    "    \n",
    "    clst_map = sns.clustermap(data.corr(), \n",
    "                              figsize=figsize, \n",
    "                              row_linkage=link, \n",
    "                              col_linkage=link, \n",
    "                              col_colors=clst.color,\n",
    "                              yticklabels=yticklabels, \n",
    "                              xticklabels=xticklabels,\n",
    "                              vmin=-1, \n",
    "                              vmax=1)\n",
    "    \n",
    "    legend = clst_map.ax_heatmap.legend(loc='upper left', \n",
    "                                        bbox_to_anchor=(1.01,0.85), \n",
    "                                        handles=legend_items,\n",
    "                                        frameon=True)\n",
    "    \n",
    "    legend.set_title(title='Clusters',prop={'size':10})\n",
    "    \n",
    "    return clst['cluster']"
   ]
  },
  {
   "cell_type": "markdown",
   "metadata": {
    "tags": []
   },
   "source": [
    "# investgiate an iM"
   ]
  },
  {
   "cell_type": "code",
   "execution_count": 2,
   "metadata": {
    "tags": []
   },
   "outputs": [],
   "source": [
    "iM_ct = 'ribonucleoside_reductase'"
   ]
  },
  {
   "cell_type": "code",
   "execution_count": 3,
   "metadata": {
    "tags": []
   },
   "outputs": [
    {
     "data": {
      "text/html": [
       "<div>\n",
       "<style scoped>\n",
       "    .dataframe tbody tr th:only-of-type {\n",
       "        vertical-align: middle;\n",
       "    }\n",
       "\n",
       "    .dataframe tbody tr th {\n",
       "        vertical-align: top;\n",
       "    }\n",
       "\n",
       "    .dataframe thead th {\n",
       "        text-align: right;\n",
       "    }\n",
       "</style>\n",
       "<table border=\"1\" class=\"dataframe\">\n",
       "  <thead>\n",
       "    <tr style=\"text-align: right;\">\n",
       "      <th></th>\n",
       "      <th>gene_name</th>\n",
       "      <th>gene_weight</th>\n",
       "      <th>gene_product</th>\n",
       "      <th>COG</th>\n",
       "      <th>regulator</th>\n",
       "      <th>FIMO_regulators</th>\n",
       "      <th>EC_number</th>\n",
       "      <th>aerobic_essential</th>\n",
       "      <th>anaerobic_essential</th>\n",
       "    </tr>\n",
       "  </thead>\n",
       "  <tbody>\n",
       "    <tr>\n",
       "      <th>ZCP4_0294</th>\n",
       "      <td>ZCP4_0294</td>\n",
       "      <td>0.322248</td>\n",
       "      <td>ribonucleoside-triphosphate reductase class II...</td>\n",
       "      <td>Nucleotide transport and metabolism</td>\n",
       "      <td>NaN</td>\n",
       "      <td>['MogR_Listeria_monocytogenes']</td>\n",
       "      <td>1.1.98.6</td>\n",
       "      <td>0.000000</td>\n",
       "      <td>-1.650657</td>\n",
       "    </tr>\n",
       "    <tr>\n",
       "      <th>ZCP4_0292</th>\n",
       "      <td>ZCP4_0292</td>\n",
       "      <td>0.287015</td>\n",
       "      <td>anaerobic ribonucleoside-triphosphate reductas...</td>\n",
       "      <td>Post-translational modification, protein turno...</td>\n",
       "      <td>NaN</td>\n",
       "      <td>[]</td>\n",
       "      <td>1.97.1.4</td>\n",
       "      <td>0.000000</td>\n",
       "      <td>0.000000</td>\n",
       "    </tr>\n",
       "    <tr>\n",
       "      <th>ZCP4_0284</th>\n",
       "      <td>ZCP4_0284</td>\n",
       "      <td>0.279300</td>\n",
       "      <td>ribonucleotide reductase%2C alpha subunit</td>\n",
       "      <td>Nucleotide transport and metabolism</td>\n",
       "      <td>NaN</td>\n",
       "      <td>['CosR_Campylobacter_jejuni', 'Fur_Vibrio_chol...</td>\n",
       "      <td>1.17.4.1</td>\n",
       "      <td>-8.439245</td>\n",
       "      <td>0.000000</td>\n",
       "    </tr>\n",
       "    <tr>\n",
       "      <th>ZCP4_0293</th>\n",
       "      <td>ZCP4_0293</td>\n",
       "      <td>0.230347</td>\n",
       "      <td>Anaerobic ribonucleoside-triphosphate reductase</td>\n",
       "      <td>Nucleotide transport and metabolism</td>\n",
       "      <td>NaN</td>\n",
       "      <td>[]</td>\n",
       "      <td>NaN</td>\n",
       "      <td>0.000000</td>\n",
       "      <td>0.000000</td>\n",
       "    </tr>\n",
       "    <tr>\n",
       "      <th>ZCP4_0834</th>\n",
       "      <td>ZCP4_0834</td>\n",
       "      <td>0.160349</td>\n",
       "      <td>ribonucleotide reductase%2C beta subunit</td>\n",
       "      <td>Nucleotide transport and metabolism</td>\n",
       "      <td>NaN</td>\n",
       "      <td>['NikR_Helicobacter_pylori']</td>\n",
       "      <td>1.17.4.1</td>\n",
       "      <td>-5.917891</td>\n",
       "      <td>0.000000</td>\n",
       "    </tr>\n",
       "  </tbody>\n",
       "</table>\n",
       "</div>"
      ],
      "text/plain": [
       "           gene_name  gene_weight  \\\n",
       "ZCP4_0294  ZCP4_0294     0.322248   \n",
       "ZCP4_0292  ZCP4_0292     0.287015   \n",
       "ZCP4_0284  ZCP4_0284     0.279300   \n",
       "ZCP4_0293  ZCP4_0293     0.230347   \n",
       "ZCP4_0834  ZCP4_0834     0.160349   \n",
       "\n",
       "                                                gene_product  \\\n",
       "ZCP4_0294  ribonucleoside-triphosphate reductase class II...   \n",
       "ZCP4_0292  anaerobic ribonucleoside-triphosphate reductas...   \n",
       "ZCP4_0284          ribonucleotide reductase%2C alpha subunit   \n",
       "ZCP4_0293    Anaerobic ribonucleoside-triphosphate reductase   \n",
       "ZCP4_0834           ribonucleotide reductase%2C beta subunit   \n",
       "\n",
       "                                                         COG regulator  \\\n",
       "ZCP4_0294                Nucleotide transport and metabolism       NaN   \n",
       "ZCP4_0292  Post-translational modification, protein turno...       NaN   \n",
       "ZCP4_0284                Nucleotide transport and metabolism       NaN   \n",
       "ZCP4_0293                Nucleotide transport and metabolism       NaN   \n",
       "ZCP4_0834                Nucleotide transport and metabolism       NaN   \n",
       "\n",
       "                                             FIMO_regulators EC_number  \\\n",
       "ZCP4_0294                    ['MogR_Listeria_monocytogenes']  1.1.98.6   \n",
       "ZCP4_0292                                                 []  1.97.1.4   \n",
       "ZCP4_0284  ['CosR_Campylobacter_jejuni', 'Fur_Vibrio_chol...  1.17.4.1   \n",
       "ZCP4_0293                                                 []       NaN   \n",
       "ZCP4_0834                       ['NikR_Helicobacter_pylori']  1.17.4.1   \n",
       "\n",
       "           aerobic_essential  anaerobic_essential  \n",
       "ZCP4_0294           0.000000            -1.650657  \n",
       "ZCP4_0292           0.000000             0.000000  \n",
       "ZCP4_0284          -8.439245             0.000000  \n",
       "ZCP4_0293           0.000000             0.000000  \n",
       "ZCP4_0834          -5.917891             0.000000  "
      ]
     },
     "execution_count": 3,
     "metadata": {},
     "output_type": "execute_result"
    }
   ],
   "source": [
    "# show genes\n",
    "pd.set_option('display.max_rows', 500)\n",
    "pd.set_option('display.max_columns', 500)\n",
    "impt_cols = ['gene_name', 'gene_weight', 'gene_product', 'COG', 'regulator', 'FIMO_regulators', 'EC_number', 'aerobic_essential', 'anaerobic_essential']\n",
    "df = ica_data.view_imodulon(iM_ct).sort_values(by = 'gene_weight', ascending = False, key = abs)\n",
    "super_impt_cols = ['gene_weight', 'gene_product', 'COG', 'EC_number']\n",
    "df[impt_cols]"
   ]
  },
  {
   "cell_type": "code",
   "execution_count": 4,
   "metadata": {
    "tags": []
   },
   "outputs": [
    {
     "data": {
      "image/png": "[encoded data removed]",
      "text/plain": [
       "<Figure size 640x480 with 1 Axes>"
      ]
     },
     "metadata": {},
     "output_type": "display_data"
    }
   ],
   "source": [
    "# create bar chart of predicted regulators\n",
    "df = ica_data.view_imodulon(iM_ct)\n",
    "regulators = set()\n",
    "for regulator in df['FIMO_regulators']:\n",
    "    vals = ast.literal_eval(regulator)\n",
    "    for val in vals:\n",
    "        regulators.add(val)\n",
    "regulators = list(regulators)\n",
    "regulators.sort()\n",
    "\n",
    "counts = []\n",
    "for regulator in regulators:\n",
    "    ct = 0\n",
    "    for index, row in df.iterrows():\n",
    "        if regulator in row['FIMO_regulators']:\n",
    "            ct += 1\n",
    "    counts.append(ct)\n",
    "\n",
    "# resort to print most overlap first\n",
    "paired = list(zip(counts, regulators))\n",
    "paired.sort(key=lambda x: x[0])  # Sort by the first element (integer)\n",
    "counts, regulators = zip(*paired)\n",
    "counts = list(counts)\n",
    "regulators = list(regulators)\n",
    "\n",
    "# plotting\n",
    "counts.append(len(df.index))\n",
    "regulators.append('total genes')\n",
    "plt.barh(y = regulators, width = counts)\n",
    "plt.savefig('../figures/predicted_regulators.pdf', transparent = True)\n",
    "plt.show()"
   ]
  },
  {
   "cell_type": "code",
   "execution_count": 5,
   "metadata": {
    "tags": []
   },
   "outputs": [
    {
     "name": "stderr",
     "output_type": "stream",
     "text": [
      "/tmp/ipykernel_1501/2702029451.py:289: MatplotlibDeprecationWarning: The get_cmap function was deprecated in Matplotlib 3.7 and will be removed in 3.11. Use ``matplotlib.colormaps[name]`` or ``matplotlib.colormaps.get_cmap()`` or ``pyplot.get_cmap()`` instead.\n",
      "  cm = plt.cm.get_cmap('tab20')\n"
     ]
    },
    {
     "name": "stdout",
     "output_type": "stream",
     "text": [
      "Number of cluster:  2\n"
     ]
    },
    {
     "data": {
      "image/png": "[encoded data removed]",
      "text/plain": [
       "<Figure size 900x900 with 5 Axes>"
      ]
     },
     "metadata": {},
     "output_type": "display_data"
    }
   ],
   "source": [
    "df = ica_data.X.loc[ica_data.view_imodulon(iM_ct).index]\n",
    "clusters = global_clustering(df.T, threshold = 0.7)"
   ]
  },
  {
   "cell_type": "code",
   "execution_count": 6,
   "metadata": {
    "tags": []
   },
   "outputs": [
    {
     "data": {
      "text/html": [
       "<div>\n",
       "<style scoped>\n",
       "    .dataframe tbody tr th:only-of-type {\n",
       "        vertical-align: middle;\n",
       "    }\n",
       "\n",
       "    .dataframe tbody tr th {\n",
       "        vertical-align: top;\n",
       "    }\n",
       "\n",
       "    .dataframe thead th {\n",
       "        text-align: right;\n",
       "    }\n",
       "</style>\n",
       "<table border=\"1\" class=\"dataframe\">\n",
       "  <thead>\n",
       "    <tr style=\"text-align: right;\">\n",
       "      <th></th>\n",
       "      <th>gene_weight</th>\n",
       "      <th>gene_name</th>\n",
       "      <th>accession</th>\n",
       "      <th>start</th>\n",
       "      <th>end</th>\n",
       "      <th>strand</th>\n",
       "      <th>gene_product</th>\n",
       "      <th>COG</th>\n",
       "      <th>regulator</th>\n",
       "      <th>uniprot</th>\n",
       "      <th>operon</th>\n",
       "      <th>kegg_maps</th>\n",
       "      <th>EC_number</th>\n",
       "      <th>ZM4_locus</th>\n",
       "      <th>aerobic_essential</th>\n",
       "      <th>anaerobic_essential</th>\n",
       "      <th>interpro_annotation</th>\n",
       "      <th>anaero_xylose_model_flux</th>\n",
       "      <th>anaero_glucose_model_flux</th>\n",
       "      <th>aero_xylose_model_flux</th>\n",
       "      <th>aero_glucose_model_flux</th>\n",
       "      <th>anaero_xylose_model_growth_perc_change</th>\n",
       "      <th>anaero_glucose_model_growth_perc_change</th>\n",
       "      <th>aero_xylose_model_growth_perc_change</th>\n",
       "      <th>aero_glucose_model_growth_perc_change</th>\n",
       "      <th>FIMO_regulators</th>\n",
       "      <th>LDI_early_glucose_fold_change</th>\n",
       "      <th>LDI_late_glucose_fold_change</th>\n",
       "      <th>LDI_early_xylose_fold_change</th>\n",
       "      <th>LDI_late_xylose_fold_change</th>\n",
       "      <th>no_LDI_early_glucose_fold_change</th>\n",
       "      <th>no_LDI_late_glucose_fold_change</th>\n",
       "      <th>no_LDI_early_xylose_fold_change</th>\n",
       "      <th>no_LDI_late_xylose_fold_change</th>\n",
       "      <th>chromosome_id</th>\n",
       "      <th>iMs</th>\n",
       "    </tr>\n",
       "  </thead>\n",
       "  <tbody>\n",
       "  </tbody>\n",
       "</table>\n",
       "</div>"
      ],
      "text/plain": [
       "Empty DataFrame\n",
       "Columns: [gene_weight, gene_name, accession, start, end, strand, gene_product, COG, regulator, uniprot, operon, kegg_maps, EC_number, ZM4_locus, aerobic_essential, anaerobic_essential, interpro_annotation, anaero_xylose_model_flux, anaero_glucose_model_flux, aero_xylose_model_flux, aero_glucose_model_flux, anaero_xylose_model_growth_perc_change, anaero_glucose_model_growth_perc_change, aero_xylose_model_growth_perc_change, aero_glucose_model_growth_perc_change, FIMO_regulators, LDI_early_glucose_fold_change, LDI_late_glucose_fold_change, LDI_early_xylose_fold_change, LDI_late_xylose_fold_change, no_LDI_early_glucose_fold_change, no_LDI_late_glucose_fold_change, no_LDI_early_xylose_fold_change, no_LDI_late_xylose_fold_change, chromosome_id, iMs]\n",
       "Index: []"
      ]
     },
     "execution_count": 6,
     "metadata": {},
     "output_type": "execute_result"
    }
   ],
   "source": [
    "ica_data.view_imodulon(iM_ct).loc[clusters[clusters == 4].index].sort_values(by = 'gene_weight', ascending = False)"
   ]
  },
  {
   "cell_type": "code",
   "execution_count": 7,
   "metadata": {
    "tags": []
   },
   "outputs": [
    {
     "ename": "TypeError",
     "evalue": "Passing a set as an indexer is not supported. Use a list instead.",
     "output_type": "error",
     "traceback": [
      "\u001b[0;31m---------------------------------------------------------------------------\u001b[0m",
      "\u001b[0;31mTypeError\u001b[0m                                 Traceback (most recent call last)",
      "Cell \u001b[0;32mIn[7], line 1\u001b[0m\n\u001b[0;32m----> 1\u001b[0m \u001b[43mcustom_plot_gene_weights\u001b[49m\u001b[43m(\u001b[49m\u001b[43mica_data\u001b[49m\u001b[43m,\u001b[49m\u001b[43m \u001b[49m\u001b[43miM_ct\u001b[49m\u001b[43m)\u001b[49m\n\u001b[1;32m      2\u001b[0m plt\u001b[38;5;241m.\u001b[39mshow()\n",
      "Cell \u001b[0;32mIn[1], line 180\u001b[0m, in \u001b[0;36mcustom_plot_gene_weights\u001b[0;34m(ica_data, imodulon, by, xaxis, xname, **kwargs)\u001b[0m\n\u001b[1;32m    178\u001b[0m \u001b[38;5;66;03m# Update colors for COG groups\u001b[39;00m\n\u001b[1;32m    179\u001b[0m \u001b[38;5;28;01mif\u001b[39;00m \u001b[38;5;124m\"\u001b[39m\u001b[38;5;124mCOG\u001b[39m\u001b[38;5;124m\"\u001b[39m \u001b[38;5;129;01min\u001b[39;00m ica_data\u001b[38;5;241m.\u001b[39mgene_table\u001b[38;5;241m.\u001b[39mcolumns \u001b[38;5;129;01mand\u001b[39;00m \u001b[38;5;124m\"\u001b[39m\u001b[38;5;124mgroups\u001b[39m\u001b[38;5;124m\"\u001b[39m \u001b[38;5;129;01mnot\u001b[39;00m \u001b[38;5;129;01min\u001b[39;00m kwargs:\n\u001b[0;32m--> 180\u001b[0m     mod_cogs \u001b[38;5;241m=\u001b[39m \u001b[43mica_data\u001b[49m\u001b[38;5;241;43m.\u001b[39;49m\u001b[43mgene_table\u001b[49m\u001b[38;5;241;43m.\u001b[39;49m\u001b[43mloc\u001b[49m\u001b[43m[\u001b[49m\u001b[43mcomponent_genes\u001b[49m\u001b[43m]\u001b[49m\u001b[38;5;241m.\u001b[39mCOG\n\u001b[1;32m    181\u001b[0m     hidden_cogs \u001b[38;5;241m=\u001b[39m pd\u001b[38;5;241m.\u001b[39mSeries(\u001b[38;5;124m\"\u001b[39m\u001b[38;5;124mhidden\u001b[39m\u001b[38;5;124m\"\u001b[39m, index\u001b[38;5;241m=\u001b[39mother_genes)\n\u001b[1;32m    182\u001b[0m     all_cogs \u001b[38;5;241m=\u001b[39m pd\u001b[38;5;241m.\u001b[39mconcat([mod_cogs, hidden_cogs])\n",
      "File \u001b[0;32m~/miniforge3/envs/iM_miner/lib/python3.10/site-packages/pandas/core/indexing.py:1178\u001b[0m, in \u001b[0;36m_LocationIndexer.__getitem__\u001b[0;34m(self, key)\u001b[0m\n\u001b[1;32m   1176\u001b[0m \u001b[38;5;129m@final\u001b[39m\n\u001b[1;32m   1177\u001b[0m \u001b[38;5;28;01mdef\u001b[39;00m \u001b[38;5;21m__getitem__\u001b[39m(\u001b[38;5;28mself\u001b[39m, key):\n\u001b[0;32m-> 1178\u001b[0m     \u001b[43mcheck_dict_or_set_indexers\u001b[49m\u001b[43m(\u001b[49m\u001b[43mkey\u001b[49m\u001b[43m)\u001b[49m\n\u001b[1;32m   1179\u001b[0m     \u001b[38;5;28;01mif\u001b[39;00m \u001b[38;5;28mtype\u001b[39m(key) \u001b[38;5;129;01mis\u001b[39;00m \u001b[38;5;28mtuple\u001b[39m:\n\u001b[1;32m   1180\u001b[0m         key \u001b[38;5;241m=\u001b[39m \u001b[38;5;28mtuple\u001b[39m(\u001b[38;5;28mlist\u001b[39m(x) \u001b[38;5;28;01mif\u001b[39;00m is_iterator(x) \u001b[38;5;28;01melse\u001b[39;00m x \u001b[38;5;28;01mfor\u001b[39;00m x \u001b[38;5;129;01min\u001b[39;00m key)\n",
      "File \u001b[0;32m~/miniforge3/envs/iM_miner/lib/python3.10/site-packages/pandas/core/indexing.py:2774\u001b[0m, in \u001b[0;36mcheck_dict_or_set_indexers\u001b[0;34m(key)\u001b[0m\n\u001b[1;32m   2766\u001b[0m \u001b[38;5;250m\u001b[39m\u001b[38;5;124;03m\"\"\"\u001b[39;00m\n\u001b[1;32m   2767\u001b[0m \u001b[38;5;124;03mCheck if the indexer is or contains a dict or set, which is no longer allowed.\u001b[39;00m\n\u001b[1;32m   2768\u001b[0m \u001b[38;5;124;03m\"\"\"\u001b[39;00m\n\u001b[1;32m   2769\u001b[0m \u001b[38;5;28;01mif\u001b[39;00m (\n\u001b[1;32m   2770\u001b[0m     \u001b[38;5;28misinstance\u001b[39m(key, \u001b[38;5;28mset\u001b[39m)\n\u001b[1;32m   2771\u001b[0m     \u001b[38;5;129;01mor\u001b[39;00m \u001b[38;5;28misinstance\u001b[39m(key, \u001b[38;5;28mtuple\u001b[39m)\n\u001b[1;32m   2772\u001b[0m     \u001b[38;5;129;01mand\u001b[39;00m \u001b[38;5;28many\u001b[39m(\u001b[38;5;28misinstance\u001b[39m(x, \u001b[38;5;28mset\u001b[39m) \u001b[38;5;28;01mfor\u001b[39;00m x \u001b[38;5;129;01min\u001b[39;00m key)\n\u001b[1;32m   2773\u001b[0m ):\n\u001b[0;32m-> 2774\u001b[0m     \u001b[38;5;28;01mraise\u001b[39;00m \u001b[38;5;167;01mTypeError\u001b[39;00m(\n\u001b[1;32m   2775\u001b[0m         \u001b[38;5;124m\"\u001b[39m\u001b[38;5;124mPassing a set as an indexer is not supported. Use a list instead.\u001b[39m\u001b[38;5;124m\"\u001b[39m\n\u001b[1;32m   2776\u001b[0m     )\n\u001b[1;32m   2778\u001b[0m \u001b[38;5;28;01mif\u001b[39;00m (\n\u001b[1;32m   2779\u001b[0m     \u001b[38;5;28misinstance\u001b[39m(key, \u001b[38;5;28mdict\u001b[39m)\n\u001b[1;32m   2780\u001b[0m     \u001b[38;5;129;01mor\u001b[39;00m \u001b[38;5;28misinstance\u001b[39m(key, \u001b[38;5;28mtuple\u001b[39m)\n\u001b[1;32m   2781\u001b[0m     \u001b[38;5;129;01mand\u001b[39;00m \u001b[38;5;28many\u001b[39m(\u001b[38;5;28misinstance\u001b[39m(x, \u001b[38;5;28mdict\u001b[39m) \u001b[38;5;28;01mfor\u001b[39;00m x \u001b[38;5;129;01min\u001b[39;00m key)\n\u001b[1;32m   2782\u001b[0m ):\n\u001b[1;32m   2783\u001b[0m     \u001b[38;5;28;01mraise\u001b[39;00m \u001b[38;5;167;01mTypeError\u001b[39;00m(\n\u001b[1;32m   2784\u001b[0m         \u001b[38;5;124m\"\u001b[39m\u001b[38;5;124mPassing a dict as an indexer is not supported. Use a list instead.\u001b[39m\u001b[38;5;124m\"\u001b[39m\n\u001b[1;32m   2785\u001b[0m     )\n",
      "\u001b[0;31mTypeError\u001b[0m: Passing a set as an indexer is not supported. Use a list instead."
     ]
    }
   ],
   "source": [
    "custom_plot_gene_weights(ica_data, iM_ct)\n",
    "plt.show()"
   ]
  },
  {
   "cell_type": "code",
   "execution_count": null,
   "metadata": {
    "tags": []
   },
   "outputs": [],
   "source": [
    "plot_activities(ica_data, iM_ct, highlight=['lignocellulose_ferment'])#'low_pH_evo'])\n",
    "plt.show()"
   ]
  },
  {
   "cell_type": "code",
   "execution_count": null,
   "metadata": {
    "tags": []
   },
   "outputs": [],
   "source": [
    "out = metadata_enrichment(ica_data, iM_ct)\n",
    "out[out['q_value'] < 0.10]"
   ]
  },
  {
   "cell_type": "code",
   "execution_count": null,
   "metadata": {
    "tags": []
   },
   "outputs": [],
   "source": [
    "out = genes_enrichment(ica_data, iM_ct)\n",
    "out[out['q_value'] < 0.10]"
   ]
  },
  {
   "cell_type": "markdown",
   "metadata": {
    "tags": []
   },
   "source": [
    "# below is as forked from SBRG/iModulonMiner, ignoring it for now"
   ]
  },
  {
   "cell_type": "markdown",
   "metadata": {
    "jp-MarkdownHeadingCollapsed": true,
    "tags": []
   },
   "source": [
    "## Add iModulon category"
   ]
  },
  {
   "cell_type": "code",
   "execution_count": null,
   "metadata": {
    "tags": []
   },
   "outputs": [],
   "source": [
    "for i,row in ica_data.imodulon_table.iterrows():\n",
    "    if pd.notnull(row.regulator):\n",
    "        ica_data.imodulon_table.loc[i, 'category'] = 'regulatory'\n",
    "    elif pd.notnull(row.single_gene):\n",
    "        ica_data.imodulon_table.loc[i, 'category'] = 'single_gene'\n",
    "    else:\n",
    "        ica_data.imodulon_table.loc[i, 'category'] = 'uncharacterized'"
   ]
  },
  {
   "cell_type": "code",
   "execution_count": null,
   "metadata": {},
   "outputs": [],
   "source": [
    "ica_data.imodulon_table.head()"
   ]
  },
  {
   "cell_type": "markdown",
   "metadata": {
    "tags": []
   },
   "source": [
    "## Inspect all iModulons without an automated annotation"
   ]
  },
  {
   "cell_type": "code",
   "execution_count": null,
   "metadata": {
    "tags": []
   },
   "outputs": [],
   "source": [
    "unchar_imods = ica_data.imodulon_table[ica_data.imodulon_table.category == 'uncharacterized']"
   ]
  },
  {
   "cell_type": "code",
   "execution_count": null,
   "metadata": {
    "tags": []
   },
   "outputs": [],
   "source": [
    "unchar_imods"
   ]
  },
  {
   "cell_type": "markdown",
   "metadata": {},
   "source": [
    "### iModulon 1: Unknown"
   ]
  },
  {
   "cell_type": "code",
   "execution_count": null,
   "metadata": {
    "tags": []
   },
   "outputs": [],
   "source": [
    "ica_data.view_imodulon(1)"
   ]
  },
  {
   "cell_type": "code",
   "execution_count": null,
   "metadata": {},
   "outputs": [],
   "source": [
    "plot_activities(ica_data,1,highlight=['heatshock','spore_genes'])"
   ]
  },
  {
   "cell_type": "code",
   "execution_count": null,
   "metadata": {},
   "outputs": [],
   "source": [
    "DF_enrichments[DF_enrichments.imodulon=='1'].sort_values('f1score',ascending=False)"
   ]
  },
  {
   "cell_type": "code",
   "execution_count": null,
   "metadata": {},
   "outputs": [],
   "source": [
    "# Update the ICA data object\n",
    "\n",
    "ica_data.rename_imodulons({1:'uncharacterized-1'})"
   ]
  },
  {
   "cell_type": "markdown",
   "metadata": {},
   "source": [
    "### iModulon 3: Unknown\n",
    "This iModulon is likely some technical artifact from the MK7 project."
   ]
  },
  {
   "cell_type": "code",
   "execution_count": null,
   "metadata": {},
   "outputs": [],
   "source": [
    "ica_data.view_imodulon(3)"
   ]
  },
  {
   "cell_type": "code",
   "execution_count": null,
   "metadata": {},
   "outputs": [],
   "source": [
    "plot_activities(ica_data,3,highlight=['heatshock','spore_genes'])"
   ]
  },
  {
   "cell_type": "code",
   "execution_count": null,
   "metadata": {},
   "outputs": [],
   "source": [
    "DF_enrichments[DF_enrichments.imodulon=='3'].sort_values('f1score',ascending=False)"
   ]
  },
  {
   "cell_type": "code",
   "execution_count": null,
   "metadata": {},
   "outputs": [],
   "source": [
    "# Update the ica_data object\n",
    "ica_data.rename_imodulons({3:'uncharacterized-2'})"
   ]
  },
  {
   "cell_type": "markdown",
   "metadata": {},
   "source": [
    "### iModulon 6: ybc Operon\n",
    "This iModulon contains four genes starting with ybc, and ndhF, which are all likely in the same operon. Little is known about the genes except that they are part of prophage 1."
   ]
  },
  {
   "cell_type": "code",
   "execution_count": null,
   "metadata": {},
   "outputs": [],
   "source": [
    "ica_data.view_imodulon(6)"
   ]
  },
  {
   "cell_type": "code",
   "execution_count": null,
   "metadata": {},
   "outputs": [],
   "source": [
    "plot_activities(ica_data,6,highlight=['heatshock','sigI'])"
   ]
  },
  {
   "cell_type": "code",
   "execution_count": null,
   "metadata": {},
   "outputs": [],
   "source": [
    "DF_enrichments[DF_enrichments.imodulon=='6'].sort_values('f1score',ascending=False)"
   ]
  },
  {
   "cell_type": "code",
   "execution_count": null,
   "metadata": {},
   "outputs": [],
   "source": [
    "# Update the ICA data object\n",
    "\n",
    "ica_data.rename_imodulons({6:'ybc-operon'})\n",
    "ica_data.imodulon_table.loc['ybc-operon','category'] = 'functional'"
   ]
  },
  {
   "cell_type": "markdown",
   "metadata": {},
   "source": [
    "### iModulon 7: Putative yvaF\n",
    "We predict that this iModulon is regulated by yvaF, a putative transcriptional regulator that is in the iModulon."
   ]
  },
  {
   "cell_type": "code",
   "execution_count": null,
   "metadata": {},
   "outputs": [],
   "source": [
    "ica_data.view_imodulon(7)"
   ]
  },
  {
   "cell_type": "code",
   "execution_count": null,
   "metadata": {},
   "outputs": [],
   "source": [
    "plot_activities(ica_data,7,highlight=['heatshock'])"
   ]
  },
  {
   "cell_type": "code",
   "execution_count": null,
   "metadata": {},
   "outputs": [],
   "source": [
    "DF_enrichments[DF_enrichments.imodulon=='7'].sort_values('f1score',ascending=False)"
   ]
  },
  {
   "cell_type": "code",
   "execution_count": null,
   "metadata": {},
   "outputs": [],
   "source": [
    "# Update the ica_data object\n",
    "ica_data.rename_imodulons({7:'YvaF'})\n",
    "ica_data.imodulon_table.loc['YvaF','category'] = 'functional'"
   ]
  },
  {
   "cell_type": "markdown",
   "metadata": {},
   "source": [
    "### iModulon 9: Unknown\n",
    "Another technical artifact from the MK7 project"
   ]
  },
  {
   "cell_type": "code",
   "execution_count": null,
   "metadata": {},
   "outputs": [],
   "source": [
    "ica_data.view_imodulon(9)"
   ]
  },
  {
   "cell_type": "code",
   "execution_count": null,
   "metadata": {},
   "outputs": [],
   "source": [
    "plot_activities(ica_data,9,highlight=['ldar'])"
   ]
  },
  {
   "cell_type": "code",
   "execution_count": null,
   "metadata": {},
   "outputs": [],
   "source": [
    "DF_enrichments[DF_enrichments.imodulon=='9'].sort_values('f1score',ascending=False)"
   ]
  },
  {
   "cell_type": "code",
   "execution_count": null,
   "metadata": {},
   "outputs": [],
   "source": [
    "# Update the ica_data object\n",
    "ica_data.rename_imodulons({9:'uncharacterized-3'})"
   ]
  },
  {
   "cell_type": "markdown",
   "metadata": {},
   "source": [
    "### iModulon 51: Unknown"
   ]
  },
  {
   "cell_type": "code",
   "execution_count": null,
   "metadata": {},
   "outputs": [],
   "source": [
    "ica_data.view_imodulon(51)"
   ]
  },
  {
   "cell_type": "code",
   "execution_count": null,
   "metadata": {},
   "outputs": [],
   "source": [
    "plot_activities(ica_data,51,highlight=['heatshock','ldar'])"
   ]
  },
  {
   "cell_type": "code",
   "execution_count": null,
   "metadata": {},
   "outputs": [],
   "source": [
    "DF_enrichments[DF_enrichments.imodulon=='51'].sort_values('f1score',ascending=False)"
   ]
  },
  {
   "cell_type": "code",
   "execution_count": null,
   "metadata": {},
   "outputs": [],
   "source": [
    "# Update the ica_data object\n",
    "ica_data.rename_imodulons({51:'uncharacterized-4'})"
   ]
  },
  {
   "cell_type": "markdown",
   "metadata": {},
   "source": [
    "### iModulon 52: ykzB-related\n",
    "This iModulon is only down-regulated during sporulation when ykzB is deleted."
   ]
  },
  {
   "cell_type": "code",
   "execution_count": null,
   "metadata": {},
   "outputs": [],
   "source": [
    "ica_data.view_imodulon(52)"
   ]
  },
  {
   "cell_type": "code",
   "execution_count": null,
   "metadata": {},
   "outputs": [],
   "source": [
    "plot_activities(ica_data,52,highlight=['biofilm_time','spore_genes'])"
   ]
  },
  {
   "cell_type": "code",
   "execution_count": null,
   "metadata": {},
   "outputs": [],
   "source": [
    "DF_enrichments[DF_enrichments.imodulon=='52'].sort_values('f1score',ascending=False)"
   ]
  },
  {
   "cell_type": "code",
   "execution_count": null,
   "metadata": {},
   "outputs": [],
   "source": [
    "# Update the ica_data object\n",
    "ica_data.rename_imodulons({52:'ykzB-related'})\n",
    "ica_data.imodulon_table.loc['ykzB-related','category'] = 'functional'"
   ]
  },
  {
   "cell_type": "markdown",
   "metadata": {},
   "source": [
    "### iModulon 61: early biofilm"
   ]
  },
  {
   "cell_type": "code",
   "execution_count": null,
   "metadata": {},
   "outputs": [],
   "source": [
    "ica_data.view_imodulon(61)"
   ]
  },
  {
   "cell_type": "code",
   "execution_count": null,
   "metadata": {},
   "outputs": [],
   "source": [
    "plot_activities(ica_data,61,highlight=['biofilm_time','ldar','pamR'])"
   ]
  },
  {
   "cell_type": "code",
   "execution_count": null,
   "metadata": {},
   "outputs": [],
   "source": [
    "DF_enrichments[DF_enrichments.imodulon=='61'].sort_values('f1score',ascending=False)"
   ]
  },
  {
   "cell_type": "code",
   "execution_count": null,
   "metadata": {},
   "outputs": [],
   "source": [
    "# Update ICA data object\n",
    "ica_data.rename_imodulons({61:'early-biofilm'})\n",
    "ica_data.imodulon_table.loc['early-biofilm','category'] = 'functional'"
   ]
  },
  {
   "cell_type": "markdown",
   "metadata": {},
   "source": [
    "### iModulon 68: Unknown"
   ]
  },
  {
   "cell_type": "code",
   "execution_count": null,
   "metadata": {},
   "outputs": [],
   "source": [
    "ica_data.view_imodulon(68)"
   ]
  },
  {
   "cell_type": "code",
   "execution_count": null,
   "metadata": {},
   "outputs": [],
   "source": [
    "plot_activities(ica_data,68,highlight=['ldar','tasA'])"
   ]
  },
  {
   "cell_type": "code",
   "execution_count": null,
   "metadata": {
    "scrolled": true
   },
   "outputs": [],
   "source": [
    "DF_enrichments[DF_enrichments.imodulon=='68'].sort_values('f1score',ascending=False)"
   ]
  },
  {
   "cell_type": "code",
   "execution_count": null,
   "metadata": {},
   "outputs": [],
   "source": [
    "# Update the ica_data object\n",
    "ica_data.rename_imodulons({68:'uncharacterized-5'})"
   ]
  },
  {
   "cell_type": "markdown",
   "metadata": {
    "tags": []
   },
   "source": [
    "### iModulon 69: cssRS"
   ]
  },
  {
   "cell_type": "code",
   "execution_count": null,
   "metadata": {},
   "outputs": [],
   "source": [
    "ica_data.view_imodulon(69)"
   ]
  },
  {
   "cell_type": "code",
   "execution_count": null,
   "metadata": {},
   "outputs": [],
   "source": [
    "plot_activities(ica_data,69,highlight=['ecm_tasA','ldar'])"
   ]
  },
  {
   "cell_type": "code",
   "execution_count": null,
   "metadata": {
    "scrolled": true
   },
   "outputs": [],
   "source": [
    "DF_enrichments[DF_enrichments.imodulon=='69'].sort_values('f1score',ascending=False)"
   ]
  },
  {
   "cell_type": "code",
   "execution_count": null,
   "metadata": {},
   "outputs": [],
   "source": [
    "# Update the ICA data object\n",
    "\n",
    "ica_data.rename_imodulons({69:'putative-cssRS'})\n",
    "ica_data.imodulon_table.loc['putative-cssRS','category'] = 'functional'"
   ]
  },
  {
   "cell_type": "markdown",
   "metadata": {},
   "source": [
    "### iModulon 70: Unknown"
   ]
  },
  {
   "cell_type": "code",
   "execution_count": null,
   "metadata": {},
   "outputs": [],
   "source": [
    "ica_data.view_imodulon(70)"
   ]
  },
  {
   "cell_type": "code",
   "execution_count": null,
   "metadata": {},
   "outputs": [],
   "source": [
    "plot_activities(ica_data,70,highlight=['ldar'])"
   ]
  },
  {
   "cell_type": "code",
   "execution_count": null,
   "metadata": {},
   "outputs": [],
   "source": [
    "# Update the ica_data object\n",
    "ica_data.rename_imodulons({70:'uncharacterized-6'})"
   ]
  },
  {
   "cell_type": "markdown",
   "metadata": {},
   "source": [
    "### iModulon 71: Putative yxi-operon"
   ]
  },
  {
   "cell_type": "code",
   "execution_count": null,
   "metadata": {},
   "outputs": [],
   "source": [
    "ica_data.view_imodulon(71)"
   ]
  },
  {
   "cell_type": "code",
   "execution_count": null,
   "metadata": {},
   "outputs": [],
   "source": [
    "plot_activities(ica_data,71,highlight=['ldar','heatshock'])"
   ]
  },
  {
   "cell_type": "code",
   "execution_count": null,
   "metadata": {},
   "outputs": [],
   "source": [
    "# Update ICA data object\n",
    "ica_data.rename_imodulons({71:'yxi-operon'})\n",
    "ica_data.imodulon_table.loc['yxi-operon','category'] = 'functional'"
   ]
  },
  {
   "cell_type": "markdown",
   "metadata": {
    "jp-MarkdownHeadingCollapsed": true,
    "tags": []
   },
   "source": [
    "## Double-check low-scoring iModulons"
   ]
  },
  {
   "cell_type": "code",
   "execution_count": null,
   "metadata": {},
   "outputs": [],
   "source": [
    "ica_data.imodulon_table[ica_data.imodulon_table['f1score']  < 0.25]"
   ]
  },
  {
   "cell_type": "code",
   "execution_count": null,
   "metadata": {},
   "outputs": [],
   "source": [
    "def clear_row(imodulon):\n",
    "    clear_columns = ['regulator','pvalue','qvalue','precision','recall','f1score','TP','regulon_size','n_regs']\n",
    "    \n",
    "    for col in clear_columns:\n",
    "        ica_data.imodulon_table.loc[imodulon,col] = None"
   ]
  },
  {
   "cell_type": "markdown",
   "metadata": {},
   "source": [
    "### CsoR/Fnr -> SPbeta-1"
   ]
  },
  {
   "cell_type": "code",
   "execution_count": null,
   "metadata": {},
   "outputs": [],
   "source": [
    "ica_data.imodulon_table.loc['CsoR/Fnr']"
   ]
  },
  {
   "cell_type": "code",
   "execution_count": null,
   "metadata": {},
   "outputs": [],
   "source": [
    "DF_enrichments[DF_enrichments.imodulon=='CsoR/Fnr'].sort_values('f1score',ascending=False)"
   ]
  },
  {
   "cell_type": "code",
   "execution_count": null,
   "metadata": {},
   "outputs": [],
   "source": [
    "# Update the ICA data object\n",
    "\n",
    "ica_data.rename_imodulons({'CsoR/Fnr':'SPbeta-1'})\n",
    "ica_data.imodulon_table.loc['SPbeta-1','category'] = 'functional'\n",
    "clear_row('SPbeta-1')"
   ]
  },
  {
   "cell_type": "markdown",
   "metadata": {},
   "source": [
    "### RhgR -> Carbon metabolism/skin element"
   ]
  },
  {
   "cell_type": "code",
   "execution_count": null,
   "metadata": {},
   "outputs": [],
   "source": [
    "ica_data.imodulon_table.loc['RhgR']"
   ]
  },
  {
   "cell_type": "code",
   "execution_count": null,
   "metadata": {},
   "outputs": [],
   "source": [
    "DF_enrichments[DF_enrichments.imodulon=='RhgR'].sort_values('f1score',ascending=False)"
   ]
  },
  {
   "cell_type": "code",
   "execution_count": null,
   "metadata": {},
   "outputs": [],
   "source": [
    "# Update the ICA data object\n",
    "\n",
    "ica_data.rename_imodulons({'RhgR':'carbon metabolism/skin element'})\n",
    "ica_data.imodulon_table.loc['carbon metabolism/skin element','category'] = 'functional'\n",
    "clear_row('carbon metabolism/skin element')"
   ]
  },
  {
   "cell_type": "markdown",
   "metadata": {},
   "source": [
    "## NusA -> ComK/LevR/NusA"
   ]
  },
  {
   "cell_type": "code",
   "execution_count": null,
   "metadata": {},
   "outputs": [],
   "source": [
    "ica_data.imodulon_table.loc['NusA']"
   ]
  },
  {
   "cell_type": "code",
   "execution_count": null,
   "metadata": {},
   "outputs": [],
   "source": [
    "DF_enrichments[DF_enrichments.imodulon=='NusA'].sort_values('f1score',ascending=False)"
   ]
  },
  {
   "cell_type": "code",
   "execution_count": null,
   "metadata": {},
   "outputs": [],
   "source": [
    "ica_data.compute_trn_enrichment('NusA', max_regs=3,force=True,save=True)"
   ]
  },
  {
   "cell_type": "code",
   "execution_count": null,
   "metadata": {},
   "outputs": [],
   "source": [
    "# Update the ICA data object\n",
    "\n",
    "ica_data.rename_imodulons({'NusA':'ComK/LevR/NusA'})"
   ]
  },
  {
   "cell_type": "markdown",
   "metadata": {},
   "source": [
    "## CsoR -> SPbeta-2"
   ]
  },
  {
   "cell_type": "code",
   "execution_count": null,
   "metadata": {},
   "outputs": [],
   "source": [
    "ica_data.imodulon_table.loc['CsoR']"
   ]
  },
  {
   "cell_type": "code",
   "execution_count": null,
   "metadata": {},
   "outputs": [],
   "source": [
    "DF_enrichments[DF_enrichments.imodulon=='CsoR'].sort_values('f1score',ascending=False)"
   ]
  },
  {
   "cell_type": "code",
   "execution_count": null,
   "metadata": {},
   "outputs": [],
   "source": [
    "# Update the ICA data object\n",
    "\n",
    "ica_data.rename_imodulons({'CsoR':'SPbeta-2'})\n",
    "ica_data.imodulon_table.loc['SPbeta-2','category'] = 'functional'\n",
    "clear_row('SPbeta-2')"
   ]
  },
  {
   "cell_type": "markdown",
   "metadata": {},
   "source": [
    "## Xpf"
   ]
  },
  {
   "cell_type": "code",
   "execution_count": null,
   "metadata": {},
   "outputs": [],
   "source": [
    "ica_data.compute_trn_enrichment('Xpf',max_regs=2,save=True)"
   ]
  },
  {
   "cell_type": "code",
   "execution_count": null,
   "metadata": {},
   "outputs": [],
   "source": [
    "ica_data.rename_imodulons({'Xpf':'Xre/Xpf'})"
   ]
  },
  {
   "cell_type": "markdown",
   "metadata": {},
   "source": [
    "## Adjust some thresholds"
   ]
  },
  {
   "cell_type": "code",
   "execution_count": null,
   "metadata": {},
   "outputs": [],
   "source": [
    "ica_data.change_threshold('Thi-box',.1)\n",
    "ica_data.change_threshold('LnrK',.15)\n",
    "ica_data.change_threshold('KipR',0.12)\n",
    "\n",
    "# Recalculate enrichments\n",
    "ica_data.compute_trn_enrichment(['Thi-box','LnrK','KipR'], save=True)"
   ]
  },
  {
   "cell_type": "markdown",
   "metadata": {
    "jp-MarkdownHeadingCollapsed": true,
    "tags": []
   },
   "source": [
    "## Add biological functions\n",
    "This is only relevant for 'biological' and 'regulatory iModulons"
   ]
  },
  {
   "cell_type": "code",
   "execution_count": null,
   "metadata": {},
   "outputs": [],
   "source": [
    "subti_annot = pd.read_csv(path.join('..','data','external','subtiwiki_categories.csv'))\n",
    "subti_annot.rename({'BSU_number':'gene_id'},axis=1,inplace=True)\n",
    "subti_annot = subti_annot[subti_annot.gene_id.isin(ica_data.gene_names)]"
   ]
  },
  {
   "cell_type": "code",
   "execution_count": null,
   "metadata": {},
   "outputs": [],
   "source": [
    "subti_enrich = ica_data.compute_annotation_enrichment(subti_annot,'FuncName2')\n",
    "functions = subti_enrich.sort_values('qvalue').drop_duplicates('imodulon').set_index('imodulon')['FuncName2']\n",
    "functions = functions[ica_data.imodulon_table.category.isin(['regulatory','functional'])]\n",
    "functions.head()"
   ]
  },
  {
   "cell_type": "code",
   "execution_count": null,
   "metadata": {},
   "outputs": [],
   "source": [
    "ica_data.imodulon_table['function'] = functions"
   ]
  },
  {
   "cell_type": "markdown",
   "metadata": {},
   "source": [
    "### Manually curate functions"
   ]
  },
  {
   "cell_type": "code",
   "execution_count": null,
   "metadata": {},
   "outputs": [],
   "source": [
    "ica_data.imodulon_table.function.value_counts()"
   ]
  },
  {
   "cell_type": "code",
   "execution_count": null,
   "metadata": {},
   "outputs": [],
   "source": [
    "rename = {'carbon metabolism':'Carbon Metabolism',\n",
    "          'coping with stress':'Stress Response',\n",
    "          'amino acid/ nitrogen metabolism':'AA/Nucleotide Metabolism',\n",
    "          'prophages':'Prophages',\n",
    "          'sporulation':'Lifestyles',\n",
    "          'exponential and early post-exponential lifestyles':'Lifestyles',\n",
    "          'electron transport and ATP synthesis': 'Misc. Metabolism',\n",
    "          'homeostasis':'Homeostasis',\n",
    "          'nucleotide metabolism':'AA/Nucleotide Metabolism',\n",
    "          'proteins of unknown function':'Other',\n",
    "          'additional metabolic pathways':'Misc. Metabolism',\n",
    "          'short peptides':'Cellular Processes',\n",
    "          'essential genes':'Cellular Processes',\n",
    "          'transporters':'Misc. Metabolism',\n",
    "          'mobile genetic elements': 'Cellular Processes',\n",
    "          'ncRNA':'Cellular Processes',\n",
    "          'mobile genetic elements/ based on similarity':'Cellular Processes',\n",
    "          'lipid metabolism':'Misc. Metabolism',\n",
    "          'cell envelope and cell division': 'Cellular Processes',\n",
    "          'genetics':'Cellular Processes'}"
   ]
  },
  {
   "cell_type": "code",
   "execution_count": null,
   "metadata": {},
   "outputs": [],
   "source": [
    "ica_data.imodulon_table.function = ica_data.imodulon_table.function.replace(rename)"
   ]
  },
  {
   "cell_type": "code",
   "execution_count": null,
   "metadata": {},
   "outputs": [],
   "source": [
    "ica_data.imodulon_table.loc['ybc-operon','function'] = 'Prophages'\n",
    "ica_data.imodulon_table.loc['SigI','function'] = 'Stress Response'\n",
    "ica_data.imodulon_table.loc['LnrK','function'] = 'Cellular Processes'\n",
    "ica_data.imodulon_table.loc['early-biofilm','function'] = 'Lifestyles'\n",
    "ica_data.imodulon_table.loc['KipR','function'] = 'Misc. Metabolism'\n",
    "ica_data.imodulon_table.loc['AbrB','function'] = 'Lifestyles'\n",
    "ica_data.imodulon_table.loc['putative-cssRS','function'] = 'Lifestyles'\n",
    "ica_data.imodulon_table.loc['YvaF','function'] = 'Other'"
   ]
  },
  {
   "cell_type": "code",
   "execution_count": null,
   "metadata": {
    "scrolled": true
   },
   "outputs": [],
   "source": [
    "ica_data.imodulon_table.function.value_counts()"
   ]
  },
  {
   "cell_type": "markdown",
   "metadata": {},
   "source": [
    "### Fill in Uncharacterized and Single Gene iModulons"
   ]
  },
  {
   "cell_type": "code",
   "execution_count": null,
   "metadata": {},
   "outputs": [],
   "source": [
    "ica_data.imodulon_table.function = ['Uncharacterized' if row.category == 'uncharacterized' else\n",
    "                                    'Single Gene' if row.category == 'single_gene' else row.function\n",
    "                                    for i,row in ica_data.imodulon_table.iterrows()]\n"
   ]
  },
  {
   "cell_type": "markdown",
   "metadata": {
    "tags": []
   },
   "source": [
    "## Save final ICA data object"
   ]
  },
  {
   "cell_type": "code",
   "execution_count": null,
   "metadata": {},
   "outputs": [],
   "source": [
    "save_to_json(ica_data, path.join(data_dir, 'bsu.json.gz'))"
   ]
  },
  {
   "cell_type": "code",
   "execution_count": null,
   "metadata": {
    "tags": []
   },
   "outputs": [],
   "source": [
    "ica_data.imodulon_table.to_csv(path.join(data_dir, 'imodulon_table.csv'))"
   ]
  }
 ],
 "metadata": {
  "kernelspec": {
   "display_name": "Python 3 (ipykernel)",
   "language": "python",
   "name": "python3"
  },
  "language_info": {
   "codemirror_mode": {
    "name": "ipython",
    "version": 3
   },
   "file_extension": ".py",
   "mimetype": "text/x-python",
   "name": "python",
   "nbconvert_exporter": "python",
   "pygments_lexer": "ipython3",
   "version": "3.10.0"
  }
 },
 "nbformat": 4,
 "nbformat_minor": 4
}
