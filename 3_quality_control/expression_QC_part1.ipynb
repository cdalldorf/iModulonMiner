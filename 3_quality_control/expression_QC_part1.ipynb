{
 "cells": [
  {
   "cell_type": "markdown",
   "metadata": {},
   "source": [
    "# Expression Quality Control (Part 1)\n",
    "This is a template notebook for performing preliminary quality control on your organism's expression data."
   ]
  },
  {
   "cell_type": "markdown",
   "metadata": {},
   "source": [
    "## Setup"
   ]
  },
  {
   "cell_type": "code",
   "execution_count": 1,
   "metadata": {},
   "outputs": [
    {
     "ename": "ModuleNotFoundError",
     "evalue": "No module named 'matplotlib'",
     "output_type": "error",
     "traceback": [
      "\u001b[0;31m---------------------------------------------------------------------------\u001b[0m",
      "\u001b[0;31mModuleNotFoundError\u001b[0m                       Traceback (most recent call last)",
      "Cell \u001b[0;32mIn[1], line 1\u001b[0m\n\u001b[0;32m----> 1\u001b[0m \u001b[38;5;28;01mimport\u001b[39;00m \u001b[38;5;21;01mmatplotlib\u001b[39;00m\u001b[38;5;21;01m.\u001b[39;00m\u001b[38;5;21;01mpyplot\u001b[39;00m \u001b[38;5;28;01mas\u001b[39;00m \u001b[38;5;21;01mplt\u001b[39;00m\n\u001b[1;32m      2\u001b[0m \u001b[38;5;28;01mimport\u001b[39;00m \u001b[38;5;21;01mnumpy\u001b[39;00m \u001b[38;5;28;01mas\u001b[39;00m \u001b[38;5;21;01mnp\u001b[39;00m\n\u001b[1;32m      3\u001b[0m \u001b[38;5;28;01mimport\u001b[39;00m \u001b[38;5;21;01mpandas\u001b[39;00m \u001b[38;5;28;01mas\u001b[39;00m \u001b[38;5;21;01mpd\u001b[39;00m\n",
      "\u001b[0;31mModuleNotFoundError\u001b[0m: No module named 'matplotlib'"
     ]
    }
   ],
   "source": [
    "import matplotlib.pyplot as plt\n",
    "import numpy as np\n",
    "import pandas as pd\n",
    "import seaborn as sns\n",
    "\n",
    "from os import path"
   ]
  },
  {
   "cell_type": "code",
   "execution_count": null,
   "metadata": {},
   "outputs": [],
   "source": [
    "sns.set_style('ticks')"
   ]
  },
  {
   "cell_type": "markdown",
   "metadata": {},
   "source": [
    "### Inputs"
   ]
  },
  {
   "cell_type": "markdown",
   "metadata": {},
   "source": [
    "Enter path of log-TPM, MultiQC, and metadata files here"
   ]
  },
  {
   "cell_type": "code",
   "execution_count": null,
   "metadata": {},
   "outputs": [],
   "source": [
    "logTPM_file = path.join('..','data','raw_data','log_tpm.csv') # Enter log-TPM filename here\n",
    "multiqc_file = path.join('..','data','raw_data','multiqc_stats.tsv') # Enter MultiQC stats filename here\n",
    "metadata_file = path.join('..','data','raw_data','Zymomonas_mobilis.csv') # Enter metadata filename here"
   ]
  },
  {
   "cell_type": "markdown",
   "metadata": {},
   "source": [
    "### Load expression data"
   ]
  },
  {
   "cell_type": "code",
   "execution_count": null,
   "metadata": {},
   "outputs": [],
   "source": [
    "DF_log_tpm = pd.read_csv(logTPM_file,index_col=0).fillna(0)\n",
    "print('Number of genes:',DF_log_tpm.shape[0])\n",
    "print('Number of samples:',DF_log_tpm.shape[1])\n",
    "DF_log_tpm.head()"
   ]
  },
  {
   "cell_type": "markdown",
   "metadata": {},
   "source": [
    "### Load QC data\n",
    "There may be some datasets that failed along the processing pipeline, so the number of samples with QC data may be higher than the number of samples with expression data."
   ]
  },
  {
   "cell_type": "code",
   "execution_count": null,
   "metadata": {},
   "outputs": [],
   "source": [
    "DF_qc_stats = pd.read_csv(multiqc_file,index_col=0, sep='\\t')\n",
    "print('Number of samples with QC data:',DF_qc_stats.shape[0])"
   ]
  },
  {
   "cell_type": "code",
   "execution_count": null,
   "metadata": {},
   "outputs": [],
   "source": [
    "DF_qc_stats.fillna(0,inplace=True)\n",
    "DF_qc_stats.head()"
   ]
  },
  {
   "cell_type": "markdown",
   "metadata": {},
   "source": [
    "### Load metadata"
   ]
  },
  {
   "cell_type": "code",
   "execution_count": null,
   "metadata": {},
   "outputs": [],
   "source": [
    "DF_metadata = pd.read_csv(metadata_file,index_col=0, encoding='latin1')\n",
    "print('Number of samples with metadata:',DF_metadata.shape[0])\n",
    "DF_metadata.head()"
   ]
  },
  {
   "cell_type": "markdown",
   "metadata": {},
   "source": [
    "### Remove extra sample rows"
   ]
  },
  {
   "cell_type": "markdown",
   "metadata": {},
   "source": [
    "Ensure that metadata and qc_stats data contain all log_tpm sample information."
   ]
  },
  {
   "cell_type": "code",
   "execution_count": null,
   "metadata": {},
   "outputs": [],
   "source": [
    "assert(set(DF_log_tpm.columns) - set(DF_metadata.index) == set())\n",
    "assert(set(DF_log_tpm.columns) - set(DF_qc_stats.index) == set())"
   ]
  },
  {
   "cell_type": "code",
   "execution_count": null,
   "metadata": {},
   "outputs": [],
   "source": [
    "DF_metadata = DF_metadata.loc[DF_log_tpm.columns]\n",
    "DF_qc_stats = DF_qc_stats.loc[DF_log_tpm.columns]"
   ]
  },
  {
   "cell_type": "markdown",
   "metadata": {},
   "source": [
    "## Check QC statistics"
   ]
  },
  {
   "cell_type": "markdown",
   "metadata": {},
   "source": [
    "### FastQC quality control"
   ]
  },
  {
   "cell_type": "code",
   "execution_count": null,
   "metadata": {},
   "outputs": [],
   "source": [
    "fastqc_cols = ['per_base_sequence_quality',\n",
    "       'per_tile_sequence_quality', 'per_sequence_quality_scores',\n",
    "       'per_base_sequence_content', 'per_sequence_gc_content',\n",
    "       'per_base_n_content', 'sequence_length_distribution',\n",
    "       'sequence_duplication_levels', 'overrepresented_sequences',\n",
    "       'adapter_content']"
   ]
  },
  {
   "cell_type": "code",
   "execution_count": null,
   "metadata": {},
   "outputs": [],
   "source": [
    "DF_fastqc = DF_qc_stats[fastqc_cols]\n",
    "ax = sns.heatmap(DF_fastqc.replace('pass',1).replace('warn',0).replace('fail',-1),\n",
    "            cmap='RdYlBu',vmax=1.3,vmin=-1.3)\n",
    "cbar = ax.collections[0].colorbar\n",
    "cbar.set_ticks([-1,0,1])\n",
    "cbar.set_ticklabels(['fail','warn','pass'])"
   ]
  },
  {
   "cell_type": "markdown",
   "metadata": {},
   "source": [
    "The following four categories are the most important:\n",
    "* per_base_sequence_quality\n",
    "* per_sequence_quality_scores\n",
    "* per_base_n_content\n",
    "* adapter_content\n",
    "    \n",
    "If a sample does not pass any of these four categories, discard the sample."
   ]
  },
  {
   "cell_type": "code",
   "execution_count": null,
   "metadata": {},
   "outputs": [],
   "source": [
    "fastqc_fail_cols = ['per_base_sequence_quality','per_sequence_quality_scores','per_base_n_content','adapter_content']"
   ]
  },
  {
   "cell_type": "code",
   "execution_count": null,
   "metadata": {},
   "outputs": [],
   "source": [
    "DF_failed_fastqc = DF_fastqc[fastqc_fail_cols][(DF_fastqc[fastqc_fail_cols] != 'pass').any(axis=1)]\n",
    "DF_failed_fastqc[fastqc_fail_cols]"
   ]
  },
  {
   "cell_type": "markdown",
   "metadata": {},
   "source": [
    "Mark samples that passed."
   ]
  },
  {
   "cell_type": "code",
   "execution_count": null,
   "metadata": {},
   "outputs": [],
   "source": [
    "DF_metadata['passed_fastqc'] = ~DF_metadata.index.isin(DF_failed_fastqc.index)"
   ]
  },
  {
   "cell_type": "markdown",
   "metadata": {},
   "source": [
    "### Number of aligned reads"
   ]
  },
  {
   "cell_type": "markdown",
   "metadata": {},
   "source": [
    "The following histogram shows how many reads map to coding sequences (i.e. mRNA). Too few aligned reads reduces the sensitivity of the resulting data."
   ]
  },
  {
   "cell_type": "code",
   "execution_count": null,
   "metadata": {},
   "outputs": [],
   "source": [
    "min_mrna_reads = 500000 # Minimum number of reads mapped to mRNA (500,000)"
   ]
  },
  {
   "cell_type": "code",
   "execution_count": null,
   "metadata": {},
   "outputs": [],
   "source": [
    "fig,ax = plt.subplots()\n",
    "ax.hist(DF_qc_stats['Assigned']/1e6,bins=50,alpha=0.8)\n",
    "ymin,ymax = ax.get_ylim()\n",
    "ax.vlines(min_mrna_reads/1e6,ymin,ymax,color='r')\n",
    "ax.set_ylim((ymin,ymax))\n",
    "ax.set_xlabel('# Reads (M)',fontsize=14)\n",
    "ax.set_ylabel('# Samples',fontsize=14)\n",
    "ax.set_title('Number of reads mapped to CDS',fontsize=16)"
   ]
  },
  {
   "cell_type": "markdown",
   "metadata": {},
   "source": [
    "Identify samples with poor read depth:"
   ]
  },
  {
   "cell_type": "code",
   "execution_count": null,
   "metadata": {},
   "outputs": [],
   "source": [
    "DF_failed_mrna = DF_qc_stats[DF_qc_stats['Assigned'] < min_mrna_reads].sort_values('Assigned')\n",
    "DF_failed_mrna"
   ]
  },
  {
   "cell_type": "markdown",
   "metadata": {},
   "source": [
    "Mark samples that passed."
   ]
  },
  {
   "cell_type": "code",
   "execution_count": null,
   "metadata": {},
   "outputs": [],
   "source": [
    "DF_metadata['passed_reads_mapped_to_CDS'] = ~DF_metadata.index.isin(DF_failed_mrna.index)"
   ]
  },
  {
   "cell_type": "markdown",
   "metadata": {},
   "source": [
    "### Examine Global Correlations"
   ]
  },
  {
   "cell_type": "markdown",
   "metadata": {},
   "source": [
    "Only examine data that passed the first two steps."
   ]
  },
  {
   "cell_type": "code",
   "execution_count": null,
   "metadata": {},
   "outputs": [],
   "source": [
    "metadata_passed_step2 = DF_metadata[DF_metadata[['passed_fastqc','passed_reads_mapped_to_CDS']].all(axis=1)]\n",
    "DF_log_tpm_passed_step2 = DF_log_tpm[metadata_passed_step2.index]"
   ]
  },
  {
   "cell_type": "markdown",
   "metadata": {},
   "source": [
    "A clustermap is a great way to visualize the global correlations between one sample and all others. The ``global_clustering`` function uses hierarchical clustering to identify specific clusters in the clustermap. The optional arguments are:\n",
    "\n",
    "* ``threshold``: Threshold used to extract clusters from the hierarchy. To increase the number of clusters, decrease the value of ``threshold``. To decrease the number of clusters, increase the value of ``threshold`` (default: 0.3)\n",
    "* ``figsize``: A tuple describing the length and width of the final clustermap. A larger figsize can make x and y-axis labels clearer.\n",
    "* ``xticklabels``: Show NCBI SRA accession numbers on the x-axis\n",
    "* ``yticklabels``: Show NCBI SRA accession numbers on the y-axis"
   ]
  },
  {
   "cell_type": "code",
   "execution_count": null,
   "metadata": {},
   "outputs": [],
   "source": [
    "import scipy.cluster.hierarchy as sch\n",
    "import matplotlib.patches as patches\n",
    "\n",
    "def global_clustering(data, threshold=0.3, xticklabels=False, yticklabels=False, figsize=(9,9)):\n",
    "    \n",
    "    # Retrieve clusters using fcluster \n",
    "    corr = data.corr()\n",
    "    corr.fillna(0,inplace=True)\n",
    "    dist = sch.distance.pdist(corr)\n",
    "    link = sch.linkage(dist, method='complete')\n",
    "    clst = pd.DataFrame(index=data.columns)\n",
    "    clst['cluster'] = sch.fcluster(link, threshold * dist.max(), 'distance')\n",
    "\n",
    "    # Get colors for each cluster\n",
    "    cm = plt.cm.get_cmap('tab20')\n",
    "    cluster_colors = dict(zip(clst.cluster.unique(), cm.colors))\n",
    "    clst['color'] = clst.cluster.map(cluster_colors)\n",
    "\n",
    "    print('Number of cluster: ', len(cluster_colors))\n",
    "    \n",
    "    legend_items = [patches.Patch(color=c, label=l) for l,c in cluster_colors.items()]\n",
    "    \n",
    "    sns.set(rc={'figure.facecolor':'white'})\n",
    "    \n",
    "    clst_map = sns.clustermap(data.corr(), \n",
    "                              figsize=figsize, \n",
    "                              row_linkage=link, \n",
    "                              col_linkage=link, \n",
    "                              col_colors=clst.color,\n",
    "                              yticklabels=yticklabels, \n",
    "                              xticklabels=xticklabels,\n",
    "                              vmin=0, \n",
    "                              vmax=1)\n",
    "    \n",
    "    legend = clst_map.ax_heatmap.legend(loc='upper left', \n",
    "                                        bbox_to_anchor=(1.01,0.85), \n",
    "                                        handles=legend_items,\n",
    "                                        frameon=True)\n",
    "    \n",
    "    legend.set_title(title='Clusters',prop={'size':10})\n",
    "    \n",
    "    return clst['cluster']"
   ]
  },
  {
   "cell_type": "code",
   "execution_count": null,
   "metadata": {},
   "outputs": [],
   "source": [
    "clusters = global_clustering(DF_log_tpm_passed_step2)"
   ]
  },
  {
   "cell_type": "markdown",
   "metadata": {},
   "source": [
    "Select clusters to remove."
   ]
  },
  {
   "cell_type": "code",
   "execution_count": null,
   "metadata": {},
   "outputs": [],
   "source": [
    "remove_clusters = []\n",
    "passed_global_corr = clusters[~clusters.isin(remove_clusters)].index"
   ]
  },
  {
   "cell_type": "markdown",
   "metadata": {},
   "source": [
    "The following code can be adapted to see the NCBI SRA accession for samples in each cluster."
   ]
  },
  {
   "cell_type": "code",
   "execution_count": null,
   "metadata": {},
   "outputs": [],
   "source": [
    "clusters[clusters == 2]"
   ]
  },
  {
   "cell_type": "markdown",
   "metadata": {},
   "source": [
    "Re-cluster samples to ensure all outliers were removed."
   ]
  },
  {
   "cell_type": "code",
   "execution_count": null,
   "metadata": {},
   "outputs": [],
   "source": [
    "DF_log_tpm_passed_step3 = DF_log_tpm[passed_global_corr]"
   ]
  },
  {
   "cell_type": "code",
   "execution_count": null,
   "metadata": {},
   "outputs": [],
   "source": [
    "clusters = global_clustering(DF_log_tpm_passed_step3)"
   ]
  },
  {
   "cell_type": "markdown",
   "metadata": {},
   "source": [
    "Once you are satisfied with your dataset, mark the samples that passed the global correlation"
   ]
  },
  {
   "cell_type": "code",
   "execution_count": null,
   "metadata": {},
   "outputs": [],
   "source": [
    "DF_metadata['passed_global_correlation'] = DF_metadata.index.isin(passed_global_corr)"
   ]
  },
  {
   "cell_type": "code",
   "execution_count": null,
   "metadata": {},
   "outputs": [],
   "source": [
    "DF_metadata.head()"
   ]
  },
  {
   "cell_type": "markdown",
   "metadata": {},
   "source": [
    "# Remove failed samples"
   ]
  },
  {
   "cell_type": "code",
   "execution_count": null,
   "metadata": {},
   "outputs": [],
   "source": [
    "qc_columns = ['passed_fastqc',\n",
    "              'passed_reads_mapped_to_CDS',\n",
    "              'passed_global_correlation']"
   ]
  },
  {
   "cell_type": "code",
   "execution_count": null,
   "metadata": {},
   "outputs": [],
   "source": [
    "pass_qc = DF_metadata[qc_columns].all(axis=1)\n",
    "DF_metadata_passed = DF_metadata[pass_qc]"
   ]
  },
  {
   "cell_type": "code",
   "execution_count": null,
   "metadata": {},
   "outputs": [],
   "source": [
    "_,_,pcts = plt.pie(pass_qc.value_counts().reindex([False,True]),\n",
    "        labels = ['Failed','Passed'],\n",
    "        colors=['tab:red','tab:blue'],\n",
    "        autopct='%.0f%%',textprops={'size':16});\n",
    "\n",
    "# Colors percents white\n",
    "for pct in pcts:\n",
    "    pct.set_color('white')"
   ]
  },
  {
   "cell_type": "markdown",
   "metadata": {},
   "source": [
    "# Save current metadata"
   ]
  },
  {
   "cell_type": "markdown",
   "metadata": {},
   "source": [
    "Enter path of interim metadata files here. It is recommended that the ``metadata_qc.tsv`` file is copied to a new ``metadata_qc_curated.tsv`` file before editing. This will prevent this notebook from over-writing any curated metadata."
   ]
  },
  {
   "cell_type": "code",
   "execution_count": null,
   "metadata": {},
   "outputs": [],
   "source": [
    "metadata_all_qc_file = path.join('..', 'data', 'interim', 'metadata_qc_part1_all.tsv') # Enter filename for full metadata QC file\n",
    "metadata_qc_file = path.join('..', 'data', 'interim', 'metadata_qc_part1_curated.tsv') # Enter filename for metadata QC file with only passing datasets"
   ]
  },
  {
   "cell_type": "code",
   "execution_count": null,
   "metadata": {},
   "outputs": [],
   "source": [
    "DF_metadata.to_csv(metadata_all_qc_file, sep='\\t')\n",
    "DF_metadata_passed.to_csv(metadata_qc_file, sep='\\t')"
   ]
  },
  {
   "cell_type": "markdown",
   "metadata": {},
   "source": [
    "# Metadata Curation"
   ]
  },
  {
   "cell_type": "markdown",
   "metadata": {},
   "source": [
    "The next step is to curate the metadata. At a minimum, three new columns must be added to the metadata sheet:\n",
    "* ``project``: Nickname for the project. Each bioproject should have a unique project IDs.\n",
    "* ``condition``: Nickname for the experimental condition. Biological/technical replicates must have identical condition IDs.\n",
    "* ``reference_condition``: Condition ID of the reference condition. Each project has a single reference condition (See [example metadata sheet](https://github.com/SBRG/nf-rnaseq-bacteria/blob/master/example_data/processed_data/metadata_curated.tsv))\n",
    "\n",
    "Additional columns may include:\n",
    "* ``strain_description``: The strain name, and any knock-outs or overexpressed genes\n",
    "* ``base_media``: Media used (e.g. ``M9``)\n",
    "* ``carbon_source``: Primary carbon source, with concentration in parentheses (e.g. ``glucose(.4%)``). This is usually empty for undefined media.\n",
    "* ``nitrogen_source``: Primary nitrogen source, with concentration in parentheses (e.g. ``NH4Cl(1M)``). This is usually empty for undefined media.\n",
    "* ``aerobicity``: Usually ``aerobic`` or ``anaerobic``\n",
    "* ``treatment``: Any additional supplements or treatments added to the base media (e.g. ``thiamine(0.1M)`` or ``ampicillin(100ug/mL)``)\n",
    "* ``temperature``\n",
    "* ``pH``\n",
    "* ``OD``: Approximate optical density of cells when selected for library preparation\n",
    "* ``growth_phase``: e.g. ``mid-exponential`` or ``stationary``\n",
    "* ``culture_type``: Usually ``batch`` or ``chemostat``\n",
    "* ``skip``: Whether to skip a sample due to external reasons (e.g. not traditional RNA-seq, distant strain, or lack of metadata)\n",
    "\n",
    "If specific metadata entries are not reported for a sample, these can be left blank. However, if no metadata can be gleaned from public databases, then we recommend discarding the samples.\n",
    "\n",
    "Once the metadata has been curated, proceed to [Step 2](https://github.com/avsastry/modulome-workflow/edit/main/3_quality_control/expression_QC_part2.ipynb)"
   ]
  },
  {
   "cell_type": "code",
   "execution_count": null,
   "metadata": {},
   "outputs": [],
   "source": []
  }
 ],
 "metadata": {
  "kernelspec": {
   "display_name": "Python 3 (ipykernel)",
   "language": "python",
   "name": "python3"
  },
  "language_info": {
   "codemirror_mode": {
    "name": "ipython",
    "version": 3
   },
   "file_extension": ".py",
   "mimetype": "text/x-python",
   "name": "python",
   "nbconvert_exporter": "python",
   "pygments_lexer": "ipython3",
   "version": "3.13.0"
  },
  "toc": {
   "base_numbering": 1,
   "nav_menu": {},
   "number_sections": true,
   "sideBar": true,
   "skip_h1_title": false,
   "title_cell": "Table of Contents",
   "title_sidebar": "Contents",
   "toc_cell": true,
   "toc_position": {},
   "toc_section_display": true,
   "toc_window_display": false
  }
 },
 "nbformat": 4,
 "nbformat_minor": 4
}
